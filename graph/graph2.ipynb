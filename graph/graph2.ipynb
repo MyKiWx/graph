{
 "cells": [
  {
   "cell_type": "code",
   "execution_count": 1,
   "source": [
    "# import libraly\n",
    "import pandas as pd\n",
    "\n",
    "from bokeh.io import output_file, show\n",
    "from bokeh.models import ColumnDataSource, FactorRange\n",
    "from bokeh.plotting import figure , show\n",
    "\n",
    "import io\n",
    "import requests\n",
    "import plotly.express as px\n",
    "import numpy as np\n",
    "import matplotlib.pyplot as plt\n",
    "\n",
    "from bokeh.io import show\n",
    "from bokeh.models import ColumnDataSource\n",
    "from bokeh.palettes import Spectral6\n",
    "from bokeh.plotting import figure\n",
    "from bokeh.transform import factor_cmap\n",
    "import holoviews as hv\n",
    "\n",
    "import geopandas as gdp\n",
    "import io\n",
    "\n",
    "import pandas as pd\n",
    "import geopandas as gpd\n",
    "import numpy as np\n",
    "\n",
    "%matplotlib inline\n",
    "import matplotlib.pyplot as plt\n",
    "from matplotlib.pyplot import figure\n",
    "\n",
    "import datetime\n",
    "import io\n",
    "import PIL\n",
    "\n",
    "from tqdm import trange, tqdm"
   ],
   "outputs": [],
   "metadata": {}
  },
  {
   "cell_type": "code",
   "execution_count": 2,
   "source": [
    "# import data from google sheet and address\n",
    "\n",
    "gsheetid = '1F4REo2R1FOVpmzyeXRTfSlzcP0UDru53kAHh_ToCi2Y'\n",
    "sheet_name = 'Data'\n",
    "\n",
    "try : \n",
    "    gshees_url = f'https://docs.google.com/spreadsheets/d/{gsheetid}/gviz/tq?tqx=out:csv&sheet={sheet_name}'\n",
    "    data = pd.read_csv(gshees_url)\n",
    "    url = 'https://raw.githubusercontent.com/spicydog/thailand-province-district-subdistrict-zipcode-latitude-longitude/master/output.csv'\n",
    "    read_data = requests.get(url).content\n",
    "except:\n",
    "    print('can\\'t import data from google sheet ')\n",
    "    \n",
    "address = pd.read_csv(io.StringIO(read_data.decode('utf-8')))"
   ],
   "outputs": [],
   "metadata": {}
  },
  {
   "cell_type": "code",
   "execution_count": 3,
   "source": [
    "# create a class for contain all values \n",
    "class data_covid19 : \n",
    "    def __init__(self) -> None:\n",
    "        self.data_covid19_all = list()\n",
    "        self.data_address = list()\n",
    "        self.provinces = list()\n",
    "        self.data_covid19_divide = dict()\n",
    "        self.provinces_count = dict()\n",
    "        self.map_lat = list()\n",
    "        self.map_lon = list()\n",
    "        self.map_provinces_count = list()\n",
    "        self.map_provinces = list()\n",
    "        self.map_nationality = list()\n",
    "        self.map_gender = list()\n",
    "        self.map_age_range = list()\n",
    "        self.map_age_number = list()\n",
    "        self.map_provinces_2 = list()\n",
    "        self.map_len_province = list()\n",
    "        \n",
    "    data_covid19_all = list()\n",
    "    data_address = list()\n",
    "    provinces = list()\n",
    "    data_covid19_divide = dict()\n",
    "    provinces_count = dict()\n",
    "    map_lat = list()\n",
    "    map_lon = list()\n",
    "    map_provinces_count = list()\n",
    "    map_provinces = list()\n",
    "    map_nationality = list()\n",
    "    map_gender = list()\n",
    "    map_age_range = list()\n",
    "    map_age_number = list()\n",
    "    map_provinces_2 = list()\n",
    "    map_len_province = list()\n"
   ],
   "outputs": [],
   "metadata": {}
  },
  {
   "cell_type": "code",
   "execution_count": 4,
   "source": [
    "# convert pandas.core.frame.Datafrmae to list\n",
    "try :  \n",
    "    data_covid19.data_covid19_all = data.values.tolist()\n",
    "    data_covid19.data_address = address.values.tolist()\n",
    "except : \n",
    "    print('can\\'t convert pandas.core.frame.Datafrmae to list ')"
   ],
   "outputs": [],
   "metadata": {}
  },
  {
   "cell_type": "code",
   "execution_count": 5,
   "source": [
    "# print(data_covid19.data_address) # ['กรุงเทพมหานคร', 'พระนคร', 'พระบรมมหาราชวัง', 10200, 13.751, 100.492]\n",
    "\n",
    "for i in data_covid19.data_address : \n",
    "    if i[0] in data_covid19.provinces :\n",
    "        pass\n",
    "    else : \n",
    "        data_covid19.provinces.append(i[0])"
   ],
   "outputs": [],
   "metadata": {}
  },
  {
   "cell_type": "code",
   "execution_count": 6,
   "source": [
    "run_num = 0\n",
    "\n",
    "while True :\n",
    "\n",
    "    if run_num >= len(data_covid19.provinces) : \n",
    "        break\n",
    "\n",
    "    # pass data to data_covid19.data_covid19_divide\n",
    "    # data_covid19_divide = {\n",
    "    #     'province' : {\n",
    "    #         1 : {\n",
    "    #             'txn_date' : '',\n",
    "    #             'id' : 1,\n",
    "    #             'gender' : 'Male',\n",
    "    #             'age_number' : 1, \n",
    "    #             'age_range' : '10 - 19 ปี',\n",
    "    #             'nationality' : 'thai', \n",
    "    #             'job' : 'nan',\n",
    "    #             'risk' : 'อื่นๆ', \n",
    "    #             'patien_type' : '10.อื่นๆ',\n",
    "    #             'update' : '29/9/2021 7:43'\n",
    "    #         }\n",
    "    #     }\n",
    "    # }\n",
    "    data_covid19.data_covid19_divide[data_covid19.provinces[run_num]] = dict()    # 'province' : {}\n",
    "    run_num2 = 1\n",
    "    for i in data_covid19.data_covid19_all : \n",
    "        #          0           1       2     3       4         5      6    7        8        9              10     \n",
    "        # i = ['29/9/2021', 1569035, 'ชาย', 19.0, '10-19 ปี', 'Thai', nan, 'อื่นๆ', '10.อื่นๆ', 'เพชรบุรี', '29/9/2021 7:43']\n",
    "        if i[9] == data_covid19.provinces[run_num] :\n",
    "            data_covid19.data_covid19_divide[data_covid19.provinces[run_num]][run_num2] = dict()    # 'province' : { 1:{} }\n",
    "            data_covid19.data_covid19_divide[data_covid19.provinces[run_num]][run_num2]['txn_date'] = i[0]    # 'province' : { 1:{'txn_date' : n} }\n",
    "            data_covid19.data_covid19_divide[data_covid19.provinces[run_num]][run_num2]['id'] = i[1]\n",
    "            data_covid19.data_covid19_divide[data_covid19.provinces[run_num]][run_num2]['gender'] = i[2]\n",
    "            data_covid19.data_covid19_divide[data_covid19.provinces[run_num]][run_num2]['age_number'] = i[3]\n",
    "            data_covid19.data_covid19_divide[data_covid19.provinces[run_num]][run_num2]['age_range'] = i[4]\n",
    "            data_covid19.data_covid19_divide[data_covid19.provinces[run_num]][run_num2]['nationality'] = i[5]\n",
    "            data_covid19.data_covid19_divide[data_covid19.provinces[run_num]][run_num2]['job'] = i[6]\n",
    "            data_covid19.data_covid19_divide[data_covid19.provinces[run_num]][run_num2]['risk'] = i[7]\n",
    "            data_covid19.data_covid19_divide[data_covid19.provinces[run_num]][run_num2]['patien_type'] = i[8]\n",
    "            data_covid19.data_covid19_divide[data_covid19.provinces[run_num]][run_num2]['update'] = i[10]\n",
    "            run_num2 += 1\n",
    "    run_num += 1\n",
    "\n",
    "\n",
    "# count the number of infected people in provinces\n",
    "# provinces_count = {\n",
    "#     'province' : count of infected people in provinces\n",
    "# }\n",
    "\n",
    "for i in data_covid19.provinces :\n",
    "    data_covid19.provinces_count[i] = len(data_covid19.data_covid19_divide[i])\n",
    "    data_covid19.map_provinces_count.append(len(data_covid19.data_covid19_divide[i]))\n",
    "    data_covid19.map_provinces.append\n",
    "\n",
    "provinces = []\n",
    "\n",
    "# province,district,subdistrict,zipcode,latitude,longitude\n",
    "# ['กรุงเทพมหานคร', 'พระนคร', 'พระบรมมหาราชวัง', 10200, 13.751, 100.492]\n",
    "\n",
    "for i in data_covid19.data_address : \n",
    "    if np.isnan(i[4]):\n",
    "        pass\n",
    "    elif i[0] in provinces :\n",
    "        pass\n",
    "    else : \n",
    "        provinces.append(i[0])\n",
    "        data_covid19.map_lat.append(i[4])\n",
    "        data_covid19.map_lon.append(i[5])\n",
    "\n",
    "\n",
    "# Debug nationality\n",
    "for i in data_covid19.provinces :\n",
    "    run_num_nationality = 1\n",
    "    while True : \n",
    "        if run_num_nationality >= len(data_covid19.data_covid19_divide[i]) :\n",
    "            break\n",
    "        \n",
    "        if type(data_covid19.data_covid19_divide[i][run_num_nationality]['nationality']) is str : \n",
    "            pass\n",
    "        else : \n",
    "            data_covid19.data_covid19_divide[i][run_num_nationality]['nationality'] = 'อื่น ๆ'\n",
    "\n",
    "        run_num_nationality += 1\n",
    "\n",
    "# Debug age_number\n",
    "for i in data_covid19.provinces :\n",
    "    run_num_nationality = 1\n",
    "    while True : \n",
    "        if run_num_nationality >= len(data_covid19.data_covid19_divide[i]) :\n",
    "            break\n",
    "        \n",
    "        if np.isnan(data_covid19.data_covid19_divide[i][run_num_nationality]['age_number']): \n",
    "            data_covid19.data_covid19_divide[i][run_num_nationality]['age_number'] = 0\n",
    "        run_num_nationality += 1\n",
    "\n",
    "\n",
    "for i in data_covid19.provinces :\n",
    "    run_num_nationality = 1\n",
    "    while True : \n",
    "        if run_num_nationality >= len(data_covid19.data_covid19_divide[i]) :\n",
    "            break\n",
    "        \n",
    "        data_covid19.map_nationality.append(data_covid19.data_covid19_divide[i][run_num_nationality]['nationality'])\n",
    "        data_covid19.map_gender.append(data_covid19.data_covid19_divide[i][run_num_nationality]['gender'])\n",
    "        data_covid19.map_age_range.append(data_covid19.data_covid19_divide[i][run_num_nationality]['age_range'])\n",
    "        data_covid19.map_age_number.append(data_covid19.data_covid19_divide[i][run_num_nationality]['age_number'])\n",
    "        data_covid19.map_provinces_2.append(i)\n",
    "        data_covid19.map_len_province.append(len(data_covid19.data_covid19_divide[i]))\n",
    "        \n",
    "        run_num_nationality += 1\n",
    "\n"
   ],
   "outputs": [],
   "metadata": {}
  },
  {
   "cell_type": "code",
   "execution_count": 7,
   "source": [
    "def graph() :\n",
    "    maps = {'centroid_lat' : data_covid19.map_lat, 'centroid_lon' : data_covid19.map_lon, 'count' : data_covid19.map_provinces_count,'province' : data_covid19.provinces}\n",
    "    maps = pd.DataFrame(maps) \n",
    "\n",
    "    fig = px.scatter_mapbox(maps, lat=\"centroid_lat\", lon=\"centroid_lon\", color=\"count\",size='count',\n",
    "                    color_continuous_scale=px.colors.cyclical.Edge_r, size_max=20, zoom=3.5,\n",
    "                    mapbox_style=\"carto-positron\")\n",
    "    fig.show()\n",
    "\n",
    "    map_sunburst = {'nationality' : data_covid19.map_nationality, 'province' : data_covid19.map_provinces_2, 'gender' : data_covid19.map_gender ,'age_range' : data_covid19.map_age_range , 'age_number' : data_covid19.map_age_number , 'coun_people' : data_covid19.map_len_province}\n",
    "\n",
    "    df = pd.DataFrame(map_sunburst)\n",
    "    # prepare a sunburst figure\n",
    "    fig = px.sunburst(df, path=['nationality', 'province', 'gender', 'age_range'], values='coun_people',\n",
    "                    color='coun_people', hover_data=['age_range'],\n",
    "                    color_continuous_scale='twilight',\n",
    "                    color_continuous_midpoint=np.average(df['coun_people'], weights=df['age_number']))\n",
    "    fig.show()\n",
    "\n",
    "    def clean_text(a_string): return a_string.replace(\"\\t\", \"\")\n",
    "\n",
    "    def change_format(a_string):\n",
    "        if len(a_string) == 1: return \"0\"+a_string\n",
    "        else: return a_string\n",
    "\n",
    "    def to_date_obj(a_string):\n",
    "        d, m, y = a_string.split(\"/\")\n",
    "        d = change_format(d); m = change_format(m)\n",
    "        date_str = d+m+y\n",
    "\n",
    "        format_str = '%d%m%Y' # The format\n",
    "        datetime_obj = datetime.datetime.strptime(date_str, format_str)\n",
    "        return datetime_obj.date()\n",
    "\n",
    "\n",
    "    tha_map = gpd.read_file(\"./data/THA_MAP.shp\")\n",
    "    provice_name = pd.read_csv(\"./data/Province_NAME.csv\", index_col=None); del provice_name[\"Index\"]\n",
    "    provice_name[\"NAME\"] = provice_name[\"NAME\"].apply(clean_text)\n",
    "\n",
    "    tha_map[\"NAME\"] = provice_name[\"NAME\"]\n",
    "    tha_map[\"Province\"] = provice_name[\"Province\"]\n",
    "    tha_map = tha_map.sort_values(by=\"NAME\")\n",
    "\n",
    "    del provice_name\n",
    "\n",
    "\n",
    "\n",
    "\n",
    "\n",
    "    cv_cases = pd.read_csv(\"./data/confirmed-cases-data.csv\")\n",
    "    cv_cases = cv_cases.dropna()\n",
    "    cv_cases[\"announce_date\"] = cv_cases[\"announce_date\"].apply(to_date_obj)\n",
    "\n",
    "\n",
    "\n",
    "\n",
    "\n",
    "\n",
    "    all_dates = sorted(list(set(cv_cases.announce_date)))\n",
    "    pvs = sorted(list(set(cv_cases.province_of_onset.values)))\n",
    "\n",
    "\n",
    "\n",
    "\n",
    "\n",
    "\n",
    "    # Ensure the same provinces\n",
    "    tmp = sorted(list(set(tha_map.NAME.values)))\n",
    "    for i, e in enumerate(sorted(list(set(tha_map.NAME.values)))):\n",
    "        if e != tmp[i]: print(e)\n",
    "    del tmp\n",
    "\n",
    "\n",
    "\n",
    "\n",
    "\n",
    "\n",
    "    bkk = pvs[1]\n",
    "\n",
    "\n",
    "\n",
    "\n",
    "\n",
    "\n",
    "    bkk_cv_cases = cv_cases[cv_cases.province_of_onset == bkk]\n",
    "    bkk_cv_cases = bkk_cv_cases.groupby([\"announce_date\"], as_index=False).sum()\n",
    "    bkk_cv_cases = bkk_cv_cases.sort_values(by=\"announce_date\")\n",
    "\n",
    "\n",
    "\n",
    "\n",
    "\n",
    "\n",
    "\n",
    "    init = [0 for i in range(len(all_dates))]\n",
    "    for i, d in enumerate(all_dates):\n",
    "        case = bkk_cv_cases[bkk_cv_cases.announce_date==d][\"case\"].values\n",
    "        if len(case) > 0: init[i] = case[0]\n",
    "\n",
    "\n",
    "\n",
    "\n",
    "\n",
    "\n",
    "    rows = []\n",
    "    for province in pvs:\n",
    "        province_cv_cases = cv_cases[cv_cases.province_of_onset == province]\n",
    "        province_cv_cases = province_cv_cases.groupby([\"announce_date\"], as_index=False).sum()\n",
    "        province_cv_cases = province_cv_cases.sort_values(by=\"announce_date\")\n",
    "        init = [0 for i in range(len(all_dates))]\n",
    "        for i, d in enumerate(all_dates):\n",
    "            case = province_cv_cases[province_cv_cases.announce_date==d][\"case\"].values\n",
    "            if len(case) > 0: init[i] = case[0]\n",
    "        rows.append(init)\n",
    "\n",
    "\n",
    "\n",
    "\n",
    "\n",
    "    rows = np.array(rows, dtype=np.int32)\n",
    "\n",
    "\n",
    "\n",
    "\n",
    "\n",
    "\n",
    "    new_cv_cases = pd.DataFrame(rows, columns=list(map(str, all_dates)))\n",
    "    new_cv_cases[\"index\"] = pvs\n",
    "    new_cv_cases[\"index\"] = new_cv_cases[\"index\"].astype(str)\n",
    "\n",
    "\n",
    "\n",
    "\n",
    "\n",
    "\n",
    "    tha_map[\"NAME\"] = tha_map[\"NAME\"].astype(str)\n",
    "    tha_map = tha_map.reset_index()\n",
    "    tha_map = tha_map[[\"geometry\", \"NAME\"]]\n",
    "\n",
    "\n",
    "\n",
    "    new_list = list()\n",
    "    new_list_province = sorted(data_covid19.provinces)\n",
    "\n",
    "\n",
    "    for i in new_list_province :\n",
    "        count = data_covid19.provinces_count[i]\n",
    "        new_list.append(count)\n",
    "\n",
    "    new_list = {'province' : new_list}\n",
    "\n",
    "    new_list = pd.DataFrame(new_list)\n",
    "\n",
    "    merge = tha_map.join(new_list, how=\"right\")\n",
    "\n",
    "\n",
    "\n",
    "\n",
    "    # Plot\n",
    "    bins = [0, 10, 100, 500, 1000, 2000]\n",
    "\n",
    "    ax = merge.plot(column = 'province', \n",
    "                    cmap = 'OrRd',\n",
    "                    figsize = (10, 15),\n",
    "                    legend = True,\n",
    "                    scheme = 'user_defined',\n",
    "                    classification_kwds = {'bins':bins},\n",
    "                    edgecolor = 'black',\n",
    "                    linewidth = 0.4)\n",
    "\n",
    "\n",
    "\n",
    "    # Removing the axes\n",
    "    ax.set_axis_off()\n",
    "\n",
    "    # Move the legend \n",
    "    ax.get_legend()\n",
    "\n",
    "\n",
    "    img = ax.get_figure()\n",
    "\n",
    "    f = io.BytesIO()\n",
    "    img.savefig(f, format = 'png', bbox_inches = 'tight')\n",
    "    f.seek(0)"
   ],
   "outputs": [],
   "metadata": {}
  },
  {
   "cell_type": "code",
   "execution_count": 8,
   "source": [
    "graph()"
   ],
   "outputs": [
    {
     "output_type": "display_data",
     "data": {
      "application/vnd.plotly.v1+json": {
       "config": {
        "plotlyServerURL": "https://plot.ly"
       },
       "data": [
        {
         "hovertemplate": "count=%{marker.color}<br>centroid_lat=%{lat}<br>centroid_lon=%{lon}<extra></extra>",
         "lat": [
          13.751,
          13.649,
          13.842,
          14.012,
          14.349,
          14.592,
          14.804,
          14.89,
          15.181,
          14.527,
          13.364,
          12.672,
          12.591,
          12.216,
          13.686,
          14.057,
          14.204,
          13.803,
          14.906,
          14.999,
          14.884,
          15.103,
          15.232,
          15.799,
          15.804,
          15.872,
          18.044,
          17.168,
          16.438,
          17.411,
          17.493,
          17.89,
          16.175,
          16.051,
          16.437,
          17.163,
          17.409,
          16.558,
          18.796,
          18.573,
          18.255,
          17.613,
          18.14,
          18.793,
          19.172,
          19.907,
          19.302,
          15.703,
          15.375,
          16.473,
          16.862,
          17.012,
          16.815,
          16.443,
          16.42,
          13.535,
          14.039,
          14.471,
          13.819,
          13.552,
          13.4,
          13.097,
          11.805,
          8.408,
          8.09,
          8.446,
          7.888,
          9.137,
          9.96,
          10.498,
          7.198,
          6.615,
          7.559,
          7.625,
          6.876,
          6.547,
          6.424
         ],
         "legendgroup": "",
         "lon": [
          100.492,
          100.617,
          100.494,
          100.528,
          100.551,
          100.453,
          100.634,
          100.404,
          100.127,
          100.915,
          100.987,
          101.266,
          102.087,
          102.504,
          101.066,
          101.374,
          101.219,
          102.077,
          102.102,
          103.104,
          103.49,
          104.336,
          104.859,
          104.148,
          102.037,
          104.635,
          103.679,
          102.444,
          102.837,
          102.792,
          101.732,
          102.761,
          103.319,
          103.653,
          103.522,
          104.162,
          104.781,
          104.646,
          98.985,
          99.002,
          99.518,
          100.079,
          100.142,
          100.786,
          99.894,
          99.832,
          97.97,
          100.128,
          100.031,
          99.528,
          99.129,
          99.822,
          100.26,
          100.343,
          101.156,
          99.82,
          99.551,
          100.116,
          100.05,
          100.28,
          99.994,
          99.949,
          99.784,
          99.972,
          98.905,
          98.524,
          98.394,
          99.32,
          98.621,
          99.179,
          100.596,
          100.071,
          99.616,
          100.085,
          101.251,
          101.28,
          101.82
         ],
         "marker": {
          "color": [
           1590,
           587,
           173,
           81,
           93,
           36,
           72,
           20,
           21,
           155,
           774,
           545,
           228,
           68,
           140,
           257,
           88,
           220,
           191,
           48,
           22,
           21,
           138,
           4,
           24,
           4,
           4,
           7,
           130,
           121,
           42,
           5,
           34,
           17,
           26,
           35,
           4,
           8,
           59,
           40,
           11,
           13,
           14,
           1,
           0,
           29,
           12,
           104,
           23,
           19,
           151,
           36,
           38,
           9,
           47,
           282,
           80,
           86,
           54,
           99,
           30,
           125,
           72,
           205,
           161,
           88,
           197,
           220,
           28,
           194,
           517,
           38,
           80,
           54,
           200,
           452,
           513
          ],
          "coloraxis": "coloraxis",
          "size": [
           1590,
           587,
           173,
           81,
           93,
           36,
           72,
           20,
           21,
           155,
           774,
           545,
           228,
           68,
           140,
           257,
           88,
           220,
           191,
           48,
           22,
           21,
           138,
           4,
           24,
           4,
           4,
           7,
           130,
           121,
           42,
           5,
           34,
           17,
           26,
           35,
           4,
           8,
           59,
           40,
           11,
           13,
           14,
           1,
           0,
           29,
           12,
           104,
           23,
           19,
           151,
           36,
           38,
           9,
           47,
           282,
           80,
           86,
           54,
           99,
           30,
           125,
           72,
           205,
           161,
           88,
           197,
           220,
           28,
           194,
           517,
           38,
           80,
           54,
           200,
           452,
           513
          ],
          "sizemode": "area",
          "sizeref": 3.975
         },
         "mode": "markers",
         "name": "",
         "showlegend": false,
         "subplot": "mapbox",
         "type": "scattermapbox"
        }
       ],
       "layout": {
        "coloraxis": {
         "colorbar": {
          "title": {
           "text": "count"
          }
         },
         "colorscale": [
          [
           0,
           "#313131"
          ],
          [
           0.0625,
           "#97023d"
          ],
          [
           0.125,
           "#d90d39"
          ],
          [
           0.1875,
           "#f8432d"
          ],
          [
           0.25,
           "#ff8e25"
          ],
          [
           0.3125,
           "#f7da29"
          ],
          [
           0.375,
           "#fafd5b"
          ],
          [
           0.4375,
           "#fffda9"
          ],
          [
           0.5,
           "#f3f3f1"
          ],
          [
           0.5625,
           "#aefdff"
          ],
          [
           0.625,
           "#60fdfa"
          ],
          [
           0.6875,
           "#2adef6"
          ],
          [
           0.75,
           "#2593ff"
          ],
          [
           0.8125,
           "#2d47f9"
          ],
          [
           0.875,
           "#3810dc"
          ],
          [
           0.9375,
           "#3d019d"
          ],
          [
           1,
           "#313131"
          ]
         ]
        },
        "legend": {
         "itemsizing": "constant",
         "tracegroupgap": 0
        },
        "mapbox": {
         "center": {
          "lat": 14.229467532467531,
          "lon": 101.04697402597402
         },
         "domain": {
          "x": [
           0,
           1
          ],
          "y": [
           0,
           1
          ]
         },
         "style": "carto-positron",
         "zoom": 3.5
        },
        "margin": {
         "t": 60
        },
        "template": {
         "data": {
          "bar": [
           {
            "error_x": {
             "color": "#2a3f5f"
            },
            "error_y": {
             "color": "#2a3f5f"
            },
            "marker": {
             "line": {
              "color": "#E5ECF6",
              "width": 0.5
             },
             "pattern": {
              "fillmode": "overlay",
              "size": 10,
              "solidity": 0.2
             }
            },
            "type": "bar"
           }
          ],
          "barpolar": [
           {
            "marker": {
             "line": {
              "color": "#E5ECF6",
              "width": 0.5
             },
             "pattern": {
              "fillmode": "overlay",
              "size": 10,
              "solidity": 0.2
             }
            },
            "type": "barpolar"
           }
          ],
          "carpet": [
           {
            "aaxis": {
             "endlinecolor": "#2a3f5f",
             "gridcolor": "white",
             "linecolor": "white",
             "minorgridcolor": "white",
             "startlinecolor": "#2a3f5f"
            },
            "baxis": {
             "endlinecolor": "#2a3f5f",
             "gridcolor": "white",
             "linecolor": "white",
             "minorgridcolor": "white",
             "startlinecolor": "#2a3f5f"
            },
            "type": "carpet"
           }
          ],
          "choropleth": [
           {
            "colorbar": {
             "outlinewidth": 0,
             "ticks": ""
            },
            "type": "choropleth"
           }
          ],
          "contour": [
           {
            "colorbar": {
             "outlinewidth": 0,
             "ticks": ""
            },
            "colorscale": [
             [
              0,
              "#0d0887"
             ],
             [
              0.1111111111111111,
              "#46039f"
             ],
             [
              0.2222222222222222,
              "#7201a8"
             ],
             [
              0.3333333333333333,
              "#9c179e"
             ],
             [
              0.4444444444444444,
              "#bd3786"
             ],
             [
              0.5555555555555556,
              "#d8576b"
             ],
             [
              0.6666666666666666,
              "#ed7953"
             ],
             [
              0.7777777777777778,
              "#fb9f3a"
             ],
             [
              0.8888888888888888,
              "#fdca26"
             ],
             [
              1,
              "#f0f921"
             ]
            ],
            "type": "contour"
           }
          ],
          "contourcarpet": [
           {
            "colorbar": {
             "outlinewidth": 0,
             "ticks": ""
            },
            "type": "contourcarpet"
           }
          ],
          "heatmap": [
           {
            "colorbar": {
             "outlinewidth": 0,
             "ticks": ""
            },
            "colorscale": [
             [
              0,
              "#0d0887"
             ],
             [
              0.1111111111111111,
              "#46039f"
             ],
             [
              0.2222222222222222,
              "#7201a8"
             ],
             [
              0.3333333333333333,
              "#9c179e"
             ],
             [
              0.4444444444444444,
              "#bd3786"
             ],
             [
              0.5555555555555556,
              "#d8576b"
             ],
             [
              0.6666666666666666,
              "#ed7953"
             ],
             [
              0.7777777777777778,
              "#fb9f3a"
             ],
             [
              0.8888888888888888,
              "#fdca26"
             ],
             [
              1,
              "#f0f921"
             ]
            ],
            "type": "heatmap"
           }
          ],
          "heatmapgl": [
           {
            "colorbar": {
             "outlinewidth": 0,
             "ticks": ""
            },
            "colorscale": [
             [
              0,
              "#0d0887"
             ],
             [
              0.1111111111111111,
              "#46039f"
             ],
             [
              0.2222222222222222,
              "#7201a8"
             ],
             [
              0.3333333333333333,
              "#9c179e"
             ],
             [
              0.4444444444444444,
              "#bd3786"
             ],
             [
              0.5555555555555556,
              "#d8576b"
             ],
             [
              0.6666666666666666,
              "#ed7953"
             ],
             [
              0.7777777777777778,
              "#fb9f3a"
             ],
             [
              0.8888888888888888,
              "#fdca26"
             ],
             [
              1,
              "#f0f921"
             ]
            ],
            "type": "heatmapgl"
           }
          ],
          "histogram": [
           {
            "marker": {
             "pattern": {
              "fillmode": "overlay",
              "size": 10,
              "solidity": 0.2
             }
            },
            "type": "histogram"
           }
          ],
          "histogram2d": [
           {
            "colorbar": {
             "outlinewidth": 0,
             "ticks": ""
            },
            "colorscale": [
             [
              0,
              "#0d0887"
             ],
             [
              0.1111111111111111,
              "#46039f"
             ],
             [
              0.2222222222222222,
              "#7201a8"
             ],
             [
              0.3333333333333333,
              "#9c179e"
             ],
             [
              0.4444444444444444,
              "#bd3786"
             ],
             [
              0.5555555555555556,
              "#d8576b"
             ],
             [
              0.6666666666666666,
              "#ed7953"
             ],
             [
              0.7777777777777778,
              "#fb9f3a"
             ],
             [
              0.8888888888888888,
              "#fdca26"
             ],
             [
              1,
              "#f0f921"
             ]
            ],
            "type": "histogram2d"
           }
          ],
          "histogram2dcontour": [
           {
            "colorbar": {
             "outlinewidth": 0,
             "ticks": ""
            },
            "colorscale": [
             [
              0,
              "#0d0887"
             ],
             [
              0.1111111111111111,
              "#46039f"
             ],
             [
              0.2222222222222222,
              "#7201a8"
             ],
             [
              0.3333333333333333,
              "#9c179e"
             ],
             [
              0.4444444444444444,
              "#bd3786"
             ],
             [
              0.5555555555555556,
              "#d8576b"
             ],
             [
              0.6666666666666666,
              "#ed7953"
             ],
             [
              0.7777777777777778,
              "#fb9f3a"
             ],
             [
              0.8888888888888888,
              "#fdca26"
             ],
             [
              1,
              "#f0f921"
             ]
            ],
            "type": "histogram2dcontour"
           }
          ],
          "mesh3d": [
           {
            "colorbar": {
             "outlinewidth": 0,
             "ticks": ""
            },
            "type": "mesh3d"
           }
          ],
          "parcoords": [
           {
            "line": {
             "colorbar": {
              "outlinewidth": 0,
              "ticks": ""
             }
            },
            "type": "parcoords"
           }
          ],
          "pie": [
           {
            "automargin": true,
            "type": "pie"
           }
          ],
          "scatter": [
           {
            "marker": {
             "colorbar": {
              "outlinewidth": 0,
              "ticks": ""
             }
            },
            "type": "scatter"
           }
          ],
          "scatter3d": [
           {
            "line": {
             "colorbar": {
              "outlinewidth": 0,
              "ticks": ""
             }
            },
            "marker": {
             "colorbar": {
              "outlinewidth": 0,
              "ticks": ""
             }
            },
            "type": "scatter3d"
           }
          ],
          "scattercarpet": [
           {
            "marker": {
             "colorbar": {
              "outlinewidth": 0,
              "ticks": ""
             }
            },
            "type": "scattercarpet"
           }
          ],
          "scattergeo": [
           {
            "marker": {
             "colorbar": {
              "outlinewidth": 0,
              "ticks": ""
             }
            },
            "type": "scattergeo"
           }
          ],
          "scattergl": [
           {
            "marker": {
             "colorbar": {
              "outlinewidth": 0,
              "ticks": ""
             }
            },
            "type": "scattergl"
           }
          ],
          "scattermapbox": [
           {
            "marker": {
             "colorbar": {
              "outlinewidth": 0,
              "ticks": ""
             }
            },
            "type": "scattermapbox"
           }
          ],
          "scatterpolar": [
           {
            "marker": {
             "colorbar": {
              "outlinewidth": 0,
              "ticks": ""
             }
            },
            "type": "scatterpolar"
           }
          ],
          "scatterpolargl": [
           {
            "marker": {
             "colorbar": {
              "outlinewidth": 0,
              "ticks": ""
             }
            },
            "type": "scatterpolargl"
           }
          ],
          "scatterternary": [
           {
            "marker": {
             "colorbar": {
              "outlinewidth": 0,
              "ticks": ""
             }
            },
            "type": "scatterternary"
           }
          ],
          "surface": [
           {
            "colorbar": {
             "outlinewidth": 0,
             "ticks": ""
            },
            "colorscale": [
             [
              0,
              "#0d0887"
             ],
             [
              0.1111111111111111,
              "#46039f"
             ],
             [
              0.2222222222222222,
              "#7201a8"
             ],
             [
              0.3333333333333333,
              "#9c179e"
             ],
             [
              0.4444444444444444,
              "#bd3786"
             ],
             [
              0.5555555555555556,
              "#d8576b"
             ],
             [
              0.6666666666666666,
              "#ed7953"
             ],
             [
              0.7777777777777778,
              "#fb9f3a"
             ],
             [
              0.8888888888888888,
              "#fdca26"
             ],
             [
              1,
              "#f0f921"
             ]
            ],
            "type": "surface"
           }
          ],
          "table": [
           {
            "cells": {
             "fill": {
              "color": "#EBF0F8"
             },
             "line": {
              "color": "white"
             }
            },
            "header": {
             "fill": {
              "color": "#C8D4E3"
             },
             "line": {
              "color": "white"
             }
            },
            "type": "table"
           }
          ]
         },
         "layout": {
          "annotationdefaults": {
           "arrowcolor": "#2a3f5f",
           "arrowhead": 0,
           "arrowwidth": 1
          },
          "autotypenumbers": "strict",
          "coloraxis": {
           "colorbar": {
            "outlinewidth": 0,
            "ticks": ""
           }
          },
          "colorscale": {
           "diverging": [
            [
             0,
             "#8e0152"
            ],
            [
             0.1,
             "#c51b7d"
            ],
            [
             0.2,
             "#de77ae"
            ],
            [
             0.3,
             "#f1b6da"
            ],
            [
             0.4,
             "#fde0ef"
            ],
            [
             0.5,
             "#f7f7f7"
            ],
            [
             0.6,
             "#e6f5d0"
            ],
            [
             0.7,
             "#b8e186"
            ],
            [
             0.8,
             "#7fbc41"
            ],
            [
             0.9,
             "#4d9221"
            ],
            [
             1,
             "#276419"
            ]
           ],
           "sequential": [
            [
             0,
             "#0d0887"
            ],
            [
             0.1111111111111111,
             "#46039f"
            ],
            [
             0.2222222222222222,
             "#7201a8"
            ],
            [
             0.3333333333333333,
             "#9c179e"
            ],
            [
             0.4444444444444444,
             "#bd3786"
            ],
            [
             0.5555555555555556,
             "#d8576b"
            ],
            [
             0.6666666666666666,
             "#ed7953"
            ],
            [
             0.7777777777777778,
             "#fb9f3a"
            ],
            [
             0.8888888888888888,
             "#fdca26"
            ],
            [
             1,
             "#f0f921"
            ]
           ],
           "sequentialminus": [
            [
             0,
             "#0d0887"
            ],
            [
             0.1111111111111111,
             "#46039f"
            ],
            [
             0.2222222222222222,
             "#7201a8"
            ],
            [
             0.3333333333333333,
             "#9c179e"
            ],
            [
             0.4444444444444444,
             "#bd3786"
            ],
            [
             0.5555555555555556,
             "#d8576b"
            ],
            [
             0.6666666666666666,
             "#ed7953"
            ],
            [
             0.7777777777777778,
             "#fb9f3a"
            ],
            [
             0.8888888888888888,
             "#fdca26"
            ],
            [
             1,
             "#f0f921"
            ]
           ]
          },
          "colorway": [
           "#636efa",
           "#EF553B",
           "#00cc96",
           "#ab63fa",
           "#FFA15A",
           "#19d3f3",
           "#FF6692",
           "#B6E880",
           "#FF97FF",
           "#FECB52"
          ],
          "font": {
           "color": "#2a3f5f"
          },
          "geo": {
           "bgcolor": "white",
           "lakecolor": "white",
           "landcolor": "#E5ECF6",
           "showlakes": true,
           "showland": true,
           "subunitcolor": "white"
          },
          "hoverlabel": {
           "align": "left"
          },
          "hovermode": "closest",
          "mapbox": {
           "style": "light"
          },
          "paper_bgcolor": "white",
          "plot_bgcolor": "#E5ECF6",
          "polar": {
           "angularaxis": {
            "gridcolor": "white",
            "linecolor": "white",
            "ticks": ""
           },
           "bgcolor": "#E5ECF6",
           "radialaxis": {
            "gridcolor": "white",
            "linecolor": "white",
            "ticks": ""
           }
          },
          "scene": {
           "xaxis": {
            "backgroundcolor": "#E5ECF6",
            "gridcolor": "white",
            "gridwidth": 2,
            "linecolor": "white",
            "showbackground": true,
            "ticks": "",
            "zerolinecolor": "white"
           },
           "yaxis": {
            "backgroundcolor": "#E5ECF6",
            "gridcolor": "white",
            "gridwidth": 2,
            "linecolor": "white",
            "showbackground": true,
            "ticks": "",
            "zerolinecolor": "white"
           },
           "zaxis": {
            "backgroundcolor": "#E5ECF6",
            "gridcolor": "white",
            "gridwidth": 2,
            "linecolor": "white",
            "showbackground": true,
            "ticks": "",
            "zerolinecolor": "white"
           }
          },
          "shapedefaults": {
           "line": {
            "color": "#2a3f5f"
           }
          },
          "ternary": {
           "aaxis": {
            "gridcolor": "white",
            "linecolor": "white",
            "ticks": ""
           },
           "baxis": {
            "gridcolor": "white",
            "linecolor": "white",
            "ticks": ""
           },
           "bgcolor": "#E5ECF6",
           "caxis": {
            "gridcolor": "white",
            "linecolor": "white",
            "ticks": ""
           }
          },
          "title": {
           "x": 0.05
          },
          "xaxis": {
           "automargin": true,
           "gridcolor": "white",
           "linecolor": "white",
           "ticks": "",
           "title": {
            "standoff": 15
           },
           "zerolinecolor": "white",
           "zerolinewidth": 2
          },
          "yaxis": {
           "automargin": true,
           "gridcolor": "white",
           "linecolor": "white",
           "ticks": "",
           "title": {
            "standoff": 15
           },
           "zerolinecolor": "white",
           "zerolinewidth": 2
          }
         }
        }
       }
      }
     },
     "metadata": {}
    },
    {
     "output_type": "display_data",
     "data": {
      "application/vnd.plotly.v1+json": {
       "config": {
        "plotlyServerURL": "https://plot.ly"
       },
       "data": [
        {
         "branchvalues": "total",
         "customdata": [
          [
           "10-19 ปี",
           1590
          ],
          [
           "10-19 ปี",
           1590
          ],
          [
           "10-19 ปี",
           80
          ],
          [
           "10-19 ปี",
           26
          ],
          [
           "10-19 ปี",
           130
          ],
          [
           "10-19 ปี",
           228
          ],
          [
           "10-19 ปี",
           228
          ],
          [
           "10-19 ปี",
           140
          ],
          [
           "10-19 ปี",
           140
          ],
          [
           "10-19 ปี",
           774
          ],
          [
           "10-19 ปี",
           774
          ],
          [
           "10-19 ปี",
           774
          ],
          [
           "10-19 ปี",
           21
          ],
          [
           "10-19 ปี",
           194
          ],
          [
           "10-19 ปี",
           194
          ],
          [
           "10-19 ปี",
           80
          ],
          [
           "10-19 ปี",
           68
          ],
          [
           "10-19 ปี",
           68
          ],
          [
           "10-19 ปี",
           151
          ],
          [
           "10-19 ปี",
           151
          ],
          [
           "10-19 ปี",
           88
          ],
          [
           "10-19 ปี",
           54
          ],
          [
           "10-19 ปี",
           4
          ],
          [
           "10-19 ปี",
           191
          ],
          [
           "10-19 ปี",
           205
          ],
          [
           "10-19 ปี",
           104
          ],
          [
           "10-19 ปี",
           173
          ],
          [
           "10-19 ปี",
           513
          ],
          [
           "10-19 ปี",
           81
          ],
          [
           "10-19 ปี",
           72
          ],
          [
           "10-19 ปี",
           72
          ],
          [
           "10-19 ปี",
           257
          ],
          [
           "10-19 ปี",
           200
          ],
          [
           "10-19 ปี",
           93
          ],
          [
           "10-19 ปี",
           88
          ],
          [
           "10-19 ปี",
           54
          ],
          [
           "10-19 ปี",
           9
          ],
          [
           "10-19 ปี",
           197
          ],
          [
           "10-19 ปี",
           34
          ],
          [
           "10-19 ปี",
           452
          ],
          [
           "10-19 ปี",
           4
          ],
          [
           "10-19 ปี",
           28
          ],
          [
           "10-19 ปี",
           545
          ],
          [
           "10-19 ปี",
           545
          ],
          [
           "10-19 ปี",
           17
          ],
          [
           "10-19 ปี",
           72
          ],
          [
           "10-19 ปี",
           21
          ],
          [
           "10-19 ปี",
           35
          ],
          [
           "10-19 ปี",
           517
          ],
          [
           "10-19 ปี",
           38
          ],
          [
           "10-19 ปี",
           587
          ],
          [
           "10-19 ปี",
           587
          ],
          [
           "10-19 ปี",
           30
          ],
          [
           "10-19 ปี",
           99
          ],
          [
           "10-19 ปี",
           155
          ],
          [
           "10-19 ปี",
           220
          ],
          [
           "10-19 ปี",
           20
          ],
          [
           "10-19 ปี",
           86
          ],
          [
           "10-19 ปี",
           220
          ],
          [
           "10-19 ปี",
           36
          ],
          [
           "10-19 ปี",
           7
          ],
          [
           "10-19 ปี",
           121
          ],
          [
           "10-19 ปี",
           13
          ],
          [
           "10-19 ปี",
           23
          ],
          [
           "10-19 ปี",
           23
          ],
          [
           "10-19 ปี",
           138
          ],
          [
           "10-19 ปี",
           36
          ],
          [
           "10-19 ปี",
           29
          ],
          [
           "10-19 ปี",
           59
          ],
          [
           "10-19 ปี",
           125
          ],
          [
           "10-19 ปี",
           47
          ],
          [
           "10-19 ปี",
           42
          ],
          [
           "10-19 ปี",
           14
          ],
          [
           "10-19 ปี",
           12
          ],
          [
           "10-19 ปี",
           1590
          ],
          [
           "10-19 ปี",
           1590
          ],
          [
           "10-19 ปี",
           80
          ],
          [
           "10-19 ปี",
           26
          ],
          [
           "10-19 ปี",
           130
          ],
          [
           "10-19 ปี",
           228
          ],
          [
           "10-19 ปี",
           228
          ],
          [
           "10-19 ปี",
           228
          ],
          [
           "10-19 ปี",
           140
          ],
          [
           "10-19 ปี",
           774
          ],
          [
           "10-19 ปี",
           774
          ],
          [
           "10-19 ปี",
           774
          ],
          [
           "10-19 ปี",
           774
          ],
          [
           "10-19 ปี",
           21
          ],
          [
           "10-19 ปี",
           194
          ],
          [
           "10-19 ปี",
           194
          ],
          [
           "10-19 ปี",
           80
          ],
          [
           "10-19 ปี",
           68
          ],
          [
           "10-19 ปี",
           151
          ],
          [
           "10-19 ปี",
           151
          ],
          [
           "10-19 ปี",
           88
          ],
          [
           "10-19 ปี",
           191
          ],
          [
           "10-19 ปี",
           205
          ],
          [
           "10-19 ปี",
           104
          ],
          [
           "10-19 ปี",
           104
          ],
          [
           "10-19 ปี",
           173
          ],
          [
           "10-19 ปี",
           513
          ],
          [
           "10-19 ปี",
           81
          ],
          [
           "10-19 ปี",
           72
          ],
          [
           "10-19 ปี",
           72
          ],
          [
           "10-19 ปี",
           257
          ],
          [
           "10-19 ปี",
           200
          ],
          [
           "10-19 ปี",
           93
          ],
          [
           "10-19 ปี",
           88
          ],
          [
           "10-19 ปี",
           54
          ],
          [
           "10-19 ปี",
           9
          ],
          [
           "10-19 ปี",
           38
          ],
          [
           "10-19 ปี",
           197
          ],
          [
           "10-19 ปี",
           34
          ],
          [
           "10-19 ปี",
           452
          ],
          [
           "10-19 ปี",
           545
          ],
          [
           "10-19 ปี",
           17
          ],
          [
           "10-19 ปี",
           72
          ],
          [
           "10-19 ปี",
           11
          ],
          [
           "10-19 ปี",
           40
          ],
          [
           "10-19 ปี",
           21
          ],
          [
           "10-19 ปี",
           517
          ],
          [
           "10-19 ปี",
           587
          ],
          [
           "10-19 ปี",
           587
          ],
          [
           "10-19 ปี",
           587
          ],
          [
           "10-19 ปี",
           30
          ],
          [
           "10-19 ปี",
           99
          ],
          [
           "10-19 ปี",
           155
          ],
          [
           "10-19 ปี",
           220
          ],
          [
           "10-19 ปี",
           86
          ],
          [
           "10-19 ปี",
           220
          ],
          [
           "10-19 ปี",
           220
          ],
          [
           "10-19 ปี",
           36
          ],
          [
           "10-19 ปี",
           121
          ],
          [
           "10-19 ปี",
           13
          ],
          [
           "10-19 ปี",
           23
          ],
          [
           "10-19 ปี",
           23
          ],
          [
           "10-19 ปี",
           138
          ],
          [
           "10-19 ปี",
           36
          ],
          [
           "10-19 ปี",
           29
          ],
          [
           "10-19 ปี",
           59
          ],
          [
           "10-19 ปี",
           125
          ],
          [
           "10-19 ปี",
           47
          ],
          [
           "10-19 ปี",
           42
          ],
          [
           "10-19 ปี",
           14
          ],
          [
           "10-19 ปี",
           12
          ],
          [
           "10-19 ปี",
           1590
          ],
          [
           "20-29 ปี",
           1590
          ],
          [
           "20-29 ปี",
           1590
          ],
          [
           "20-29 ปี",
           1590
          ],
          [
           "20-29 ปี",
           1590
          ],
          [
           "20-29 ปี",
           1590
          ],
          [
           "20-29 ปี",
           1590
          ],
          [
           "20-29 ปี",
           80
          ],
          [
           "20-29 ปี",
           80
          ],
          [
           "20-29 ปี",
           26
          ],
          [
           "20-29 ปี",
           130
          ],
          [
           "20-29 ปี",
           228
          ],
          [
           "20-29 ปี",
           228
          ],
          [
           "20-29 ปี",
           140
          ],
          [
           "20-29 ปี",
           140
          ],
          [
           "20-29 ปี",
           774
          ],
          [
           "20-29 ปี",
           774
          ],
          [
           "20-29 ปี",
           774
          ],
          [
           "20-29 ปี",
           774
          ],
          [
           "20-29 ปี",
           774
          ],
          [
           "20-29 ปี",
           774
          ],
          [
           "20-29 ปี",
           21
          ],
          [
           "20-29 ปี",
           194
          ],
          [
           "20-29 ปี",
           194
          ],
          [
           "20-29 ปี",
           80
          ],
          [
           "20-29 ปี",
           68
          ],
          [
           "20-29 ปี",
           151
          ],
          [
           "20-29 ปี",
           151
          ],
          [
           "20-29 ปี",
           88
          ],
          [
           "20-29 ปี",
           54
          ],
          [
           "20-29 ปี",
           54
          ],
          [
           "20-29 ปี",
           191
          ],
          [
           "20-29 ปี",
           191
          ],
          [
           "20-29 ปี",
           205
          ],
          [
           "20-29 ปี",
           104
          ],
          [
           "20-29 ปี",
           173
          ],
          [
           "20-29 ปี",
           173
          ],
          [
           "20-29 ปี",
           173
          ],
          [
           "20-29 ปี",
           513
          ],
          [
           "20-29 ปี",
           513
          ],
          [
           "20-29 ปี",
           48
          ],
          [
           "20-29 ปี",
           81
          ],
          [
           "20-29 ปี",
           81
          ],
          [
           "20-29 ปี",
           72
          ],
          [
           "20-29 ปี",
           72
          ],
          [
           "20-29 ปี",
           72
          ],
          [
           "20-29 ปี",
           257
          ],
          [
           "20-29 ปี",
           257
          ],
          [
           "20-29 ปี",
           257
          ],
          [
           "20-29 ปี",
           200
          ],
          [
           "20-29 ปี",
           93
          ],
          [
           "20-29 ปี",
           88
          ],
          [
           "20-29 ปี",
           54
          ],
          [
           "20-29 ปี",
           38
          ],
          [
           "20-29 ปี",
           197
          ],
          [
           "20-29 ปี",
           34
          ],
          [
           "20-29 ปี",
           452
          ],
          [
           "20-29 ปี",
           28
          ],
          [
           "20-29 ปี",
           545
          ],
          [
           "20-29 ปี",
           545
          ],
          [
           "20-29 ปี",
           72
          ],
          [
           "20-29 ปี",
           11
          ],
          [
           "20-29 ปี",
           40
          ],
          [
           "20-29 ปี",
           21
          ],
          [
           "20-29 ปี",
           35
          ],
          [
           "20-29 ปี",
           517
          ],
          [
           "20-29 ปี",
           517
          ],
          [
           "20-29 ปี",
           38
          ],
          [
           "20-29 ปี",
           587
          ],
          [
           "20-29 ปี",
           587
          ],
          [
           "20-29 ปี",
           587
          ],
          [
           "20-29 ปี",
           30
          ],
          [
           "20-29 ปี",
           99
          ],
          [
           "20-29 ปี",
           99
          ],
          [
           "20-29 ปี",
           155
          ],
          [
           "20-29 ปี",
           220
          ],
          [
           "20-29 ปี",
           220
          ],
          [
           "20-29 ปี",
           20
          ],
          [
           "20-29 ปี",
           86
          ],
          [
           "20-29 ปี",
           220
          ],
          [
           "20-29 ปี",
           220
          ],
          [
           "20-29 ปี",
           22
          ],
          [
           "20-29 ปี",
           36
          ],
          [
           "20-29 ปี",
           121
          ],
          [
           "20-29 ปี",
           23
          ],
          [
           "20-29 ปี",
           138
          ],
          [
           "20-29 ปี",
           36
          ],
          [
           "20-29 ปี",
           29
          ],
          [
           "20-29 ปี",
           59
          ],
          [
           "20-29 ปี",
           125
          ],
          [
           "20-29 ปี",
           125
          ],
          [
           "20-29 ปี",
           47
          ],
          [
           "20-29 ปี",
           14
          ],
          [
           "20-29 ปี",
           1590
          ],
          [
           "20-29 ปี",
           1590
          ],
          [
           "20-29 ปี",
           1590
          ],
          [
           "20-29 ปี",
           1590
          ],
          [
           "20-29 ปี",
           1590
          ],
          [
           "20-29 ปี",
           80
          ],
          [
           "20-29 ปี",
           80
          ],
          [
           "20-29 ปี",
           26
          ],
          [
           "20-29 ปี",
           130
          ],
          [
           "20-29 ปี",
           228
          ],
          [
           "20-29 ปี",
           228
          ],
          [
           "20-29 ปี",
           140
          ],
          [
           "20-29 ปี",
           140
          ],
          [
           "20-29 ปี",
           140
          ],
          [
           "20-29 ปี",
           774
          ],
          [
           "20-29 ปี",
           774
          ],
          [
           "20-29 ปี",
           774
          ],
          [
           "20-29 ปี",
           774
          ],
          [
           "20-29 ปี",
           774
          ],
          [
           "20-29 ปี",
           21
          ],
          [
           "20-29 ปี",
           194
          ],
          [
           "20-29 ปี",
           194
          ],
          [
           "20-29 ปี",
           80
          ],
          [
           "20-29 ปี",
           68
          ],
          [
           "20-29 ปี",
           68
          ],
          [
           "20-29 ปี",
           151
          ],
          [
           "20-29 ปี",
           151
          ],
          [
           "20-29 ปี",
           88
          ],
          [
           "20-29 ปี",
           54
          ],
          [
           "20-29 ปี",
           54
          ],
          [
           "20-29 ปี",
           4
          ],
          [
           "20-29 ปี",
           191
          ],
          [
           "20-29 ปี",
           191
          ],
          [
           "20-29 ปี",
           205
          ],
          [
           "20-29 ปี",
           104
          ],
          [
           "20-29 ปี",
           173
          ],
          [
           "20-29 ปี",
           173
          ],
          [
           "20-29 ปี",
           513
          ],
          [
           "20-29 ปี",
           81
          ],
          [
           "20-29 ปี",
           81
          ],
          [
           "20-29 ปี",
           72
          ],
          [
           "20-29 ปี",
           72
          ],
          [
           "20-29 ปี",
           257
          ],
          [
           "20-29 ปี",
           257
          ],
          [
           "20-29 ปี",
           200
          ],
          [
           "20-29 ปี",
           93
          ],
          [
           "20-29 ปี",
           93
          ],
          [
           "20-29 ปี",
           88
          ],
          [
           "20-29 ปี",
           54
          ],
          [
           "20-29 ปี",
           9
          ],
          [
           "20-29 ปี",
           38
          ],
          [
           "20-29 ปี",
           197
          ],
          [
           "20-29 ปี",
           197
          ],
          [
           "20-29 ปี",
           34
          ],
          [
           "20-29 ปี",
           8
          ],
          [
           "20-29 ปี",
           452
          ],
          [
           "20-29 ปี",
           28
          ],
          [
           "20-29 ปี",
           545
          ],
          [
           "20-29 ปี",
           545
          ],
          [
           "20-29 ปี",
           545
          ],
          [
           "20-29 ปี",
           72
          ],
          [
           "20-29 ปี",
           40
          ],
          [
           "20-29 ปี",
           21
          ],
          [
           "20-29 ปี",
           35
          ],
          [
           "20-29 ปี",
           35
          ],
          [
           "20-29 ปี",
           517
          ],
          [
           "20-29 ปี",
           517
          ],
          [
           "20-29 ปี",
           38
          ],
          [
           "20-29 ปี",
           587
          ],
          [
           "20-29 ปี",
           587
          ],
          [
           "20-29 ปี",
           587
          ],
          [
           "20-29 ปี",
           587
          ],
          [
           "20-29 ปี",
           30
          ],
          [
           "20-29 ปี",
           99
          ],
          [
           "20-29 ปี",
           99
          ],
          [
           "20-29 ปี",
           155
          ],
          [
           "20-29 ปี",
           155
          ],
          [
           "20-29 ปี",
           220
          ],
          [
           "20-29 ปี",
           220
          ],
          [
           "20-29 ปี",
           20
          ],
          [
           "20-29 ปี",
           86
          ],
          [
           "20-29 ปี",
           220
          ],
          [
           "20-29 ปี",
           220
          ],
          [
           "20-29 ปี",
           22
          ],
          [
           "20-29 ปี",
           36
          ],
          [
           "20-29 ปี",
           5
          ],
          [
           "20-29 ปี",
           4
          ],
          [
           "20-29 ปี",
           121
          ],
          [
           "20-29 ปี",
           13
          ],
          [
           "20-29 ปี",
           23
          ],
          [
           "20-29 ปี",
           138
          ],
          [
           "20-29 ปี",
           138
          ],
          [
           "20-29 ปี",
           29
          ],
          [
           "20-29 ปี",
           59
          ],
          [
           "20-29 ปี",
           125
          ],
          [
           "20-29 ปี",
           125
          ],
          [
           "20-29 ปี",
           125
          ],
          [
           "20-29 ปี",
           47
          ],
          [
           "20-29 ปี",
           42
          ],
          [
           "20-29 ปี",
           1590
          ],
          [
           "20-29 ปี",
           151
          ],
          [
           "30-39 ปี",
           1590
          ],
          [
           "30-39 ปี",
           1590
          ],
          [
           "30-39 ปี",
           1590
          ],
          [
           "30-39 ปี",
           1590
          ],
          [
           "30-39 ปี",
           1590
          ],
          [
           "30-39 ปี",
           1590
          ],
          [
           "30-39 ปี",
           1590
          ],
          [
           "30-39 ปี",
           80
          ],
          [
           "30-39 ปี",
           80
          ],
          [
           "30-39 ปี",
           26
          ],
          [
           "30-39 ปี",
           19
          ],
          [
           "30-39 ปี",
           130
          ],
          [
           "30-39 ปี",
           228
          ],
          [
           "30-39 ปี",
           140
          ],
          [
           "30-39 ปี",
           140
          ],
          [
           "30-39 ปี",
           140
          ],
          [
           "30-39 ปี",
           774
          ],
          [
           "30-39 ปี",
           774
          ],
          [
           "30-39 ปี",
           774
          ],
          [
           "30-39 ปี",
           774
          ],
          [
           "30-39 ปี",
           774
          ],
          [
           "30-39 ปี",
           21
          ],
          [
           "30-39 ปี",
           24
          ],
          [
           "30-39 ปี",
           194
          ],
          [
           "30-39 ปี",
           194
          ],
          [
           "30-39 ปี",
           80
          ],
          [
           "30-39 ปี",
           68
          ],
          [
           "30-39 ปี",
           68
          ],
          [
           "30-39 ปี",
           68
          ],
          [
           "30-39 ปี",
           151
          ],
          [
           "30-39 ปี",
           151
          ],
          [
           "30-39 ปี",
           88
          ],
          [
           "30-39 ปี",
           88
          ],
          [
           "30-39 ปี",
           54
          ],
          [
           "30-39 ปี",
           4
          ],
          [
           "30-39 ปี",
           191
          ],
          [
           "30-39 ปี",
           205
          ],
          [
           "30-39 ปี",
           104
          ],
          [
           "30-39 ปี",
           104
          ],
          [
           "30-39 ปี",
           173
          ],
          [
           "30-39 ปี",
           173
          ],
          [
           "30-39 ปี",
           173
          ],
          [
           "30-39 ปี",
           513
          ],
          [
           "30-39 ปี",
           513
          ],
          [
           "30-39 ปี",
           513
          ],
          [
           "30-39 ปี",
           81
          ],
          [
           "30-39 ปี",
           72
          ],
          [
           "30-39 ปี",
           72
          ],
          [
           "30-39 ปี",
           257
          ],
          [
           "30-39 ปี",
           257
          ],
          [
           "30-39 ปี",
           257
          ],
          [
           "30-39 ปี",
           200
          ],
          [
           "30-39 ปี",
           93
          ],
          [
           "30-39 ปี",
           88
          ],
          [
           "30-39 ปี",
           88
          ],
          [
           "30-39 ปี",
           54
          ],
          [
           "30-39 ปี",
           9
          ],
          [
           "30-39 ปี",
           38
          ],
          [
           "30-39 ปี",
           197
          ],
          [
           "30-39 ปี",
           197
          ],
          [
           "30-39 ปี",
           452
          ],
          [
           "30-39 ปี",
           4
          ],
          [
           "30-39 ปี",
           28
          ],
          [
           "30-39 ปี",
           545
          ],
          [
           "30-39 ปี",
           545
          ],
          [
           "30-39 ปี",
           545
          ],
          [
           "30-39 ปี",
           17
          ],
          [
           "30-39 ปี",
           72
          ],
          [
           "30-39 ปี",
           11
          ],
          [
           "30-39 ปี",
           40
          ],
          [
           "30-39 ปี",
           21
          ],
          [
           "30-39 ปี",
           35
          ],
          [
           "30-39 ปี",
           517
          ],
          [
           "30-39 ปี",
           517
          ],
          [
           "30-39 ปี",
           587
          ],
          [
           "30-39 ปี",
           587
          ],
          [
           "30-39 ปี",
           587
          ],
          [
           "30-39 ปี",
           30
          ],
          [
           "30-39 ปี",
           99
          ],
          [
           "30-39 ปี",
           99
          ],
          [
           "30-39 ปี",
           99
          ],
          [
           "30-39 ปี",
           155
          ],
          [
           "30-39 ปี",
           220
          ],
          [
           "30-39 ปี",
           220
          ],
          [
           "30-39 ปี",
           20
          ],
          [
           "30-39 ปี",
           86
          ],
          [
           "30-39 ปี",
           86
          ],
          [
           "30-39 ปี",
           220
          ],
          [
           "30-39 ปี",
           220
          ],
          [
           "30-39 ปี",
           22
          ],
          [
           "30-39 ปี",
           36
          ],
          [
           "30-39 ปี",
           4
          ],
          [
           "30-39 ปี",
           121
          ],
          [
           "30-39 ปี",
           13
          ],
          [
           "30-39 ปี",
           23
          ],
          [
           "30-39 ปี",
           138
          ],
          [
           "30-39 ปี",
           36
          ],
          [
           "30-39 ปี",
           59
          ],
          [
           "30-39 ปี",
           125
          ],
          [
           "30-39 ปี",
           125
          ],
          [
           "30-39 ปี",
           47
          ],
          [
           "30-39 ปี",
           42
          ],
          [
           "30-39 ปี",
           12
          ],
          [
           "30-39 ปี",
           1590
          ],
          [
           "30-39 ปี",
           1590
          ],
          [
           "30-39 ปี",
           1590
          ],
          [
           "30-39 ปี",
           1590
          ],
          [
           "30-39 ปี",
           1590
          ],
          [
           "30-39 ปี",
           1590
          ],
          [
           "30-39 ปี",
           80
          ],
          [
           "30-39 ปี",
           80
          ],
          [
           "30-39 ปี",
           19
          ],
          [
           "30-39 ปี",
           130
          ],
          [
           "30-39 ปี",
           228
          ],
          [
           "30-39 ปี",
           228
          ],
          [
           "30-39 ปี",
           140
          ],
          [
           "30-39 ปี",
           140
          ],
          [
           "30-39 ปี",
           140
          ],
          [
           "30-39 ปี",
           774
          ],
          [
           "30-39 ปี",
           774
          ],
          [
           "30-39 ปี",
           774
          ],
          [
           "30-39 ปี",
           774
          ],
          [
           "30-39 ปี",
           774
          ],
          [
           "30-39 ปี",
           194
          ],
          [
           "30-39 ปี",
           194
          ],
          [
           "30-39 ปี",
           194
          ],
          [
           "30-39 ปี",
           80
          ],
          [
           "30-39 ปี",
           68
          ],
          [
           "30-39 ปี",
           68
          ],
          [
           "30-39 ปี",
           68
          ],
          [
           "30-39 ปี",
           151
          ],
          [
           "30-39 ปี",
           151
          ],
          [
           "30-39 ปี",
           88
          ],
          [
           "30-39 ปี",
           54
          ],
          [
           "30-39 ปี",
           191
          ],
          [
           "30-39 ปี",
           191
          ],
          [
           "30-39 ปี",
           205
          ],
          [
           "30-39 ปี",
           104
          ],
          [
           "30-39 ปี",
           173
          ],
          [
           "30-39 ปี",
           173
          ],
          [
           "30-39 ปี",
           173
          ],
          [
           "30-39 ปี",
           513
          ],
          [
           "30-39 ปี",
           513
          ],
          [
           "30-39 ปี",
           81
          ],
          [
           "30-39 ปี",
           81
          ],
          [
           "30-39 ปี",
           81
          ],
          [
           "30-39 ปี",
           81
          ],
          [
           "30-39 ปี",
           72
          ],
          [
           "30-39 ปี",
           72
          ],
          [
           "30-39 ปี",
           257
          ],
          [
           "30-39 ปี",
           257
          ],
          [
           "30-39 ปี",
           200
          ],
          [
           "30-39 ปี",
           93
          ],
          [
           "30-39 ปี",
           88
          ],
          [
           "30-39 ปี",
           54
          ],
          [
           "30-39 ปี",
           9
          ],
          [
           "30-39 ปี",
           38
          ],
          [
           "30-39 ปี",
           197
          ],
          [
           "30-39 ปี",
           34
          ],
          [
           "30-39 ปี",
           8
          ],
          [
           "30-39 ปี",
           452
          ],
          [
           "30-39 ปี",
           28
          ],
          [
           "30-39 ปี",
           545
          ],
          [
           "30-39 ปี",
           545
          ],
          [
           "30-39 ปี",
           545
          ],
          [
           "30-39 ปี",
           17
          ],
          [
           "30-39 ปี",
           72
          ],
          [
           "30-39 ปี",
           11
          ],
          [
           "30-39 ปี",
           40
          ],
          [
           "30-39 ปี",
           21
          ],
          [
           "30-39 ปี",
           35
          ],
          [
           "30-39 ปี",
           517
          ],
          [
           "30-39 ปี",
           517
          ],
          [
           "30-39 ปี",
           38
          ],
          [
           "30-39 ปี",
           587
          ],
          [
           "30-39 ปี",
           587
          ],
          [
           "30-39 ปี",
           587
          ],
          [
           "30-39 ปี",
           30
          ],
          [
           "30-39 ปี",
           99
          ],
          [
           "30-39 ปี",
           99
          ],
          [
           "30-39 ปี",
           99
          ],
          [
           "30-39 ปี",
           155
          ],
          [
           "30-39 ปี",
           220
          ],
          [
           "30-39 ปี",
           20
          ],
          [
           "30-39 ปี",
           86
          ],
          [
           "30-39 ปี",
           220
          ],
          [
           "30-39 ปี",
           220
          ],
          [
           "30-39 ปี",
           22
          ],
          [
           "30-39 ปี",
           36
          ],
          [
           "30-39 ปี",
           7
          ],
          [
           "30-39 ปี",
           4
          ],
          [
           "30-39 ปี",
           121
          ],
          [
           "30-39 ปี",
           13
          ],
          [
           "30-39 ปี",
           138
          ],
          [
           "30-39 ปี",
           36
          ],
          [
           "30-39 ปี",
           29
          ],
          [
           "30-39 ปี",
           59
          ],
          [
           "30-39 ปี",
           125
          ],
          [
           "30-39 ปี",
           47
          ],
          [
           "30-39 ปี",
           42
          ],
          [
           "30-39 ปี",
           14
          ],
          [
           "30-39 ปี",
           12
          ],
          [
           "30-39 ปี",
           1590
          ],
          [
           "30-39 ปี",
           151
          ],
          [
           "40-49 ปี",
           1590
          ],
          [
           "40-49 ปี",
           1590
          ],
          [
           "40-49 ปี",
           1590
          ],
          [
           "40-49 ปี",
           1590
          ],
          [
           "40-49 ปี",
           1590
          ],
          [
           "40-49 ปี",
           1590
          ],
          [
           "40-49 ปี",
           80
          ],
          [
           "40-49 ปี",
           80
          ],
          [
           "40-49 ปี",
           26
          ],
          [
           "40-49 ปี",
           130
          ],
          [
           "40-49 ปี",
           228
          ],
          [
           "40-49 ปี",
           140
          ],
          [
           "40-49 ปี",
           140
          ],
          [
           "40-49 ปี",
           774
          ],
          [
           "40-49 ปี",
           774
          ],
          [
           "40-49 ปี",
           774
          ],
          [
           "40-49 ปี",
           774
          ],
          [
           "40-49 ปี",
           774
          ],
          [
           "40-49 ปี",
           21
          ],
          [
           "40-49 ปี",
           194
          ],
          [
           "40-49 ปี",
           194
          ],
          [
           "40-49 ปี",
           80
          ],
          [
           "40-49 ปี",
           68
          ],
          [
           "40-49 ปี",
           151
          ],
          [
           "40-49 ปี",
           151
          ],
          [
           "40-49 ปี",
           88
          ],
          [
           "40-49 ปี",
           88
          ],
          [
           "40-49 ปี",
           54
          ],
          [
           "40-49 ปี",
           54
          ],
          [
           "40-49 ปี",
           191
          ],
          [
           "40-49 ปี",
           205
          ],
          [
           "40-49 ปี",
           104
          ],
          [
           "40-49 ปี",
           104
          ],
          [
           "40-49 ปี",
           173
          ],
          [
           "40-49 ปี",
           173
          ],
          [
           "40-49 ปี",
           513
          ],
          [
           "40-49 ปี",
           513
          ],
          [
           "40-49 ปี",
           81
          ],
          [
           "40-49 ปี",
           81
          ],
          [
           "40-49 ปี",
           72
          ],
          [
           "40-49 ปี",
           72
          ],
          [
           "40-49 ปี",
           257
          ],
          [
           "40-49 ปี",
           257
          ],
          [
           "40-49 ปี",
           200
          ],
          [
           "40-49 ปี",
           93
          ],
          [
           "40-49 ปี",
           88
          ],
          [
           "40-49 ปี",
           88
          ],
          [
           "40-49 ปี",
           54
          ],
          [
           "40-49 ปี",
           9
          ],
          [
           "40-49 ปี",
           38
          ],
          [
           "40-49 ปี",
           197
          ],
          [
           "40-49 ปี",
           197
          ],
          [
           "40-49 ปี",
           34
          ],
          [
           "40-49 ปี",
           452
          ],
          [
           "40-49 ปี",
           28
          ],
          [
           "40-49 ปี",
           545
          ],
          [
           "40-49 ปี",
           545
          ],
          [
           "40-49 ปี",
           545
          ],
          [
           "40-49 ปี",
           545
          ],
          [
           "40-49 ปี",
           17
          ],
          [
           "40-49 ปี",
           72
          ],
          [
           "40-49 ปี",
           40
          ],
          [
           "40-49 ปี",
           21
          ],
          [
           "40-49 ปี",
           35
          ],
          [
           "40-49 ปี",
           517
          ],
          [
           "40-49 ปี",
           517
          ],
          [
           "40-49 ปี",
           38
          ],
          [
           "40-49 ปี",
           587
          ],
          [
           "40-49 ปี",
           587
          ],
          [
           "40-49 ปี",
           30
          ],
          [
           "40-49 ปี",
           99
          ],
          [
           "40-49 ปี",
           99
          ],
          [
           "40-49 ปี",
           155
          ],
          [
           "40-49 ปี",
           220
          ],
          [
           "40-49 ปี",
           20
          ],
          [
           "40-49 ปี",
           86
          ],
          [
           "40-49 ปี",
           220
          ],
          [
           "40-49 ปี",
           22
          ],
          [
           "40-49 ปี",
           36
          ],
          [
           "40-49 ปี",
           121
          ],
          [
           "40-49 ปี",
           13
          ],
          [
           "40-49 ปี",
           23
          ],
          [
           "40-49 ปี",
           138
          ],
          [
           "40-49 ปี",
           36
          ],
          [
           "40-49 ปี",
           29
          ],
          [
           "40-49 ปี",
           59
          ],
          [
           "40-49 ปี",
           125
          ],
          [
           "40-49 ปี",
           47
          ],
          [
           "40-49 ปี",
           42
          ],
          [
           "40-49 ปี",
           1590
          ],
          [
           "40-49 ปี",
           1590
          ],
          [
           "40-49 ปี",
           1590
          ],
          [
           "40-49 ปี",
           1590
          ],
          [
           "40-49 ปี",
           1590
          ],
          [
           "40-49 ปี",
           26
          ],
          [
           "40-49 ปี",
           19
          ],
          [
           "40-49 ปี",
           130
          ],
          [
           "40-49 ปี",
           228
          ],
          [
           "40-49 ปี",
           228
          ],
          [
           "40-49 ปี",
           140
          ],
          [
           "40-49 ปี",
           774
          ],
          [
           "40-49 ปี",
           774
          ],
          [
           "40-49 ปี",
           774
          ],
          [
           "40-49 ปี",
           194
          ],
          [
           "40-49 ปี",
           194
          ],
          [
           "40-49 ปี",
           80
          ],
          [
           "40-49 ปี",
           68
          ],
          [
           "40-49 ปี",
           68
          ],
          [
           "40-49 ปี",
           151
          ],
          [
           "40-49 ปี",
           151
          ],
          [
           "40-49 ปี",
           88
          ],
          [
           "40-49 ปี",
           88
          ],
          [
           "40-49 ปี",
           54
          ],
          [
           "40-49 ปี",
           191
          ],
          [
           "40-49 ปี",
           205
          ],
          [
           "40-49 ปี",
           104
          ],
          [
           "40-49 ปี",
           173
          ],
          [
           "40-49 ปี",
           513
          ],
          [
           "40-49 ปี",
           81
          ],
          [
           "40-49 ปี",
           72
          ],
          [
           "40-49 ปี",
           72
          ],
          [
           "40-49 ปี",
           257
          ],
          [
           "40-49 ปี",
           257
          ],
          [
           "40-49 ปี",
           257
          ],
          [
           "40-49 ปี",
           200
          ],
          [
           "40-49 ปี",
           93
          ],
          [
           "40-49 ปี",
           88
          ],
          [
           "40-49 ปี",
           88
          ],
          [
           "40-49 ปี",
           54
          ],
          [
           "40-49 ปี",
           38
          ],
          [
           "40-49 ปี",
           197
          ],
          [
           "40-49 ปี",
           34
          ],
          [
           "40-49 ปี",
           8
          ],
          [
           "40-49 ปี",
           452
          ],
          [
           "40-49 ปี",
           28
          ],
          [
           "40-49 ปี",
           545
          ],
          [
           "40-49 ปี",
           545
          ],
          [
           "40-49 ปี",
           545
          ],
          [
           "40-49 ปี",
           17
          ],
          [
           "40-49 ปี",
           72
          ],
          [
           "40-49 ปี",
           40
          ],
          [
           "40-49 ปี",
           21
          ],
          [
           "40-49 ปี",
           35
          ],
          [
           "40-49 ปี",
           517
          ],
          [
           "40-49 ปี",
           517
          ],
          [
           "40-49 ปี",
           38
          ],
          [
           "40-49 ปี",
           587
          ],
          [
           "40-49 ปี",
           587
          ],
          [
           "40-49 ปี",
           587
          ],
          [
           "40-49 ปี",
           30
          ],
          [
           "40-49 ปี",
           99
          ],
          [
           "40-49 ปี",
           155
          ],
          [
           "40-49 ปี",
           220
          ],
          [
           "40-49 ปี",
           86
          ],
          [
           "40-49 ปี",
           220
          ],
          [
           "40-49 ปี",
           220
          ],
          [
           "40-49 ปี",
           22
          ],
          [
           "40-49 ปี",
           36
          ],
          [
           "40-49 ปี",
           7
          ],
          [
           "40-49 ปี",
           121
          ],
          [
           "40-49 ปี",
           23
          ],
          [
           "40-49 ปี",
           23
          ],
          [
           "40-49 ปี",
           138
          ],
          [
           "40-49 ปี",
           36
          ],
          [
           "40-49 ปี",
           36
          ],
          [
           "40-49 ปี",
           29
          ],
          [
           "40-49 ปี",
           59
          ],
          [
           "40-49 ปี",
           125
          ],
          [
           "40-49 ปี",
           47
          ],
          [
           "40-49 ปี",
           14
          ],
          [
           "40-49 ปี",
           1590
          ],
          [
           "40-49 ปี",
           151
          ],
          [
           "50-59 ปี",
           1590
          ],
          [
           "50-59 ปี",
           1590
          ],
          [
           "50-59 ปี",
           1590
          ],
          [
           "50-59 ปี",
           1590
          ],
          [
           "50-59 ปี",
           1590
          ],
          [
           "50-59 ปี",
           80
          ],
          [
           "50-59 ปี",
           26
          ],
          [
           "50-59 ปี",
           130
          ],
          [
           "50-59 ปี",
           228
          ],
          [
           "50-59 ปี",
           140
          ],
          [
           "50-59 ปี",
           774
          ],
          [
           "50-59 ปี",
           774
          ],
          [
           "50-59 ปี",
           21
          ],
          [
           "50-59 ปี",
           194
          ],
          [
           "50-59 ปี",
           80
          ],
          [
           "50-59 ปี",
           68
          ],
          [
           "50-59 ปี",
           151
          ],
          [
           "50-59 ปี",
           88
          ],
          [
           "50-59 ปี",
           54
          ],
          [
           "50-59 ปี",
           54
          ],
          [
           "50-59 ปี",
           191
          ],
          [
           "50-59 ปี",
           205
          ],
          [
           "50-59 ปี",
           104
          ],
          [
           "50-59 ปี",
           173
          ],
          [
           "50-59 ปี",
           513
          ],
          [
           "50-59 ปี",
           4
          ],
          [
           "50-59 ปี",
           48
          ],
          [
           "50-59 ปี",
           81
          ],
          [
           "50-59 ปี",
           72
          ],
          [
           "50-59 ปี",
           257
          ],
          [
           "50-59 ปี",
           200
          ],
          [
           "50-59 ปี",
           93
          ],
          [
           "50-59 ปี",
           88
          ],
          [
           "50-59 ปี",
           88
          ],
          [
           "50-59 ปี",
           54
          ],
          [
           "50-59 ปี",
           38
          ],
          [
           "50-59 ปี",
           197
          ],
          [
           "50-59 ปี",
           8
          ],
          [
           "50-59 ปี",
           452
          ],
          [
           "50-59 ปี",
           28
          ],
          [
           "50-59 ปี",
           545
          ],
          [
           "50-59 ปี",
           545
          ],
          [
           "50-59 ปี",
           545
          ],
          [
           "50-59 ปี",
           545
          ],
          [
           "50-59 ปี",
           72
          ],
          [
           "50-59 ปี",
           21
          ],
          [
           "50-59 ปี",
           35
          ],
          [
           "50-59 ปี",
           517
          ],
          [
           "50-59 ปี",
           517
          ],
          [
           "50-59 ปี",
           38
          ],
          [
           "50-59 ปี",
           587
          ],
          [
           "50-59 ปี",
           587
          ],
          [
           "50-59 ปี",
           30
          ],
          [
           "50-59 ปี",
           99
          ],
          [
           "50-59 ปี",
           155
          ],
          [
           "50-59 ปี",
           220
          ],
          [
           "50-59 ปี",
           220
          ],
          [
           "50-59 ปี",
           20
          ],
          [
           "50-59 ปี",
           86
          ],
          [
           "50-59 ปี",
           220
          ],
          [
           "50-59 ปี",
           220
          ],
          [
           "50-59 ปี",
           22
          ],
          [
           "50-59 ปี",
           36
          ],
          [
           "50-59 ปี",
           121
          ],
          [
           "50-59 ปี",
           138
          ],
          [
           "50-59 ปี",
           36
          ],
          [
           "50-59 ปี",
           59
          ],
          [
           "50-59 ปี",
           125
          ],
          [
           "50-59 ปี",
           47
          ],
          [
           "50-59 ปี",
           14
          ],
          [
           "50-59 ปี",
           1590
          ],
          [
           "50-59 ปี",
           1590
          ],
          [
           "50-59 ปี",
           80
          ],
          [
           "50-59 ปี",
           80
          ],
          [
           "50-59 ปี",
           26
          ],
          [
           "50-59 ปี",
           19
          ],
          [
           "50-59 ปี",
           130
          ],
          [
           "50-59 ปี",
           228
          ],
          [
           "50-59 ปี",
           140
          ],
          [
           "50-59 ปี",
           140
          ],
          [
           "50-59 ปี",
           774
          ],
          [
           "50-59 ปี",
           774
          ],
          [
           "50-59 ปี",
           21
          ],
          [
           "50-59 ปี",
           194
          ],
          [
           "50-59 ปี",
           80
          ],
          [
           "50-59 ปี",
           68
          ],
          [
           "50-59 ปี",
           68
          ],
          [
           "50-59 ปี",
           151
          ],
          [
           "50-59 ปี",
           88
          ],
          [
           "50-59 ปี",
           54
          ],
          [
           "50-59 ปี",
           191
          ],
          [
           "50-59 ปี",
           205
          ],
          [
           "50-59 ปี",
           104
          ],
          [
           "50-59 ปี",
           104
          ],
          [
           "50-59 ปี",
           173
          ],
          [
           "50-59 ปี",
           173
          ],
          [
           "50-59 ปี",
           513
          ],
          [
           "50-59 ปี",
           4
          ],
          [
           "50-59 ปี",
           81
          ],
          [
           "50-59 ปี",
           72
          ],
          [
           "50-59 ปี",
           257
          ],
          [
           "50-59 ปี",
           200
          ],
          [
           "50-59 ปี",
           93
          ],
          [
           "50-59 ปี",
           88
          ],
          [
           "50-59 ปี",
           54
          ],
          [
           "50-59 ปี",
           38
          ],
          [
           "50-59 ปี",
           197
          ],
          [
           "50-59 ปี",
           197
          ],
          [
           "50-59 ปี",
           34
          ],
          [
           "50-59 ปี",
           8
          ],
          [
           "50-59 ปี",
           452
          ],
          [
           "50-59 ปี",
           28
          ],
          [
           "50-59 ปี",
           545
          ],
          [
           "50-59 ปี",
           17
          ],
          [
           "50-59 ปี",
           72
          ],
          [
           "50-59 ปี",
           11
          ],
          [
           "50-59 ปี",
           40
          ],
          [
           "50-59 ปี",
           35
          ],
          [
           "50-59 ปี",
           517
          ],
          [
           "50-59 ปี",
           38
          ],
          [
           "50-59 ปี",
           587
          ],
          [
           "50-59 ปี",
           587
          ],
          [
           "50-59 ปี",
           587
          ],
          [
           "50-59 ปี",
           30
          ],
          [
           "50-59 ปี",
           99
          ],
          [
           "50-59 ปี",
           99
          ],
          [
           "50-59 ปี",
           155
          ],
          [
           "50-59 ปี",
           220
          ],
          [
           "50-59 ปี",
           20
          ],
          [
           "50-59 ปี",
           86
          ],
          [
           "50-59 ปี",
           220
          ],
          [
           "50-59 ปี",
           220
          ],
          [
           "50-59 ปี",
           22
          ],
          [
           "50-59 ปี",
           36
          ],
          [
           "50-59 ปี",
           121
          ],
          [
           "50-59 ปี",
           23
          ],
          [
           "50-59 ปี",
           138
          ],
          [
           "50-59 ปี",
           36
          ],
          [
           "50-59 ปี",
           59
          ],
          [
           "50-59 ปี",
           125
          ],
          [
           "50-59 ปี",
           47
          ],
          [
           "50-59 ปี",
           12
          ],
          [
           "50-59 ปี",
           1590
          ],
          [
           "50-59 ปี",
           151
          ],
          [
           "50-59 ปี",
           151
          ],
          [
           "60-69 ปี",
           1590
          ],
          [
           "60-69 ปี",
           1590
          ],
          [
           "60-69 ปี",
           80
          ],
          [
           "60-69 ปี",
           80
          ],
          [
           "60-69 ปี",
           19
          ],
          [
           "60-69 ปี",
           130
          ],
          [
           "60-69 ปี",
           228
          ],
          [
           "60-69 ปี",
           140
          ],
          [
           "60-69 ปี",
           774
          ],
          [
           "60-69 ปี",
           21
          ],
          [
           "60-69 ปี",
           194
          ],
          [
           "60-69 ปี",
           80
          ],
          [
           "60-69 ปี",
           68
          ],
          [
           "60-69 ปี",
           151
          ],
          [
           "60-69 ปี",
           88
          ],
          [
           "60-69 ปี",
           54
          ],
          [
           "60-69 ปี",
           191
          ],
          [
           "60-69 ปี",
           205
          ],
          [
           "60-69 ปี",
           104
          ],
          [
           "60-69 ปี",
           173
          ],
          [
           "60-69 ปี",
           513
          ],
          [
           "60-69 ปี",
           81
          ],
          [
           "60-69 ปี",
           257
          ],
          [
           "60-69 ปี",
           200
          ],
          [
           "60-69 ปี",
           93
          ],
          [
           "60-69 ปี",
           88
          ],
          [
           "60-69 ปี",
           38
          ],
          [
           "60-69 ปี",
           197
          ],
          [
           "60-69 ปี",
           452
          ],
          [
           "60-69 ปี",
           4
          ],
          [
           "60-69 ปี",
           28
          ],
          [
           "60-69 ปี",
           545
          ],
          [
           "60-69 ปี",
           545
          ],
          [
           "60-69 ปี",
           72
          ],
          [
           "60-69 ปี",
           11
          ],
          [
           "60-69 ปี",
           35
          ],
          [
           "60-69 ปี",
           517
          ],
          [
           "60-69 ปี",
           38
          ],
          [
           "60-69 ปี",
           587
          ],
          [
           "60-69 ปี",
           30
          ],
          [
           "60-69 ปี",
           155
          ],
          [
           "60-69 ปี",
           220
          ],
          [
           "60-69 ปี",
           86
          ],
          [
           "60-69 ปี",
           220
          ],
          [
           "60-69 ปี",
           121
          ],
          [
           "60-69 ปี",
           13
          ],
          [
           "60-69 ปี",
           138
          ],
          [
           "60-69 ปี",
           36
          ],
          [
           "60-69 ปี",
           29
          ],
          [
           "60-69 ปี",
           125
          ],
          [
           "60-69 ปี",
           47
          ],
          [
           "60-69 ปี",
           1590
          ],
          [
           "60-69 ปี",
           80
          ],
          [
           "60-69 ปี",
           80
          ],
          [
           "60-69 ปี",
           19
          ],
          [
           "60-69 ปี",
           130
          ],
          [
           "60-69 ปี",
           228
          ],
          [
           "60-69 ปี",
           140
          ],
          [
           "60-69 ปี",
           774
          ],
          [
           "60-69 ปี",
           21
          ],
          [
           "60-69 ปี",
           194
          ],
          [
           "60-69 ปี",
           80
          ],
          [
           "60-69 ปี",
           68
          ],
          [
           "60-69 ปี",
           151
          ],
          [
           "60-69 ปี",
           88
          ],
          [
           "60-69 ปี",
           54
          ],
          [
           "60-69 ปี",
           191
          ],
          [
           "60-69 ปี",
           205
          ],
          [
           "60-69 ปี",
           104
          ],
          [
           "60-69 ปี",
           173
          ],
          [
           "60-69 ปี",
           513
          ],
          [
           "60-69 ปี",
           72
          ],
          [
           "60-69 ปี",
           257
          ],
          [
           "60-69 ปี",
           200
          ],
          [
           "60-69 ปี",
           93
          ],
          [
           "60-69 ปี",
           88
          ],
          [
           "60-69 ปี",
           54
          ],
          [
           "60-69 ปี",
           38
          ],
          [
           "60-69 ปี",
           197
          ],
          [
           "60-69 ปี",
           34
          ],
          [
           "60-69 ปี",
           452
          ],
          [
           "60-69 ปี",
           28
          ],
          [
           "60-69 ปี",
           545
          ],
          [
           "60-69 ปี",
           72
          ],
          [
           "60-69 ปี",
           40
          ],
          [
           "60-69 ปี",
           517
          ],
          [
           "60-69 ปี",
           38
          ],
          [
           "60-69 ปี",
           587
          ],
          [
           "60-69 ปี",
           30
          ],
          [
           "60-69 ปี",
           99
          ],
          [
           "60-69 ปี",
           155
          ],
          [
           "60-69 ปี",
           220
          ],
          [
           "60-69 ปี",
           20
          ],
          [
           "60-69 ปี",
           220
          ],
          [
           "60-69 ปี",
           22
          ],
          [
           "60-69 ปี",
           36
          ],
          [
           "60-69 ปี",
           5
          ],
          [
           "60-69 ปี",
           7
          ],
          [
           "60-69 ปี",
           121
          ],
          [
           "60-69 ปี",
           13
          ],
          [
           "60-69 ปี",
           138
          ],
          [
           "60-69 ปี",
           36
          ],
          [
           "60-69 ปี",
           125
          ],
          [
           "60-69 ปี",
           47
          ],
          [
           "60-69 ปี",
           14
          ],
          [
           "60-69 ปี",
           1590
          ],
          [
           "< 10 ปี",
           1590
          ],
          [
           "< 10 ปี",
           80
          ],
          [
           "< 10 ปี",
           26
          ],
          [
           "< 10 ปี",
           19
          ],
          [
           "< 10 ปี",
           130
          ],
          [
           "< 10 ปี",
           228
          ],
          [
           "< 10 ปี",
           140
          ],
          [
           "< 10 ปี",
           140
          ],
          [
           "< 10 ปี",
           774
          ],
          [
           "< 10 ปี",
           774
          ],
          [
           "< 10 ปี",
           774
          ],
          [
           "< 10 ปี",
           774
          ],
          [
           "< 10 ปี",
           21
          ],
          [
           "< 10 ปี",
           194
          ],
          [
           "< 10 ปี",
           194
          ],
          [
           "< 10 ปี",
           194
          ],
          [
           "< 10 ปี",
           80
          ],
          [
           "< 10 ปี",
           68
          ],
          [
           "< 10 ปี",
           68
          ],
          [
           "< 10 ปี",
           151
          ],
          [
           "< 10 ปี",
           151
          ],
          [
           "< 10 ปี",
           88
          ],
          [
           "< 10 ปี",
           54
          ],
          [
           "< 10 ปี",
           191
          ],
          [
           "< 10 ปี",
           205
          ],
          [
           "< 10 ปี",
           104
          ],
          [
           "< 10 ปี",
           173
          ],
          [
           "< 10 ปี",
           513
          ],
          [
           "< 10 ปี",
           81
          ],
          [
           "< 10 ปี",
           72
          ],
          [
           "< 10 ปี",
           257
          ],
          [
           "< 10 ปี",
           200
          ],
          [
           "< 10 ปี",
           93
          ],
          [
           "< 10 ปี",
           88
          ],
          [
           "< 10 ปี",
           54
          ],
          [
           "< 10 ปี",
           38
          ],
          [
           "< 10 ปี",
           197
          ],
          [
           "< 10 ปี",
           34
          ],
          [
           "< 10 ปี",
           452
          ],
          [
           "< 10 ปี",
           28
          ],
          [
           "< 10 ปี",
           545
          ],
          [
           "< 10 ปี",
           545
          ],
          [
           "< 10 ปี",
           545
          ],
          [
           "< 10 ปี",
           17
          ],
          [
           "< 10 ปี",
           72
          ],
          [
           "< 10 ปี",
           11
          ],
          [
           "< 10 ปี",
           40
          ],
          [
           "< 10 ปี",
           35
          ],
          [
           "< 10 ปี",
           517
          ],
          [
           "< 10 ปี",
           38
          ],
          [
           "< 10 ปี",
           587
          ],
          [
           "< 10 ปี",
           587
          ],
          [
           "< 10 ปี",
           99
          ],
          [
           "< 10 ปี",
           99
          ],
          [
           "< 10 ปี",
           155
          ],
          [
           "< 10 ปี",
           220
          ],
          [
           "< 10 ปี",
           20
          ],
          [
           "< 10 ปี",
           86
          ],
          [
           "< 10 ปี",
           220
          ],
          [
           "< 10 ปี",
           220
          ],
          [
           "< 10 ปี",
           36
          ],
          [
           "< 10 ปี",
           5
          ],
          [
           "< 10 ปี",
           7
          ],
          [
           "< 10 ปี",
           121
          ],
          [
           "< 10 ปี",
           13
          ],
          [
           "< 10 ปี",
           138
          ],
          [
           "< 10 ปี",
           36
          ],
          [
           "< 10 ปี",
           29
          ],
          [
           "< 10 ปี",
           59
          ],
          [
           "< 10 ปี",
           125
          ],
          [
           "< 10 ปี",
           125
          ],
          [
           "< 10 ปี",
           47
          ],
          [
           "< 10 ปี",
           42
          ],
          [
           "< 10 ปี",
           12
          ],
          [
           "< 10 ปี",
           1590
          ],
          [
           "< 10 ปี",
           1590
          ],
          [
           "< 10 ปี",
           80
          ],
          [
           "< 10 ปี",
           80
          ],
          [
           "< 10 ปี",
           19
          ],
          [
           "< 10 ปี",
           130
          ],
          [
           "< 10 ปี",
           228
          ],
          [
           "< 10 ปี",
           228
          ],
          [
           "< 10 ปี",
           228
          ],
          [
           "< 10 ปี",
           140
          ],
          [
           "< 10 ปี",
           140
          ],
          [
           "< 10 ปี",
           140
          ],
          [
           "< 10 ปี",
           774
          ],
          [
           "< 10 ปี",
           774
          ],
          [
           "< 10 ปี",
           774
          ],
          [
           "< 10 ปี",
           194
          ],
          [
           "< 10 ปี",
           194
          ],
          [
           "< 10 ปี",
           80
          ],
          [
           "< 10 ปี",
           68
          ],
          [
           "< 10 ปี",
           68
          ],
          [
           "< 10 ปี",
           151
          ],
          [
           "< 10 ปี",
           88
          ],
          [
           "< 10 ปี",
           88
          ],
          [
           "< 10 ปี",
           54
          ],
          [
           "< 10 ปี",
           191
          ],
          [
           "< 10 ปี",
           205
          ],
          [
           "< 10 ปี",
           104
          ],
          [
           "< 10 ปี",
           173
          ],
          [
           "< 10 ปี",
           513
          ],
          [
           "< 10 ปี",
           4
          ],
          [
           "< 10 ปี",
           81
          ],
          [
           "< 10 ปี",
           72
          ],
          [
           "< 10 ปี",
           257
          ],
          [
           "< 10 ปี",
           200
          ],
          [
           "< 10 ปี",
           93
          ],
          [
           "< 10 ปี",
           88
          ],
          [
           "< 10 ปี",
           54
          ],
          [
           "< 10 ปี",
           38
          ],
          [
           "< 10 ปี",
           197
          ],
          [
           "< 10 ปี",
           452
          ],
          [
           "< 10 ปี",
           545
          ],
          [
           "< 10 ปี",
           545
          ],
          [
           "< 10 ปี",
           17
          ],
          [
           "< 10 ปี",
           72
          ],
          [
           "< 10 ปี",
           40
          ],
          [
           "< 10 ปี",
           21
          ],
          [
           "< 10 ปี",
           35
          ],
          [
           "< 10 ปี",
           517
          ],
          [
           "< 10 ปี",
           517
          ],
          [
           "< 10 ปี",
           587
          ],
          [
           "< 10 ปี",
           30
          ],
          [
           "< 10 ปี",
           99
          ],
          [
           "< 10 ปี",
           155
          ],
          [
           "< 10 ปี",
           220
          ],
          [
           "< 10 ปี",
           20
          ],
          [
           "< 10 ปี",
           86
          ],
          [
           "< 10 ปี",
           220
          ],
          [
           "< 10 ปี",
           220
          ],
          [
           "< 10 ปี",
           36
          ],
          [
           "< 10 ปี",
           7
          ],
          [
           "< 10 ปี",
           13
          ],
          [
           "< 10 ปี",
           138
          ],
          [
           "< 10 ปี",
           36
          ],
          [
           "< 10 ปี",
           29
          ],
          [
           "< 10 ปี",
           59
          ],
          [
           "< 10 ปี",
           125
          ],
          [
           "< 10 ปี",
           47
          ],
          [
           "< 10 ปี",
           1590
          ],
          [
           "< 10 ปี",
           151
          ],
          [
           ">= 70 ปี",
           1590
          ],
          [
           ">= 70 ปี",
           1590
          ],
          [
           ">= 70 ปี",
           80
          ],
          [
           ">= 70 ปี",
           80
          ],
          [
           ">= 70 ปี",
           19
          ],
          [
           ">= 70 ปี",
           130
          ],
          [
           ">= 70 ปี",
           228
          ],
          [
           ">= 70 ปี",
           140
          ],
          [
           ">= 70 ปี",
           774
          ],
          [
           ">= 70 ปี",
           194
          ],
          [
           ">= 70 ปี",
           80
          ],
          [
           ">= 70 ปี",
           151
          ],
          [
           ">= 70 ปี",
           151
          ],
          [
           ">= 70 ปี",
           88
          ],
          [
           ">= 70 ปี",
           54
          ],
          [
           ">= 70 ปี",
           191
          ],
          [
           ">= 70 ปี",
           205
          ],
          [
           ">= 70 ปี",
           104
          ],
          [
           ">= 70 ปี",
           173
          ],
          [
           ">= 70 ปี",
           173
          ],
          [
           ">= 70 ปี",
           513
          ],
          [
           ">= 70 ปี",
           81
          ],
          [
           ">= 70 ปี",
           72
          ],
          [
           ">= 70 ปี",
           257
          ],
          [
           ">= 70 ปี",
           200
          ],
          [
           ">= 70 ปี",
           93
          ],
          [
           ">= 70 ปี",
           88
          ],
          [
           ">= 70 ปี",
           197
          ],
          [
           ">= 70 ปี",
           452
          ],
          [
           ">= 70 ปี",
           28
          ],
          [
           ">= 70 ปี",
           545
          ],
          [
           ">= 70 ปี",
           72
          ],
          [
           ">= 70 ปี",
           21
          ],
          [
           ">= 70 ปี",
           35
          ],
          [
           ">= 70 ปี",
           517
          ],
          [
           ">= 70 ปี",
           38
          ],
          [
           ">= 70 ปี",
           587
          ],
          [
           ">= 70 ปี",
           30
          ],
          [
           ">= 70 ปี",
           99
          ],
          [
           ">= 70 ปี",
           155
          ],
          [
           ">= 70 ปี",
           220
          ],
          [
           ">= 70 ปี",
           86
          ],
          [
           ">= 70 ปี",
           220
          ],
          [
           ">= 70 ปี",
           121
          ],
          [
           ">= 70 ปี",
           13
          ],
          [
           ">= 70 ปี",
           23
          ],
          [
           ">= 70 ปี",
           138
          ],
          [
           ">= 70 ปี",
           29
          ],
          [
           ">= 70 ปี",
           59
          ],
          [
           ">= 70 ปี",
           47
          ],
          [
           ">= 70 ปี",
           1590
          ],
          [
           ">= 70 ปี",
           80
          ],
          [
           ">= 70 ปี",
           19
          ],
          [
           ">= 70 ปี",
           130
          ],
          [
           ">= 70 ปี",
           228
          ],
          [
           ">= 70 ปี",
           140
          ],
          [
           ">= 70 ปี",
           774
          ],
          [
           ">= 70 ปี",
           21
          ],
          [
           ">= 70 ปี",
           194
          ],
          [
           ">= 70 ปี",
           80
          ],
          [
           ">= 70 ปี",
           151
          ],
          [
           ">= 70 ปี",
           151
          ],
          [
           ">= 70 ปี",
           88
          ],
          [
           ">= 70 ปี",
           54
          ],
          [
           ">= 70 ปี",
           191
          ],
          [
           ">= 70 ปี",
           205
          ],
          [
           ">= 70 ปี",
           104
          ],
          [
           ">= 70 ปี",
           173
          ],
          [
           ">= 70 ปี",
           513
          ],
          [
           ">= 70 ปี",
           81
          ],
          [
           ">= 70 ปี",
           257
          ],
          [
           ">= 70 ปี",
           200
          ],
          [
           ">= 70 ปี",
           93
          ],
          [
           ">= 70 ปี",
           88
          ],
          [
           ">= 70 ปี",
           54
          ],
          [
           ">= 70 ปี",
           38
          ],
          [
           ">= 70 ปี",
           197
          ],
          [
           ">= 70 ปี",
           34
          ],
          [
           ">= 70 ปี",
           452
          ],
          [
           ">= 70 ปี",
           28
          ],
          [
           ">= 70 ปี",
           545
          ],
          [
           ">= 70 ปี",
           17
          ],
          [
           ">= 70 ปี",
           72
          ],
          [
           ">= 70 ปี",
           40
          ],
          [
           ">= 70 ปี",
           35
          ],
          [
           ">= 70 ปี",
           517
          ],
          [
           ">= 70 ปี",
           38
          ],
          [
           ">= 70 ปี",
           587
          ],
          [
           ">= 70 ปี",
           30
          ],
          [
           ">= 70 ปี",
           99
          ],
          [
           ">= 70 ปี",
           155
          ],
          [
           ">= 70 ปี",
           220
          ],
          [
           ">= 70 ปี",
           86
          ],
          [
           ">= 70 ปี",
           220
          ],
          [
           ">= 70 ปี",
           220
          ],
          [
           ">= 70 ปี",
           22
          ],
          [
           ">= 70 ปี",
           121
          ],
          [
           ">= 70 ปี",
           23
          ],
          [
           ">= 70 ปี",
           138
          ],
          [
           ">= 70 ปี",
           36
          ],
          [
           ">= 70 ปี",
           125
          ],
          [
           ">= 70 ปี",
           1590
          ],
          [
           "ไม่ระบุ",
           161
          ],
          [
           "ไม่ระบุ",
           1590
          ],
          [
           "ไม่ระบุ",
           1590
          ],
          [
           "ไม่ระบุ",
           1590
          ],
          [
           "ไม่ระบุ",
           1590
          ],
          [
           "ไม่ระบุ",
           228
          ],
          [
           "ไม่ระบุ",
           24
          ],
          [
           "ไม่ระบุ",
           151
          ],
          [
           "ไม่ระบุ",
           54
          ],
          [
           "ไม่ระบุ",
           191
          ],
          [
           "ไม่ระบุ",
           191
          ],
          [
           "ไม่ระบุ",
           104
          ],
          [
           "ไม่ระบุ",
           173
          ],
          [
           "ไม่ระบุ",
           513
          ],
          [
           "ไม่ระบุ",
           48
          ],
          [
           "ไม่ระบุ",
           54
          ],
          [
           "ไม่ระบุ",
           197
          ],
          [
           "ไม่ระบุ",
           452
          ],
          [
           "ไม่ระบุ",
           282
          ],
          [
           "ไม่ระบุ",
           282
          ],
          [
           "ไม่ระบุ",
           40
          ],
          [
           "ไม่ระบุ",
           517
          ],
          [
           "ไม่ระบุ",
           86
          ],
          [
           "ไม่ระบุ",
           36
          ],
          [
           "ไม่ระบุ",
           121
          ],
          [
           "ไม่ระบุ",
           125
          ],
          [
           "ไม่ระบุ",
           14
          ],
          [
           "ไม่ระบุ",
           161
          ],
          [
           "ไม่ระบุ",
           1590
          ],
          [
           "ไม่ระบุ",
           1590
          ],
          [
           "ไม่ระบุ",
           1590
          ],
          [
           "ไม่ระบุ",
           1590
          ],
          [
           "ไม่ระบุ",
           1590
          ],
          [
           "ไม่ระบุ",
           24
          ],
          [
           "ไม่ระบุ",
           24
          ],
          [
           "ไม่ระบุ",
           151
          ],
          [
           "ไม่ระบุ",
           54
          ],
          [
           "ไม่ระบุ",
           191
          ],
          [
           "ไม่ระบุ",
           173
          ],
          [
           "ไม่ระบุ",
           513
          ],
          [
           "ไม่ระบุ",
           48
          ],
          [
           "ไม่ระบุ",
           200
          ],
          [
           "ไม่ระบุ",
           38
          ],
          [
           "ไม่ระบุ",
           197
          ],
          [
           "ไม่ระบุ",
           452
          ],
          [
           "ไม่ระบุ",
           282
          ],
          [
           "ไม่ระบุ",
           282
          ],
          [
           "ไม่ระบุ",
           282
          ],
          [
           "ไม่ระบุ",
           21
          ],
          [
           "ไม่ระบุ",
           38
          ],
          [
           "ไม่ระบุ",
           20
          ],
          [
           "ไม่ระบุ",
           86
          ],
          [
           "ไม่ระบุ",
           220
          ],
          [
           "ไม่ระบุ",
           121
          ],
          [
           "ไม่ระบุ",
           125
          ],
          [
           "ไม่ระบุ",
           47
          ],
          [
           "ไม่ระบุ",
           161
          ],
          [
           "ไม่ระบุ",
           161
          ],
          [
           "ไม่ระบุ",
           1590
          ],
          [
           "ไม่ระบุ",
           191
          ],
          [
           "ไม่ระบุ",
           191
          ],
          [
           "ไม่ระบุ",
           173
          ],
          [
           "ไม่ระบุ",
           513
          ],
          [
           "ไม่ระบุ",
           48
          ],
          [
           "ไม่ระบุ",
           36
          ],
          [
           "ไม่ระบุ",
           161
          ],
          [
           "(?)",
           1590
          ],
          [
           "(?)",
           1590
          ],
          [
           "50-59 ปี",
           1590
          ],
          [
           "(?)",
           1590
          ],
          [
           "30-39 ปี",
           1590
          ],
          [
           "(?)",
           1590
          ],
          [
           "40-49 ปี",
           1590
          ],
          [
           "(?)",
           1590
          ],
          [
           "40-49 ปี",
           1590
          ],
          [
           "50-59 ปี",
           1590
          ],
          [
           "(?)",
           1590
          ],
          [
           "60-69 ปี",
           1590
          ],
          [
           "(?)",
           1590
          ],
          [
           "(?)",
           1590
          ],
          [
           "(?)",
           80
          ],
          [
           "(?)",
           80
          ],
          [
           "(?)",
           26
          ],
          [
           "(?)",
           19
          ],
          [
           "(?)",
           19
          ],
          [
           "(?)",
           130
          ],
          [
           "10-19 ปี",
           228
          ],
          [
           "20-29 ปี",
           228
          ],
          [
           "(?)",
           228
          ],
          [
           "(?)",
           140
          ],
          [
           "30-39 ปี",
           140
          ],
          [
           "(?)",
           140
          ],
          [
           "(?)",
           774
          ],
          [
           "(?)",
           774
          ],
          [
           "(?)",
           774
          ],
          [
           "40-49 ปี",
           774
          ],
          [
           "40-49 ปี",
           774
          ],
          [
           "(?)",
           774
          ],
          [
           "(?)",
           774
          ],
          [
           "(?)",
           774
          ],
          [
           "(?)",
           21
          ],
          [
           "(?)",
           24
          ],
          [
           "(?)",
           194
          ],
          [
           "(?)",
           194
          ],
          [
           "< 10 ปี",
           194
          ],
          [
           "(?)",
           80
          ],
          [
           "(?)",
           68
          ],
          [
           "(?)",
           68
          ],
          [
           "(?)",
           68
          ],
          [
           "(?)",
           151
          ],
          [
           "(?)",
           151
          ],
          [
           "40-49 ปี",
           88
          ],
          [
           "(?)",
           88
          ],
          [
           "30-39 ปี",
           88
          ],
          [
           "(?)",
           54
          ],
          [
           "40-49 ปี",
           54
          ],
          [
           "(?)",
           54
          ],
          [
           "(?)",
           4
          ],
          [
           "(?)",
           191
          ],
          [
           "(?)",
           191
          ],
          [
           "(?)",
           205
          ],
          [
           "30-39 ปี",
           104
          ],
          [
           "40-49 ปี",
           104
          ],
          [
           "(?)",
           104
          ],
          [
           "(?)",
           173
          ],
          [
           "(?)",
           173
          ],
          [
           "(?)",
           173
          ],
          [
           ">= 70 ปี",
           173
          ],
          [
           "(?)",
           513
          ],
          [
           "(?)",
           513
          ],
          [
           "30-39 ปี",
           513
          ],
          [
           "50-59 ปี",
           4
          ],
          [
           "(?)",
           48
          ],
          [
           "(?)",
           81
          ],
          [
           "(?)",
           81
          ],
          [
           "(?)",
           72
          ],
          [
           "(?)",
           72
          ],
          [
           "(?)",
           72
          ],
          [
           "(?)",
           257
          ],
          [
           "(?)",
           257
          ],
          [
           "(?)",
           257
          ],
          [
           "(?)",
           200
          ],
          [
           "(?)",
           93
          ],
          [
           "(?)",
           88
          ],
          [
           "(?)",
           88
          ],
          [
           "(?)",
           54
          ],
          [
           "(?)",
           9
          ],
          [
           "(?)",
           38
          ],
          [
           "(?)",
           197
          ],
          [
           "(?)",
           197
          ],
          [
           "(?)",
           34
          ],
          [
           "50-59 ปี",
           8
          ],
          [
           "(?)",
           452
          ],
          [
           "(?)",
           4
          ],
          [
           "(?)",
           28
          ],
          [
           "(?)",
           545
          ],
          [
           "(?)",
           545
          ],
          [
           "50-59 ปี",
           545
          ],
          [
           "40-49 ปี",
           545
          ],
          [
           "(?)",
           545
          ],
          [
           "(?)",
           545
          ],
          [
           "ไม่ระบุ",
           282
          ],
          [
           "ไม่ระบุ",
           282
          ],
          [
           "(?)",
           17
          ],
          [
           "(?)",
           72
          ],
          [
           "(?)",
           11
          ],
          [
           "(?)",
           40
          ],
          [
           "(?)",
           21
          ],
          [
           "(?)",
           35
          ],
          [
           "(?)",
           517
          ],
          [
           "(?)",
           517
          ],
          [
           "(?)",
           38
          ],
          [
           "(?)",
           587
          ],
          [
           "(?)",
           587
          ],
          [
           "(?)",
           587
          ],
          [
           "(?)",
           30
          ],
          [
           "(?)",
           99
          ],
          [
           "< 10 ปี",
           99
          ],
          [
           "(?)",
           99
          ],
          [
           "(?)",
           99
          ],
          [
           "(?)",
           155
          ],
          [
           "(?)",
           220
          ],
          [
           "(?)",
           220
          ],
          [
           "(?)",
           20
          ],
          [
           "(?)",
           86
          ],
          [
           "30-39 ปี",
           86
          ],
          [
           "(?)",
           220
          ],
          [
           "(?)",
           220
          ],
          [
           "(?)",
           22
          ],
          [
           "(?)",
           36
          ],
          [
           "< 10 ปี",
           5
          ],
          [
           "(?)",
           7
          ],
          [
           "30-39 ปี",
           4
          ],
          [
           "(?)",
           121
          ],
          [
           "(?)",
           13
          ],
          [
           "10-19 ปี",
           23
          ],
          [
           "(?)",
           23
          ],
          [
           "(?)",
           138
          ],
          [
           "(?)",
           36
          ],
          [
           "60-69 ปี",
           29
          ],
          [
           "(?)",
           29
          ],
          [
           "(?)",
           59
          ],
          [
           "(?)",
           125
          ],
          [
           "(?)",
           125
          ],
          [
           "(?)",
           47
          ],
          [
           "(?)",
           42
          ],
          [
           "(?)",
           14
          ],
          [
           "(?)",
           12
          ],
          [
           "ไม่ระบุ",
           161
          ],
          [
           "(?)",
           1590
          ],
          [
           "(?)",
           1590
          ],
          [
           "< 10 ปี",
           1590
          ],
          [
           "30-39 ปี",
           1590
          ],
          [
           "(?)",
           1590
          ],
          [
           "(?)",
           1590
          ],
          [
           "(?)",
           1590
          ],
          [
           "(?)",
           80
          ],
          [
           "(?)",
           80
          ],
          [
           "(?)",
           26
          ],
          [
           "(?)",
           19
          ],
          [
           "(?)",
           130
          ],
          [
           "(?)",
           228
          ],
          [
           "(?)",
           228
          ],
          [
           "(?)",
           228
          ],
          [
           "(?)",
           140
          ],
          [
           "(?)",
           140
          ],
          [
           "(?)",
           140
          ],
          [
           "(?)",
           774
          ],
          [
           "(?)",
           774
          ],
          [
           "< 10 ปี",
           774
          ],
          [
           "(?)",
           774
          ],
          [
           "(?)",
           774
          ],
          [
           "(?)",
           774
          ],
          [
           "(?)",
           21
          ],
          [
           "ไม่ระบุ",
           24
          ],
          [
           "ไม่ระบุ",
           24
          ],
          [
           "(?)",
           194
          ],
          [
           "30-39 ปี",
           194
          ],
          [
           "(?)",
           194
          ],
          [
           "(?)",
           80
          ],
          [
           "30-39 ปี",
           68
          ],
          [
           "(?)",
           68
          ],
          [
           "(?)",
           68
          ],
          [
           "(?)",
           151
          ],
          [
           "(?)",
           151
          ],
          [
           "40-49 ปี",
           88
          ],
          [
           "(?)",
           88
          ],
          [
           "< 10 ปี",
           88
          ],
          [
           "20-29 ปี",
           54
          ],
          [
           "(?)",
           54
          ],
          [
           "20-29 ปี",
           4
          ],
          [
           "(?)",
           191
          ],
          [
           "(?)",
           191
          ],
          [
           "(?)",
           205
          ],
          [
           "(?)",
           104
          ],
          [
           "(?)",
           104
          ],
          [
           "(?)",
           173
          ],
          [
           "(?)",
           173
          ],
          [
           "30-39 ปี",
           173
          ],
          [
           "30-39 ปี",
           513
          ],
          [
           "(?)",
           513
          ],
          [
           "(?)",
           4
          ],
          [
           "ไม่ระบุ",
           48
          ],
          [
           "(?)",
           81
          ],
          [
           "30-39 ปี",
           81
          ],
          [
           "(?)",
           81
          ],
          [
           "30-39 ปี",
           81
          ],
          [
           "(?)",
           72
          ],
          [
           "(?)",
           72
          ],
          [
           "40-49 ปี",
           257
          ],
          [
           "(?)",
           257
          ],
          [
           "20-29 ปี",
           257
          ],
          [
           "(?)",
           257
          ],
          [
           "(?)",
           200
          ],
          [
           "20-29 ปี",
           93
          ],
          [
           "(?)",
           93
          ],
          [
           "40-49 ปี",
           88
          ],
          [
           "(?)",
           88
          ],
          [
           "(?)",
           54
          ],
          [
           "(?)",
           9
          ],
          [
           "(?)",
           38
          ],
          [
           "20-29 ปี",
           197
          ],
          [
           "50-59 ปี",
           197
          ],
          [
           "(?)",
           197
          ],
          [
           "(?)",
           34
          ],
          [
           "(?)",
           8
          ],
          [
           "(?)",
           452
          ],
          [
           "(?)",
           28
          ],
          [
           "(?)",
           545
          ],
          [
           "(?)",
           545
          ],
          [
           "(?)",
           545
          ],
          [
           "ไม่ระบุ",
           282
          ],
          [
           "ไม่ระบุ",
           282
          ],
          [
           "ไม่ระบุ",
           282
          ],
          [
           "(?)",
           17
          ],
          [
           "(?)",
           72
          ],
          [
           "(?)",
           11
          ],
          [
           "(?)",
           40
          ],
          [
           "(?)",
           21
          ],
          [
           "20-29 ปี",
           35
          ],
          [
           "(?)",
           35
          ],
          [
           "(?)",
           517
          ],
          [
           "(?)",
           517
          ],
          [
           "(?)",
           38
          ],
          [
           "(?)",
           587
          ],
          [
           "(?)",
           587
          ],
          [
           "20-29 ปี",
           587
          ],
          [
           "(?)",
           587
          ],
          [
           "(?)",
           30
          ],
          [
           "(?)",
           99
          ],
          [
           "30-39 ปี",
           99
          ],
          [
           "(?)",
           99
          ],
          [
           "20-29 ปี",
           155
          ],
          [
           "(?)",
           155
          ],
          [
           "20-29 ปี",
           220
          ],
          [
           "(?)",
           220
          ],
          [
           "(?)",
           20
          ],
          [
           "(?)",
           86
          ],
          [
           "(?)",
           220
          ],
          [
           ">= 70 ปี",
           220
          ],
          [
           "(?)",
           220
          ],
          [
           "(?)",
           22
          ],
          [
           "(?)",
           36
          ],
          [
           "(?)",
           5
          ],
          [
           "(?)",
           7
          ],
          [
           "(?)",
           4
          ],
          [
           "(?)",
           121
          ],
          [
           "(?)",
           13
          ],
          [
           "(?)",
           23
          ],
          [
           "(?)",
           23
          ],
          [
           "20-29 ปี",
           138
          ],
          [
           "(?)",
           138
          ],
          [
           "(?)",
           36
          ],
          [
           "40-49 ปี",
           36
          ],
          [
           "(?)",
           29
          ],
          [
           "(?)",
           59
          ],
          [
           "20-29 ปี",
           125
          ],
          [
           "20-29 ปี",
           125
          ],
          [
           "(?)",
           125
          ],
          [
           "(?)",
           47
          ],
          [
           "(?)",
           42
          ],
          [
           "(?)",
           14
          ],
          [
           "(?)",
           12
          ],
          [
           "ไม่ระบุ",
           161
          ],
          [
           "ไม่ระบุ",
           161
          ],
          [
           "(?)",
           1590
          ],
          [
           "(?)",
           151
          ],
          [
           "50-59 ปี",
           151
          ],
          [
           "ไม่ระบุ",
           191
          ],
          [
           "ไม่ระบุ",
           191
          ],
          [
           "ไม่ระบุ",
           173
          ],
          [
           "ไม่ระบุ",
           513
          ],
          [
           "ไม่ระบุ",
           48
          ],
          [
           "ไม่ระบุ",
           36
          ],
          [
           "ไม่ระบุ",
           161
          ],
          [
           "ไม่ระบุ",
           161
          ],
          [
           "(?)",
           1590
          ],
          [
           "(?)",
           1590
          ],
          [
           "50-59 ปี",
           1590
          ],
          [
           "(?)",
           1590
          ],
          [
           "(?)",
           1590
          ],
          [
           "30-39 ปี",
           1590
          ],
          [
           "(?)",
           1590
          ],
          [
           "(?)",
           1590
          ],
          [
           "(?)",
           1590
          ],
          [
           "40-49 ปี",
           1590
          ],
          [
           "50-59 ปี",
           1590
          ],
          [
           "(?)",
           1590
          ],
          [
           "60-69 ปี",
           1590
          ],
          [
           "(?)",
           1590
          ],
          [
           "(?)",
           1590
          ],
          [
           "(?)",
           80
          ],
          [
           "(?)",
           80
          ],
          [
           "(?)",
           26
          ],
          [
           "(?)",
           19
          ],
          [
           "(?)",
           19
          ],
          [
           "(?)",
           130
          ],
          [
           "(?)",
           228
          ],
          [
           "(?)",
           228
          ],
          [
           "(?)",
           228
          ],
          [
           "(?)",
           140
          ],
          [
           "(?)",
           140
          ],
          [
           "(?)",
           140
          ],
          [
           "(?)",
           774
          ],
          [
           "(?)",
           774
          ],
          [
           "(?)",
           774
          ],
          [
           "(?)",
           774
          ],
          [
           "40-49 ปี",
           774
          ],
          [
           "(?)",
           774
          ],
          [
           "(?)",
           774
          ],
          [
           "(?)",
           774
          ],
          [
           "(?)",
           21
          ],
          [
           "(?)",
           24
          ],
          [
           "ไม่ระบุ",
           24
          ],
          [
           "(?)",
           194
          ],
          [
           "30-39 ปี",
           194
          ],
          [
           "(?)",
           194
          ],
          [
           "< 10 ปี",
           194
          ],
          [
           "(?)",
           80
          ],
          [
           "(?)",
           68
          ],
          [
           "(?)",
           68
          ],
          [
           "(?)",
           68
          ],
          [
           "(?)",
           151
          ],
          [
           "(?)",
           151
          ],
          [
           "50-59 ปี",
           151
          ],
          [
           "40-49 ปี",
           88
          ],
          [
           "(?)",
           88
          ],
          [
           "(?)",
           88
          ],
          [
           "(?)",
           54
          ],
          [
           "40-49 ปี",
           54
          ],
          [
           "(?)",
           54
          ],
          [
           "(?)",
           4
          ],
          [
           "(?)",
           191
          ],
          [
           "(?)",
           191
          ],
          [
           "(?)",
           205
          ],
          [
           "(?)",
           104
          ],
          [
           "40-49 ปี",
           104
          ],
          [
           "(?)",
           104
          ],
          [
           "(?)",
           173
          ],
          [
           "(?)",
           173
          ],
          [
           "(?)",
           173
          ],
          [
           ">= 70 ปี",
           173
          ],
          [
           "ไม่ระบุ",
           173
          ],
          [
           "(?)",
           513
          ],
          [
           "(?)",
           513
          ],
          [
           "(?)",
           513
          ],
          [
           "(?)",
           4
          ],
          [
           "(?)",
           48
          ],
          [
           "(?)",
           81
          ],
          [
           "30-39 ปี",
           81
          ],
          [
           "(?)",
           81
          ],
          [
           "30-39 ปี",
           81
          ],
          [
           "(?)",
           72
          ],
          [
           "(?)",
           72
          ],
          [
           "(?)",
           72
          ],
          [
           "(?)",
           257
          ],
          [
           "(?)",
           257
          ],
          [
           "20-29 ปี",
           257
          ],
          [
           "(?)",
           257
          ],
          [
           "(?)",
           200
          ],
          [
           "20-29 ปี",
           93
          ],
          [
           "(?)",
           93
          ],
          [
           "(?)",
           88
          ],
          [
           "(?)",
           88
          ],
          [
           "(?)",
           54
          ],
          [
           "(?)",
           9
          ],
          [
           "(?)",
           38
          ],
          [
           "20-29 ปี",
           197
          ],
          [
           "50-59 ปี",
           197
          ],
          [
           "(?)",
           197
          ],
          [
           "(?)",
           197
          ],
          [
           "(?)",
           34
          ],
          [
           "(?)",
           8
          ],
          [
           "(?)",
           452
          ],
          [
           "(?)",
           4
          ],
          [
           "(?)",
           28
          ],
          [
           "(?)",
           545
          ],
          [
           "(?)",
           545
          ],
          [
           "50-59 ปี",
           545
          ],
          [
           "40-49 ปี",
           545
          ],
          [
           "(?)",
           545
          ],
          [
           "(?)",
           545
          ],
          [
           "ไม่ระบุ",
           282
          ],
          [
           "ไม่ระบุ",
           282
          ],
          [
           "ไม่ระบุ",
           282
          ],
          [
           "(?)",
           17
          ],
          [
           "(?)",
           72
          ],
          [
           "(?)",
           11
          ],
          [
           "(?)",
           40
          ],
          [
           "(?)",
           21
          ],
          [
           "20-29 ปี",
           35
          ],
          [
           "(?)",
           35
          ],
          [
           "(?)",
           517
          ],
          [
           "(?)",
           517
          ],
          [
           "(?)",
           38
          ],
          [
           "(?)",
           587
          ],
          [
           "(?)",
           587
          ],
          [
           "20-29 ปี",
           587
          ],
          [
           "(?)",
           587
          ],
          [
           "(?)",
           30
          ],
          [
           "(?)",
           99
          ],
          [
           "(?)",
           99
          ],
          [
           "(?)",
           99
          ],
          [
           "(?)",
           99
          ],
          [
           "20-29 ปี",
           155
          ],
          [
           "(?)",
           155
          ],
          [
           "20-29 ปี",
           220
          ],
          [
           "(?)",
           220
          ],
          [
           "(?)",
           220
          ],
          [
           "(?)",
           20
          ],
          [
           "(?)",
           86
          ],
          [
           "30-39 ปี",
           86
          ],
          [
           "(?)",
           220
          ],
          [
           ">= 70 ปี",
           220
          ],
          [
           "(?)",
           220
          ],
          [
           "(?)",
           22
          ],
          [
           "(?)",
           36
          ],
          [
           "(?)",
           5
          ],
          [
           "(?)",
           7
          ],
          [
           "(?)",
           4
          ],
          [
           "(?)",
           121
          ],
          [
           "(?)",
           13
          ],
          [
           "10-19 ปี",
           23
          ],
          [
           "(?)",
           23
          ],
          [
           "(?)",
           23
          ],
          [
           "20-29 ปี",
           138
          ],
          [
           "(?)",
           138
          ],
          [
           "(?)",
           36
          ],
          [
           "40-49 ปี",
           36
          ],
          [
           "60-69 ปี",
           29
          ],
          [
           "(?)",
           29
          ],
          [
           "(?)",
           59
          ],
          [
           "(?)",
           125
          ],
          [
           "20-29 ปี",
           125
          ],
          [
           "(?)",
           125
          ],
          [
           "(?)",
           47
          ],
          [
           "(?)",
           42
          ],
          [
           "(?)",
           14
          ],
          [
           "(?)",
           12
          ],
          [
           "(?)",
           1590
          ],
          [
           "(?)",
           1590
          ],
          [
           "50-59 ปี",
           1590
          ],
          [
           "(?)",
           1106.1500499431384
          ],
          [
           "(?)",
           718.082301768938
          ],
          [
           "30-39 ปี",
           1590
          ],
          [
           "50-59 ปี",
           545
          ],
          [
           "(?)",
           1265.7265118790497
          ],
          [
           "(?)",
           1590
          ],
          [
           "40-49 ปี",
           54
          ],
          [
           "50-59 ปี",
           197
          ],
          [
           "(?)",
           774
          ],
          [
           "(?)",
           1566.0915841584158
          ],
          [
           "40-49 ปี",
           1322.8324873096446
          ],
          [
           "50-59 ปี",
           1590
          ],
          [
           "(?)",
           1308.5134938946933
          ],
          [
           ">= 70 ปี",
           220
          ],
          [
           "60-69 ปี",
           1590
          ],
          [
           "(?)",
           983.7396558719494
          ],
          [
           "(?)",
           140.54520037278658
          ],
          [
           ">= 70 ปี",
           173
          ],
          [
           "(?)",
           1388.558298524088
          ]
         ],
         "domain": {
          "x": [
           0,
           1
          ],
          "y": [
           0,
           1
          ]
         },
         "hovertemplate": "labels=%{label}<br>coun_people_sum=%{value}<br>parent=%{parent}<br>id=%{id}<br>age_range=%{customdata[0]}<br>coun_people=%{color}<extra></extra>",
         "ids": [
          "Burmese/กรุงเทพมหานคร/ชาย/10-19 ปี",
          "Thai/กรุงเทพมหานคร/ชาย/10-19 ปี",
          "Thai/กาญจนบุรี/ชาย/10-19 ปี",
          "อื่น ๆ/กาฬสินธุ์/ชาย/10-19 ปี",
          "อื่น ๆ/ขอนแก่น/ชาย/10-19 ปี",
          "Burmese/จันทบุรี/ชาย/10-19 ปี",
          "Thai/จันทบุรี/ชาย/10-19 ปี",
          "Cambodian/ฉะเชิงเทรา/ชาย/10-19 ปี",
          "Thai/ฉะเชิงเทรา/ชาย/10-19 ปี",
          "Burmese/ชลบุรี/ชาย/10-19 ปี",
          "Cambodian/ชลบุรี/ชาย/10-19 ปี",
          "Thai/ชลบุรี/ชาย/10-19 ปี",
          "Thai/ชัยนาท/ชาย/10-19 ปี",
          "Burmese/ชุมพร/ชาย/10-19 ปี",
          "Thai/ชุมพร/ชาย/10-19 ปี",
          "Thai/ตรัง/ชาย/10-19 ปี",
          "Burmese/ตราด/ชาย/10-19 ปี",
          "Thai/ตราด/ชาย/10-19 ปี",
          "Burmese/ตาก/ชาย/10-19 ปี",
          "Thai/ตาก/ชาย/10-19 ปี",
          "Thai/นครนายก/ชาย/10-19 ปี",
          "Thai/นครปฐม/ชาย/10-19 ปี",
          "Thai/นครพนม/ชาย/10-19 ปี",
          "Thai/นครราชสีมา/ชาย/10-19 ปี",
          "Thai/นครศรีธรรมราช/ชาย/10-19 ปี",
          "Thai/นครสวรรค์/ชาย/10-19 ปี",
          "Thai/นนทบุรี/ชาย/10-19 ปี",
          "Thai/นราธิวาส/ชาย/10-19 ปี",
          "Thai/ปทุมธานี/ชาย/10-19 ปี",
          "Burmese/ประจวบคีรีขันธ์/ชาย/10-19 ปี",
          "Thai/ประจวบคีรีขันธ์/ชาย/10-19 ปี",
          "Thai/ปราจีนบุรี/ชาย/10-19 ปี",
          "Thai/ปัตตานี/ชาย/10-19 ปี",
          "Thai/พระนครศรีอยุธยา/ชาย/10-19 ปี",
          "Thai/พังงา/ชาย/10-19 ปี",
          "Thai/พัทลุง/ชาย/10-19 ปี",
          "Thai/พิจิตร/ชาย/10-19 ปี",
          "Thai/ภูเก็ต/ชาย/10-19 ปี",
          "อื่น ๆ/มหาสารคาม/ชาย/10-19 ปี",
          "Thai/ยะลา/ชาย/10-19 ปี",
          "Thai/ยโสธร/ชาย/10-19 ปี",
          "Thai/ระนอง/ชาย/10-19 ปี",
          "Burmese/ระยอง/ชาย/10-19 ปี",
          "Thai/ระยอง/ชาย/10-19 ปี",
          "อื่น ๆ/ร้อยเอ็ด/ชาย/10-19 ปี",
          "Thai/ลพบุรี/ชาย/10-19 ปี",
          "Thai/ศรีสะเกษ/ชาย/10-19 ปี",
          "อื่น ๆ/สกลนคร/ชาย/10-19 ปี",
          "Thai/สงขลา/ชาย/10-19 ปี",
          "Thai/สตูล/ชาย/10-19 ปี",
          "Cambodian/สมุทรปราการ/ชาย/10-19 ปี",
          "Thai/สมุทรปราการ/ชาย/10-19 ปี",
          "Thai/สมุทรสงคราม/ชาย/10-19 ปี",
          "Thai/สมุทรสาคร/ชาย/10-19 ปี",
          "Thai/สระบุรี/ชาย/10-19 ปี",
          "Thai/สระแก้ว/ชาย/10-19 ปี",
          "Thai/สิงห์บุรี/ชาย/10-19 ปี",
          "Thai/สุพรรณบุรี/ชาย/10-19 ปี",
          "Thai/สุราษฎร์ธานี/ชาย/10-19 ปี",
          "Thai/สุโขทัย/ชาย/10-19 ปี",
          "Thai/หนองบัวลำภู/ชาย/10-19 ปี",
          "Thai/อุดรธานี/ชาย/10-19 ปี",
          "Thai/อุตรดิตถ์/ชาย/10-19 ปี",
          "Cambodian/อุทัยธานี/ชาย/10-19 ปี",
          "Thai/อุทัยธานี/ชาย/10-19 ปี",
          "Thai/อุบลราชธานี/ชาย/10-19 ปี",
          "Thai/อ่างทอง/ชาย/10-19 ปี",
          "อื่น ๆ/เชียงราย/ชาย/10-19 ปี",
          "อื่น ๆ/เชียงใหม่/ชาย/10-19 ปี",
          "Thai/เพชรบุรี/ชาย/10-19 ปี",
          "Thai/เพชรบูรณ์/ชาย/10-19 ปี",
          "Thai/เลย/ชาย/10-19 ปี",
          "Thai/แพร่/ชาย/10-19 ปี",
          "Thai/แม่ฮ่องสอน/ชาย/10-19 ปี",
          "Thai/กรุงเทพมหานคร/หญิง/10-19 ปี",
          "อื่น ๆ/กรุงเทพมหานคร/หญิง/10-19 ปี",
          "Thai/กาญจนบุรี/หญิง/10-19 ปี",
          "อื่น ๆ/กาฬสินธุ์/หญิง/10-19 ปี",
          "อื่น ๆ/ขอนแก่น/หญิง/10-19 ปี",
          "Burmese/จันทบุรี/หญิง/10-19 ปี",
          "Cambodian/จันทบุรี/หญิง/10-19 ปี",
          "Thai/จันทบุรี/หญิง/10-19 ปี",
          "Thai/ฉะเชิงเทรา/หญิง/10-19 ปี",
          "Burmese/ชลบุรี/หญิง/10-19 ปี",
          "Laotian / Lao/ชลบุรี/หญิง/10-19 ปี",
          "Thai/ชลบุรี/หญิง/10-19 ปี",
          "อื่น ๆ/ชลบุรี/หญิง/10-19 ปี",
          "Thai/ชัยนาท/หญิง/10-19 ปี",
          "Burmese/ชุมพร/หญิง/10-19 ปี",
          "Thai/ชุมพร/หญิง/10-19 ปี",
          "Thai/ตรัง/หญิง/10-19 ปี",
          "Thai/ตราด/หญิง/10-19 ปี",
          "Burmese/ตาก/หญิง/10-19 ปี",
          "Thai/ตาก/หญิง/10-19 ปี",
          "Thai/นครนายก/หญิง/10-19 ปี",
          "Thai/นครราชสีมา/หญิง/10-19 ปี",
          "Thai/นครศรีธรรมราช/หญิง/10-19 ปี",
          "Burmese/นครสวรรค์/หญิง/10-19 ปี",
          "Thai/นครสวรรค์/หญิง/10-19 ปี",
          "Thai/นนทบุรี/หญิง/10-19 ปี",
          "Thai/นราธิวาส/หญิง/10-19 ปี",
          "Thai/ปทุมธานี/หญิง/10-19 ปี",
          "Burmese/ประจวบคีรีขันธ์/หญิง/10-19 ปี",
          "Thai/ประจวบคีรีขันธ์/หญิง/10-19 ปี",
          "Thai/ปราจีนบุรี/หญิง/10-19 ปี",
          "Thai/ปัตตานี/หญิง/10-19 ปี",
          "Thai/พระนครศรีอยุธยา/หญิง/10-19 ปี",
          "Thai/พังงา/หญิง/10-19 ปี",
          "Thai/พัทลุง/หญิง/10-19 ปี",
          "Thai/พิจิตร/หญิง/10-19 ปี",
          "Thai/พิษณุโลก/หญิง/10-19 ปี",
          "Thai/ภูเก็ต/หญิง/10-19 ปี",
          "อื่น ๆ/มหาสารคาม/หญิง/10-19 ปี",
          "Thai/ยะลา/หญิง/10-19 ปี",
          "Thai/ระยอง/หญิง/10-19 ปี",
          "อื่น ๆ/ร้อยเอ็ด/หญิง/10-19 ปี",
          "Thai/ลพบุรี/หญิง/10-19 ปี",
          "Thai/ลำปาง/หญิง/10-19 ปี",
          "อื่น ๆ/ลำพูน/หญิง/10-19 ปี",
          "Thai/ศรีสะเกษ/หญิง/10-19 ปี",
          "Thai/สงขลา/หญิง/10-19 ปี",
          "Burmese/สมุทรปราการ/หญิง/10-19 ปี",
          "Cambodian/สมุทรปราการ/หญิง/10-19 ปี",
          "Thai/สมุทรปราการ/หญิง/10-19 ปี",
          "Thai/สมุทรสงคราม/หญิง/10-19 ปี",
          "Thai/สมุทรสาคร/หญิง/10-19 ปี",
          "Thai/สระบุรี/หญิง/10-19 ปี",
          "Thai/สระแก้ว/หญิง/10-19 ปี",
          "Thai/สุพรรณบุรี/หญิง/10-19 ปี",
          "Burmese/สุราษฎร์ธานี/หญิง/10-19 ปี",
          "Thai/สุราษฎร์ธานี/หญิง/10-19 ปี",
          "Thai/สุโขทัย/หญิง/10-19 ปี",
          "Thai/อุดรธานี/หญิง/10-19 ปี",
          "Thai/อุตรดิตถ์/หญิง/10-19 ปี",
          "Thai/อุทัยธานี/หญิง/10-19 ปี",
          "อื่น ๆ/อุทัยธานี/หญิง/10-19 ปี",
          "Thai/อุบลราชธานี/หญิง/10-19 ปี",
          "Thai/อ่างทอง/หญิง/10-19 ปี",
          "อื่น ๆ/เชียงราย/หญิง/10-19 ปี",
          "อื่น ๆ/เชียงใหม่/หญิง/10-19 ปี",
          "Thai/เพชรบุรี/หญิง/10-19 ปี",
          "Thai/เพชรบูรณ์/หญิง/10-19 ปี",
          "Thai/เลย/หญิง/10-19 ปี",
          "Thai/แพร่/หญิง/10-19 ปี",
          "Thai/แม่ฮ่องสอน/หญิง/10-19 ปี",
          "อื่น ๆ/กรุงเทพมหานคร/ไม่ระบุ/10-19 ปี",
          "Bangladeshi/กรุงเทพมหานคร/ชาย/20-29 ปี",
          "Burmese/กรุงเทพมหานคร/ชาย/20-29 ปี",
          "Chinese/กรุงเทพมหานคร/ชาย/20-29 ปี",
          "Laotian / Lao/กรุงเทพมหานคร/ชาย/20-29 ปี",
          "Thai/กรุงเทพมหานคร/ชาย/20-29 ปี",
          "อื่น ๆ/กรุงเทพมหานคร/ชาย/20-29 ปี",
          "Burmese/กาญจนบุรี/ชาย/20-29 ปี",
          "Thai/กาญจนบุรี/ชาย/20-29 ปี",
          "อื่น ๆ/กาฬสินธุ์/ชาย/20-29 ปี",
          "อื่น ๆ/ขอนแก่น/ชาย/20-29 ปี",
          "Cambodian/จันทบุรี/ชาย/20-29 ปี",
          "Thai/จันทบุรี/ชาย/20-29 ปี",
          "Cambodian/ฉะเชิงเทรา/ชาย/20-29 ปี",
          "Thai/ฉะเชิงเทรา/ชาย/20-29 ปี",
          "Burmese/ชลบุรี/ชาย/20-29 ปี",
          "Cambodian/ชลบุรี/ชาย/20-29 ปี",
          "Chinese/ชลบุรี/ชาย/20-29 ปี",
          "Laotian / Lao/ชลบุรี/ชาย/20-29 ปี",
          "Thai/ชลบุรี/ชาย/20-29 ปี",
          "อื่น ๆ/ชลบุรี/ชาย/20-29 ปี",
          "Thai/ชัยนาท/ชาย/20-29 ปี",
          "Burmese/ชุมพร/ชาย/20-29 ปี",
          "Thai/ชุมพร/ชาย/20-29 ปี",
          "Thai/ตรัง/ชาย/20-29 ปี",
          "Thai/ตราด/ชาย/20-29 ปี",
          "Burmese/ตาก/ชาย/20-29 ปี",
          "Thai/ตาก/ชาย/20-29 ปี",
          "Thai/นครนายก/ชาย/20-29 ปี",
          "Burmese/นครปฐม/ชาย/20-29 ปี",
          "Thai/นครปฐม/ชาย/20-29 ปี",
          "Thai/นครราชสีมา/ชาย/20-29 ปี",
          "อื่น ๆ/นครราชสีมา/ชาย/20-29 ปี",
          "Thai/นครศรีธรรมราช/ชาย/20-29 ปี",
          "Thai/นครสวรรค์/ชาย/20-29 ปี",
          "Burmese/นนทบุรี/ชาย/20-29 ปี",
          "Thai/นนทบุรี/ชาย/20-29 ปี",
          "cambodian/นนทบุรี/ชาย/20-29 ปี",
          "Burmese/นราธิวาส/ชาย/20-29 ปี",
          "Thai/นราธิวาส/ชาย/20-29 ปี",
          "อื่น ๆ/บุรีรัมย์/ชาย/20-29 ปี",
          "Burmese/ปทุมธานี/ชาย/20-29 ปี",
          "Thai/ปทุมธานี/ชาย/20-29 ปี",
          "Burmese/ประจวบคีรีขันธ์/ชาย/20-29 ปี",
          "Cambodian/ประจวบคีรีขันธ์/ชาย/20-29 ปี",
          "Thai/ประจวบคีรีขันธ์/ชาย/20-29 ปี",
          "Burmese/ปราจีนบุรี/ชาย/20-29 ปี",
          "Cambodian/ปราจีนบุรี/ชาย/20-29 ปี",
          "Thai/ปราจีนบุรี/ชาย/20-29 ปี",
          "Thai/ปัตตานี/ชาย/20-29 ปี",
          "Thai/พระนครศรีอยุธยา/ชาย/20-29 ปี",
          "Thai/พังงา/ชาย/20-29 ปี",
          "Thai/พัทลุง/ชาย/20-29 ปี",
          "Thai/พิษณุโลก/ชาย/20-29 ปี",
          "Thai/ภูเก็ต/ชาย/20-29 ปี",
          "อื่น ๆ/มหาสารคาม/ชาย/20-29 ปี",
          "Thai/ยะลา/ชาย/20-29 ปี",
          "Thai/ระนอง/ชาย/20-29 ปี",
          "Cambodian/ระยอง/ชาย/20-29 ปี",
          "Thai/ระยอง/ชาย/20-29 ปี",
          "Thai/ลพบุรี/ชาย/20-29 ปี",
          "Thai/ลำปาง/ชาย/20-29 ปี",
          "อื่น ๆ/ลำพูน/ชาย/20-29 ปี",
          "Thai/ศรีสะเกษ/ชาย/20-29 ปี",
          "อื่น ๆ/สกลนคร/ชาย/20-29 ปี",
          "Burmese/สงขลา/ชาย/20-29 ปี",
          "Thai/สงขลา/ชาย/20-29 ปี",
          "Thai/สตูล/ชาย/20-29 ปี",
          "Burmese/สมุทรปราการ/ชาย/20-29 ปี",
          "Cambodian/สมุทรปราการ/ชาย/20-29 ปี",
          "Thai/สมุทรปราการ/ชาย/20-29 ปี",
          "Thai/สมุทรสงคราม/ชาย/20-29 ปี",
          "Burmese/สมุทรสาคร/ชาย/20-29 ปี",
          "Thai/สมุทรสาคร/ชาย/20-29 ปี",
          "Thai/สระบุรี/ชาย/20-29 ปี",
          "Thai/สระแก้ว/ชาย/20-29 ปี",
          "อื่น ๆ/สระแก้ว/ชาย/20-29 ปี",
          "Thai/สิงห์บุรี/ชาย/20-29 ปี",
          "Thai/สุพรรณบุรี/ชาย/20-29 ปี",
          "Burmese/สุราษฎร์ธานี/ชาย/20-29 ปี",
          "Thai/สุราษฎร์ธานี/ชาย/20-29 ปี",
          "Thai/สุรินทร์/ชาย/20-29 ปี",
          "Thai/สุโขทัย/ชาย/20-29 ปี",
          "Thai/อุดรธานี/ชาย/20-29 ปี",
          "Thai/อุทัยธานี/ชาย/20-29 ปี",
          "Thai/อุบลราชธานี/ชาย/20-29 ปี",
          "Thai/อ่างทอง/ชาย/20-29 ปี",
          "อื่น ๆ/เชียงราย/ชาย/20-29 ปี",
          "อื่น ๆ/เชียงใหม่/ชาย/20-29 ปี",
          "Burmese/เพชรบุรี/ชาย/20-29 ปี",
          "Thai/เพชรบุรี/ชาย/20-29 ปี",
          "Thai/เพชรบูรณ์/ชาย/20-29 ปี",
          "Thai/แพร่/ชาย/20-29 ปี",
          "Burmese/กรุงเทพมหานคร/หญิง/20-29 ปี",
          "Cambodian/กรุงเทพมหานคร/หญิง/20-29 ปี",
          "Laotian / Lao/กรุงเทพมหานคร/หญิง/20-29 ปี",
          "Thai/กรุงเทพมหานคร/หญิง/20-29 ปี",
          "อื่น ๆ/กรุงเทพมหานคร/หญิง/20-29 ปี",
          "Burmese/กาญจนบุรี/หญิง/20-29 ปี",
          "Thai/กาญจนบุรี/หญิง/20-29 ปี",
          "อื่น ๆ/กาฬสินธุ์/หญิง/20-29 ปี",
          "อื่น ๆ/ขอนแก่น/หญิง/20-29 ปี",
          "Cambodian/จันทบุรี/หญิง/20-29 ปี",
          "Thai/จันทบุรี/หญิง/20-29 ปี",
          "Cambodian/ฉะเชิงเทรา/หญิง/20-29 ปี",
          "Laotian / Lao/ฉะเชิงเทรา/หญิง/20-29 ปี",
          "Thai/ฉะเชิงเทรา/หญิง/20-29 ปี",
          "Burmese/ชลบุรี/หญิง/20-29 ปี",
          "Cambodian/ชลบุรี/หญิง/20-29 ปี",
          "Laotian / Lao/ชลบุรี/หญิง/20-29 ปี",
          "Thai/ชลบุรี/หญิง/20-29 ปี",
          "อื่น ๆ/ชลบุรี/หญิง/20-29 ปี",
          "Thai/ชัยนาท/หญิง/20-29 ปี",
          "Burmese/ชุมพร/หญิง/20-29 ปี",
          "Thai/ชุมพร/หญิง/20-29 ปี",
          "Thai/ตรัง/หญิง/20-29 ปี",
          "Cambodian/ตราด/หญิง/20-29 ปี",
          "Thai/ตราด/หญิง/20-29 ปี",
          "Burmese/ตาก/หญิง/20-29 ปี",
          "Thai/ตาก/หญิง/20-29 ปี",
          "Thai/นครนายก/หญิง/20-29 ปี",
          "Burmese/นครปฐม/หญิง/20-29 ปี",
          "Thai/นครปฐม/หญิง/20-29 ปี",
          "Thai/นครพนม/หญิง/20-29 ปี",
          "Thai/นครราชสีมา/หญิง/20-29 ปี",
          "อื่น ๆ/นครราชสีมา/หญิง/20-29 ปี",
          "Thai/นครศรีธรรมราช/หญิง/20-29 ปี",
          "Thai/นครสวรรค์/หญิง/20-29 ปี",
          "Burmese/นนทบุรี/หญิง/20-29 ปี",
          "Thai/นนทบุรี/หญิง/20-29 ปี",
          "Thai/นราธิวาส/หญิง/20-29 ปี",
          "Burmese/ปทุมธานี/หญิง/20-29 ปี",
          "Thai/ปทุมธานี/หญิง/20-29 ปี",
          "Burmese/ประจวบคีรีขันธ์/หญิง/20-29 ปี",
          "Thai/ประจวบคีรีขันธ์/หญิง/20-29 ปี",
          "Laotian / Lao/ปราจีนบุรี/หญิง/20-29 ปี",
          "Thai/ปราจีนบุรี/หญิง/20-29 ปี",
          "Thai/ปัตตานี/หญิง/20-29 ปี",
          "Burmese/พระนครศรีอยุธยา/หญิง/20-29 ปี",
          "Thai/พระนครศรีอยุธยา/หญิง/20-29 ปี",
          "Thai/พังงา/หญิง/20-29 ปี",
          "Thai/พัทลุง/หญิง/20-29 ปี",
          "Thai/พิจิตร/หญิง/20-29 ปี",
          "Thai/พิษณุโลก/หญิง/20-29 ปี",
          "Burmese/ภูเก็ต/หญิง/20-29 ปี",
          "Thai/ภูเก็ต/หญิง/20-29 ปี",
          "อื่น ๆ/มหาสารคาม/หญิง/20-29 ปี",
          "Thai/มุกดาหาร/หญิง/20-29 ปี",
          "Thai/ยะลา/หญิง/20-29 ปี",
          "Thai/ระนอง/หญิง/20-29 ปี",
          "Burmese/ระยอง/หญิง/20-29 ปี",
          "Cambodian/ระยอง/หญิง/20-29 ปี",
          "Thai/ระยอง/หญิง/20-29 ปี",
          "Thai/ลพบุรี/หญิง/20-29 ปี",
          "อื่น ๆ/ลำพูน/หญิง/20-29 ปี",
          "Thai/ศรีสะเกษ/หญิง/20-29 ปี",
          "Thai/สกลนคร/หญิง/20-29 ปี",
          "อื่น ๆ/สกลนคร/หญิง/20-29 ปี",
          "Burmese/สงขลา/หญิง/20-29 ปี",
          "Thai/สงขลา/หญิง/20-29 ปี",
          "Thai/สตูล/หญิง/20-29 ปี",
          "Burmese/สมุทรปราการ/หญิง/20-29 ปี",
          "Cambodian/สมุทรปราการ/หญิง/20-29 ปี",
          "Laotian / Lao/สมุทรปราการ/หญิง/20-29 ปี",
          "Thai/สมุทรปราการ/หญิง/20-29 ปี",
          "Thai/สมุทรสงคราม/หญิง/20-29 ปี",
          "Burmese/สมุทรสาคร/หญิง/20-29 ปี",
          "Thai/สมุทรสาคร/หญิง/20-29 ปี",
          "Burmese/สระบุรี/หญิง/20-29 ปี",
          "Thai/สระบุรี/หญิง/20-29 ปี",
          "Cambodian/สระแก้ว/หญิง/20-29 ปี",
          "Thai/สระแก้ว/หญิง/20-29 ปี",
          "Thai/สิงห์บุรี/หญิง/20-29 ปี",
          "Thai/สุพรรณบุรี/หญิง/20-29 ปี",
          "Burmese/สุราษฎร์ธานี/หญิง/20-29 ปี",
          "Thai/สุราษฎร์ธานี/หญิง/20-29 ปี",
          "Thai/สุรินทร์/หญิง/20-29 ปี",
          "Thai/สุโขทัย/หญิง/20-29 ปี",
          "Thai/หนองคาย/หญิง/20-29 ปี",
          "Thai/อำนาจเจริญ/หญิง/20-29 ปี",
          "Thai/อุดรธานี/หญิง/20-29 ปี",
          "Thai/อุตรดิตถ์/หญิง/20-29 ปี",
          "Thai/อุทัยธานี/หญิง/20-29 ปี",
          "Laotian / Lao/อุบลราชธานี/หญิง/20-29 ปี",
          "Thai/อุบลราชธานี/หญิง/20-29 ปี",
          "อื่น ๆ/เชียงราย/หญิง/20-29 ปี",
          "อื่น ๆ/เชียงใหม่/หญิง/20-29 ปี",
          "Burmese/เพชรบุรี/หญิง/20-29 ปี",
          "Laotian / Lao/เพชรบุรี/หญิง/20-29 ปี",
          "Thai/เพชรบุรี/หญิง/20-29 ปี",
          "Thai/เพชรบูรณ์/หญิง/20-29 ปี",
          "Thai/เลย/หญิง/20-29 ปี",
          "อื่น ๆ/กรุงเทพมหานคร/ไม่ระบุ/20-29 ปี",
          "Thai/ตาก/ไม่ระบุ/20-29 ปี",
          "Bangladeshi/กรุงเทพมหานคร/ชาย/30-39 ปี",
          "Burmese/กรุงเทพมหานคร/ชาย/30-39 ปี",
          "Cameroon/กรุงเทพมหานคร/ชาย/30-39 ปี",
          "Chinese/กรุงเทพมหานคร/ชาย/30-39 ปี",
          "Indian/กรุงเทพมหานคร/ชาย/30-39 ปี",
          "Thai/กรุงเทพมหานคร/ชาย/30-39 ปี",
          "อื่น ๆ/กรุงเทพมหานคร/ชาย/30-39 ปี",
          "Burmese/กาญจนบุรี/ชาย/30-39 ปี",
          "Thai/กาญจนบุรี/ชาย/30-39 ปี",
          "อื่น ๆ/กาฬสินธุ์/ชาย/30-39 ปี",
          "Burmese/กำแพงเพชร/ชาย/30-39 ปี",
          "อื่น ๆ/ขอนแก่น/ชาย/30-39 ปี",
          "Thai/จันทบุรี/ชาย/30-39 ปี",
          "Cambodian/ฉะเชิงเทรา/ชาย/30-39 ปี",
          "Laotian / Lao/ฉะเชิงเทรา/ชาย/30-39 ปี",
          "Thai/ฉะเชิงเทรา/ชาย/30-39 ปี",
          "Burmese/ชลบุรี/ชาย/30-39 ปี",
          "Cambodian/ชลบุรี/ชาย/30-39 ปี",
          "Laotian / Lao/ชลบุรี/ชาย/30-39 ปี",
          "Thai/ชลบุรี/ชาย/30-39 ปี",
          "อื่น ๆ/ชลบุรี/ชาย/30-39 ปี",
          "Thai/ชัยนาท/ชาย/30-39 ปี",
          "Thai/ชัยภูมิ/ชาย/30-39 ปี",
          "Burmese/ชุมพร/ชาย/30-39 ปี",
          "Thai/ชุมพร/ชาย/30-39 ปี",
          "Thai/ตรัง/ชาย/30-39 ปี",
          "Burmese/ตราด/ชาย/30-39 ปี",
          "Cambodian/ตราด/ชาย/30-39 ปี",
          "Thai/ตราด/ชาย/30-39 ปี",
          "Burmese/ตาก/ชาย/30-39 ปี",
          "Thai/ตาก/ชาย/30-39 ปี",
          "Thai/นครนายก/ชาย/30-39 ปี",
          "cambodian/นครนายก/ชาย/30-39 ปี",
          "Thai/นครปฐม/ชาย/30-39 ปี",
          "Thai/นครพนม/ชาย/30-39 ปี",
          "Thai/นครราชสีมา/ชาย/30-39 ปี",
          "Thai/นครศรีธรรมราช/ชาย/30-39 ปี",
          "Burmese/นครสวรรค์/ชาย/30-39 ปี",
          "Thai/นครสวรรค์/ชาย/30-39 ปี",
          "Burmese/นนทบุรี/ชาย/30-39 ปี",
          "Thai/นนทบุรี/ชาย/30-39 ปี",
          "cambodian/นนทบุรี/ชาย/30-39 ปี",
          "Burmese/นราธิวาส/ชาย/30-39 ปี",
          "Thai/นราธิวาส/ชาย/30-39 ปี",
          "อื่น ๆ/นราธิวาส/ชาย/30-39 ปี",
          "Thai/ปทุมธานี/ชาย/30-39 ปี",
          "Cambodian/ประจวบคีรีขันธ์/ชาย/30-39 ปี",
          "Thai/ประจวบคีรีขันธ์/ชาย/30-39 ปี",
          "Burmese/ปราจีนบุรี/ชาย/30-39 ปี",
          "Cambodian/ปราจีนบุรี/ชาย/30-39 ปี",
          "Thai/ปราจีนบุรี/ชาย/30-39 ปี",
          "Thai/ปัตตานี/ชาย/30-39 ปี",
          "Thai/พระนครศรีอยุธยา/ชาย/30-39 ปี",
          "Burmese/พังงา/ชาย/30-39 ปี",
          "Thai/พังงา/ชาย/30-39 ปี",
          "Thai/พัทลุง/ชาย/30-39 ปี",
          "Thai/พิจิตร/ชาย/30-39 ปี",
          "Thai/พิษณุโลก/ชาย/30-39 ปี",
          "Thai/ภูเก็ต/ชาย/30-39 ปี",
          "อื่น ๆ/ภูเก็ต/ชาย/30-39 ปี",
          "Thai/ยะลา/ชาย/30-39 ปี",
          "Thai/ยโสธร/ชาย/30-39 ปี",
          "Thai/ระนอง/ชาย/30-39 ปี",
          "Burmese/ระยอง/ชาย/30-39 ปี",
          "Cambodian/ระยอง/ชาย/30-39 ปี",
          "Thai/ระยอง/ชาย/30-39 ปี",
          "อื่น ๆ/ร้อยเอ็ด/ชาย/30-39 ปี",
          "Thai/ลพบุรี/ชาย/30-39 ปี",
          "Thai/ลำปาง/ชาย/30-39 ปี",
          "อื่น ๆ/ลำพูน/ชาย/30-39 ปี",
          "Thai/ศรีสะเกษ/ชาย/30-39 ปี",
          "อื่น ๆ/สกลนคร/ชาย/30-39 ปี",
          "Burmese/สงขลา/ชาย/30-39 ปี",
          "Thai/สงขลา/ชาย/30-39 ปี",
          "Burmese/สมุทรปราการ/ชาย/30-39 ปี",
          "Cambodian/สมุทรปราการ/ชาย/30-39 ปี",
          "Thai/สมุทรปราการ/ชาย/30-39 ปี",
          "Thai/สมุทรสงคราม/ชาย/30-39 ปี",
          "Burmese/สมุทรสาคร/ชาย/30-39 ปี",
          "Laotian / Lao/สมุทรสาคร/ชาย/30-39 ปี",
          "Thai/สมุทรสาคร/ชาย/30-39 ปี",
          "Thai/สระบุรี/ชาย/30-39 ปี",
          "Thai/สระแก้ว/ชาย/30-39 ปี",
          "อื่น ๆ/สระแก้ว/ชาย/30-39 ปี",
          "Thai/สิงห์บุรี/ชาย/30-39 ปี",
          "Thai/สุพรรณบุรี/ชาย/30-39 ปี",
          "อื่น ๆ/สุพรรณบุรี/ชาย/30-39 ปี",
          "Burmese/สุราษฎร์ธานี/ชาย/30-39 ปี",
          "Thai/สุราษฎร์ธานี/ชาย/30-39 ปี",
          "Thai/สุรินทร์/ชาย/30-39 ปี",
          "Thai/สุโขทัย/ชาย/30-39 ปี",
          "Thai/อำนาจเจริญ/ชาย/30-39 ปี",
          "Thai/อุดรธานี/ชาย/30-39 ปี",
          "Thai/อุตรดิตถ์/ชาย/30-39 ปี",
          "Thai/อุทัยธานี/ชาย/30-39 ปี",
          "Thai/อุบลราชธานี/ชาย/30-39 ปี",
          "Thai/อ่างทอง/ชาย/30-39 ปี",
          "อื่น ๆ/เชียงใหม่/ชาย/30-39 ปี",
          "Burmese/เพชรบุรี/ชาย/30-39 ปี",
          "Thai/เพชรบุรี/ชาย/30-39 ปี",
          "Thai/เพชรบูรณ์/ชาย/30-39 ปี",
          "Thai/เลย/ชาย/30-39 ปี",
          "Thai/แม่ฮ่องสอน/ชาย/30-39 ปี",
          "Burmese/กรุงเทพมหานคร/หญิง/30-39 ปี",
          "Cambodian/กรุงเทพมหานคร/หญิง/30-39 ปี",
          "Indian/กรุงเทพมหานคร/หญิง/30-39 ปี",
          "Laotian / Lao/กรุงเทพมหานคร/หญิง/30-39 ปี",
          "Thai/กรุงเทพมหานคร/หญิง/30-39 ปี",
          "อื่น ๆ/กรุงเทพมหานคร/หญิง/30-39 ปี",
          "Burmese/กาญจนบุรี/หญิง/30-39 ปี",
          "Thai/กาญจนบุรี/หญิง/30-39 ปี",
          "Thai/กำแพงเพชร/หญิง/30-39 ปี",
          "อื่น ๆ/ขอนแก่น/หญิง/30-39 ปี",
          "Cambodian/จันทบุรี/หญิง/30-39 ปี",
          "Thai/จันทบุรี/หญิง/30-39 ปี",
          "Cambodian/ฉะเชิงเทรา/หญิง/30-39 ปี",
          "Laotian / Lao/ฉะเชิงเทรา/หญิง/30-39 ปี",
          "Thai/ฉะเชิงเทรา/หญิง/30-39 ปี",
          "Burmese/ชลบุรี/หญิง/30-39 ปี",
          "Cambodian/ชลบุรี/หญิง/30-39 ปี",
          "Laotian / Lao/ชลบุรี/หญิง/30-39 ปี",
          "Thai/ชลบุรี/หญิง/30-39 ปี",
          "อื่น ๆ/ชลบุรี/หญิง/30-39 ปี",
          "Burmese/ชุมพร/หญิง/30-39 ปี",
          "Cambodian/ชุมพร/หญิง/30-39 ปี",
          "Thai/ชุมพร/หญิง/30-39 ปี",
          "Thai/ตรัง/หญิง/30-39 ปี",
          "Burmese/ตราด/หญิง/30-39 ปี",
          "Cambodian/ตราด/หญิง/30-39 ปี",
          "Thai/ตราด/หญิง/30-39 ปี",
          "Burmese/ตาก/หญิง/30-39 ปี",
          "Thai/ตาก/หญิง/30-39 ปี",
          "Thai/นครนายก/หญิง/30-39 ปี",
          "Thai/นครปฐม/หญิง/30-39 ปี",
          "Thai/นครราชสีมา/หญิง/30-39 ปี",
          "อื่น ๆ/นครราชสีมา/หญิง/30-39 ปี",
          "Thai/นครศรีธรรมราช/หญิง/30-39 ปี",
          "Thai/นครสวรรค์/หญิง/30-39 ปี",
          "Burmese/นนทบุรี/หญิง/30-39 ปี",
          "Thai/นนทบุรี/หญิง/30-39 ปี",
          "cambodian/นนทบุรี/หญิง/30-39 ปี",
          "Burmese/นราธิวาส/หญิง/30-39 ปี",
          "Thai/นราธิวาส/หญิง/30-39 ปี",
          "Burmese/ปทุมธานี/หญิง/30-39 ปี",
          "Laotian / Lao/ปทุมธานี/หญิง/30-39 ปี",
          "Thai/ปทุมธานี/หญิง/30-39 ปี",
          "cambodian/ปทุมธานี/หญิง/30-39 ปี",
          "Burmese/ประจวบคีรีขันธ์/หญิง/30-39 ปี",
          "Thai/ประจวบคีรีขันธ์/หญิง/30-39 ปี",
          "Cambodian/ปราจีนบุรี/หญิง/30-39 ปี",
          "Thai/ปราจีนบุรี/หญิง/30-39 ปี",
          "Thai/ปัตตานี/หญิง/30-39 ปี",
          "Thai/พระนครศรีอยุธยา/หญิง/30-39 ปี",
          "Thai/พังงา/หญิง/30-39 ปี",
          "Thai/พัทลุง/หญิง/30-39 ปี",
          "Thai/พิจิตร/หญิง/30-39 ปี",
          "Thai/พิษณุโลก/หญิง/30-39 ปี",
          "Thai/ภูเก็ต/หญิง/30-39 ปี",
          "อื่น ๆ/มหาสารคาม/หญิง/30-39 ปี",
          "Thai/มุกดาหาร/หญิง/30-39 ปี",
          "Thai/ยะลา/หญิง/30-39 ปี",
          "Thai/ระนอง/หญิง/30-39 ปี",
          "Burmese/ระยอง/หญิง/30-39 ปี",
          "Cambodian/ระยอง/หญิง/30-39 ปี",
          "Thai/ระยอง/หญิง/30-39 ปี",
          "อื่น ๆ/ร้อยเอ็ด/หญิง/30-39 ปี",
          "Thai/ลพบุรี/หญิง/30-39 ปี",
          "Thai/ลำปาง/หญิง/30-39 ปี",
          "อื่น ๆ/ลำพูน/หญิง/30-39 ปี",
          "Thai/ศรีสะเกษ/หญิง/30-39 ปี",
          "อื่น ๆ/สกลนคร/หญิง/30-39 ปี",
          "Burmese/สงขลา/หญิง/30-39 ปี",
          "Thai/สงขลา/หญิง/30-39 ปี",
          "Thai/สตูล/หญิง/30-39 ปี",
          "Burmese/สมุทรปราการ/หญิง/30-39 ปี",
          "Cambodian/สมุทรปราการ/หญิง/30-39 ปี",
          "Thai/สมุทรปราการ/หญิง/30-39 ปี",
          "Thai/สมุทรสงคราม/หญิง/30-39 ปี",
          "Burmese/สมุทรสาคร/หญิง/30-39 ปี",
          "Cambodian/สมุทรสาคร/หญิง/30-39 ปี",
          "Thai/สมุทรสาคร/หญิง/30-39 ปี",
          "Thai/สระบุรี/หญิง/30-39 ปี",
          "Thai/สระแก้ว/หญิง/30-39 ปี",
          "Thai/สิงห์บุรี/หญิง/30-39 ปี",
          "Thai/สุพรรณบุรี/หญิง/30-39 ปี",
          "Burmese/สุราษฎร์ธานี/หญิง/30-39 ปี",
          "Thai/สุราษฎร์ธานี/หญิง/30-39 ปี",
          "Thai/สุรินทร์/หญิง/30-39 ปี",
          "Thai/สุโขทัย/หญิง/30-39 ปี",
          "Thai/หนองบัวลำภู/หญิง/30-39 ปี",
          "Thai/อำนาจเจริญ/หญิง/30-39 ปี",
          "Thai/อุดรธานี/หญิง/30-39 ปี",
          "Thai/อุตรดิตถ์/หญิง/30-39 ปี",
          "Thai/อุบลราชธานี/หญิง/30-39 ปี",
          "Thai/อ่างทอง/หญิง/30-39 ปี",
          "อื่น ๆ/เชียงราย/หญิง/30-39 ปี",
          "อื่น ๆ/เชียงใหม่/หญิง/30-39 ปี",
          "Thai/เพชรบุรี/หญิง/30-39 ปี",
          "Thai/เพชรบูรณ์/หญิง/30-39 ปี",
          "Thai/เลย/หญิง/30-39 ปี",
          "Thai/แพร่/หญิง/30-39 ปี",
          "Thai/แม่ฮ่องสอน/หญิง/30-39 ปี",
          "อื่น ๆ/กรุงเทพมหานคร/ไม่ระบุ/30-39 ปี",
          "Thai/ตาก/ไม่ระบุ/30-39 ปี",
          "Burmese/กรุงเทพมหานคร/ชาย/40-49 ปี",
          "Dutch/กรุงเทพมหานคร/ชาย/40-49 ปี",
          "Japanese/กรุงเทพมหานคร/ชาย/40-49 ปี",
          "Laotian / Lao/กรุงเทพมหานคร/ชาย/40-49 ปี",
          "Thai/กรุงเทพมหานคร/ชาย/40-49 ปี",
          "อื่น ๆ/กรุงเทพมหานคร/ชาย/40-49 ปี",
          "Burmese/กาญจนบุรี/ชาย/40-49 ปี",
          "Thai/กาญจนบุรี/ชาย/40-49 ปี",
          "อื่น ๆ/กาฬสินธุ์/ชาย/40-49 ปี",
          "อื่น ๆ/ขอนแก่น/ชาย/40-49 ปี",
          "Thai/จันทบุรี/ชาย/40-49 ปี",
          "Cambodian/ฉะเชิงเทรา/ชาย/40-49 ปี",
          "Thai/ฉะเชิงเทรา/ชาย/40-49 ปี",
          "Burmese/ชลบุรี/ชาย/40-49 ปี",
          "Chinese/ชลบุรี/ชาย/40-49 ปี",
          "German/ชลบุรี/ชาย/40-49 ปี",
          "Japanese/ชลบุรี/ชาย/40-49 ปี",
          "Thai/ชลบุรี/ชาย/40-49 ปี",
          "Thai/ชัยนาท/ชาย/40-49 ปี",
          "Burmese/ชุมพร/ชาย/40-49 ปี",
          "Thai/ชุมพร/ชาย/40-49 ปี",
          "Thai/ตรัง/ชาย/40-49 ปี",
          "Thai/ตราด/ชาย/40-49 ปี",
          "Burmese/ตาก/ชาย/40-49 ปี",
          "Thai/ตาก/ชาย/40-49 ปี",
          "Burmese/นครนายก/ชาย/40-49 ปี",
          "Thai/นครนายก/ชาย/40-49 ปี",
          "Filipino/นครปฐม/ชาย/40-49 ปี",
          "Thai/นครปฐม/ชาย/40-49 ปี",
          "Thai/นครราชสีมา/ชาย/40-49 ปี",
          "Thai/นครศรีธรรมราช/ชาย/40-49 ปี",
          "Indian/นครสวรรค์/ชาย/40-49 ปี",
          "Thai/นครสวรรค์/ชาย/40-49 ปี",
          "Burmese/นนทบุรี/ชาย/40-49 ปี",
          "Thai/นนทบุรี/ชาย/40-49 ปี",
          "Burmese/นราธิวาส/ชาย/40-49 ปี",
          "Thai/นราธิวาส/ชาย/40-49 ปี",
          "Burmese/ปทุมธานี/ชาย/40-49 ปี",
          "Thai/ปทุมธานี/ชาย/40-49 ปี",
          "Burmese/ประจวบคีรีขันธ์/ชาย/40-49 ปี",
          "Thai/ประจวบคีรีขันธ์/ชาย/40-49 ปี",
          "Cambodian/ปราจีนบุรี/ชาย/40-49 ปี",
          "Thai/ปราจีนบุรี/ชาย/40-49 ปี",
          "Thai/ปัตตานี/ชาย/40-49 ปี",
          "Thai/พระนครศรีอยุธยา/ชาย/40-49 ปี",
          "Burmese/พังงา/ชาย/40-49 ปี",
          "Thai/พังงา/ชาย/40-49 ปี",
          "Thai/พัทลุง/ชาย/40-49 ปี",
          "Thai/พิจิตร/ชาย/40-49 ปี",
          "Thai/พิษณุโลก/ชาย/40-49 ปี",
          "Thai/ภูเก็ต/ชาย/40-49 ปี",
          "อื่น ๆ/ภูเก็ต/ชาย/40-49 ปี",
          "อื่น ๆ/มหาสารคาม/ชาย/40-49 ปี",
          "Thai/ยะลา/ชาย/40-49 ปี",
          "Thai/ระนอง/ชาย/40-49 ปี",
          "Cambodian/ระยอง/ชาย/40-49 ปี",
          "Chinese/ระยอง/ชาย/40-49 ปี",
          "Laotian / Lao/ระยอง/ชาย/40-49 ปี",
          "Thai/ระยอง/ชาย/40-49 ปี",
          "อื่น ๆ/ร้อยเอ็ด/ชาย/40-49 ปี",
          "Thai/ลพบุรี/ชาย/40-49 ปี",
          "อื่น ๆ/ลำพูน/ชาย/40-49 ปี",
          "Thai/ศรีสะเกษ/ชาย/40-49 ปี",
          "อื่น ๆ/สกลนคร/ชาย/40-49 ปี",
          "Burmese/สงขลา/ชาย/40-49 ปี",
          "Thai/สงขลา/ชาย/40-49 ปี",
          "Thai/สตูล/ชาย/40-49 ปี",
          "Burmese/สมุทรปราการ/ชาย/40-49 ปี",
          "Thai/สมุทรปราการ/ชาย/40-49 ปี",
          "Thai/สมุทรสงคราม/ชาย/40-49 ปี",
          "Laotian / Lao/สมุทรสาคร/ชาย/40-49 ปี",
          "Thai/สมุทรสาคร/ชาย/40-49 ปี",
          "Thai/สระบุรี/ชาย/40-49 ปี",
          "Thai/สระแก้ว/ชาย/40-49 ปี",
          "Thai/สิงห์บุรี/ชาย/40-49 ปี",
          "Thai/สุพรรณบุรี/ชาย/40-49 ปี",
          "Thai/สุราษฎร์ธานี/ชาย/40-49 ปี",
          "Thai/สุรินทร์/ชาย/40-49 ปี",
          "Thai/สุโขทัย/ชาย/40-49 ปี",
          "Thai/อุดรธานี/ชาย/40-49 ปี",
          "Thai/อุตรดิตถ์/ชาย/40-49 ปี",
          "Thai/อุทัยธานี/ชาย/40-49 ปี",
          "Thai/อุบลราชธานี/ชาย/40-49 ปี",
          "Thai/อ่างทอง/ชาย/40-49 ปี",
          "อื่น ๆ/เชียงราย/ชาย/40-49 ปี",
          "อื่น ๆ/เชียงใหม่/ชาย/40-49 ปี",
          "Thai/เพชรบุรี/ชาย/40-49 ปี",
          "Thai/เพชรบูรณ์/ชาย/40-49 ปี",
          "Thai/เลย/ชาย/40-49 ปี",
          "Burmese/กรุงเทพมหานคร/หญิง/40-49 ปี",
          "Cambodian/กรุงเทพมหานคร/หญิง/40-49 ปี",
          "Laotian / Lao/กรุงเทพมหานคร/หญิง/40-49 ปี",
          "Thai/กรุงเทพมหานคร/หญิง/40-49 ปี",
          "อื่น ๆ/กรุงเทพมหานคร/หญิง/40-49 ปี",
          "อื่น ๆ/กาฬสินธุ์/หญิง/40-49 ปี",
          "Thai/กำแพงเพชร/หญิง/40-49 ปี",
          "อื่น ๆ/ขอนแก่น/หญิง/40-49 ปี",
          "Cambodian/จันทบุรี/หญิง/40-49 ปี",
          "Thai/จันทบุรี/หญิง/40-49 ปี",
          "Thai/ฉะเชิงเทรา/หญิง/40-49 ปี",
          "Burmese/ชลบุรี/หญิง/40-49 ปี",
          "Thai/ชลบุรี/หญิง/40-49 ปี",
          "อื่น ๆ/ชลบุรี/หญิง/40-49 ปี",
          "Burmese/ชุมพร/หญิง/40-49 ปี",
          "Thai/ชุมพร/หญิง/40-49 ปี",
          "Thai/ตรัง/หญิง/40-49 ปี",
          "Cambodian/ตราด/หญิง/40-49 ปี",
          "Thai/ตราด/หญิง/40-49 ปี",
          "Burmese/ตาก/หญิง/40-49 ปี",
          "Thai/ตาก/หญิง/40-49 ปี",
          "Burmese/นครนายก/หญิง/40-49 ปี",
          "Thai/นครนายก/หญิง/40-49 ปี",
          "Thai/นครปฐม/หญิง/40-49 ปี",
          "Thai/นครราชสีมา/หญิง/40-49 ปี",
          "Thai/นครศรีธรรมราช/หญิง/40-49 ปี",
          "Thai/นครสวรรค์/หญิง/40-49 ปี",
          "Thai/นนทบุรี/หญิง/40-49 ปี",
          "Thai/นราธิวาส/หญิง/40-49 ปี",
          "Thai/ปทุมธานี/หญิง/40-49 ปี",
          "Burmese/ประจวบคีรีขันธ์/หญิง/40-49 ปี",
          "Thai/ประจวบคีรีขันธ์/หญิง/40-49 ปี",
          "Burmese/ปราจีนบุรี/หญิง/40-49 ปี",
          "Cambodian/ปราจีนบุรี/หญิง/40-49 ปี",
          "Thai/ปราจีนบุรี/หญิง/40-49 ปี",
          "Thai/ปัตตานี/หญิง/40-49 ปี",
          "Thai/พระนครศรีอยุธยา/หญิง/40-49 ปี",
          "Burmese/พังงา/หญิง/40-49 ปี",
          "Thai/พังงา/หญิง/40-49 ปี",
          "Thai/พัทลุง/หญิง/40-49 ปี",
          "Thai/พิษณุโลก/หญิง/40-49 ปี",
          "Thai/ภูเก็ต/หญิง/40-49 ปี",
          "อื่น ๆ/มหาสารคาม/หญิง/40-49 ปี",
          "Thai/มุกดาหาร/หญิง/40-49 ปี",
          "Thai/ยะลา/หญิง/40-49 ปี",
          "Thai/ระนอง/หญิง/40-49 ปี",
          "Burmese/ระยอง/หญิง/40-49 ปี",
          "Cambodian/ระยอง/หญิง/40-49 ปี",
          "Thai/ระยอง/หญิง/40-49 ปี",
          "อื่น ๆ/ร้อยเอ็ด/หญิง/40-49 ปี",
          "Thai/ลพบุรี/หญิง/40-49 ปี",
          "อื่น ๆ/ลำพูน/หญิง/40-49 ปี",
          "Thai/ศรีสะเกษ/หญิง/40-49 ปี",
          "อื่น ๆ/สกลนคร/หญิง/40-49 ปี",
          "Burmese/สงขลา/หญิง/40-49 ปี",
          "Thai/สงขลา/หญิง/40-49 ปี",
          "Thai/สตูล/หญิง/40-49 ปี",
          "Burmese/สมุทรปราการ/หญิง/40-49 ปี",
          "Cambodian/สมุทรปราการ/หญิง/40-49 ปี",
          "Thai/สมุทรปราการ/หญิง/40-49 ปี",
          "Thai/สมุทรสงคราม/หญิง/40-49 ปี",
          "Thai/สมุทรสาคร/หญิง/40-49 ปี",
          "Thai/สระบุรี/หญิง/40-49 ปี",
          "Thai/สระแก้ว/หญิง/40-49 ปี",
          "Thai/สุพรรณบุรี/หญิง/40-49 ปี",
          "Burmese/สุราษฎร์ธานี/หญิง/40-49 ปี",
          "Thai/สุราษฎร์ธานี/หญิง/40-49 ปี",
          "Thai/สุรินทร์/หญิง/40-49 ปี",
          "Thai/สุโขทัย/หญิง/40-49 ปี",
          "Thai/หนองบัวลำภู/หญิง/40-49 ปี",
          "Thai/อุดรธานี/หญิง/40-49 ปี",
          "Thai/อุทัยธานี/หญิง/40-49 ปี",
          "อื่น ๆ/อุทัยธานี/หญิง/40-49 ปี",
          "Thai/อุบลราชธานี/หญิง/40-49 ปี",
          "Thai/อ่างทอง/หญิง/40-49 ปี",
          "cambodian/อ่างทอง/หญิง/40-49 ปี",
          "อื่น ๆ/เชียงราย/หญิง/40-49 ปี",
          "อื่น ๆ/เชียงใหม่/หญิง/40-49 ปี",
          "Thai/เพชรบุรี/หญิง/40-49 ปี",
          "Thai/เพชรบูรณ์/หญิง/40-49 ปี",
          "Thai/แพร่/หญิง/40-49 ปี",
          "อื่น ๆ/กรุงเทพมหานคร/ไม่ระบุ/40-49 ปี",
          "Thai/ตาก/ไม่ระบุ/40-49 ปี",
          "American/กรุงเทพมหานคร/ชาย/50-59 ปี",
          "British / English/กรุงเทพมหานคร/ชาย/50-59 ปี",
          "Indian/กรุงเทพมหานคร/ชาย/50-59 ปี",
          "Kuwaiti/กรุงเทพมหานคร/ชาย/50-59 ปี",
          "Thai/กรุงเทพมหานคร/ชาย/50-59 ปี",
          "Thai/กาญจนบุรี/ชาย/50-59 ปี",
          "อื่น ๆ/กาฬสินธุ์/ชาย/50-59 ปี",
          "อื่น ๆ/ขอนแก่น/ชาย/50-59 ปี",
          "Thai/จันทบุรี/ชาย/50-59 ปี",
          "Thai/ฉะเชิงเทรา/ชาย/50-59 ปี",
          "Burmese/ชลบุรี/ชาย/50-59 ปี",
          "Thai/ชลบุรี/ชาย/50-59 ปี",
          "Thai/ชัยนาท/ชาย/50-59 ปี",
          "Thai/ชุมพร/ชาย/50-59 ปี",
          "Thai/ตรัง/ชาย/50-59 ปี",
          "Thai/ตราด/ชาย/50-59 ปี",
          "Thai/ตาก/ชาย/50-59 ปี",
          "Thai/นครนายก/ชาย/50-59 ปี",
          "Burmese/นครปฐม/ชาย/50-59 ปี",
          "Thai/นครปฐม/ชาย/50-59 ปี",
          "Thai/นครราชสีมา/ชาย/50-59 ปี",
          "Thai/นครศรีธรรมราช/ชาย/50-59 ปี",
          "Thai/นครสวรรค์/ชาย/50-59 ปี",
          "Thai/นนทบุรี/ชาย/50-59 ปี",
          "Thai/นราธิวาส/ชาย/50-59 ปี",
          "Thai/บึงกาฬ/ชาย/50-59 ปี",
          "อื่น ๆ/บุรีรัมย์/ชาย/50-59 ปี",
          "Thai/ปทุมธานี/ชาย/50-59 ปี",
          "Thai/ประจวบคีรีขันธ์/ชาย/50-59 ปี",
          "Thai/ปราจีนบุรี/ชาย/50-59 ปี",
          "Thai/ปัตตานี/ชาย/50-59 ปี",
          "Thai/พระนครศรีอยุธยา/ชาย/50-59 ปี",
          "Burmese/พังงา/ชาย/50-59 ปี",
          "Thai/พังงา/ชาย/50-59 ปี",
          "Thai/พัทลุง/ชาย/50-59 ปี",
          "Thai/พิษณุโลก/ชาย/50-59 ปี",
          "Thai/ภูเก็ต/ชาย/50-59 ปี",
          "Thai/มุกดาหาร/ชาย/50-59 ปี",
          "Thai/ยะลา/ชาย/50-59 ปี",
          "Thai/ระนอง/ชาย/50-59 ปี",
          "Burmese/ระยอง/ชาย/50-59 ปี",
          "Cambodian/ระยอง/ชาย/50-59 ปี",
          "Canadian/ระยอง/ชาย/50-59 ปี",
          "Thai/ระยอง/ชาย/50-59 ปี",
          "Thai/ลพบุรี/ชาย/50-59 ปี",
          "Thai/ศรีสะเกษ/ชาย/50-59 ปี",
          "อื่น ๆ/สกลนคร/ชาย/50-59 ปี",
          "Burmese/สงขลา/ชาย/50-59 ปี",
          "Thai/สงขลา/ชาย/50-59 ปี",
          "Thai/สตูล/ชาย/50-59 ปี",
          "Cambodian/สมุทรปราการ/ชาย/50-59 ปี",
          "Thai/สมุทรปราการ/ชาย/50-59 ปี",
          "Thai/สมุทรสงคราม/ชาย/50-59 ปี",
          "Thai/สมุทรสาคร/ชาย/50-59 ปี",
          "Thai/สระบุรี/ชาย/50-59 ปี",
          "Thai/สระแก้ว/ชาย/50-59 ปี",
          "อื่น ๆ/สระแก้ว/ชาย/50-59 ปี",
          "Thai/สิงห์บุรี/ชาย/50-59 ปี",
          "Thai/สุพรรณบุรี/ชาย/50-59 ปี",
          "Burmese/สุราษฎร์ธานี/ชาย/50-59 ปี",
          "Thai/สุราษฎร์ธานี/ชาย/50-59 ปี",
          "Thai/สุรินทร์/ชาย/50-59 ปี",
          "Thai/สุโขทัย/ชาย/50-59 ปี",
          "Thai/อุดรธานี/ชาย/50-59 ปี",
          "Thai/อุบลราชธานี/ชาย/50-59 ปี",
          "Thai/อ่างทอง/ชาย/50-59 ปี",
          "อื่น ๆ/เชียงใหม่/ชาย/50-59 ปี",
          "Thai/เพชรบุรี/ชาย/50-59 ปี",
          "Thai/เพชรบูรณ์/ชาย/50-59 ปี",
          "Thai/แพร่/ชาย/50-59 ปี",
          "Thai/กรุงเทพมหานคร/หญิง/50-59 ปี",
          "อื่น ๆ/กรุงเทพมหานคร/หญิง/50-59 ปี",
          "Burmese/กาญจนบุรี/หญิง/50-59 ปี",
          "Thai/กาญจนบุรี/หญิง/50-59 ปี",
          "อื่น ๆ/กาฬสินธุ์/หญิง/50-59 ปี",
          "Thai/กำแพงเพชร/หญิง/50-59 ปี",
          "อื่น ๆ/ขอนแก่น/หญิง/50-59 ปี",
          "Thai/จันทบุรี/หญิง/50-59 ปี",
          "Cambodian/ฉะเชิงเทรา/หญิง/50-59 ปี",
          "Thai/ฉะเชิงเทรา/หญิง/50-59 ปี",
          "Cambodian/ชลบุรี/หญิง/50-59 ปี",
          "Thai/ชลบุรี/หญิง/50-59 ปี",
          "Thai/ชัยนาท/หญิง/50-59 ปี",
          "Thai/ชุมพร/หญิง/50-59 ปี",
          "Thai/ตรัง/หญิง/50-59 ปี",
          "Cambodian/ตราด/หญิง/50-59 ปี",
          "Thai/ตราด/หญิง/50-59 ปี",
          "Thai/ตาก/หญิง/50-59 ปี",
          "Thai/นครนายก/หญิง/50-59 ปี",
          "Thai/นครปฐม/หญิง/50-59 ปี",
          "Thai/นครราชสีมา/หญิง/50-59 ปี",
          "Thai/นครศรีธรรมราช/หญิง/50-59 ปี",
          "Burmese/นครสวรรค์/หญิง/50-59 ปี",
          "Thai/นครสวรรค์/หญิง/50-59 ปี",
          "Burmese/นนทบุรี/หญิง/50-59 ปี",
          "Thai/นนทบุรี/หญิง/50-59 ปี",
          "Thai/นราธิวาส/หญิง/50-59 ปี",
          "Thai/บึงกาฬ/หญิง/50-59 ปี",
          "Thai/ปทุมธานี/หญิง/50-59 ปี",
          "Thai/ประจวบคีรีขันธ์/หญิง/50-59 ปี",
          "Thai/ปราจีนบุรี/หญิง/50-59 ปี",
          "Thai/ปัตตานี/หญิง/50-59 ปี",
          "Thai/พระนครศรีอยุธยา/หญิง/50-59 ปี",
          "Thai/พังงา/หญิง/50-59 ปี",
          "Thai/พัทลุง/หญิง/50-59 ปี",
          "Thai/พิษณุโลก/หญิง/50-59 ปี",
          "French/ภูเก็ต/หญิง/50-59 ปี",
          "Thai/ภูเก็ต/หญิง/50-59 ปี",
          "อื่น ๆ/มหาสารคาม/หญิง/50-59 ปี",
          "Thai/มุกดาหาร/หญิง/50-59 ปี",
          "Thai/ยะลา/หญิง/50-59 ปี",
          "Thai/ระนอง/หญิง/50-59 ปี",
          "Thai/ระยอง/หญิง/50-59 ปี",
          "อื่น ๆ/ร้อยเอ็ด/หญิง/50-59 ปี",
          "Thai/ลพบุรี/หญิง/50-59 ปี",
          "Thai/ลำปาง/หญิง/50-59 ปี",
          "อื่น ๆ/ลำพูน/หญิง/50-59 ปี",
          "อื่น ๆ/สกลนคร/หญิง/50-59 ปี",
          "Thai/สงขลา/หญิง/50-59 ปี",
          "Thai/สตูล/หญิง/50-59 ปี",
          "Burmese/สมุทรปราการ/หญิง/50-59 ปี",
          "Cambodian/สมุทรปราการ/หญิง/50-59 ปี",
          "Thai/สมุทรปราการ/หญิง/50-59 ปี",
          "Thai/สมุทรสงคราม/หญิง/50-59 ปี",
          "Burmese/สมุทรสาคร/หญิง/50-59 ปี",
          "Thai/สมุทรสาคร/หญิง/50-59 ปี",
          "Thai/สระบุรี/หญิง/50-59 ปี",
          "Thai/สระแก้ว/หญิง/50-59 ปี",
          "Thai/สิงห์บุรี/หญิง/50-59 ปี",
          "Thai/สุพรรณบุรี/หญิง/50-59 ปี",
          "Burmese/สุราษฎร์ธานี/หญิง/50-59 ปี",
          "Thai/สุราษฎร์ธานี/หญิง/50-59 ปี",
          "Thai/สุรินทร์/หญิง/50-59 ปี",
          "Thai/สุโขทัย/หญิง/50-59 ปี",
          "Thai/อุดรธานี/หญิง/50-59 ปี",
          "Thai/อุทัยธานี/หญิง/50-59 ปี",
          "Thai/อุบลราชธานี/หญิง/50-59 ปี",
          "Thai/อ่างทอง/หญิง/50-59 ปี",
          "อื่น ๆ/เชียงใหม่/หญิง/50-59 ปี",
          "Thai/เพชรบุรี/หญิง/50-59 ปี",
          "Thai/เพชรบูรณ์/หญิง/50-59 ปี",
          "Thai/แม่ฮ่องสอน/หญิง/50-59 ปี",
          "อื่น ๆ/กรุงเทพมหานคร/ไม่ระบุ/50-59 ปี",
          "Thai/ตาก/ไม่ระบุ/50-59 ปี",
          "อื่น ๆ/ตาก/ไม่ระบุ/50-59 ปี",
          "Taiwanese/กรุงเทพมหานคร/ชาย/60-69 ปี",
          "Thai/กรุงเทพมหานคร/ชาย/60-69 ปี",
          "Burmese/กาญจนบุรี/ชาย/60-69 ปี",
          "Thai/กาญจนบุรี/ชาย/60-69 ปี",
          "Thai/กำแพงเพชร/ชาย/60-69 ปี",
          "อื่น ๆ/ขอนแก่น/ชาย/60-69 ปี",
          "Thai/จันทบุรี/ชาย/60-69 ปี",
          "Thai/ฉะเชิงเทรา/ชาย/60-69 ปี",
          "Thai/ชลบุรี/ชาย/60-69 ปี",
          "Thai/ชัยนาท/ชาย/60-69 ปี",
          "Thai/ชุมพร/ชาย/60-69 ปี",
          "Thai/ตรัง/ชาย/60-69 ปี",
          "Thai/ตราด/ชาย/60-69 ปี",
          "Thai/ตาก/ชาย/60-69 ปี",
          "Thai/นครนายก/ชาย/60-69 ปี",
          "Thai/นครปฐม/ชาย/60-69 ปี",
          "Thai/นครราชสีมา/ชาย/60-69 ปี",
          "Thai/นครศรีธรรมราช/ชาย/60-69 ปี",
          "Thai/นครสวรรค์/ชาย/60-69 ปี",
          "Thai/นนทบุรี/ชาย/60-69 ปี",
          "Thai/นราธิวาส/ชาย/60-69 ปี",
          "Thai/ปทุมธานี/ชาย/60-69 ปี",
          "Thai/ปราจีนบุรี/ชาย/60-69 ปี",
          "Thai/ปัตตานี/ชาย/60-69 ปี",
          "Thai/พระนครศรีอยุธยา/ชาย/60-69 ปี",
          "Thai/พังงา/ชาย/60-69 ปี",
          "Thai/พิษณุโลก/ชาย/60-69 ปี",
          "Thai/ภูเก็ต/ชาย/60-69 ปี",
          "Thai/ยะลา/ชาย/60-69 ปี",
          "Thai/ยโสธร/ชาย/60-69 ปี",
          "Thai/ระนอง/ชาย/60-69 ปี",
          "Laotian / Lao/ระยอง/ชาย/60-69 ปี",
          "Thai/ระยอง/ชาย/60-69 ปี",
          "Thai/ลพบุรี/ชาย/60-69 ปี",
          "Thai/ลำปาง/ชาย/60-69 ปี",
          "อื่น ๆ/สกลนคร/ชาย/60-69 ปี",
          "Thai/สงขลา/ชาย/60-69 ปี",
          "Thai/สตูล/ชาย/60-69 ปี",
          "Thai/สมุทรปราการ/ชาย/60-69 ปี",
          "Thai/สมุทรสงคราม/ชาย/60-69 ปี",
          "Thai/สระบุรี/ชาย/60-69 ปี",
          "Thai/สระแก้ว/ชาย/60-69 ปี",
          "Thai/สุพรรณบุรี/ชาย/60-69 ปี",
          "Thai/สุราษฎร์ธานี/ชาย/60-69 ปี",
          "Thai/อุดรธานี/ชาย/60-69 ปี",
          "Thai/อุตรดิตถ์/ชาย/60-69 ปี",
          "Thai/อุบลราชธานี/ชาย/60-69 ปี",
          "Thai/อ่างทอง/ชาย/60-69 ปี",
          "Thai/เชียงราย/ชาย/60-69 ปี",
          "Thai/เพชรบุรี/ชาย/60-69 ปี",
          "Thai/เพชรบูรณ์/ชาย/60-69 ปี",
          "Thai/กรุงเทพมหานคร/หญิง/60-69 ปี",
          "Burmese/กาญจนบุรี/หญิง/60-69 ปี",
          "Thai/กาญจนบุรี/หญิง/60-69 ปี",
          "Thai/กำแพงเพชร/หญิง/60-69 ปี",
          "อื่น ๆ/ขอนแก่น/หญิง/60-69 ปี",
          "Thai/จันทบุรี/หญิง/60-69 ปี",
          "Thai/ฉะเชิงเทรา/หญิง/60-69 ปี",
          "Thai/ชลบุรี/หญิง/60-69 ปี",
          "Thai/ชัยนาท/หญิง/60-69 ปี",
          "Thai/ชุมพร/หญิง/60-69 ปี",
          "Thai/ตรัง/หญิง/60-69 ปี",
          "Thai/ตราด/หญิง/60-69 ปี",
          "Thai/ตาก/หญิง/60-69 ปี",
          "Thai/นครนายก/หญิง/60-69 ปี",
          "Thai/นครปฐม/หญิง/60-69 ปี",
          "Thai/นครราชสีมา/หญิง/60-69 ปี",
          "Thai/นครศรีธรรมราช/หญิง/60-69 ปี",
          "Thai/นครสวรรค์/หญิง/60-69 ปี",
          "Thai/นนทบุรี/หญิง/60-69 ปี",
          "Thai/นราธิวาส/หญิง/60-69 ปี",
          "Thai/ประจวบคีรีขันธ์/หญิง/60-69 ปี",
          "Thai/ปราจีนบุรี/หญิง/60-69 ปี",
          "Thai/ปัตตานี/หญิง/60-69 ปี",
          "Thai/พระนครศรีอยุธยา/หญิง/60-69 ปี",
          "Thai/พังงา/หญิง/60-69 ปี",
          "Thai/พัทลุง/หญิง/60-69 ปี",
          "Thai/พิษณุโลก/หญิง/60-69 ปี",
          "Thai/ภูเก็ต/หญิง/60-69 ปี",
          "อื่น ๆ/มหาสารคาม/หญิง/60-69 ปี",
          "Thai/ยะลา/หญิง/60-69 ปี",
          "Thai/ระนอง/หญิง/60-69 ปี",
          "Thai/ระยอง/หญิง/60-69 ปี",
          "Thai/ลพบุรี/หญิง/60-69 ปี",
          "อื่น ๆ/ลำพูน/หญิง/60-69 ปี",
          "Thai/สงขลา/หญิง/60-69 ปี",
          "Thai/สตูล/หญิง/60-69 ปี",
          "Thai/สมุทรปราการ/หญิง/60-69 ปี",
          "Thai/สมุทรสงคราม/หญิง/60-69 ปี",
          "Thai/สมุทรสาคร/หญิง/60-69 ปี",
          "Thai/สระบุรี/หญิง/60-69 ปี",
          "Thai/สระแก้ว/หญิง/60-69 ปี",
          "Thai/สิงห์บุรี/หญิง/60-69 ปี",
          "Thai/สุราษฎร์ธานี/หญิง/60-69 ปี",
          "Thai/สุรินทร์/หญิง/60-69 ปี",
          "Thai/สุโขทัย/หญิง/60-69 ปี",
          "Thai/หนองคาย/หญิง/60-69 ปี",
          "Thai/หนองบัวลำภู/หญิง/60-69 ปี",
          "Thai/อุดรธานี/หญิง/60-69 ปี",
          "Thai/อุตรดิตถ์/หญิง/60-69 ปี",
          "Thai/อุบลราชธานี/หญิง/60-69 ปี",
          "Thai/อ่างทอง/หญิง/60-69 ปี",
          "Thai/เพชรบุรี/หญิง/60-69 ปี",
          "Thai/เพชรบูรณ์/หญิง/60-69 ปี",
          "Thai/แพร่/หญิง/60-69 ปี",
          "อื่น ๆ/กรุงเทพมหานคร/ไม่ระบุ/60-69 ปี",
          "Thai/กรุงเทพมหานคร/ชาย/< 10 ปี",
          "Thai/กาญจนบุรี/ชาย/< 10 ปี",
          "อื่น ๆ/กาฬสินธุ์/ชาย/< 10 ปี",
          "Burmese/กำแพงเพชร/ชาย/< 10 ปี",
          "อื่น ๆ/ขอนแก่น/ชาย/< 10 ปี",
          "Thai/จันทบุรี/ชาย/< 10 ปี",
          "Cambodian/ฉะเชิงเทรา/ชาย/< 10 ปี",
          "Thai/ฉะเชิงเทรา/ชาย/< 10 ปี",
          "Burmese/ชลบุรี/ชาย/< 10 ปี",
          "Cambodian/ชลบุรี/ชาย/< 10 ปี",
          "Laotian / Lao/ชลบุรี/ชาย/< 10 ปี",
          "Thai/ชลบุรี/ชาย/< 10 ปี",
          "Thai/ชัยนาท/ชาย/< 10 ปี",
          "Burmese/ชุมพร/ชาย/< 10 ปี",
          "Thai/ชุมพร/ชาย/< 10 ปี",
          "อื่น ๆ/ชุมพร/ชาย/< 10 ปี",
          "Thai/ตรัง/ชาย/< 10 ปี",
          "Cambodian/ตราด/ชาย/< 10 ปี",
          "Thai/ตราด/ชาย/< 10 ปี",
          "Burmese/ตาก/ชาย/< 10 ปี",
          "Thai/ตาก/ชาย/< 10 ปี",
          "Thai/นครนายก/ชาย/< 10 ปี",
          "Thai/นครปฐม/ชาย/< 10 ปี",
          "Thai/นครราชสีมา/ชาย/< 10 ปี",
          "Thai/นครศรีธรรมราช/ชาย/< 10 ปี",
          "Thai/นครสวรรค์/ชาย/< 10 ปี",
          "Thai/นนทบุรี/ชาย/< 10 ปี",
          "Thai/นราธิวาส/ชาย/< 10 ปี",
          "Thai/ปทุมธานี/ชาย/< 10 ปี",
          "Thai/ประจวบคีรีขันธ์/ชาย/< 10 ปี",
          "Thai/ปราจีนบุรี/ชาย/< 10 ปี",
          "Thai/ปัตตานี/ชาย/< 10 ปี",
          "Thai/พระนครศรีอยุธยา/ชาย/< 10 ปี",
          "Thai/พังงา/ชาย/< 10 ปี",
          "Thai/พัทลุง/ชาย/< 10 ปี",
          "Thai/พิษณุโลก/ชาย/< 10 ปี",
          "Thai/ภูเก็ต/ชาย/< 10 ปี",
          "อื่น ๆ/มหาสารคาม/ชาย/< 10 ปี",
          "Thai/ยะลา/ชาย/< 10 ปี",
          "Thai/ระนอง/ชาย/< 10 ปี",
          "Burmese/ระยอง/ชาย/< 10 ปี",
          "Cambodian/ระยอง/ชาย/< 10 ปี",
          "Thai/ระยอง/ชาย/< 10 ปี",
          "อื่น ๆ/ร้อยเอ็ด/ชาย/< 10 ปี",
          "Thai/ลพบุรี/ชาย/< 10 ปี",
          "Thai/ลำปาง/ชาย/< 10 ปี",
          "อื่น ๆ/ลำพูน/ชาย/< 10 ปี",
          "อื่น ๆ/สกลนคร/ชาย/< 10 ปี",
          "Thai/สงขลา/ชาย/< 10 ปี",
          "Thai/สตูล/ชาย/< 10 ปี",
          "Burmese/สมุทรปราการ/ชาย/< 10 ปี",
          "Thai/สมุทรปราการ/ชาย/< 10 ปี",
          "Cambodian/สมุทรสาคร/ชาย/< 10 ปี",
          "Thai/สมุทรสาคร/ชาย/< 10 ปี",
          "Thai/สระบุรี/ชาย/< 10 ปี",
          "Thai/สระแก้ว/ชาย/< 10 ปี",
          "Thai/สิงห์บุรี/ชาย/< 10 ปี",
          "Thai/สุพรรณบุรี/ชาย/< 10 ปี",
          "Burmese/สุราษฎร์ธานี/ชาย/< 10 ปี",
          "Thai/สุราษฎร์ธานี/ชาย/< 10 ปี",
          "Thai/สุโขทัย/ชาย/< 10 ปี",
          "Thai/หนองคาย/ชาย/< 10 ปี",
          "Thai/หนองบัวลำภู/ชาย/< 10 ปี",
          "Thai/อุดรธานี/ชาย/< 10 ปี",
          "Thai/อุตรดิตถ์/ชาย/< 10 ปี",
          "Thai/อุบลราชธานี/ชาย/< 10 ปี",
          "Thai/อ่างทอง/ชาย/< 10 ปี",
          "อื่น ๆ/เชียงราย/ชาย/< 10 ปี",
          "อื่น ๆ/เชียงใหม่/ชาย/< 10 ปี",
          "Burmese/เพชรบุรี/ชาย/< 10 ปี",
          "Thai/เพชรบุรี/ชาย/< 10 ปี",
          "Thai/เพชรบูรณ์/ชาย/< 10 ปี",
          "Thai/เลย/ชาย/< 10 ปี",
          "Thai/แม่ฮ่องสอน/ชาย/< 10 ปี",
          "Dutch/กรุงเทพมหานคร/หญิง/< 10 ปี",
          "Thai/กรุงเทพมหานคร/หญิง/< 10 ปี",
          "Burmese/กาญจนบุรี/หญิง/< 10 ปี",
          "Thai/กาญจนบุรี/หญิง/< 10 ปี",
          "Thai/กำแพงเพชร/หญิง/< 10 ปี",
          "อื่น ๆ/ขอนแก่น/หญิง/< 10 ปี",
          "Burmese/จันทบุรี/หญิง/< 10 ปี",
          "Cambodian/จันทบุรี/หญิง/< 10 ปี",
          "Thai/จันทบุรี/หญิง/< 10 ปี",
          "Cambodian/ฉะเชิงเทรา/หญิง/< 10 ปี",
          "Laotian / Lao/ฉะเชิงเทรา/หญิง/< 10 ปี",
          "Thai/ฉะเชิงเทรา/หญิง/< 10 ปี",
          "Burmese/ชลบุรี/หญิง/< 10 ปี",
          "German/ชลบุรี/หญิง/< 10 ปี",
          "Thai/ชลบุรี/หญิง/< 10 ปี",
          "Burmese/ชุมพร/หญิง/< 10 ปี",
          "Thai/ชุมพร/หญิง/< 10 ปี",
          "Thai/ตรัง/หญิง/< 10 ปี",
          "Cambodian/ตราด/หญิง/< 10 ปี",
          "Thai/ตราด/หญิง/< 10 ปี",
          "Thai/ตาก/หญิง/< 10 ปี",
          "Thai/นครนายก/หญิง/< 10 ปี",
          "cambodian/นครนายก/หญิง/< 10 ปี",
          "Thai/นครปฐม/หญิง/< 10 ปี",
          "Thai/นครราชสีมา/หญิง/< 10 ปี",
          "Thai/นครศรีธรรมราช/หญิง/< 10 ปี",
          "Thai/นครสวรรค์/หญิง/< 10 ปี",
          "Thai/นนทบุรี/หญิง/< 10 ปี",
          "Thai/นราธิวาส/หญิง/< 10 ปี",
          "Thai/บึงกาฬ/หญิง/< 10 ปี",
          "Thai/ปทุมธานี/หญิง/< 10 ปี",
          "Burmese/ประจวบคีรีขันธ์/หญิง/< 10 ปี",
          "Thai/ปราจีนบุรี/หญิง/< 10 ปี",
          "Thai/ปัตตานี/หญิง/< 10 ปี",
          "Thai/พระนครศรีอยุธยา/หญิง/< 10 ปี",
          "Thai/พังงา/หญิง/< 10 ปี",
          "Thai/พัทลุง/หญิง/< 10 ปี",
          "Thai/พิษณุโลก/หญิง/< 10 ปี",
          "Thai/ภูเก็ต/หญิง/< 10 ปี",
          "Thai/ยะลา/หญิง/< 10 ปี",
          "Cambodian/ระยอง/หญิง/< 10 ปี",
          "Thai/ระยอง/หญิง/< 10 ปี",
          "อื่น ๆ/ร้อยเอ็ด/หญิง/< 10 ปี",
          "Thai/ลพบุรี/หญิง/< 10 ปี",
          "อื่น ๆ/ลำพูน/หญิง/< 10 ปี",
          "Thai/ศรีสะเกษ/หญิง/< 10 ปี",
          "อื่น ๆ/สกลนคร/หญิง/< 10 ปี",
          "Burmese/สงขลา/หญิง/< 10 ปี",
          "Thai/สงขลา/หญิง/< 10 ปี",
          "Thai/สมุทรปราการ/หญิง/< 10 ปี",
          "Thai/สมุทรสงคราม/หญิง/< 10 ปี",
          "Thai/สมุทรสาคร/หญิง/< 10 ปี",
          "Thai/สระบุรี/หญิง/< 10 ปี",
          "Thai/สระแก้ว/หญิง/< 10 ปี",
          "Thai/สิงห์บุรี/หญิง/< 10 ปี",
          "Thai/สุพรรณบุรี/หญิง/< 10 ปี",
          "Burmese/สุราษฎร์ธานี/หญิง/< 10 ปี",
          "Thai/สุราษฎร์ธานี/หญิง/< 10 ปี",
          "Thai/สุโขทัย/หญิง/< 10 ปี",
          "Thai/หนองบัวลำภู/หญิง/< 10 ปี",
          "Thai/อุตรดิตถ์/หญิง/< 10 ปี",
          "Thai/อุบลราชธานี/หญิง/< 10 ปี",
          "Thai/อ่างทอง/หญิง/< 10 ปี",
          "อื่น ๆ/เชียงราย/หญิง/< 10 ปี",
          "อื่น ๆ/เชียงใหม่/หญิง/< 10 ปี",
          "Thai/เพชรบุรี/หญิง/< 10 ปี",
          "Thai/เพชรบูรณ์/หญิง/< 10 ปี",
          "อื่น ๆ/กรุงเทพมหานคร/ไม่ระบุ/< 10 ปี",
          "Thai/ตาก/ไม่ระบุ/< 10 ปี",
          "American/กรุงเทพมหานคร/ชาย/>= 70 ปี",
          "Thai/กรุงเทพมหานคร/ชาย/>= 70 ปี",
          "Burmese/กาญจนบุรี/ชาย/>= 70 ปี",
          "Thai/กาญจนบุรี/ชาย/>= 70 ปี",
          "Thai/กำแพงเพชร/ชาย/>= 70 ปี",
          "อื่น ๆ/ขอนแก่น/ชาย/>= 70 ปี",
          "Thai/จันทบุรี/ชาย/>= 70 ปี",
          "Thai/ฉะเชิงเทรา/ชาย/>= 70 ปี",
          "Thai/ชลบุรี/ชาย/>= 70 ปี",
          "Thai/ชุมพร/ชาย/>= 70 ปี",
          "Thai/ตรัง/ชาย/>= 70 ปี",
          "Burmese/ตาก/ชาย/>= 70 ปี",
          "Thai/ตาก/ชาย/>= 70 ปี",
          "Thai/นครนายก/ชาย/>= 70 ปี",
          "Thai/นครปฐม/ชาย/>= 70 ปี",
          "อื่น ๆ/นครราชสีมา/ชาย/>= 70 ปี",
          "Thai/นครศรีธรรมราช/ชาย/>= 70 ปี",
          "Thai/นครสวรรค์/ชาย/>= 70 ปี",
          "Thai/นนทบุรี/ชาย/>= 70 ปี",
          "chinese/นนทบุรี/ชาย/>= 70 ปี",
          "Thai/นราธิวาส/ชาย/>= 70 ปี",
          "Thai/ปทุมธานี/ชาย/>= 70 ปี",
          "Thai/ประจวบคีรีขันธ์/ชาย/>= 70 ปี",
          "Thai/ปราจีนบุรี/ชาย/>= 70 ปี",
          "Thai/ปัตตานี/ชาย/>= 70 ปี",
          "Thai/พระนครศรีอยุธยา/ชาย/>= 70 ปี",
          "Thai/พังงา/ชาย/>= 70 ปี",
          "Thai/ภูเก็ต/ชาย/>= 70 ปี",
          "Thai/ยะลา/ชาย/>= 70 ปี",
          "Thai/ระนอง/ชาย/>= 70 ปี",
          "Thai/ระยอง/ชาย/>= 70 ปี",
          "Thai/ลพบุรี/ชาย/>= 70 ปี",
          "Thai/ศรีสะเกษ/ชาย/>= 70 ปี",
          "อื่น ๆ/สกลนคร/ชาย/>= 70 ปี",
          "Thai/สงขลา/ชาย/>= 70 ปี",
          "Thai/สตูล/ชาย/>= 70 ปี",
          "Thai/สมุทรปราการ/ชาย/>= 70 ปี",
          "Thai/สมุทรสงคราม/ชาย/>= 70 ปี",
          "Thai/สมุทรสาคร/ชาย/>= 70 ปี",
          "Thai/สระบุรี/ชาย/>= 70 ปี",
          "Thai/สระแก้ว/ชาย/>= 70 ปี",
          "Thai/สุพรรณบุรี/ชาย/>= 70 ปี",
          "Thai/สุราษฎร์ธานี/ชาย/>= 70 ปี",
          "Thai/อุดรธานี/ชาย/>= 70 ปี",
          "Thai/อุตรดิตถ์/ชาย/>= 70 ปี",
          "Thai/อุทัยธานี/ชาย/>= 70 ปี",
          "Thai/อุบลราชธานี/ชาย/>= 70 ปี",
          "อื่น ๆ/เชียงราย/ชาย/>= 70 ปี",
          "อื่น ๆ/เชียงใหม่/ชาย/>= 70 ปี",
          "Thai/เพชรบูรณ์/ชาย/>= 70 ปี",
          "Thai/กรุงเทพมหานคร/หญิง/>= 70 ปี",
          "Thai/กาญจนบุรี/หญิง/>= 70 ปี",
          "Thai/กำแพงเพชร/หญิง/>= 70 ปี",
          "อื่น ๆ/ขอนแก่น/หญิง/>= 70 ปี",
          "Thai/จันทบุรี/หญิง/>= 70 ปี",
          "Thai/ฉะเชิงเทรา/หญิง/>= 70 ปี",
          "Thai/ชลบุรี/หญิง/>= 70 ปี",
          "Thai/ชัยนาท/หญิง/>= 70 ปี",
          "Thai/ชุมพร/หญิง/>= 70 ปี",
          "Thai/ตรัง/หญิง/>= 70 ปี",
          "Burmese/ตาก/หญิง/>= 70 ปี",
          "Thai/ตาก/หญิง/>= 70 ปี",
          "Thai/นครนายก/หญิง/>= 70 ปี",
          "Thai/นครปฐม/หญิง/>= 70 ปี",
          "Thai/นครราชสีมา/หญิง/>= 70 ปี",
          "Thai/นครศรีธรรมราช/หญิง/>= 70 ปี",
          "Thai/นครสวรรค์/หญิง/>= 70 ปี",
          "Thai/นนทบุรี/หญิง/>= 70 ปี",
          "Thai/นราธิวาส/หญิง/>= 70 ปี",
          "Thai/ปทุมธานี/หญิง/>= 70 ปี",
          "Thai/ปราจีนบุรี/หญิง/>= 70 ปี",
          "Thai/ปัตตานี/หญิง/>= 70 ปี",
          "Thai/พระนครศรีอยุธยา/หญิง/>= 70 ปี",
          "Thai/พังงา/หญิง/>= 70 ปี",
          "Thai/พัทลุง/หญิง/>= 70 ปี",
          "Thai/พิษณุโลก/หญิง/>= 70 ปี",
          "Thai/ภูเก็ต/หญิง/>= 70 ปี",
          "อื่น ๆ/มหาสารคาม/หญิง/>= 70 ปี",
          "Thai/ยะลา/หญิง/>= 70 ปี",
          "Thai/ระนอง/หญิง/>= 70 ปี",
          "Thai/ระยอง/หญิง/>= 70 ปี",
          "อื่น ๆ/ร้อยเอ็ด/หญิง/>= 70 ปี",
          "Thai/ลพบุรี/หญิง/>= 70 ปี",
          "อื่น ๆ/ลำพูน/หญิง/>= 70 ปี",
          "อื่น ๆ/สกลนคร/หญิง/>= 70 ปี",
          "Thai/สงขลา/หญิง/>= 70 ปี",
          "Thai/สตูล/หญิง/>= 70 ปี",
          "Thai/สมุทรปราการ/หญิง/>= 70 ปี",
          "Thai/สมุทรสงคราม/หญิง/>= 70 ปี",
          "Thai/สมุทรสาคร/หญิง/>= 70 ปี",
          "Thai/สระบุรี/หญิง/>= 70 ปี",
          "Thai/สระแก้ว/หญิง/>= 70 ปี",
          "Thai/สุพรรณบุรี/หญิง/>= 70 ปี",
          "Russian/สุราษฎร์ธานี/หญิง/>= 70 ปี",
          "Thai/สุราษฎร์ธานี/หญิง/>= 70 ปี",
          "Thai/สุรินทร์/หญิง/>= 70 ปี",
          "Thai/อุดรธานี/หญิง/>= 70 ปี",
          "Thai/อุทัยธานี/หญิง/>= 70 ปี",
          "Thai/อุบลราชธานี/หญิง/>= 70 ปี",
          "Thai/อ่างทอง/หญิง/>= 70 ปี",
          "Thai/เพชรบุรี/หญิง/>= 70 ปี",
          "อื่น ๆ/กรุงเทพมหานคร/ไม่ระบุ/>= 70 ปี",
          "Thai/กระบี่/ชาย/ไม่ระบุ",
          "Burmese/กรุงเทพมหานคร/ชาย/ไม่ระบุ",
          "Laotian / Lao/กรุงเทพมหานคร/ชาย/ไม่ระบุ",
          "Thai/กรุงเทพมหานคร/ชาย/ไม่ระบุ",
          "อื่น ๆ/กรุงเทพมหานคร/ชาย/ไม่ระบุ",
          "Thai/จันทบุรี/ชาย/ไม่ระบุ",
          "Thai/ชัยภูมิ/ชาย/ไม่ระบุ",
          "Thai/ตาก/ชาย/ไม่ระบุ",
          "Thai/นครปฐม/ชาย/ไม่ระบุ",
          "Thai/นครราชสีมา/ชาย/ไม่ระบุ",
          "อื่น ๆ/นครราชสีมา/ชาย/ไม่ระบุ",
          "Thai/นครสวรรค์/ชาย/ไม่ระบุ",
          "Thai/นนทบุรี/ชาย/ไม่ระบุ",
          "Thai/นราธิวาส/ชาย/ไม่ระบุ",
          "อื่น ๆ/บุรีรัมย์/ชาย/ไม่ระบุ",
          "Thai/พัทลุง/ชาย/ไม่ระบุ",
          "Thai/ภูเก็ต/ชาย/ไม่ระบุ",
          "Thai/ยะลา/ชาย/ไม่ระบุ",
          "Burmese/ราชบุรี/ชาย/ไม่ระบุ",
          "Thai/ราชบุรี/ชาย/ไม่ระบุ",
          "อื่น ๆ/ลำพูน/ชาย/ไม่ระบุ",
          "Burmese/สงขลา/ชาย/ไม่ระบุ",
          "Thai/สุพรรณบุรี/ชาย/ไม่ระบุ",
          "Thai/สุโขทัย/ชาย/ไม่ระบุ",
          "Thai/อุดรธานี/ชาย/ไม่ระบุ",
          "Thai/เพชรบุรี/ชาย/ไม่ระบุ",
          "Thai/แพร่/ชาย/ไม่ระบุ",
          "Thai/กระบี่/หญิง/ไม่ระบุ",
          "Burmese/กรุงเทพมหานคร/หญิง/ไม่ระบุ",
          "Cambodian/กรุงเทพมหานคร/หญิง/ไม่ระบุ",
          "Laotian / Lao/กรุงเทพมหานคร/หญิง/ไม่ระบุ",
          "Thai/กรุงเทพมหานคร/หญิง/ไม่ระบุ",
          "อื่น ๆ/กรุงเทพมหานคร/หญิง/ไม่ระบุ",
          "Thai/ชัยภูมิ/หญิง/ไม่ระบุ",
          "อื่น ๆ/ชัยภูมิ/หญิง/ไม่ระบุ",
          "Burmese/ตาก/หญิง/ไม่ระบุ",
          "Thai/นครปฐม/หญิง/ไม่ระบุ",
          "Thai/นครราชสีมา/หญิง/ไม่ระบุ",
          "Thai/นนทบุรี/หญิง/ไม่ระบุ",
          "Thai/นราธิวาส/หญิง/ไม่ระบุ",
          "อื่น ๆ/บุรีรัมย์/หญิง/ไม่ระบุ",
          "Thai/ปัตตานี/หญิง/ไม่ระบุ",
          "Thai/พิษณุโลก/หญิง/ไม่ระบุ",
          "Thai/ภูเก็ต/หญิง/ไม่ระบุ",
          "Thai/ยะลา/หญิง/ไม่ระบุ",
          "Burmese/ราชบุรี/หญิง/ไม่ระบุ",
          "Thai/ราชบุรี/หญิง/ไม่ระบุ",
          "อื่น ๆ/ราชบุรี/หญิง/ไม่ระบุ",
          "Thai/ศรีสะเกษ/หญิง/ไม่ระบุ",
          "Thai/สตูล/หญิง/ไม่ระบุ",
          "Thai/สิงห์บุรี/หญิง/ไม่ระบุ",
          "Thai/สุพรรณบุรี/หญิง/ไม่ระบุ",
          "Thai/สุราษฎร์ธานี/หญิง/ไม่ระบุ",
          "Thai/อุดรธานี/หญิง/ไม่ระบุ",
          "Thai/เพชรบุรี/หญิง/ไม่ระบุ",
          "Thai/เพชรบูรณ์/หญิง/ไม่ระบุ",
          "Burmese/กระบี่/ไม่ระบุ/ไม่ระบุ",
          "Thai/กระบี่/ไม่ระบุ/ไม่ระบุ",
          "อื่น ๆ/กรุงเทพมหานคร/ไม่ระบุ/ไม่ระบุ",
          "Thai/นครราชสีมา/ไม่ระบุ/ไม่ระบุ",
          "อื่น ๆ/นครราชสีมา/ไม่ระบุ/ไม่ระบุ",
          "อื่น ๆ/นนทบุรี/ไม่ระบุ/ไม่ระบุ",
          "อื่น ๆ/นราธิวาส/ไม่ระบุ/ไม่ระบุ",
          "อื่น ๆ/บุรีรัมย์/ไม่ระบุ/ไม่ระบุ",
          "Thai/สุโขทัย/ไม่ระบุ/ไม่ระบุ",
          "Thai/กระบี่/ชาย",
          "American/กรุงเทพมหานคร/ชาย",
          "Bangladeshi/กรุงเทพมหานคร/ชาย",
          "British / English/กรุงเทพมหานคร/ชาย",
          "Burmese/กรุงเทพมหานคร/ชาย",
          "Cameroon/กรุงเทพมหานคร/ชาย",
          "Chinese/กรุงเทพมหานคร/ชาย",
          "Dutch/กรุงเทพมหานคร/ชาย",
          "Indian/กรุงเทพมหานคร/ชาย",
          "Japanese/กรุงเทพมหานคร/ชาย",
          "Kuwaiti/กรุงเทพมหานคร/ชาย",
          "Laotian / Lao/กรุงเทพมหานคร/ชาย",
          "Taiwanese/กรุงเทพมหานคร/ชาย",
          "Thai/กรุงเทพมหานคร/ชาย",
          "อื่น ๆ/กรุงเทพมหานคร/ชาย",
          "Burmese/กาญจนบุรี/ชาย",
          "Thai/กาญจนบุรี/ชาย",
          "อื่น ๆ/กาฬสินธุ์/ชาย",
          "Burmese/กำแพงเพชร/ชาย",
          "Thai/กำแพงเพชร/ชาย",
          "อื่น ๆ/ขอนแก่น/ชาย",
          "Burmese/จันทบุรี/ชาย",
          "Cambodian/จันทบุรี/ชาย",
          "Thai/จันทบุรี/ชาย",
          "Cambodian/ฉะเชิงเทรา/ชาย",
          "Laotian / Lao/ฉะเชิงเทรา/ชาย",
          "Thai/ฉะเชิงเทรา/ชาย",
          "Burmese/ชลบุรี/ชาย",
          "Cambodian/ชลบุรี/ชาย",
          "Chinese/ชลบุรี/ชาย",
          "German/ชลบุรี/ชาย",
          "Japanese/ชลบุรี/ชาย",
          "Laotian / Lao/ชลบุรี/ชาย",
          "Thai/ชลบุรี/ชาย",
          "อื่น ๆ/ชลบุรี/ชาย",
          "Thai/ชัยนาท/ชาย",
          "Thai/ชัยภูมิ/ชาย",
          "Burmese/ชุมพร/ชาย",
          "Thai/ชุมพร/ชาย",
          "อื่น ๆ/ชุมพร/ชาย",
          "Thai/ตรัง/ชาย",
          "Burmese/ตราด/ชาย",
          "Cambodian/ตราด/ชาย",
          "Thai/ตราด/ชาย",
          "Burmese/ตาก/ชาย",
          "Thai/ตาก/ชาย",
          "Burmese/นครนายก/ชาย",
          "Thai/นครนายก/ชาย",
          "cambodian/นครนายก/ชาย",
          "Burmese/นครปฐม/ชาย",
          "Filipino/นครปฐม/ชาย",
          "Thai/นครปฐม/ชาย",
          "Thai/นครพนม/ชาย",
          "Thai/นครราชสีมา/ชาย",
          "อื่น ๆ/นครราชสีมา/ชาย",
          "Thai/นครศรีธรรมราช/ชาย",
          "Burmese/นครสวรรค์/ชาย",
          "Indian/นครสวรรค์/ชาย",
          "Thai/นครสวรรค์/ชาย",
          "Burmese/นนทบุรี/ชาย",
          "Thai/นนทบุรี/ชาย",
          "cambodian/นนทบุรี/ชาย",
          "chinese/นนทบุรี/ชาย",
          "Burmese/นราธิวาส/ชาย",
          "Thai/นราธิวาส/ชาย",
          "อื่น ๆ/นราธิวาส/ชาย",
          "Thai/บึงกาฬ/ชาย",
          "อื่น ๆ/บุรีรัมย์/ชาย",
          "Burmese/ปทุมธานี/ชาย",
          "Thai/ปทุมธานี/ชาย",
          "Burmese/ประจวบคีรีขันธ์/ชาย",
          "Cambodian/ประจวบคีรีขันธ์/ชาย",
          "Thai/ประจวบคีรีขันธ์/ชาย",
          "Burmese/ปราจีนบุรี/ชาย",
          "Cambodian/ปราจีนบุรี/ชาย",
          "Thai/ปราจีนบุรี/ชาย",
          "Thai/ปัตตานี/ชาย",
          "Thai/พระนครศรีอยุธยา/ชาย",
          "Burmese/พังงา/ชาย",
          "Thai/พังงา/ชาย",
          "Thai/พัทลุง/ชาย",
          "Thai/พิจิตร/ชาย",
          "Thai/พิษณุโลก/ชาย",
          "Thai/ภูเก็ต/ชาย",
          "อื่น ๆ/ภูเก็ต/ชาย",
          "อื่น ๆ/มหาสารคาม/ชาย",
          "Thai/มุกดาหาร/ชาย",
          "Thai/ยะลา/ชาย",
          "Thai/ยโสธร/ชาย",
          "Thai/ระนอง/ชาย",
          "Burmese/ระยอง/ชาย",
          "Cambodian/ระยอง/ชาย",
          "Canadian/ระยอง/ชาย",
          "Chinese/ระยอง/ชาย",
          "Laotian / Lao/ระยอง/ชาย",
          "Thai/ระยอง/ชาย",
          "Burmese/ราชบุรี/ชาย",
          "Thai/ราชบุรี/ชาย",
          "อื่น ๆ/ร้อยเอ็ด/ชาย",
          "Thai/ลพบุรี/ชาย",
          "Thai/ลำปาง/ชาย",
          "อื่น ๆ/ลำพูน/ชาย",
          "Thai/ศรีสะเกษ/ชาย",
          "อื่น ๆ/สกลนคร/ชาย",
          "Burmese/สงขลา/ชาย",
          "Thai/สงขลา/ชาย",
          "Thai/สตูล/ชาย",
          "Burmese/สมุทรปราการ/ชาย",
          "Cambodian/สมุทรปราการ/ชาย",
          "Thai/สมุทรปราการ/ชาย",
          "Thai/สมุทรสงคราม/ชาย",
          "Burmese/สมุทรสาคร/ชาย",
          "Cambodian/สมุทรสาคร/ชาย",
          "Laotian / Lao/สมุทรสาคร/ชาย",
          "Thai/สมุทรสาคร/ชาย",
          "Thai/สระบุรี/ชาย",
          "Thai/สระแก้ว/ชาย",
          "อื่น ๆ/สระแก้ว/ชาย",
          "Thai/สิงห์บุรี/ชาย",
          "Thai/สุพรรณบุรี/ชาย",
          "อื่น ๆ/สุพรรณบุรี/ชาย",
          "Burmese/สุราษฎร์ธานี/ชาย",
          "Thai/สุราษฎร์ธานี/ชาย",
          "Thai/สุรินทร์/ชาย",
          "Thai/สุโขทัย/ชาย",
          "Thai/หนองคาย/ชาย",
          "Thai/หนองบัวลำภู/ชาย",
          "Thai/อำนาจเจริญ/ชาย",
          "Thai/อุดรธานี/ชาย",
          "Thai/อุตรดิตถ์/ชาย",
          "Cambodian/อุทัยธานี/ชาย",
          "Thai/อุทัยธานี/ชาย",
          "Thai/อุบลราชธานี/ชาย",
          "Thai/อ่างทอง/ชาย",
          "Thai/เชียงราย/ชาย",
          "อื่น ๆ/เชียงราย/ชาย",
          "อื่น ๆ/เชียงใหม่/ชาย",
          "Burmese/เพชรบุรี/ชาย",
          "Thai/เพชรบุรี/ชาย",
          "Thai/เพชรบูรณ์/ชาย",
          "Thai/เลย/ชาย",
          "Thai/แพร่/ชาย",
          "Thai/แม่ฮ่องสอน/ชาย",
          "Thai/กระบี่/หญิง",
          "Burmese/กรุงเทพมหานคร/หญิง",
          "Cambodian/กรุงเทพมหานคร/หญิง",
          "Dutch/กรุงเทพมหานคร/หญิง",
          "Indian/กรุงเทพมหานคร/หญิง",
          "Laotian / Lao/กรุงเทพมหานคร/หญิง",
          "Thai/กรุงเทพมหานคร/หญิง",
          "อื่น ๆ/กรุงเทพมหานคร/หญิง",
          "Burmese/กาญจนบุรี/หญิง",
          "Thai/กาญจนบุรี/หญิง",
          "อื่น ๆ/กาฬสินธุ์/หญิง",
          "Thai/กำแพงเพชร/หญิง",
          "อื่น ๆ/ขอนแก่น/หญิง",
          "Burmese/จันทบุรี/หญิง",
          "Cambodian/จันทบุรี/หญิง",
          "Thai/จันทบุรี/หญิง",
          "Cambodian/ฉะเชิงเทรา/หญิง",
          "Laotian / Lao/ฉะเชิงเทรา/หญิง",
          "Thai/ฉะเชิงเทรา/หญิง",
          "Burmese/ชลบุรี/หญิง",
          "Cambodian/ชลบุรี/หญิง",
          "German/ชลบุรี/หญิง",
          "Laotian / Lao/ชลบุรี/หญิง",
          "Thai/ชลบุรี/หญิง",
          "อื่น ๆ/ชลบุรี/หญิง",
          "Thai/ชัยนาท/หญิง",
          "Thai/ชัยภูมิ/หญิง",
          "อื่น ๆ/ชัยภูมิ/หญิง",
          "Burmese/ชุมพร/หญิง",
          "Cambodian/ชุมพร/หญิง",
          "Thai/ชุมพร/หญิง",
          "Thai/ตรัง/หญิง",
          "Burmese/ตราด/หญิง",
          "Cambodian/ตราด/หญิง",
          "Thai/ตราด/หญิง",
          "Burmese/ตาก/หญิง",
          "Thai/ตาก/หญิง",
          "Burmese/นครนายก/หญิง",
          "Thai/นครนายก/หญิง",
          "cambodian/นครนายก/หญิง",
          "Burmese/นครปฐม/หญิง",
          "Thai/นครปฐม/หญิง",
          "Thai/นครพนม/หญิง",
          "Thai/นครราชสีมา/หญิง",
          "อื่น ๆ/นครราชสีมา/หญิง",
          "Thai/นครศรีธรรมราช/หญิง",
          "Burmese/นครสวรรค์/หญิง",
          "Thai/นครสวรรค์/หญิง",
          "Burmese/นนทบุรี/หญิง",
          "Thai/นนทบุรี/หญิง",
          "cambodian/นนทบุรี/หญิง",
          "Burmese/นราธิวาส/หญิง",
          "Thai/นราธิวาส/หญิง",
          "Thai/บึงกาฬ/หญิง",
          "อื่น ๆ/บุรีรัมย์/หญิง",
          "Burmese/ปทุมธานี/หญิง",
          "Laotian / Lao/ปทุมธานี/หญิง",
          "Thai/ปทุมธานี/หญิง",
          "cambodian/ปทุมธานี/หญิง",
          "Burmese/ประจวบคีรีขันธ์/หญิง",
          "Thai/ประจวบคีรีขันธ์/หญิง",
          "Burmese/ปราจีนบุรี/หญิง",
          "Cambodian/ปราจีนบุรี/หญิง",
          "Laotian / Lao/ปราจีนบุรี/หญิง",
          "Thai/ปราจีนบุรี/หญิง",
          "Thai/ปัตตานี/หญิง",
          "Burmese/พระนครศรีอยุธยา/หญิง",
          "Thai/พระนครศรีอยุธยา/หญิง",
          "Burmese/พังงา/หญิง",
          "Thai/พังงา/หญิง",
          "Thai/พัทลุง/หญิง",
          "Thai/พิจิตร/หญิง",
          "Thai/พิษณุโลก/หญิง",
          "Burmese/ภูเก็ต/หญิง",
          "French/ภูเก็ต/หญิง",
          "Thai/ภูเก็ต/หญิง",
          "อื่น ๆ/มหาสารคาม/หญิง",
          "Thai/มุกดาหาร/หญิง",
          "Thai/ยะลา/หญิง",
          "Thai/ระนอง/หญิง",
          "Burmese/ระยอง/หญิง",
          "Cambodian/ระยอง/หญิง",
          "Thai/ระยอง/หญิง",
          "Burmese/ราชบุรี/หญิง",
          "Thai/ราชบุรี/หญิง",
          "อื่น ๆ/ราชบุรี/หญิง",
          "อื่น ๆ/ร้อยเอ็ด/หญิง",
          "Thai/ลพบุรี/หญิง",
          "Thai/ลำปาง/หญิง",
          "อื่น ๆ/ลำพูน/หญิง",
          "Thai/ศรีสะเกษ/หญิง",
          "Thai/สกลนคร/หญิง",
          "อื่น ๆ/สกลนคร/หญิง",
          "Burmese/สงขลา/หญิง",
          "Thai/สงขลา/หญิง",
          "Thai/สตูล/หญิง",
          "Burmese/สมุทรปราการ/หญิง",
          "Cambodian/สมุทรปราการ/หญิง",
          "Laotian / Lao/สมุทรปราการ/หญิง",
          "Thai/สมุทรปราการ/หญิง",
          "Thai/สมุทรสงคราม/หญิง",
          "Burmese/สมุทรสาคร/หญิง",
          "Cambodian/สมุทรสาคร/หญิง",
          "Thai/สมุทรสาคร/หญิง",
          "Burmese/สระบุรี/หญิง",
          "Thai/สระบุรี/หญิง",
          "Cambodian/สระแก้ว/หญิง",
          "Thai/สระแก้ว/หญิง",
          "Thai/สิงห์บุรี/หญิง",
          "Thai/สุพรรณบุรี/หญิง",
          "Burmese/สุราษฎร์ธานี/หญิง",
          "Russian/สุราษฎร์ธานี/หญิง",
          "Thai/สุราษฎร์ธานี/หญิง",
          "Thai/สุรินทร์/หญิง",
          "Thai/สุโขทัย/หญิง",
          "Thai/หนองคาย/หญิง",
          "Thai/หนองบัวลำภู/หญิง",
          "Thai/อำนาจเจริญ/หญิง",
          "Thai/อุดรธานี/หญิง",
          "Thai/อุตรดิตถ์/หญิง",
          "Thai/อุทัยธานี/หญิง",
          "อื่น ๆ/อุทัยธานี/หญิง",
          "Laotian / Lao/อุบลราชธานี/หญิง",
          "Thai/อุบลราชธานี/หญิง",
          "Thai/อ่างทอง/หญิง",
          "cambodian/อ่างทอง/หญิง",
          "อื่น ๆ/เชียงราย/หญิง",
          "อื่น ๆ/เชียงใหม่/หญิง",
          "Burmese/เพชรบุรี/หญิง",
          "Laotian / Lao/เพชรบุรี/หญิง",
          "Thai/เพชรบุรี/หญิง",
          "Thai/เพชรบูรณ์/หญิง",
          "Thai/เลย/หญิง",
          "Thai/แพร่/หญิง",
          "Thai/แม่ฮ่องสอน/หญิง",
          "Burmese/กระบี่/ไม่ระบุ",
          "Thai/กระบี่/ไม่ระบุ",
          "อื่น ๆ/กรุงเทพมหานคร/ไม่ระบุ",
          "Thai/ตาก/ไม่ระบุ",
          "อื่น ๆ/ตาก/ไม่ระบุ",
          "Thai/นครราชสีมา/ไม่ระบุ",
          "อื่น ๆ/นครราชสีมา/ไม่ระบุ",
          "อื่น ๆ/นนทบุรี/ไม่ระบุ",
          "อื่น ๆ/นราธิวาส/ไม่ระบุ",
          "อื่น ๆ/บุรีรัมย์/ไม่ระบุ",
          "Thai/สุโขทัย/ไม่ระบุ",
          "Burmese/กระบี่",
          "Thai/กระบี่",
          "American/กรุงเทพมหานคร",
          "Bangladeshi/กรุงเทพมหานคร",
          "British / English/กรุงเทพมหานคร",
          "Burmese/กรุงเทพมหานคร",
          "Cambodian/กรุงเทพมหานคร",
          "Cameroon/กรุงเทพมหานคร",
          "Chinese/กรุงเทพมหานคร",
          "Dutch/กรุงเทพมหานคร",
          "Indian/กรุงเทพมหานคร",
          "Japanese/กรุงเทพมหานคร",
          "Kuwaiti/กรุงเทพมหานคร",
          "Laotian / Lao/กรุงเทพมหานคร",
          "Taiwanese/กรุงเทพมหานคร",
          "Thai/กรุงเทพมหานคร",
          "อื่น ๆ/กรุงเทพมหานคร",
          "Burmese/กาญจนบุรี",
          "Thai/กาญจนบุรี",
          "อื่น ๆ/กาฬสินธุ์",
          "Burmese/กำแพงเพชร",
          "Thai/กำแพงเพชร",
          "อื่น ๆ/ขอนแก่น",
          "Burmese/จันทบุรี",
          "Cambodian/จันทบุรี",
          "Thai/จันทบุรี",
          "Cambodian/ฉะเชิงเทรา",
          "Laotian / Lao/ฉะเชิงเทรา",
          "Thai/ฉะเชิงเทรา",
          "Burmese/ชลบุรี",
          "Cambodian/ชลบุรี",
          "Chinese/ชลบุรี",
          "German/ชลบุรี",
          "Japanese/ชลบุรี",
          "Laotian / Lao/ชลบุรี",
          "Thai/ชลบุรี",
          "อื่น ๆ/ชลบุรี",
          "Thai/ชัยนาท",
          "Thai/ชัยภูมิ",
          "อื่น ๆ/ชัยภูมิ",
          "Burmese/ชุมพร",
          "Cambodian/ชุมพร",
          "Thai/ชุมพร",
          "อื่น ๆ/ชุมพร",
          "Thai/ตรัง",
          "Burmese/ตราด",
          "Cambodian/ตราด",
          "Thai/ตราด",
          "Burmese/ตาก",
          "Thai/ตาก",
          "อื่น ๆ/ตาก",
          "Burmese/นครนายก",
          "Thai/นครนายก",
          "cambodian/นครนายก",
          "Burmese/นครปฐม",
          "Filipino/นครปฐม",
          "Thai/นครปฐม",
          "Thai/นครพนม",
          "Thai/นครราชสีมา",
          "อื่น ๆ/นครราชสีมา",
          "Thai/นครศรีธรรมราช",
          "Burmese/นครสวรรค์",
          "Indian/นครสวรรค์",
          "Thai/นครสวรรค์",
          "Burmese/นนทบุรี",
          "Thai/นนทบุรี",
          "cambodian/นนทบุรี",
          "chinese/นนทบุรี",
          "อื่น ๆ/นนทบุรี",
          "Burmese/นราธิวาส",
          "Thai/นราธิวาส",
          "อื่น ๆ/นราธิวาส",
          "Thai/บึงกาฬ",
          "อื่น ๆ/บุรีรัมย์",
          "Burmese/ปทุมธานี",
          "Laotian / Lao/ปทุมธานี",
          "Thai/ปทุมธานี",
          "cambodian/ปทุมธานี",
          "Burmese/ประจวบคีรีขันธ์",
          "Cambodian/ประจวบคีรีขันธ์",
          "Thai/ประจวบคีรีขันธ์",
          "Burmese/ปราจีนบุรี",
          "Cambodian/ปราจีนบุรี",
          "Laotian / Lao/ปราจีนบุรี",
          "Thai/ปราจีนบุรี",
          "Thai/ปัตตานี",
          "Burmese/พระนครศรีอยุธยา",
          "Thai/พระนครศรีอยุธยา",
          "Burmese/พังงา",
          "Thai/พังงา",
          "Thai/พัทลุง",
          "Thai/พิจิตร",
          "Thai/พิษณุโลก",
          "Burmese/ภูเก็ต",
          "French/ภูเก็ต",
          "Thai/ภูเก็ต",
          "อื่น ๆ/ภูเก็ต",
          "อื่น ๆ/มหาสารคาม",
          "Thai/มุกดาหาร",
          "Thai/ยะลา",
          "Thai/ยโสธร",
          "Thai/ระนอง",
          "Burmese/ระยอง",
          "Cambodian/ระยอง",
          "Canadian/ระยอง",
          "Chinese/ระยอง",
          "Laotian / Lao/ระยอง",
          "Thai/ระยอง",
          "Burmese/ราชบุรี",
          "Thai/ราชบุรี",
          "อื่น ๆ/ราชบุรี",
          "อื่น ๆ/ร้อยเอ็ด",
          "Thai/ลพบุรี",
          "Thai/ลำปาง",
          "อื่น ๆ/ลำพูน",
          "Thai/ศรีสะเกษ",
          "Thai/สกลนคร",
          "อื่น ๆ/สกลนคร",
          "Burmese/สงขลา",
          "Thai/สงขลา",
          "Thai/สตูล",
          "Burmese/สมุทรปราการ",
          "Cambodian/สมุทรปราการ",
          "Laotian / Lao/สมุทรปราการ",
          "Thai/สมุทรปราการ",
          "Thai/สมุทรสงคราม",
          "Burmese/สมุทรสาคร",
          "Cambodian/สมุทรสาคร",
          "Laotian / Lao/สมุทรสาคร",
          "Thai/สมุทรสาคร",
          "Burmese/สระบุรี",
          "Thai/สระบุรี",
          "Cambodian/สระแก้ว",
          "Thai/สระแก้ว",
          "อื่น ๆ/สระแก้ว",
          "Thai/สิงห์บุรี",
          "Thai/สุพรรณบุรี",
          "อื่น ๆ/สุพรรณบุรี",
          "Burmese/สุราษฎร์ธานี",
          "Russian/สุราษฎร์ธานี",
          "Thai/สุราษฎร์ธานี",
          "Thai/สุรินทร์",
          "Thai/สุโขทัย",
          "Thai/หนองคาย",
          "Thai/หนองบัวลำภู",
          "Thai/อำนาจเจริญ",
          "Thai/อุดรธานี",
          "Thai/อุตรดิตถ์",
          "Cambodian/อุทัยธานี",
          "Thai/อุทัยธานี",
          "อื่น ๆ/อุทัยธานี",
          "Laotian / Lao/อุบลราชธานี",
          "Thai/อุบลราชธานี",
          "Thai/อ่างทอง",
          "cambodian/อ่างทอง",
          "Thai/เชียงราย",
          "อื่น ๆ/เชียงราย",
          "อื่น ๆ/เชียงใหม่",
          "Burmese/เพชรบุรี",
          "Laotian / Lao/เพชรบุรี",
          "Thai/เพชรบุรี",
          "Thai/เพชรบูรณ์",
          "Thai/เลย",
          "Thai/แพร่",
          "Thai/แม่ฮ่องสอน",
          "American",
          "Bangladeshi",
          "British / English",
          "Burmese",
          "Cambodian",
          "Cameroon",
          "Canadian",
          "Chinese",
          "Dutch",
          "Filipino",
          "French",
          "German",
          "Indian",
          "Japanese",
          "Kuwaiti",
          "Laotian / Lao",
          "Russian",
          "Taiwanese",
          "Thai",
          "cambodian",
          "chinese",
          "อื่น ๆ"
         ],
         "labels": [
          "10-19 ปี",
          "10-19 ปี",
          "10-19 ปี",
          "10-19 ปี",
          "10-19 ปี",
          "10-19 ปี",
          "10-19 ปี",
          "10-19 ปี",
          "10-19 ปี",
          "10-19 ปี",
          "10-19 ปี",
          "10-19 ปี",
          "10-19 ปี",
          "10-19 ปี",
          "10-19 ปี",
          "10-19 ปี",
          "10-19 ปี",
          "10-19 ปี",
          "10-19 ปี",
          "10-19 ปี",
          "10-19 ปี",
          "10-19 ปี",
          "10-19 ปี",
          "10-19 ปี",
          "10-19 ปี",
          "10-19 ปี",
          "10-19 ปี",
          "10-19 ปี",
          "10-19 ปี",
          "10-19 ปี",
          "10-19 ปี",
          "10-19 ปี",
          "10-19 ปี",
          "10-19 ปี",
          "10-19 ปี",
          "10-19 ปี",
          "10-19 ปี",
          "10-19 ปี",
          "10-19 ปี",
          "10-19 ปี",
          "10-19 ปี",
          "10-19 ปี",
          "10-19 ปี",
          "10-19 ปี",
          "10-19 ปี",
          "10-19 ปี",
          "10-19 ปี",
          "10-19 ปี",
          "10-19 ปี",
          "10-19 ปี",
          "10-19 ปี",
          "10-19 ปี",
          "10-19 ปี",
          "10-19 ปี",
          "10-19 ปี",
          "10-19 ปี",
          "10-19 ปี",
          "10-19 ปี",
          "10-19 ปี",
          "10-19 ปี",
          "10-19 ปี",
          "10-19 ปี",
          "10-19 ปี",
          "10-19 ปี",
          "10-19 ปี",
          "10-19 ปี",
          "10-19 ปี",
          "10-19 ปี",
          "10-19 ปี",
          "10-19 ปี",
          "10-19 ปี",
          "10-19 ปี",
          "10-19 ปี",
          "10-19 ปี",
          "10-19 ปี",
          "10-19 ปี",
          "10-19 ปี",
          "10-19 ปี",
          "10-19 ปี",
          "10-19 ปี",
          "10-19 ปี",
          "10-19 ปี",
          "10-19 ปี",
          "10-19 ปี",
          "10-19 ปี",
          "10-19 ปี",
          "10-19 ปี",
          "10-19 ปี",
          "10-19 ปี",
          "10-19 ปี",
          "10-19 ปี",
          "10-19 ปี",
          "10-19 ปี",
          "10-19 ปี",
          "10-19 ปี",
          "10-19 ปี",
          "10-19 ปี",
          "10-19 ปี",
          "10-19 ปี",
          "10-19 ปี",
          "10-19 ปี",
          "10-19 ปี",
          "10-19 ปี",
          "10-19 ปี",
          "10-19 ปี",
          "10-19 ปี",
          "10-19 ปี",
          "10-19 ปี",
          "10-19 ปี",
          "10-19 ปี",
          "10-19 ปี",
          "10-19 ปี",
          "10-19 ปี",
          "10-19 ปี",
          "10-19 ปี",
          "10-19 ปี",
          "10-19 ปี",
          "10-19 ปี",
          "10-19 ปี",
          "10-19 ปี",
          "10-19 ปี",
          "10-19 ปี",
          "10-19 ปี",
          "10-19 ปี",
          "10-19 ปี",
          "10-19 ปี",
          "10-19 ปี",
          "10-19 ปี",
          "10-19 ปี",
          "10-19 ปี",
          "10-19 ปี",
          "10-19 ปี",
          "10-19 ปี",
          "10-19 ปี",
          "10-19 ปี",
          "10-19 ปี",
          "10-19 ปี",
          "10-19 ปี",
          "10-19 ปี",
          "10-19 ปี",
          "10-19 ปี",
          "10-19 ปี",
          "10-19 ปี",
          "10-19 ปี",
          "10-19 ปี",
          "10-19 ปี",
          "20-29 ปี",
          "20-29 ปี",
          "20-29 ปี",
          "20-29 ปี",
          "20-29 ปี",
          "20-29 ปี",
          "20-29 ปี",
          "20-29 ปี",
          "20-29 ปี",
          "20-29 ปี",
          "20-29 ปี",
          "20-29 ปี",
          "20-29 ปี",
          "20-29 ปี",
          "20-29 ปี",
          "20-29 ปี",
          "20-29 ปี",
          "20-29 ปี",
          "20-29 ปี",
          "20-29 ปี",
          "20-29 ปี",
          "20-29 ปี",
          "20-29 ปี",
          "20-29 ปี",
          "20-29 ปี",
          "20-29 ปี",
          "20-29 ปี",
          "20-29 ปี",
          "20-29 ปี",
          "20-29 ปี",
          "20-29 ปี",
          "20-29 ปี",
          "20-29 ปี",
          "20-29 ปี",
          "20-29 ปี",
          "20-29 ปี",
          "20-29 ปี",
          "20-29 ปี",
          "20-29 ปี",
          "20-29 ปี",
          "20-29 ปี",
          "20-29 ปี",
          "20-29 ปี",
          "20-29 ปี",
          "20-29 ปี",
          "20-29 ปี",
          "20-29 ปี",
          "20-29 ปี",
          "20-29 ปี",
          "20-29 ปี",
          "20-29 ปี",
          "20-29 ปี",
          "20-29 ปี",
          "20-29 ปี",
          "20-29 ปี",
          "20-29 ปี",
          "20-29 ปี",
          "20-29 ปี",
          "20-29 ปี",
          "20-29 ปี",
          "20-29 ปี",
          "20-29 ปี",
          "20-29 ปี",
          "20-29 ปี",
          "20-29 ปี",
          "20-29 ปี",
          "20-29 ปี",
          "20-29 ปี",
          "20-29 ปี",
          "20-29 ปี",
          "20-29 ปี",
          "20-29 ปี",
          "20-29 ปี",
          "20-29 ปี",
          "20-29 ปี",
          "20-29 ปี",
          "20-29 ปี",
          "20-29 ปี",
          "20-29 ปี",
          "20-29 ปี",
          "20-29 ปี",
          "20-29 ปี",
          "20-29 ปี",
          "20-29 ปี",
          "20-29 ปี",
          "20-29 ปี",
          "20-29 ปี",
          "20-29 ปี",
          "20-29 ปี",
          "20-29 ปี",
          "20-29 ปี",
          "20-29 ปี",
          "20-29 ปี",
          "20-29 ปี",
          "20-29 ปี",
          "20-29 ปี",
          "20-29 ปี",
          "20-29 ปี",
          "20-29 ปี",
          "20-29 ปี",
          "20-29 ปี",
          "20-29 ปี",
          "20-29 ปี",
          "20-29 ปี",
          "20-29 ปี",
          "20-29 ปี",
          "20-29 ปี",
          "20-29 ปี",
          "20-29 ปี",
          "20-29 ปี",
          "20-29 ปี",
          "20-29 ปี",
          "20-29 ปี",
          "20-29 ปี",
          "20-29 ปี",
          "20-29 ปี",
          "20-29 ปี",
          "20-29 ปี",
          "20-29 ปี",
          "20-29 ปี",
          "20-29 ปี",
          "20-29 ปี",
          "20-29 ปี",
          "20-29 ปี",
          "20-29 ปี",
          "20-29 ปี",
          "20-29 ปี",
          "20-29 ปี",
          "20-29 ปี",
          "20-29 ปี",
          "20-29 ปี",
          "20-29 ปี",
          "20-29 ปี",
          "20-29 ปี",
          "20-29 ปี",
          "20-29 ปี",
          "20-29 ปี",
          "20-29 ปี",
          "20-29 ปี",
          "20-29 ปี",
          "20-29 ปี",
          "20-29 ปี",
          "20-29 ปี",
          "20-29 ปี",
          "20-29 ปี",
          "20-29 ปี",
          "20-29 ปี",
          "20-29 ปี",
          "20-29 ปี",
          "20-29 ปี",
          "20-29 ปี",
          "20-29 ปี",
          "20-29 ปี",
          "20-29 ปี",
          "20-29 ปี",
          "20-29 ปี",
          "20-29 ปี",
          "20-29 ปี",
          "20-29 ปี",
          "20-29 ปี",
          "20-29 ปี",
          "20-29 ปี",
          "20-29 ปี",
          "20-29 ปี",
          "20-29 ปี",
          "20-29 ปี",
          "20-29 ปี",
          "20-29 ปี",
          "20-29 ปี",
          "20-29 ปี",
          "20-29 ปี",
          "20-29 ปี",
          "20-29 ปี",
          "20-29 ปี",
          "20-29 ปี",
          "20-29 ปี",
          "20-29 ปี",
          "20-29 ปี",
          "20-29 ปี",
          "20-29 ปี",
          "20-29 ปี",
          "20-29 ปี",
          "20-29 ปี",
          "20-29 ปี",
          "20-29 ปี",
          "20-29 ปี",
          "20-29 ปี",
          "20-29 ปี",
          "20-29 ปี",
          "20-29 ปี",
          "20-29 ปี",
          "20-29 ปี",
          "20-29 ปี",
          "30-39 ปี",
          "30-39 ปี",
          "30-39 ปี",
          "30-39 ปี",
          "30-39 ปี",
          "30-39 ปี",
          "30-39 ปี",
          "30-39 ปี",
          "30-39 ปี",
          "30-39 ปี",
          "30-39 ปี",
          "30-39 ปี",
          "30-39 ปี",
          "30-39 ปี",
          "30-39 ปี",
          "30-39 ปี",
          "30-39 ปี",
          "30-39 ปี",
          "30-39 ปี",
          "30-39 ปี",
          "30-39 ปี",
          "30-39 ปี",
          "30-39 ปี",
          "30-39 ปี",
          "30-39 ปี",
          "30-39 ปี",
          "30-39 ปี",
          "30-39 ปี",
          "30-39 ปี",
          "30-39 ปี",
          "30-39 ปี",
          "30-39 ปี",
          "30-39 ปี",
          "30-39 ปี",
          "30-39 ปี",
          "30-39 ปี",
          "30-39 ปี",
          "30-39 ปี",
          "30-39 ปี",
          "30-39 ปี",
          "30-39 ปี",
          "30-39 ปี",
          "30-39 ปี",
          "30-39 ปี",
          "30-39 ปี",
          "30-39 ปี",
          "30-39 ปี",
          "30-39 ปี",
          "30-39 ปี",
          "30-39 ปี",
          "30-39 ปี",
          "30-39 ปี",
          "30-39 ปี",
          "30-39 ปี",
          "30-39 ปี",
          "30-39 ปี",
          "30-39 ปี",
          "30-39 ปี",
          "30-39 ปี",
          "30-39 ปี",
          "30-39 ปี",
          "30-39 ปี",
          "30-39 ปี",
          "30-39 ปี",
          "30-39 ปี",
          "30-39 ปี",
          "30-39 ปี",
          "30-39 ปี",
          "30-39 ปี",
          "30-39 ปี",
          "30-39 ปี",
          "30-39 ปี",
          "30-39 ปี",
          "30-39 ปี",
          "30-39 ปี",
          "30-39 ปี",
          "30-39 ปี",
          "30-39 ปี",
          "30-39 ปี",
          "30-39 ปี",
          "30-39 ปี",
          "30-39 ปี",
          "30-39 ปี",
          "30-39 ปี",
          "30-39 ปี",
          "30-39 ปี",
          "30-39 ปี",
          "30-39 ปี",
          "30-39 ปี",
          "30-39 ปี",
          "30-39 ปี",
          "30-39 ปี",
          "30-39 ปี",
          "30-39 ปี",
          "30-39 ปี",
          "30-39 ปี",
          "30-39 ปี",
          "30-39 ปี",
          "30-39 ปี",
          "30-39 ปี",
          "30-39 ปี",
          "30-39 ปี",
          "30-39 ปี",
          "30-39 ปี",
          "30-39 ปี",
          "30-39 ปี",
          "30-39 ปี",
          "30-39 ปี",
          "30-39 ปี",
          "30-39 ปี",
          "30-39 ปี",
          "30-39 ปี",
          "30-39 ปี",
          "30-39 ปี",
          "30-39 ปี",
          "30-39 ปี",
          "30-39 ปี",
          "30-39 ปี",
          "30-39 ปี",
          "30-39 ปี",
          "30-39 ปี",
          "30-39 ปี",
          "30-39 ปี",
          "30-39 ปี",
          "30-39 ปี",
          "30-39 ปี",
          "30-39 ปี",
          "30-39 ปี",
          "30-39 ปี",
          "30-39 ปี",
          "30-39 ปี",
          "30-39 ปี",
          "30-39 ปี",
          "30-39 ปี",
          "30-39 ปี",
          "30-39 ปี",
          "30-39 ปี",
          "30-39 ปี",
          "30-39 ปี",
          "30-39 ปี",
          "30-39 ปี",
          "30-39 ปี",
          "30-39 ปี",
          "30-39 ปี",
          "30-39 ปี",
          "30-39 ปี",
          "30-39 ปี",
          "30-39 ปี",
          "30-39 ปี",
          "30-39 ปี",
          "30-39 ปี",
          "30-39 ปี",
          "30-39 ปี",
          "30-39 ปี",
          "30-39 ปี",
          "30-39 ปี",
          "30-39 ปี",
          "30-39 ปี",
          "30-39 ปี",
          "30-39 ปี",
          "30-39 ปี",
          "30-39 ปี",
          "30-39 ปี",
          "30-39 ปี",
          "30-39 ปี",
          "30-39 ปี",
          "30-39 ปี",
          "30-39 ปี",
          "30-39 ปี",
          "30-39 ปี",
          "30-39 ปี",
          "30-39 ปี",
          "30-39 ปี",
          "30-39 ปี",
          "30-39 ปี",
          "30-39 ปี",
          "30-39 ปี",
          "30-39 ปี",
          "30-39 ปี",
          "30-39 ปี",
          "30-39 ปี",
          "30-39 ปี",
          "30-39 ปี",
          "30-39 ปี",
          "30-39 ปี",
          "30-39 ปี",
          "30-39 ปี",
          "30-39 ปี",
          "30-39 ปี",
          "30-39 ปี",
          "30-39 ปี",
          "30-39 ปี",
          "30-39 ปี",
          "30-39 ปี",
          "30-39 ปี",
          "30-39 ปี",
          "30-39 ปี",
          "30-39 ปี",
          "30-39 ปี",
          "30-39 ปี",
          "30-39 ปี",
          "30-39 ปี",
          "30-39 ปี",
          "30-39 ปี",
          "40-49 ปี",
          "40-49 ปี",
          "40-49 ปี",
          "40-49 ปี",
          "40-49 ปี",
          "40-49 ปี",
          "40-49 ปี",
          "40-49 ปี",
          "40-49 ปี",
          "40-49 ปี",
          "40-49 ปี",
          "40-49 ปี",
          "40-49 ปี",
          "40-49 ปี",
          "40-49 ปี",
          "40-49 ปี",
          "40-49 ปี",
          "40-49 ปี",
          "40-49 ปี",
          "40-49 ปี",
          "40-49 ปี",
          "40-49 ปี",
          "40-49 ปี",
          "40-49 ปี",
          "40-49 ปี",
          "40-49 ปี",
          "40-49 ปี",
          "40-49 ปี",
          "40-49 ปี",
          "40-49 ปี",
          "40-49 ปี",
          "40-49 ปี",
          "40-49 ปี",
          "40-49 ปี",
          "40-49 ปี",
          "40-49 ปี",
          "40-49 ปี",
          "40-49 ปี",
          "40-49 ปี",
          "40-49 ปี",
          "40-49 ปี",
          "40-49 ปี",
          "40-49 ปี",
          "40-49 ปี",
          "40-49 ปี",
          "40-49 ปี",
          "40-49 ปี",
          "40-49 ปี",
          "40-49 ปี",
          "40-49 ปี",
          "40-49 ปี",
          "40-49 ปี",
          "40-49 ปี",
          "40-49 ปี",
          "40-49 ปี",
          "40-49 ปี",
          "40-49 ปี",
          "40-49 ปี",
          "40-49 ปี",
          "40-49 ปี",
          "40-49 ปี",
          "40-49 ปี",
          "40-49 ปี",
          "40-49 ปี",
          "40-49 ปี",
          "40-49 ปี",
          "40-49 ปี",
          "40-49 ปี",
          "40-49 ปี",
          "40-49 ปี",
          "40-49 ปี",
          "40-49 ปี",
          "40-49 ปี",
          "40-49 ปี",
          "40-49 ปี",
          "40-49 ปี",
          "40-49 ปี",
          "40-49 ปี",
          "40-49 ปี",
          "40-49 ปี",
          "40-49 ปี",
          "40-49 ปี",
          "40-49 ปี",
          "40-49 ปี",
          "40-49 ปี",
          "40-49 ปี",
          "40-49 ปี",
          "40-49 ปี",
          "40-49 ปี",
          "40-49 ปี",
          "40-49 ปี",
          "40-49 ปี",
          "40-49 ปี",
          "40-49 ปี",
          "40-49 ปี",
          "40-49 ปี",
          "40-49 ปี",
          "40-49 ปี",
          "40-49 ปี",
          "40-49 ปี",
          "40-49 ปี",
          "40-49 ปี",
          "40-49 ปี",
          "40-49 ปี",
          "40-49 ปี",
          "40-49 ปี",
          "40-49 ปี",
          "40-49 ปี",
          "40-49 ปี",
          "40-49 ปี",
          "40-49 ปี",
          "40-49 ปี",
          "40-49 ปี",
          "40-49 ปี",
          "40-49 ปี",
          "40-49 ปี",
          "40-49 ปี",
          "40-49 ปี",
          "40-49 ปี",
          "40-49 ปี",
          "40-49 ปี",
          "40-49 ปี",
          "40-49 ปี",
          "40-49 ปี",
          "40-49 ปี",
          "40-49 ปี",
          "40-49 ปี",
          "40-49 ปี",
          "40-49 ปี",
          "40-49 ปี",
          "40-49 ปี",
          "40-49 ปี",
          "40-49 ปี",
          "40-49 ปี",
          "40-49 ปี",
          "40-49 ปี",
          "40-49 ปี",
          "40-49 ปี",
          "40-49 ปี",
          "40-49 ปี",
          "40-49 ปี",
          "40-49 ปี",
          "40-49 ปี",
          "40-49 ปี",
          "40-49 ปี",
          "40-49 ปี",
          "40-49 ปี",
          "40-49 ปี",
          "40-49 ปี",
          "40-49 ปี",
          "40-49 ปี",
          "40-49 ปี",
          "40-49 ปี",
          "40-49 ปี",
          "40-49 ปี",
          "40-49 ปี",
          "40-49 ปี",
          "40-49 ปี",
          "40-49 ปี",
          "40-49 ปี",
          "40-49 ปี",
          "40-49 ปี",
          "40-49 ปี",
          "40-49 ปี",
          "40-49 ปี",
          "40-49 ปี",
          "40-49 ปี",
          "40-49 ปี",
          "40-49 ปี",
          "40-49 ปี",
          "40-49 ปี",
          "40-49 ปี",
          "50-59 ปี",
          "50-59 ปี",
          "50-59 ปี",
          "50-59 ปี",
          "50-59 ปี",
          "50-59 ปี",
          "50-59 ปี",
          "50-59 ปี",
          "50-59 ปี",
          "50-59 ปี",
          "50-59 ปี",
          "50-59 ปี",
          "50-59 ปี",
          "50-59 ปี",
          "50-59 ปี",
          "50-59 ปี",
          "50-59 ปี",
          "50-59 ปี",
          "50-59 ปี",
          "50-59 ปี",
          "50-59 ปี",
          "50-59 ปี",
          "50-59 ปี",
          "50-59 ปี",
          "50-59 ปี",
          "50-59 ปี",
          "50-59 ปี",
          "50-59 ปี",
          "50-59 ปี",
          "50-59 ปี",
          "50-59 ปี",
          "50-59 ปี",
          "50-59 ปี",
          "50-59 ปี",
          "50-59 ปี",
          "50-59 ปี",
          "50-59 ปี",
          "50-59 ปี",
          "50-59 ปี",
          "50-59 ปี",
          "50-59 ปี",
          "50-59 ปี",
          "50-59 ปี",
          "50-59 ปี",
          "50-59 ปี",
          "50-59 ปี",
          "50-59 ปี",
          "50-59 ปี",
          "50-59 ปี",
          "50-59 ปี",
          "50-59 ปี",
          "50-59 ปี",
          "50-59 ปี",
          "50-59 ปี",
          "50-59 ปี",
          "50-59 ปี",
          "50-59 ปี",
          "50-59 ปี",
          "50-59 ปี",
          "50-59 ปี",
          "50-59 ปี",
          "50-59 ปี",
          "50-59 ปี",
          "50-59 ปี",
          "50-59 ปี",
          "50-59 ปี",
          "50-59 ปี",
          "50-59 ปี",
          "50-59 ปี",
          "50-59 ปี",
          "50-59 ปี",
          "50-59 ปี",
          "50-59 ปี",
          "50-59 ปี",
          "50-59 ปี",
          "50-59 ปี",
          "50-59 ปี",
          "50-59 ปี",
          "50-59 ปี",
          "50-59 ปี",
          "50-59 ปี",
          "50-59 ปี",
          "50-59 ปี",
          "50-59 ปี",
          "50-59 ปี",
          "50-59 ปี",
          "50-59 ปี",
          "50-59 ปี",
          "50-59 ปี",
          "50-59 ปี",
          "50-59 ปี",
          "50-59 ปี",
          "50-59 ปี",
          "50-59 ปี",
          "50-59 ปี",
          "50-59 ปี",
          "50-59 ปี",
          "50-59 ปี",
          "50-59 ปี",
          "50-59 ปี",
          "50-59 ปี",
          "50-59 ปี",
          "50-59 ปี",
          "50-59 ปี",
          "50-59 ปี",
          "50-59 ปี",
          "50-59 ปี",
          "50-59 ปี",
          "50-59 ปี",
          "50-59 ปี",
          "50-59 ปี",
          "50-59 ปี",
          "50-59 ปี",
          "50-59 ปี",
          "50-59 ปี",
          "50-59 ปี",
          "50-59 ปี",
          "50-59 ปี",
          "50-59 ปี",
          "50-59 ปี",
          "50-59 ปี",
          "50-59 ปี",
          "50-59 ปี",
          "50-59 ปี",
          "50-59 ปี",
          "50-59 ปี",
          "50-59 ปี",
          "50-59 ปี",
          "50-59 ปี",
          "50-59 ปี",
          "50-59 ปี",
          "50-59 ปี",
          "50-59 ปี",
          "50-59 ปี",
          "50-59 ปี",
          "50-59 ปี",
          "50-59 ปี",
          "50-59 ปี",
          "50-59 ปี",
          "50-59 ปี",
          "50-59 ปี",
          "50-59 ปี",
          "50-59 ปี",
          "50-59 ปี",
          "50-59 ปี",
          "60-69 ปี",
          "60-69 ปี",
          "60-69 ปี",
          "60-69 ปี",
          "60-69 ปี",
          "60-69 ปี",
          "60-69 ปี",
          "60-69 ปี",
          "60-69 ปี",
          "60-69 ปี",
          "60-69 ปี",
          "60-69 ปี",
          "60-69 ปี",
          "60-69 ปี",
          "60-69 ปี",
          "60-69 ปี",
          "60-69 ปี",
          "60-69 ปี",
          "60-69 ปี",
          "60-69 ปี",
          "60-69 ปี",
          "60-69 ปี",
          "60-69 ปี",
          "60-69 ปี",
          "60-69 ปี",
          "60-69 ปี",
          "60-69 ปี",
          "60-69 ปี",
          "60-69 ปี",
          "60-69 ปี",
          "60-69 ปี",
          "60-69 ปี",
          "60-69 ปี",
          "60-69 ปี",
          "60-69 ปี",
          "60-69 ปี",
          "60-69 ปี",
          "60-69 ปี",
          "60-69 ปี",
          "60-69 ปี",
          "60-69 ปี",
          "60-69 ปี",
          "60-69 ปี",
          "60-69 ปี",
          "60-69 ปี",
          "60-69 ปี",
          "60-69 ปี",
          "60-69 ปี",
          "60-69 ปี",
          "60-69 ปี",
          "60-69 ปี",
          "60-69 ปี",
          "60-69 ปี",
          "60-69 ปี",
          "60-69 ปี",
          "60-69 ปี",
          "60-69 ปี",
          "60-69 ปี",
          "60-69 ปี",
          "60-69 ปี",
          "60-69 ปี",
          "60-69 ปี",
          "60-69 ปี",
          "60-69 ปี",
          "60-69 ปี",
          "60-69 ปี",
          "60-69 ปี",
          "60-69 ปี",
          "60-69 ปี",
          "60-69 ปี",
          "60-69 ปี",
          "60-69 ปี",
          "60-69 ปี",
          "60-69 ปี",
          "60-69 ปี",
          "60-69 ปี",
          "60-69 ปี",
          "60-69 ปี",
          "60-69 ปี",
          "60-69 ปี",
          "60-69 ปี",
          "60-69 ปี",
          "60-69 ปี",
          "60-69 ปี",
          "60-69 ปี",
          "60-69 ปี",
          "60-69 ปี",
          "60-69 ปี",
          "60-69 ปี",
          "60-69 ปี",
          "60-69 ปี",
          "60-69 ปี",
          "60-69 ปี",
          "60-69 ปี",
          "60-69 ปี",
          "60-69 ปี",
          "60-69 ปี",
          "60-69 ปี",
          "60-69 ปี",
          "60-69 ปี",
          "60-69 ปี",
          "60-69 ปี",
          "60-69 ปี",
          "60-69 ปี",
          "60-69 ปี",
          "60-69 ปี",
          "< 10 ปี",
          "< 10 ปี",
          "< 10 ปี",
          "< 10 ปี",
          "< 10 ปี",
          "< 10 ปี",
          "< 10 ปี",
          "< 10 ปี",
          "< 10 ปี",
          "< 10 ปี",
          "< 10 ปี",
          "< 10 ปี",
          "< 10 ปี",
          "< 10 ปี",
          "< 10 ปี",
          "< 10 ปี",
          "< 10 ปี",
          "< 10 ปี",
          "< 10 ปี",
          "< 10 ปี",
          "< 10 ปี",
          "< 10 ปี",
          "< 10 ปี",
          "< 10 ปี",
          "< 10 ปี",
          "< 10 ปี",
          "< 10 ปี",
          "< 10 ปี",
          "< 10 ปี",
          "< 10 ปี",
          "< 10 ปี",
          "< 10 ปี",
          "< 10 ปี",
          "< 10 ปี",
          "< 10 ปี",
          "< 10 ปี",
          "< 10 ปี",
          "< 10 ปี",
          "< 10 ปี",
          "< 10 ปี",
          "< 10 ปี",
          "< 10 ปี",
          "< 10 ปี",
          "< 10 ปี",
          "< 10 ปี",
          "< 10 ปี",
          "< 10 ปี",
          "< 10 ปี",
          "< 10 ปี",
          "< 10 ปี",
          "< 10 ปี",
          "< 10 ปี",
          "< 10 ปี",
          "< 10 ปี",
          "< 10 ปี",
          "< 10 ปี",
          "< 10 ปี",
          "< 10 ปี",
          "< 10 ปี",
          "< 10 ปี",
          "< 10 ปี",
          "< 10 ปี",
          "< 10 ปี",
          "< 10 ปี",
          "< 10 ปี",
          "< 10 ปี",
          "< 10 ปี",
          "< 10 ปี",
          "< 10 ปี",
          "< 10 ปี",
          "< 10 ปี",
          "< 10 ปี",
          "< 10 ปี",
          "< 10 ปี",
          "< 10 ปี",
          "< 10 ปี",
          "< 10 ปี",
          "< 10 ปี",
          "< 10 ปี",
          "< 10 ปี",
          "< 10 ปี",
          "< 10 ปี",
          "< 10 ปี",
          "< 10 ปี",
          "< 10 ปี",
          "< 10 ปี",
          "< 10 ปี",
          "< 10 ปี",
          "< 10 ปี",
          "< 10 ปี",
          "< 10 ปี",
          "< 10 ปี",
          "< 10 ปี",
          "< 10 ปี",
          "< 10 ปี",
          "< 10 ปี",
          "< 10 ปี",
          "< 10 ปี",
          "< 10 ปี",
          "< 10 ปี",
          "< 10 ปี",
          "< 10 ปี",
          "< 10 ปี",
          "< 10 ปี",
          "< 10 ปี",
          "< 10 ปี",
          "< 10 ปี",
          "< 10 ปี",
          "< 10 ปี",
          "< 10 ปี",
          "< 10 ปี",
          "< 10 ปี",
          "< 10 ปี",
          "< 10 ปี",
          "< 10 ปี",
          "< 10 ปี",
          "< 10 ปี",
          "< 10 ปี",
          "< 10 ปี",
          "< 10 ปี",
          "< 10 ปี",
          "< 10 ปี",
          "< 10 ปี",
          "< 10 ปี",
          "< 10 ปี",
          "< 10 ปี",
          "< 10 ปี",
          "< 10 ปี",
          "< 10 ปี",
          "< 10 ปี",
          "< 10 ปี",
          "< 10 ปี",
          "< 10 ปี",
          "< 10 ปี",
          "< 10 ปี",
          "< 10 ปี",
          "< 10 ปี",
          "< 10 ปี",
          "< 10 ปี",
          "< 10 ปี",
          "< 10 ปี",
          "< 10 ปี",
          "< 10 ปี",
          ">= 70 ปี",
          ">= 70 ปี",
          ">= 70 ปี",
          ">= 70 ปี",
          ">= 70 ปี",
          ">= 70 ปี",
          ">= 70 ปี",
          ">= 70 ปี",
          ">= 70 ปี",
          ">= 70 ปี",
          ">= 70 ปี",
          ">= 70 ปี",
          ">= 70 ปี",
          ">= 70 ปี",
          ">= 70 ปี",
          ">= 70 ปี",
          ">= 70 ปี",
          ">= 70 ปี",
          ">= 70 ปี",
          ">= 70 ปี",
          ">= 70 ปี",
          ">= 70 ปี",
          ">= 70 ปี",
          ">= 70 ปี",
          ">= 70 ปี",
          ">= 70 ปี",
          ">= 70 ปี",
          ">= 70 ปี",
          ">= 70 ปี",
          ">= 70 ปี",
          ">= 70 ปี",
          ">= 70 ปี",
          ">= 70 ปี",
          ">= 70 ปี",
          ">= 70 ปี",
          ">= 70 ปี",
          ">= 70 ปี",
          ">= 70 ปี",
          ">= 70 ปี",
          ">= 70 ปี",
          ">= 70 ปี",
          ">= 70 ปี",
          ">= 70 ปี",
          ">= 70 ปี",
          ">= 70 ปี",
          ">= 70 ปี",
          ">= 70 ปี",
          ">= 70 ปี",
          ">= 70 ปี",
          ">= 70 ปี",
          ">= 70 ปี",
          ">= 70 ปี",
          ">= 70 ปี",
          ">= 70 ปี",
          ">= 70 ปี",
          ">= 70 ปี",
          ">= 70 ปี",
          ">= 70 ปี",
          ">= 70 ปี",
          ">= 70 ปี",
          ">= 70 ปี",
          ">= 70 ปี",
          ">= 70 ปี",
          ">= 70 ปี",
          ">= 70 ปี",
          ">= 70 ปี",
          ">= 70 ปี",
          ">= 70 ปี",
          ">= 70 ปี",
          ">= 70 ปี",
          ">= 70 ปี",
          ">= 70 ปี",
          ">= 70 ปี",
          ">= 70 ปี",
          ">= 70 ปี",
          ">= 70 ปี",
          ">= 70 ปี",
          ">= 70 ปี",
          ">= 70 ปี",
          ">= 70 ปี",
          ">= 70 ปี",
          ">= 70 ปี",
          ">= 70 ปี",
          ">= 70 ปี",
          ">= 70 ปี",
          ">= 70 ปี",
          ">= 70 ปี",
          ">= 70 ปี",
          ">= 70 ปี",
          ">= 70 ปี",
          ">= 70 ปี",
          ">= 70 ปี",
          ">= 70 ปี",
          ">= 70 ปี",
          ">= 70 ปี",
          ">= 70 ปี",
          ">= 70 ปี",
          ">= 70 ปี",
          ">= 70 ปี",
          ">= 70 ปี",
          ">= 70 ปี",
          ">= 70 ปี",
          "ไม่ระบุ",
          "ไม่ระบุ",
          "ไม่ระบุ",
          "ไม่ระบุ",
          "ไม่ระบุ",
          "ไม่ระบุ",
          "ไม่ระบุ",
          "ไม่ระบุ",
          "ไม่ระบุ",
          "ไม่ระบุ",
          "ไม่ระบุ",
          "ไม่ระบุ",
          "ไม่ระบุ",
          "ไม่ระบุ",
          "ไม่ระบุ",
          "ไม่ระบุ",
          "ไม่ระบุ",
          "ไม่ระบุ",
          "ไม่ระบุ",
          "ไม่ระบุ",
          "ไม่ระบุ",
          "ไม่ระบุ",
          "ไม่ระบุ",
          "ไม่ระบุ",
          "ไม่ระบุ",
          "ไม่ระบุ",
          "ไม่ระบุ",
          "ไม่ระบุ",
          "ไม่ระบุ",
          "ไม่ระบุ",
          "ไม่ระบุ",
          "ไม่ระบุ",
          "ไม่ระบุ",
          "ไม่ระบุ",
          "ไม่ระบุ",
          "ไม่ระบุ",
          "ไม่ระบุ",
          "ไม่ระบุ",
          "ไม่ระบุ",
          "ไม่ระบุ",
          "ไม่ระบุ",
          "ไม่ระบุ",
          "ไม่ระบุ",
          "ไม่ระบุ",
          "ไม่ระบุ",
          "ไม่ระบุ",
          "ไม่ระบุ",
          "ไม่ระบุ",
          "ไม่ระบุ",
          "ไม่ระบุ",
          "ไม่ระบุ",
          "ไม่ระบุ",
          "ไม่ระบุ",
          "ไม่ระบุ",
          "ไม่ระบุ",
          "ไม่ระบุ",
          "ไม่ระบุ",
          "ไม่ระบุ",
          "ไม่ระบุ",
          "ไม่ระบุ",
          "ไม่ระบุ",
          "ไม่ระบุ",
          "ไม่ระบุ",
          "ไม่ระบุ",
          "ไม่ระบุ",
          "ชาย",
          "ชาย",
          "ชาย",
          "ชาย",
          "ชาย",
          "ชาย",
          "ชาย",
          "ชาย",
          "ชาย",
          "ชาย",
          "ชาย",
          "ชาย",
          "ชาย",
          "ชาย",
          "ชาย",
          "ชาย",
          "ชาย",
          "ชาย",
          "ชาย",
          "ชาย",
          "ชาย",
          "ชาย",
          "ชาย",
          "ชาย",
          "ชาย",
          "ชาย",
          "ชาย",
          "ชาย",
          "ชาย",
          "ชาย",
          "ชาย",
          "ชาย",
          "ชาย",
          "ชาย",
          "ชาย",
          "ชาย",
          "ชาย",
          "ชาย",
          "ชาย",
          "ชาย",
          "ชาย",
          "ชาย",
          "ชาย",
          "ชาย",
          "ชาย",
          "ชาย",
          "ชาย",
          "ชาย",
          "ชาย",
          "ชาย",
          "ชาย",
          "ชาย",
          "ชาย",
          "ชาย",
          "ชาย",
          "ชาย",
          "ชาย",
          "ชาย",
          "ชาย",
          "ชาย",
          "ชาย",
          "ชาย",
          "ชาย",
          "ชาย",
          "ชาย",
          "ชาย",
          "ชาย",
          "ชาย",
          "ชาย",
          "ชาย",
          "ชาย",
          "ชาย",
          "ชาย",
          "ชาย",
          "ชาย",
          "ชาย",
          "ชาย",
          "ชาย",
          "ชาย",
          "ชาย",
          "ชาย",
          "ชาย",
          "ชาย",
          "ชาย",
          "ชาย",
          "ชาย",
          "ชาย",
          "ชาย",
          "ชาย",
          "ชาย",
          "ชาย",
          "ชาย",
          "ชาย",
          "ชาย",
          "ชาย",
          "ชาย",
          "ชาย",
          "ชาย",
          "ชาย",
          "ชาย",
          "ชาย",
          "ชาย",
          "ชาย",
          "ชาย",
          "ชาย",
          "ชาย",
          "ชาย",
          "ชาย",
          "ชาย",
          "ชาย",
          "ชาย",
          "ชาย",
          "ชาย",
          "ชาย",
          "ชาย",
          "ชาย",
          "ชาย",
          "ชาย",
          "ชาย",
          "ชาย",
          "ชาย",
          "ชาย",
          "ชาย",
          "ชาย",
          "ชาย",
          "ชาย",
          "ชาย",
          "ชาย",
          "ชาย",
          "ชาย",
          "ชาย",
          "ชาย",
          "ชาย",
          "ชาย",
          "ชาย",
          "ชาย",
          "ชาย",
          "ชาย",
          "ชาย",
          "ชาย",
          "ชาย",
          "ชาย",
          "ชาย",
          "หญิง",
          "หญิง",
          "หญิง",
          "หญิง",
          "หญิง",
          "หญิง",
          "หญิง",
          "หญิง",
          "หญิง",
          "หญิง",
          "หญิง",
          "หญิง",
          "หญิง",
          "หญิง",
          "หญิง",
          "หญิง",
          "หญิง",
          "หญิง",
          "หญิง",
          "หญิง",
          "หญิง",
          "หญิง",
          "หญิง",
          "หญิง",
          "หญิง",
          "หญิง",
          "หญิง",
          "หญิง",
          "หญิง",
          "หญิง",
          "หญิง",
          "หญิง",
          "หญิง",
          "หญิง",
          "หญิง",
          "หญิง",
          "หญิง",
          "หญิง",
          "หญิง",
          "หญิง",
          "หญิง",
          "หญิง",
          "หญิง",
          "หญิง",
          "หญิง",
          "หญิง",
          "หญิง",
          "หญิง",
          "หญิง",
          "หญิง",
          "หญิง",
          "หญิง",
          "หญิง",
          "หญิง",
          "หญิง",
          "หญิง",
          "หญิง",
          "หญิง",
          "หญิง",
          "หญิง",
          "หญิง",
          "หญิง",
          "หญิง",
          "หญิง",
          "หญิง",
          "หญิง",
          "หญิง",
          "หญิง",
          "หญิง",
          "หญิง",
          "หญิง",
          "หญิง",
          "หญิง",
          "หญิง",
          "หญิง",
          "หญิง",
          "หญิง",
          "หญิง",
          "หญิง",
          "หญิง",
          "หญิง",
          "หญิง",
          "หญิง",
          "หญิง",
          "หญิง",
          "หญิง",
          "หญิง",
          "หญิง",
          "หญิง",
          "หญิง",
          "หญิง",
          "หญิง",
          "หญิง",
          "หญิง",
          "หญิง",
          "หญิง",
          "หญิง",
          "หญิง",
          "หญิง",
          "หญิง",
          "หญิง",
          "หญิง",
          "หญิง",
          "หญิง",
          "หญิง",
          "หญิง",
          "หญิง",
          "หญิง",
          "หญิง",
          "หญิง",
          "หญิง",
          "หญิง",
          "หญิง",
          "หญิง",
          "หญิง",
          "หญิง",
          "หญิง",
          "หญิง",
          "หญิง",
          "หญิง",
          "หญิง",
          "หญิง",
          "หญิง",
          "หญิง",
          "หญิง",
          "หญิง",
          "หญิง",
          "หญิง",
          "หญิง",
          "หญิง",
          "หญิง",
          "หญิง",
          "หญิง",
          "หญิง",
          "หญิง",
          "ไม่ระบุ",
          "ไม่ระบุ",
          "ไม่ระบุ",
          "ไม่ระบุ",
          "ไม่ระบุ",
          "ไม่ระบุ",
          "ไม่ระบุ",
          "ไม่ระบุ",
          "ไม่ระบุ",
          "ไม่ระบุ",
          "ไม่ระบุ",
          "กระบี่",
          "กระบี่",
          "กรุงเทพมหานคร",
          "กรุงเทพมหานคร",
          "กรุงเทพมหานคร",
          "กรุงเทพมหานคร",
          "กรุงเทพมหานคร",
          "กรุงเทพมหานคร",
          "กรุงเทพมหานคร",
          "กรุงเทพมหานคร",
          "กรุงเทพมหานคร",
          "กรุงเทพมหานคร",
          "กรุงเทพมหานคร",
          "กรุงเทพมหานคร",
          "กรุงเทพมหานคร",
          "กรุงเทพมหานคร",
          "กรุงเทพมหานคร",
          "กาญจนบุรี",
          "กาญจนบุรี",
          "กาฬสินธุ์",
          "กำแพงเพชร",
          "กำแพงเพชร",
          "ขอนแก่น",
          "จันทบุรี",
          "จันทบุรี",
          "จันทบุรี",
          "ฉะเชิงเทรา",
          "ฉะเชิงเทรา",
          "ฉะเชิงเทรา",
          "ชลบุรี",
          "ชลบุรี",
          "ชลบุรี",
          "ชลบุรี",
          "ชลบุรี",
          "ชลบุรี",
          "ชลบุรี",
          "ชลบุรี",
          "ชัยนาท",
          "ชัยภูมิ",
          "ชัยภูมิ",
          "ชุมพร",
          "ชุมพร",
          "ชุมพร",
          "ชุมพร",
          "ตรัง",
          "ตราด",
          "ตราด",
          "ตราด",
          "ตาก",
          "ตาก",
          "ตาก",
          "นครนายก",
          "นครนายก",
          "นครนายก",
          "นครปฐม",
          "นครปฐม",
          "นครปฐม",
          "นครพนม",
          "นครราชสีมา",
          "นครราชสีมา",
          "นครศรีธรรมราช",
          "นครสวรรค์",
          "นครสวรรค์",
          "นครสวรรค์",
          "นนทบุรี",
          "นนทบุรี",
          "นนทบุรี",
          "นนทบุรี",
          "นนทบุรี",
          "นราธิวาส",
          "นราธิวาส",
          "นราธิวาส",
          "บึงกาฬ",
          "บุรีรัมย์",
          "ปทุมธานี",
          "ปทุมธานี",
          "ปทุมธานี",
          "ปทุมธานี",
          "ประจวบคีรีขันธ์",
          "ประจวบคีรีขันธ์",
          "ประจวบคีรีขันธ์",
          "ปราจีนบุรี",
          "ปราจีนบุรี",
          "ปราจีนบุรี",
          "ปราจีนบุรี",
          "ปัตตานี",
          "พระนครศรีอยุธยา",
          "พระนครศรีอยุธยา",
          "พังงา",
          "พังงา",
          "พัทลุง",
          "พิจิตร",
          "พิษณุโลก",
          "ภูเก็ต",
          "ภูเก็ต",
          "ภูเก็ต",
          "ภูเก็ต",
          "มหาสารคาม",
          "มุกดาหาร",
          "ยะลา",
          "ยโสธร",
          "ระนอง",
          "ระยอง",
          "ระยอง",
          "ระยอง",
          "ระยอง",
          "ระยอง",
          "ระยอง",
          "ราชบุรี",
          "ราชบุรี",
          "ราชบุรี",
          "ร้อยเอ็ด",
          "ลพบุรี",
          "ลำปาง",
          "ลำพูน",
          "ศรีสะเกษ",
          "สกลนคร",
          "สกลนคร",
          "สงขลา",
          "สงขลา",
          "สตูล",
          "สมุทรปราการ",
          "สมุทรปราการ",
          "สมุทรปราการ",
          "สมุทรปราการ",
          "สมุทรสงคราม",
          "สมุทรสาคร",
          "สมุทรสาคร",
          "สมุทรสาคร",
          "สมุทรสาคร",
          "สระบุรี",
          "สระบุรี",
          "สระแก้ว",
          "สระแก้ว",
          "สระแก้ว",
          "สิงห์บุรี",
          "สุพรรณบุรี",
          "สุพรรณบุรี",
          "สุราษฎร์ธานี",
          "สุราษฎร์ธานี",
          "สุราษฎร์ธานี",
          "สุรินทร์",
          "สุโขทัย",
          "หนองคาย",
          "หนองบัวลำภู",
          "อำนาจเจริญ",
          "อุดรธานี",
          "อุตรดิตถ์",
          "อุทัยธานี",
          "อุทัยธานี",
          "อุทัยธานี",
          "อุบลราชธานี",
          "อุบลราชธานี",
          "อ่างทอง",
          "อ่างทอง",
          "เชียงราย",
          "เชียงราย",
          "เชียงใหม่",
          "เพชรบุรี",
          "เพชรบุรี",
          "เพชรบุรี",
          "เพชรบูรณ์",
          "เลย",
          "แพร่",
          "แม่ฮ่องสอน",
          "American",
          "Bangladeshi",
          "British / English",
          "Burmese",
          "Cambodian",
          "Cameroon",
          "Canadian",
          "Chinese",
          "Dutch",
          "Filipino",
          "French",
          "German",
          "Indian",
          "Japanese",
          "Kuwaiti",
          "Laotian / Lao",
          "Russian",
          "Taiwanese",
          "Thai",
          "cambodian",
          "chinese",
          "อื่น ๆ"
         ],
         "marker": {
          "coloraxis": "coloraxis",
          "colors": [
           1590,
           1590,
           80,
           26,
           130,
           228,
           228,
           140,
           140,
           774,
           774,
           774,
           21,
           194,
           194,
           80,
           68,
           68,
           151,
           151,
           88,
           54,
           4,
           191,
           205,
           104,
           173,
           513,
           81,
           72,
           72,
           257,
           200,
           93,
           88,
           54,
           9,
           197,
           34,
           452,
           4,
           28,
           545,
           545,
           17,
           72,
           21,
           35,
           517,
           38,
           587,
           587,
           30,
           99,
           155,
           220,
           20,
           86,
           220,
           36,
           7,
           121,
           13,
           23,
           23,
           138,
           36,
           29,
           59,
           125,
           47,
           42,
           14,
           12,
           1590,
           1590,
           80,
           26,
           130,
           228,
           228,
           228,
           140,
           774,
           774,
           774,
           774,
           21,
           194,
           194,
           80,
           68,
           151,
           151,
           88,
           191,
           205,
           104,
           104,
           173,
           513,
           81,
           72,
           72,
           257,
           200,
           93,
           88,
           54,
           9,
           38,
           197,
           34,
           452,
           545,
           17,
           72,
           11,
           40,
           21,
           517,
           587,
           587,
           587,
           30,
           99,
           155,
           220,
           86,
           220,
           220,
           36,
           121,
           13,
           23,
           23,
           138,
           36,
           29,
           59,
           125,
           47,
           42,
           14,
           12,
           1590,
           1590,
           1590,
           1590,
           1590,
           1590,
           1590,
           80,
           80,
           26,
           130,
           228,
           228,
           140,
           140,
           774,
           774,
           774,
           774,
           774,
           774,
           21,
           194,
           194,
           80,
           68,
           151,
           151,
           88,
           54,
           54,
           191,
           191,
           205,
           104,
           173,
           173,
           173,
           513,
           513,
           48,
           81,
           81,
           72,
           72,
           72,
           257,
           257,
           257,
           200,
           93,
           88,
           54,
           38,
           197,
           34,
           452,
           28,
           545,
           545,
           72,
           11,
           40,
           21,
           35,
           517,
           517,
           38,
           587,
           587,
           587,
           30,
           99,
           99,
           155,
           220,
           220,
           20,
           86,
           220,
           220,
           22,
           36,
           121,
           23,
           138,
           36,
           29,
           59,
           125,
           125,
           47,
           14,
           1590,
           1590,
           1590,
           1590,
           1590,
           80,
           80,
           26,
           130,
           228,
           228,
           140,
           140,
           140,
           774,
           774,
           774,
           774,
           774,
           21,
           194,
           194,
           80,
           68,
           68,
           151,
           151,
           88,
           54,
           54,
           4,
           191,
           191,
           205,
           104,
           173,
           173,
           513,
           81,
           81,
           72,
           72,
           257,
           257,
           200,
           93,
           93,
           88,
           54,
           9,
           38,
           197,
           197,
           34,
           8,
           452,
           28,
           545,
           545,
           545,
           72,
           40,
           21,
           35,
           35,
           517,
           517,
           38,
           587,
           587,
           587,
           587,
           30,
           99,
           99,
           155,
           155,
           220,
           220,
           20,
           86,
           220,
           220,
           22,
           36,
           5,
           4,
           121,
           13,
           23,
           138,
           138,
           29,
           59,
           125,
           125,
           125,
           47,
           42,
           1590,
           151,
           1590,
           1590,
           1590,
           1590,
           1590,
           1590,
           1590,
           80,
           80,
           26,
           19,
           130,
           228,
           140,
           140,
           140,
           774,
           774,
           774,
           774,
           774,
           21,
           24,
           194,
           194,
           80,
           68,
           68,
           68,
           151,
           151,
           88,
           88,
           54,
           4,
           191,
           205,
           104,
           104,
           173,
           173,
           173,
           513,
           513,
           513,
           81,
           72,
           72,
           257,
           257,
           257,
           200,
           93,
           88,
           88,
           54,
           9,
           38,
           197,
           197,
           452,
           4,
           28,
           545,
           545,
           545,
           17,
           72,
           11,
           40,
           21,
           35,
           517,
           517,
           587,
           587,
           587,
           30,
           99,
           99,
           99,
           155,
           220,
           220,
           20,
           86,
           86,
           220,
           220,
           22,
           36,
           4,
           121,
           13,
           23,
           138,
           36,
           59,
           125,
           125,
           47,
           42,
           12,
           1590,
           1590,
           1590,
           1590,
           1590,
           1590,
           80,
           80,
           19,
           130,
           228,
           228,
           140,
           140,
           140,
           774,
           774,
           774,
           774,
           774,
           194,
           194,
           194,
           80,
           68,
           68,
           68,
           151,
           151,
           88,
           54,
           191,
           191,
           205,
           104,
           173,
           173,
           173,
           513,
           513,
           81,
           81,
           81,
           81,
           72,
           72,
           257,
           257,
           200,
           93,
           88,
           54,
           9,
           38,
           197,
           34,
           8,
           452,
           28,
           545,
           545,
           545,
           17,
           72,
           11,
           40,
           21,
           35,
           517,
           517,
           38,
           587,
           587,
           587,
           30,
           99,
           99,
           99,
           155,
           220,
           20,
           86,
           220,
           220,
           22,
           36,
           7,
           4,
           121,
           13,
           138,
           36,
           29,
           59,
           125,
           47,
           42,
           14,
           12,
           1590,
           151,
           1590,
           1590,
           1590,
           1590,
           1590,
           1590,
           80,
           80,
           26,
           130,
           228,
           140,
           140,
           774,
           774,
           774,
           774,
           774,
           21,
           194,
           194,
           80,
           68,
           151,
           151,
           88,
           88,
           54,
           54,
           191,
           205,
           104,
           104,
           173,
           173,
           513,
           513,
           81,
           81,
           72,
           72,
           257,
           257,
           200,
           93,
           88,
           88,
           54,
           9,
           38,
           197,
           197,
           34,
           452,
           28,
           545,
           545,
           545,
           545,
           17,
           72,
           40,
           21,
           35,
           517,
           517,
           38,
           587,
           587,
           30,
           99,
           99,
           155,
           220,
           20,
           86,
           220,
           22,
           36,
           121,
           13,
           23,
           138,
           36,
           29,
           59,
           125,
           47,
           42,
           1590,
           1590,
           1590,
           1590,
           1590,
           26,
           19,
           130,
           228,
           228,
           140,
           774,
           774,
           774,
           194,
           194,
           80,
           68,
           68,
           151,
           151,
           88,
           88,
           54,
           191,
           205,
           104,
           173,
           513,
           81,
           72,
           72,
           257,
           257,
           257,
           200,
           93,
           88,
           88,
           54,
           38,
           197,
           34,
           8,
           452,
           28,
           545,
           545,
           545,
           17,
           72,
           40,
           21,
           35,
           517,
           517,
           38,
           587,
           587,
           587,
           30,
           99,
           155,
           220,
           86,
           220,
           220,
           22,
           36,
           7,
           121,
           23,
           23,
           138,
           36,
           36,
           29,
           59,
           125,
           47,
           14,
           1590,
           151,
           1590,
           1590,
           1590,
           1590,
           1590,
           80,
           26,
           130,
           228,
           140,
           774,
           774,
           21,
           194,
           80,
           68,
           151,
           88,
           54,
           54,
           191,
           205,
           104,
           173,
           513,
           4,
           48,
           81,
           72,
           257,
           200,
           93,
           88,
           88,
           54,
           38,
           197,
           8,
           452,
           28,
           545,
           545,
           545,
           545,
           72,
           21,
           35,
           517,
           517,
           38,
           587,
           587,
           30,
           99,
           155,
           220,
           220,
           20,
           86,
           220,
           220,
           22,
           36,
           121,
           138,
           36,
           59,
           125,
           47,
           14,
           1590,
           1590,
           80,
           80,
           26,
           19,
           130,
           228,
           140,
           140,
           774,
           774,
           21,
           194,
           80,
           68,
           68,
           151,
           88,
           54,
           191,
           205,
           104,
           104,
           173,
           173,
           513,
           4,
           81,
           72,
           257,
           200,
           93,
           88,
           54,
           38,
           197,
           197,
           34,
           8,
           452,
           28,
           545,
           17,
           72,
           11,
           40,
           35,
           517,
           38,
           587,
           587,
           587,
           30,
           99,
           99,
           155,
           220,
           20,
           86,
           220,
           220,
           22,
           36,
           121,
           23,
           138,
           36,
           59,
           125,
           47,
           12,
           1590,
           151,
           151,
           1590,
           1590,
           80,
           80,
           19,
           130,
           228,
           140,
           774,
           21,
           194,
           80,
           68,
           151,
           88,
           54,
           191,
           205,
           104,
           173,
           513,
           81,
           257,
           200,
           93,
           88,
           38,
           197,
           452,
           4,
           28,
           545,
           545,
           72,
           11,
           35,
           517,
           38,
           587,
           30,
           155,
           220,
           86,
           220,
           121,
           13,
           138,
           36,
           29,
           125,
           47,
           1590,
           80,
           80,
           19,
           130,
           228,
           140,
           774,
           21,
           194,
           80,
           68,
           151,
           88,
           54,
           191,
           205,
           104,
           173,
           513,
           72,
           257,
           200,
           93,
           88,
           54,
           38,
           197,
           34,
           452,
           28,
           545,
           72,
           40,
           517,
           38,
           587,
           30,
           99,
           155,
           220,
           20,
           220,
           22,
           36,
           5,
           7,
           121,
           13,
           138,
           36,
           125,
           47,
           14,
           1590,
           1590,
           80,
           26,
           19,
           130,
           228,
           140,
           140,
           774,
           774,
           774,
           774,
           21,
           194,
           194,
           194,
           80,
           68,
           68,
           151,
           151,
           88,
           54,
           191,
           205,
           104,
           173,
           513,
           81,
           72,
           257,
           200,
           93,
           88,
           54,
           38,
           197,
           34,
           452,
           28,
           545,
           545,
           545,
           17,
           72,
           11,
           40,
           35,
           517,
           38,
           587,
           587,
           99,
           99,
           155,
           220,
           20,
           86,
           220,
           220,
           36,
           5,
           7,
           121,
           13,
           138,
           36,
           29,
           59,
           125,
           125,
           47,
           42,
           12,
           1590,
           1590,
           80,
           80,
           19,
           130,
           228,
           228,
           228,
           140,
           140,
           140,
           774,
           774,
           774,
           194,
           194,
           80,
           68,
           68,
           151,
           88,
           88,
           54,
           191,
           205,
           104,
           173,
           513,
           4,
           81,
           72,
           257,
           200,
           93,
           88,
           54,
           38,
           197,
           452,
           545,
           545,
           17,
           72,
           40,
           21,
           35,
           517,
           517,
           587,
           30,
           99,
           155,
           220,
           20,
           86,
           220,
           220,
           36,
           7,
           13,
           138,
           36,
           29,
           59,
           125,
           47,
           1590,
           151,
           1590,
           1590,
           80,
           80,
           19,
           130,
           228,
           140,
           774,
           194,
           80,
           151,
           151,
           88,
           54,
           191,
           205,
           104,
           173,
           173,
           513,
           81,
           72,
           257,
           200,
           93,
           88,
           197,
           452,
           28,
           545,
           72,
           21,
           35,
           517,
           38,
           587,
           30,
           99,
           155,
           220,
           86,
           220,
           121,
           13,
           23,
           138,
           29,
           59,
           47,
           1590,
           80,
           19,
           130,
           228,
           140,
           774,
           21,
           194,
           80,
           151,
           151,
           88,
           54,
           191,
           205,
           104,
           173,
           513,
           81,
           257,
           200,
           93,
           88,
           54,
           38,
           197,
           34,
           452,
           28,
           545,
           17,
           72,
           40,
           35,
           517,
           38,
           587,
           30,
           99,
           155,
           220,
           86,
           220,
           220,
           22,
           121,
           23,
           138,
           36,
           125,
           1590,
           161,
           1590,
           1590,
           1590,
           1590,
           228,
           24,
           151,
           54,
           191,
           191,
           104,
           173,
           513,
           48,
           54,
           197,
           452,
           282,
           282,
           40,
           517,
           86,
           36,
           121,
           125,
           14,
           161,
           1590,
           1590,
           1590,
           1590,
           1590,
           24,
           24,
           151,
           54,
           191,
           173,
           513,
           48,
           200,
           38,
           197,
           452,
           282,
           282,
           282,
           21,
           38,
           20,
           86,
           220,
           121,
           125,
           47,
           161,
           161,
           1590,
           191,
           191,
           173,
           513,
           48,
           36,
           161,
           1590,
           1590,
           1590,
           1590,
           1590,
           1590,
           1590,
           1590,
           1590,
           1590,
           1590,
           1590,
           1590,
           1590,
           80,
           80,
           26,
           19,
           19,
           130,
           228,
           228,
           228,
           140,
           140,
           140,
           774,
           774,
           774,
           774,
           774,
           774,
           774,
           774,
           21,
           24,
           194,
           194,
           194,
           80,
           68,
           68,
           68,
           151,
           151,
           88,
           88,
           88,
           54,
           54,
           54,
           4,
           191,
           191,
           205,
           104,
           104,
           104,
           173,
           173,
           173,
           173,
           513,
           513,
           513,
           4,
           48,
           81,
           81,
           72,
           72,
           72,
           257,
           257,
           257,
           200,
           93,
           88,
           88,
           54,
           9,
           38,
           197,
           197,
           34,
           8,
           452,
           4,
           28,
           545,
           545,
           545,
           545,
           545,
           545,
           282,
           282,
           17,
           72,
           11,
           40,
           21,
           35,
           517,
           517,
           38,
           587,
           587,
           587,
           30,
           99,
           99,
           99,
           99,
           155,
           220,
           220,
           20,
           86,
           86,
           220,
           220,
           22,
           36,
           5,
           7,
           4,
           121,
           13,
           23,
           23,
           138,
           36,
           29,
           29,
           59,
           125,
           125,
           47,
           42,
           14,
           12,
           161,
           1590,
           1590,
           1590,
           1590,
           1590,
           1590,
           1590,
           80,
           80,
           26,
           19,
           130,
           228,
           228,
           228,
           140,
           140,
           140,
           774,
           774,
           774,
           774,
           774,
           774,
           21,
           24,
           24,
           194,
           194,
           194,
           80,
           68,
           68,
           68,
           151,
           151,
           88,
           88,
           88,
           54,
           54,
           4,
           191,
           191,
           205,
           104,
           104,
           173,
           173,
           173,
           513,
           513,
           4,
           48,
           81,
           81,
           81,
           81,
           72,
           72,
           257,
           257,
           257,
           257,
           200,
           93,
           93,
           88,
           88,
           54,
           9,
           38,
           197,
           197,
           197,
           34,
           8,
           452,
           28,
           545,
           545,
           545,
           282,
           282,
           282,
           17,
           72,
           11,
           40,
           21,
           35,
           35,
           517,
           517,
           38,
           587,
           587,
           587,
           587,
           30,
           99,
           99,
           99,
           155,
           155,
           220,
           220,
           20,
           86,
           220,
           220,
           220,
           22,
           36,
           5,
           7,
           4,
           121,
           13,
           23,
           23,
           138,
           138,
           36,
           36,
           29,
           59,
           125,
           125,
           125,
           47,
           42,
           14,
           12,
           161,
           161,
           1590,
           151,
           151,
           191,
           191,
           173,
           513,
           48,
           36,
           161,
           161,
           1590,
           1590,
           1590,
           1590,
           1590,
           1590,
           1590,
           1590,
           1590,
           1590,
           1590,
           1590,
           1590,
           1590,
           1590,
           80,
           80,
           26,
           19,
           19,
           130,
           228,
           228,
           228,
           140,
           140,
           140,
           774,
           774,
           774,
           774,
           774,
           774,
           774,
           774,
           21,
           24,
           24,
           194,
           194,
           194,
           194,
           80,
           68,
           68,
           68,
           151,
           151,
           151,
           88,
           88,
           88,
           54,
           54,
           54,
           4,
           191,
           191,
           205,
           104,
           104,
           104,
           173,
           173,
           173,
           173,
           173,
           513,
           513,
           513,
           4,
           48,
           81,
           81,
           81,
           81,
           72,
           72,
           72,
           257,
           257,
           257,
           257,
           200,
           93,
           93,
           88,
           88,
           54,
           9,
           38,
           197,
           197,
           197,
           197,
           34,
           8,
           452,
           4,
           28,
           545,
           545,
           545,
           545,
           545,
           545,
           282,
           282,
           282,
           17,
           72,
           11,
           40,
           21,
           35,
           35,
           517,
           517,
           38,
           587,
           587,
           587,
           587,
           30,
           99,
           99,
           99,
           99,
           155,
           155,
           220,
           220,
           220,
           20,
           86,
           86,
           220,
           220,
           220,
           22,
           36,
           5,
           7,
           4,
           121,
           13,
           23,
           23,
           23,
           138,
           138,
           36,
           36,
           29,
           29,
           59,
           125,
           125,
           125,
           47,
           42,
           14,
           12,
           1590,
           1590,
           1590,
           1106.1500499431384,
           718.082301768938,
           1590,
           545,
           1265.7265118790497,
           1590,
           54,
           197,
           774,
           1566.0915841584158,
           1322.8324873096446,
           1590,
           1308.5134938946933,
           220,
           1590,
           983.7396558719494,
           140.54520037278658,
           173,
           1388.558298524088
          ]
         },
         "name": "",
         "parents": [
          "Burmese/กรุงเทพมหานคร/ชาย",
          "Thai/กรุงเทพมหานคร/ชาย",
          "Thai/กาญจนบุรี/ชาย",
          "อื่น ๆ/กาฬสินธุ์/ชาย",
          "อื่น ๆ/ขอนแก่น/ชาย",
          "Burmese/จันทบุรี/ชาย",
          "Thai/จันทบุรี/ชาย",
          "Cambodian/ฉะเชิงเทรา/ชาย",
          "Thai/ฉะเชิงเทรา/ชาย",
          "Burmese/ชลบุรี/ชาย",
          "Cambodian/ชลบุรี/ชาย",
          "Thai/ชลบุรี/ชาย",
          "Thai/ชัยนาท/ชาย",
          "Burmese/ชุมพร/ชาย",
          "Thai/ชุมพร/ชาย",
          "Thai/ตรัง/ชาย",
          "Burmese/ตราด/ชาย",
          "Thai/ตราด/ชาย",
          "Burmese/ตาก/ชาย",
          "Thai/ตาก/ชาย",
          "Thai/นครนายก/ชาย",
          "Thai/นครปฐม/ชาย",
          "Thai/นครพนม/ชาย",
          "Thai/นครราชสีมา/ชาย",
          "Thai/นครศรีธรรมราช/ชาย",
          "Thai/นครสวรรค์/ชาย",
          "Thai/นนทบุรี/ชาย",
          "Thai/นราธิวาส/ชาย",
          "Thai/ปทุมธานี/ชาย",
          "Burmese/ประจวบคีรีขันธ์/ชาย",
          "Thai/ประจวบคีรีขันธ์/ชาย",
          "Thai/ปราจีนบุรี/ชาย",
          "Thai/ปัตตานี/ชาย",
          "Thai/พระนครศรีอยุธยา/ชาย",
          "Thai/พังงา/ชาย",
          "Thai/พัทลุง/ชาย",
          "Thai/พิจิตร/ชาย",
          "Thai/ภูเก็ต/ชาย",
          "อื่น ๆ/มหาสารคาม/ชาย",
          "Thai/ยะลา/ชาย",
          "Thai/ยโสธร/ชาย",
          "Thai/ระนอง/ชาย",
          "Burmese/ระยอง/ชาย",
          "Thai/ระยอง/ชาย",
          "อื่น ๆ/ร้อยเอ็ด/ชาย",
          "Thai/ลพบุรี/ชาย",
          "Thai/ศรีสะเกษ/ชาย",
          "อื่น ๆ/สกลนคร/ชาย",
          "Thai/สงขลา/ชาย",
          "Thai/สตูล/ชาย",
          "Cambodian/สมุทรปราการ/ชาย",
          "Thai/สมุทรปราการ/ชาย",
          "Thai/สมุทรสงคราม/ชาย",
          "Thai/สมุทรสาคร/ชาย",
          "Thai/สระบุรี/ชาย",
          "Thai/สระแก้ว/ชาย",
          "Thai/สิงห์บุรี/ชาย",
          "Thai/สุพรรณบุรี/ชาย",
          "Thai/สุราษฎร์ธานี/ชาย",
          "Thai/สุโขทัย/ชาย",
          "Thai/หนองบัวลำภู/ชาย",
          "Thai/อุดรธานี/ชาย",
          "Thai/อุตรดิตถ์/ชาย",
          "Cambodian/อุทัยธานี/ชาย",
          "Thai/อุทัยธานี/ชาย",
          "Thai/อุบลราชธานี/ชาย",
          "Thai/อ่างทอง/ชาย",
          "อื่น ๆ/เชียงราย/ชาย",
          "อื่น ๆ/เชียงใหม่/ชาย",
          "Thai/เพชรบุรี/ชาย",
          "Thai/เพชรบูรณ์/ชาย",
          "Thai/เลย/ชาย",
          "Thai/แพร่/ชาย",
          "Thai/แม่ฮ่องสอน/ชาย",
          "Thai/กรุงเทพมหานคร/หญิง",
          "อื่น ๆ/กรุงเทพมหานคร/หญิง",
          "Thai/กาญจนบุรี/หญิง",
          "อื่น ๆ/กาฬสินธุ์/หญิง",
          "อื่น ๆ/ขอนแก่น/หญิง",
          "Burmese/จันทบุรี/หญิง",
          "Cambodian/จันทบุรี/หญิง",
          "Thai/จันทบุรี/หญิง",
          "Thai/ฉะเชิงเทรา/หญิง",
          "Burmese/ชลบุรี/หญิง",
          "Laotian / Lao/ชลบุรี/หญิง",
          "Thai/ชลบุรี/หญิง",
          "อื่น ๆ/ชลบุรี/หญิง",
          "Thai/ชัยนาท/หญิง",
          "Burmese/ชุมพร/หญิง",
          "Thai/ชุมพร/หญิง",
          "Thai/ตรัง/หญิง",
          "Thai/ตราด/หญิง",
          "Burmese/ตาก/หญิง",
          "Thai/ตาก/หญิง",
          "Thai/นครนายก/หญิง",
          "Thai/นครราชสีมา/หญิง",
          "Thai/นครศรีธรรมราช/หญิง",
          "Burmese/นครสวรรค์/หญิง",
          "Thai/นครสวรรค์/หญิง",
          "Thai/นนทบุรี/หญิง",
          "Thai/นราธิวาส/หญิง",
          "Thai/ปทุมธานี/หญิง",
          "Burmese/ประจวบคีรีขันธ์/หญิง",
          "Thai/ประจวบคีรีขันธ์/หญิง",
          "Thai/ปราจีนบุรี/หญิง",
          "Thai/ปัตตานี/หญิง",
          "Thai/พระนครศรีอยุธยา/หญิง",
          "Thai/พังงา/หญิง",
          "Thai/พัทลุง/หญิง",
          "Thai/พิจิตร/หญิง",
          "Thai/พิษณุโลก/หญิง",
          "Thai/ภูเก็ต/หญิง",
          "อื่น ๆ/มหาสารคาม/หญิง",
          "Thai/ยะลา/หญิง",
          "Thai/ระยอง/หญิง",
          "อื่น ๆ/ร้อยเอ็ด/หญิง",
          "Thai/ลพบุรี/หญิง",
          "Thai/ลำปาง/หญิง",
          "อื่น ๆ/ลำพูน/หญิง",
          "Thai/ศรีสะเกษ/หญิง",
          "Thai/สงขลา/หญิง",
          "Burmese/สมุทรปราการ/หญิง",
          "Cambodian/สมุทรปราการ/หญิง",
          "Thai/สมุทรปราการ/หญิง",
          "Thai/สมุทรสงคราม/หญิง",
          "Thai/สมุทรสาคร/หญิง",
          "Thai/สระบุรี/หญิง",
          "Thai/สระแก้ว/หญิง",
          "Thai/สุพรรณบุรี/หญิง",
          "Burmese/สุราษฎร์ธานี/หญิง",
          "Thai/สุราษฎร์ธานี/หญิง",
          "Thai/สุโขทัย/หญิง",
          "Thai/อุดรธานี/หญิง",
          "Thai/อุตรดิตถ์/หญิง",
          "Thai/อุทัยธานี/หญิง",
          "อื่น ๆ/อุทัยธานี/หญิง",
          "Thai/อุบลราชธานี/หญิง",
          "Thai/อ่างทอง/หญิง",
          "อื่น ๆ/เชียงราย/หญิง",
          "อื่น ๆ/เชียงใหม่/หญิง",
          "Thai/เพชรบุรี/หญิง",
          "Thai/เพชรบูรณ์/หญิง",
          "Thai/เลย/หญิง",
          "Thai/แพร่/หญิง",
          "Thai/แม่ฮ่องสอน/หญิง",
          "อื่น ๆ/กรุงเทพมหานคร/ไม่ระบุ",
          "Bangladeshi/กรุงเทพมหานคร/ชาย",
          "Burmese/กรุงเทพมหานคร/ชาย",
          "Chinese/กรุงเทพมหานคร/ชาย",
          "Laotian / Lao/กรุงเทพมหานคร/ชาย",
          "Thai/กรุงเทพมหานคร/ชาย",
          "อื่น ๆ/กรุงเทพมหานคร/ชาย",
          "Burmese/กาญจนบุรี/ชาย",
          "Thai/กาญจนบุรี/ชาย",
          "อื่น ๆ/กาฬสินธุ์/ชาย",
          "อื่น ๆ/ขอนแก่น/ชาย",
          "Cambodian/จันทบุรี/ชาย",
          "Thai/จันทบุรี/ชาย",
          "Cambodian/ฉะเชิงเทรา/ชาย",
          "Thai/ฉะเชิงเทรา/ชาย",
          "Burmese/ชลบุรี/ชาย",
          "Cambodian/ชลบุรี/ชาย",
          "Chinese/ชลบุรี/ชาย",
          "Laotian / Lao/ชลบุรี/ชาย",
          "Thai/ชลบุรี/ชาย",
          "อื่น ๆ/ชลบุรี/ชาย",
          "Thai/ชัยนาท/ชาย",
          "Burmese/ชุมพร/ชาย",
          "Thai/ชุมพร/ชาย",
          "Thai/ตรัง/ชาย",
          "Thai/ตราด/ชาย",
          "Burmese/ตาก/ชาย",
          "Thai/ตาก/ชาย",
          "Thai/นครนายก/ชาย",
          "Burmese/นครปฐม/ชาย",
          "Thai/นครปฐม/ชาย",
          "Thai/นครราชสีมา/ชาย",
          "อื่น ๆ/นครราชสีมา/ชาย",
          "Thai/นครศรีธรรมราช/ชาย",
          "Thai/นครสวรรค์/ชาย",
          "Burmese/นนทบุรี/ชาย",
          "Thai/นนทบุรี/ชาย",
          "cambodian/นนทบุรี/ชาย",
          "Burmese/นราธิวาส/ชาย",
          "Thai/นราธิวาส/ชาย",
          "อื่น ๆ/บุรีรัมย์/ชาย",
          "Burmese/ปทุมธานี/ชาย",
          "Thai/ปทุมธานี/ชาย",
          "Burmese/ประจวบคีรีขันธ์/ชาย",
          "Cambodian/ประจวบคีรีขันธ์/ชาย",
          "Thai/ประจวบคีรีขันธ์/ชาย",
          "Burmese/ปราจีนบุรี/ชาย",
          "Cambodian/ปราจีนบุรี/ชาย",
          "Thai/ปราจีนบุรี/ชาย",
          "Thai/ปัตตานี/ชาย",
          "Thai/พระนครศรีอยุธยา/ชาย",
          "Thai/พังงา/ชาย",
          "Thai/พัทลุง/ชาย",
          "Thai/พิษณุโลก/ชาย",
          "Thai/ภูเก็ต/ชาย",
          "อื่น ๆ/มหาสารคาม/ชาย",
          "Thai/ยะลา/ชาย",
          "Thai/ระนอง/ชาย",
          "Cambodian/ระยอง/ชาย",
          "Thai/ระยอง/ชาย",
          "Thai/ลพบุรี/ชาย",
          "Thai/ลำปาง/ชาย",
          "อื่น ๆ/ลำพูน/ชาย",
          "Thai/ศรีสะเกษ/ชาย",
          "อื่น ๆ/สกลนคร/ชาย",
          "Burmese/สงขลา/ชาย",
          "Thai/สงขลา/ชาย",
          "Thai/สตูล/ชาย",
          "Burmese/สมุทรปราการ/ชาย",
          "Cambodian/สมุทรปราการ/ชาย",
          "Thai/สมุทรปราการ/ชาย",
          "Thai/สมุทรสงคราม/ชาย",
          "Burmese/สมุทรสาคร/ชาย",
          "Thai/สมุทรสาคร/ชาย",
          "Thai/สระบุรี/ชาย",
          "Thai/สระแก้ว/ชาย",
          "อื่น ๆ/สระแก้ว/ชาย",
          "Thai/สิงห์บุรี/ชาย",
          "Thai/สุพรรณบุรี/ชาย",
          "Burmese/สุราษฎร์ธานี/ชาย",
          "Thai/สุราษฎร์ธานี/ชาย",
          "Thai/สุรินทร์/ชาย",
          "Thai/สุโขทัย/ชาย",
          "Thai/อุดรธานี/ชาย",
          "Thai/อุทัยธานี/ชาย",
          "Thai/อุบลราชธานี/ชาย",
          "Thai/อ่างทอง/ชาย",
          "อื่น ๆ/เชียงราย/ชาย",
          "อื่น ๆ/เชียงใหม่/ชาย",
          "Burmese/เพชรบุรี/ชาย",
          "Thai/เพชรบุรี/ชาย",
          "Thai/เพชรบูรณ์/ชาย",
          "Thai/แพร่/ชาย",
          "Burmese/กรุงเทพมหานคร/หญิง",
          "Cambodian/กรุงเทพมหานคร/หญิง",
          "Laotian / Lao/กรุงเทพมหานคร/หญิง",
          "Thai/กรุงเทพมหานคร/หญิง",
          "อื่น ๆ/กรุงเทพมหานคร/หญิง",
          "Burmese/กาญจนบุรี/หญิง",
          "Thai/กาญจนบุรี/หญิง",
          "อื่น ๆ/กาฬสินธุ์/หญิง",
          "อื่น ๆ/ขอนแก่น/หญิง",
          "Cambodian/จันทบุรี/หญิง",
          "Thai/จันทบุรี/หญิง",
          "Cambodian/ฉะเชิงเทรา/หญิง",
          "Laotian / Lao/ฉะเชิงเทรา/หญิง",
          "Thai/ฉะเชิงเทรา/หญิง",
          "Burmese/ชลบุรี/หญิง",
          "Cambodian/ชลบุรี/หญิง",
          "Laotian / Lao/ชลบุรี/หญิง",
          "Thai/ชลบุรี/หญิง",
          "อื่น ๆ/ชลบุรี/หญิง",
          "Thai/ชัยนาท/หญิง",
          "Burmese/ชุมพร/หญิง",
          "Thai/ชุมพร/หญิง",
          "Thai/ตรัง/หญิง",
          "Cambodian/ตราด/หญิง",
          "Thai/ตราด/หญิง",
          "Burmese/ตาก/หญิง",
          "Thai/ตาก/หญิง",
          "Thai/นครนายก/หญิง",
          "Burmese/นครปฐม/หญิง",
          "Thai/นครปฐม/หญิง",
          "Thai/นครพนม/หญิง",
          "Thai/นครราชสีมา/หญิง",
          "อื่น ๆ/นครราชสีมา/หญิง",
          "Thai/นครศรีธรรมราช/หญิง",
          "Thai/นครสวรรค์/หญิง",
          "Burmese/นนทบุรี/หญิง",
          "Thai/นนทบุรี/หญิง",
          "Thai/นราธิวาส/หญิง",
          "Burmese/ปทุมธานี/หญิง",
          "Thai/ปทุมธานี/หญิง",
          "Burmese/ประจวบคีรีขันธ์/หญิง",
          "Thai/ประจวบคีรีขันธ์/หญิง",
          "Laotian / Lao/ปราจีนบุรี/หญิง",
          "Thai/ปราจีนบุรี/หญิง",
          "Thai/ปัตตานี/หญิง",
          "Burmese/พระนครศรีอยุธยา/หญิง",
          "Thai/พระนครศรีอยุธยา/หญิง",
          "Thai/พังงา/หญิง",
          "Thai/พัทลุง/หญิง",
          "Thai/พิจิตร/หญิง",
          "Thai/พิษณุโลก/หญิง",
          "Burmese/ภูเก็ต/หญิง",
          "Thai/ภูเก็ต/หญิง",
          "อื่น ๆ/มหาสารคาม/หญิง",
          "Thai/มุกดาหาร/หญิง",
          "Thai/ยะลา/หญิง",
          "Thai/ระนอง/หญิง",
          "Burmese/ระยอง/หญิง",
          "Cambodian/ระยอง/หญิง",
          "Thai/ระยอง/หญิง",
          "Thai/ลพบุรี/หญิง",
          "อื่น ๆ/ลำพูน/หญิง",
          "Thai/ศรีสะเกษ/หญิง",
          "Thai/สกลนคร/หญิง",
          "อื่น ๆ/สกลนคร/หญิง",
          "Burmese/สงขลา/หญิง",
          "Thai/สงขลา/หญิง",
          "Thai/สตูล/หญิง",
          "Burmese/สมุทรปราการ/หญิง",
          "Cambodian/สมุทรปราการ/หญิง",
          "Laotian / Lao/สมุทรปราการ/หญิง",
          "Thai/สมุทรปราการ/หญิง",
          "Thai/สมุทรสงคราม/หญิง",
          "Burmese/สมุทรสาคร/หญิง",
          "Thai/สมุทรสาคร/หญิง",
          "Burmese/สระบุรี/หญิง",
          "Thai/สระบุรี/หญิง",
          "Cambodian/สระแก้ว/หญิง",
          "Thai/สระแก้ว/หญิง",
          "Thai/สิงห์บุรี/หญิง",
          "Thai/สุพรรณบุรี/หญิง",
          "Burmese/สุราษฎร์ธานี/หญิง",
          "Thai/สุราษฎร์ธานี/หญิง",
          "Thai/สุรินทร์/หญิง",
          "Thai/สุโขทัย/หญิง",
          "Thai/หนองคาย/หญิง",
          "Thai/อำนาจเจริญ/หญิง",
          "Thai/อุดรธานี/หญิง",
          "Thai/อุตรดิตถ์/หญิง",
          "Thai/อุทัยธานี/หญิง",
          "Laotian / Lao/อุบลราชธานี/หญิง",
          "Thai/อุบลราชธานี/หญิง",
          "อื่น ๆ/เชียงราย/หญิง",
          "อื่น ๆ/เชียงใหม่/หญิง",
          "Burmese/เพชรบุรี/หญิง",
          "Laotian / Lao/เพชรบุรี/หญิง",
          "Thai/เพชรบุรี/หญิง",
          "Thai/เพชรบูรณ์/หญิง",
          "Thai/เลย/หญิง",
          "อื่น ๆ/กรุงเทพมหานคร/ไม่ระบุ",
          "Thai/ตาก/ไม่ระบุ",
          "Bangladeshi/กรุงเทพมหานคร/ชาย",
          "Burmese/กรุงเทพมหานคร/ชาย",
          "Cameroon/กรุงเทพมหานคร/ชาย",
          "Chinese/กรุงเทพมหานคร/ชาย",
          "Indian/กรุงเทพมหานคร/ชาย",
          "Thai/กรุงเทพมหานคร/ชาย",
          "อื่น ๆ/กรุงเทพมหานคร/ชาย",
          "Burmese/กาญจนบุรี/ชาย",
          "Thai/กาญจนบุรี/ชาย",
          "อื่น ๆ/กาฬสินธุ์/ชาย",
          "Burmese/กำแพงเพชร/ชาย",
          "อื่น ๆ/ขอนแก่น/ชาย",
          "Thai/จันทบุรี/ชาย",
          "Cambodian/ฉะเชิงเทรา/ชาย",
          "Laotian / Lao/ฉะเชิงเทรา/ชาย",
          "Thai/ฉะเชิงเทรา/ชาย",
          "Burmese/ชลบุรี/ชาย",
          "Cambodian/ชลบุรี/ชาย",
          "Laotian / Lao/ชลบุรี/ชาย",
          "Thai/ชลบุรี/ชาย",
          "อื่น ๆ/ชลบุรี/ชาย",
          "Thai/ชัยนาท/ชาย",
          "Thai/ชัยภูมิ/ชาย",
          "Burmese/ชุมพร/ชาย",
          "Thai/ชุมพร/ชาย",
          "Thai/ตรัง/ชาย",
          "Burmese/ตราด/ชาย",
          "Cambodian/ตราด/ชาย",
          "Thai/ตราด/ชาย",
          "Burmese/ตาก/ชาย",
          "Thai/ตาก/ชาย",
          "Thai/นครนายก/ชาย",
          "cambodian/นครนายก/ชาย",
          "Thai/นครปฐม/ชาย",
          "Thai/นครพนม/ชาย",
          "Thai/นครราชสีมา/ชาย",
          "Thai/นครศรีธรรมราช/ชาย",
          "Burmese/นครสวรรค์/ชาย",
          "Thai/นครสวรรค์/ชาย",
          "Burmese/นนทบุรี/ชาย",
          "Thai/นนทบุรี/ชาย",
          "cambodian/นนทบุรี/ชาย",
          "Burmese/นราธิวาส/ชาย",
          "Thai/นราธิวาส/ชาย",
          "อื่น ๆ/นราธิวาส/ชาย",
          "Thai/ปทุมธานี/ชาย",
          "Cambodian/ประจวบคีรีขันธ์/ชาย",
          "Thai/ประจวบคีรีขันธ์/ชาย",
          "Burmese/ปราจีนบุรี/ชาย",
          "Cambodian/ปราจีนบุรี/ชาย",
          "Thai/ปราจีนบุรี/ชาย",
          "Thai/ปัตตานี/ชาย",
          "Thai/พระนครศรีอยุธยา/ชาย",
          "Burmese/พังงา/ชาย",
          "Thai/พังงา/ชาย",
          "Thai/พัทลุง/ชาย",
          "Thai/พิจิตร/ชาย",
          "Thai/พิษณุโลก/ชาย",
          "Thai/ภูเก็ต/ชาย",
          "อื่น ๆ/ภูเก็ต/ชาย",
          "Thai/ยะลา/ชาย",
          "Thai/ยโสธร/ชาย",
          "Thai/ระนอง/ชาย",
          "Burmese/ระยอง/ชาย",
          "Cambodian/ระยอง/ชาย",
          "Thai/ระยอง/ชาย",
          "อื่น ๆ/ร้อยเอ็ด/ชาย",
          "Thai/ลพบุรี/ชาย",
          "Thai/ลำปาง/ชาย",
          "อื่น ๆ/ลำพูน/ชาย",
          "Thai/ศรีสะเกษ/ชาย",
          "อื่น ๆ/สกลนคร/ชาย",
          "Burmese/สงขลา/ชาย",
          "Thai/สงขลา/ชาย",
          "Burmese/สมุทรปราการ/ชาย",
          "Cambodian/สมุทรปราการ/ชาย",
          "Thai/สมุทรปราการ/ชาย",
          "Thai/สมุทรสงคราม/ชาย",
          "Burmese/สมุทรสาคร/ชาย",
          "Laotian / Lao/สมุทรสาคร/ชาย",
          "Thai/สมุทรสาคร/ชาย",
          "Thai/สระบุรี/ชาย",
          "Thai/สระแก้ว/ชาย",
          "อื่น ๆ/สระแก้ว/ชาย",
          "Thai/สิงห์บุรี/ชาย",
          "Thai/สุพรรณบุรี/ชาย",
          "อื่น ๆ/สุพรรณบุรี/ชาย",
          "Burmese/สุราษฎร์ธานี/ชาย",
          "Thai/สุราษฎร์ธานี/ชาย",
          "Thai/สุรินทร์/ชาย",
          "Thai/สุโขทัย/ชาย",
          "Thai/อำนาจเจริญ/ชาย",
          "Thai/อุดรธานี/ชาย",
          "Thai/อุตรดิตถ์/ชาย",
          "Thai/อุทัยธานี/ชาย",
          "Thai/อุบลราชธานี/ชาย",
          "Thai/อ่างทอง/ชาย",
          "อื่น ๆ/เชียงใหม่/ชาย",
          "Burmese/เพชรบุรี/ชาย",
          "Thai/เพชรบุรี/ชาย",
          "Thai/เพชรบูรณ์/ชาย",
          "Thai/เลย/ชาย",
          "Thai/แม่ฮ่องสอน/ชาย",
          "Burmese/กรุงเทพมหานคร/หญิง",
          "Cambodian/กรุงเทพมหานคร/หญิง",
          "Indian/กรุงเทพมหานคร/หญิง",
          "Laotian / Lao/กรุงเทพมหานคร/หญิง",
          "Thai/กรุงเทพมหานคร/หญิง",
          "อื่น ๆ/กรุงเทพมหานคร/หญิง",
          "Burmese/กาญจนบุรี/หญิง",
          "Thai/กาญจนบุรี/หญิง",
          "Thai/กำแพงเพชร/หญิง",
          "อื่น ๆ/ขอนแก่น/หญิง",
          "Cambodian/จันทบุรี/หญิง",
          "Thai/จันทบุรี/หญิง",
          "Cambodian/ฉะเชิงเทรา/หญิง",
          "Laotian / Lao/ฉะเชิงเทรา/หญิง",
          "Thai/ฉะเชิงเทรา/หญิง",
          "Burmese/ชลบุรี/หญิง",
          "Cambodian/ชลบุรี/หญิง",
          "Laotian / Lao/ชลบุรี/หญิง",
          "Thai/ชลบุรี/หญิง",
          "อื่น ๆ/ชลบุรี/หญิง",
          "Burmese/ชุมพร/หญิง",
          "Cambodian/ชุมพร/หญิง",
          "Thai/ชุมพร/หญิง",
          "Thai/ตรัง/หญิง",
          "Burmese/ตราด/หญิง",
          "Cambodian/ตราด/หญิง",
          "Thai/ตราด/หญิง",
          "Burmese/ตาก/หญิง",
          "Thai/ตาก/หญิง",
          "Thai/นครนายก/หญิง",
          "Thai/นครปฐม/หญิง",
          "Thai/นครราชสีมา/หญิง",
          "อื่น ๆ/นครราชสีมา/หญิง",
          "Thai/นครศรีธรรมราช/หญิง",
          "Thai/นครสวรรค์/หญิง",
          "Burmese/นนทบุรี/หญิง",
          "Thai/นนทบุรี/หญิง",
          "cambodian/นนทบุรี/หญิง",
          "Burmese/นราธิวาส/หญิง",
          "Thai/นราธิวาส/หญิง",
          "Burmese/ปทุมธานี/หญิง",
          "Laotian / Lao/ปทุมธานี/หญิง",
          "Thai/ปทุมธานี/หญิง",
          "cambodian/ปทุมธานี/หญิง",
          "Burmese/ประจวบคีรีขันธ์/หญิง",
          "Thai/ประจวบคีรีขันธ์/หญิง",
          "Cambodian/ปราจีนบุรี/หญิง",
          "Thai/ปราจีนบุรี/หญิง",
          "Thai/ปัตตานี/หญิง",
          "Thai/พระนครศรีอยุธยา/หญิง",
          "Thai/พังงา/หญิง",
          "Thai/พัทลุง/หญิง",
          "Thai/พิจิตร/หญิง",
          "Thai/พิษณุโลก/หญิง",
          "Thai/ภูเก็ต/หญิง",
          "อื่น ๆ/มหาสารคาม/หญิง",
          "Thai/มุกดาหาร/หญิง",
          "Thai/ยะลา/หญิง",
          "Thai/ระนอง/หญิง",
          "Burmese/ระยอง/หญิง",
          "Cambodian/ระยอง/หญิง",
          "Thai/ระยอง/หญิง",
          "อื่น ๆ/ร้อยเอ็ด/หญิง",
          "Thai/ลพบุรี/หญิง",
          "Thai/ลำปาง/หญิง",
          "อื่น ๆ/ลำพูน/หญิง",
          "Thai/ศรีสะเกษ/หญิง",
          "อื่น ๆ/สกลนคร/หญิง",
          "Burmese/สงขลา/หญิง",
          "Thai/สงขลา/หญิง",
          "Thai/สตูล/หญิง",
          "Burmese/สมุทรปราการ/หญิง",
          "Cambodian/สมุทรปราการ/หญิง",
          "Thai/สมุทรปราการ/หญิง",
          "Thai/สมุทรสงคราม/หญิง",
          "Burmese/สมุทรสาคร/หญิง",
          "Cambodian/สมุทรสาคร/หญิง",
          "Thai/สมุทรสาคร/หญิง",
          "Thai/สระบุรี/หญิง",
          "Thai/สระแก้ว/หญิง",
          "Thai/สิงห์บุรี/หญิง",
          "Thai/สุพรรณบุรี/หญิง",
          "Burmese/สุราษฎร์ธานี/หญิง",
          "Thai/สุราษฎร์ธานี/หญิง",
          "Thai/สุรินทร์/หญิง",
          "Thai/สุโขทัย/หญิง",
          "Thai/หนองบัวลำภู/หญิง",
          "Thai/อำนาจเจริญ/หญิง",
          "Thai/อุดรธานี/หญิง",
          "Thai/อุตรดิตถ์/หญิง",
          "Thai/อุบลราชธานี/หญิง",
          "Thai/อ่างทอง/หญิง",
          "อื่น ๆ/เชียงราย/หญิง",
          "อื่น ๆ/เชียงใหม่/หญิง",
          "Thai/เพชรบุรี/หญิง",
          "Thai/เพชรบูรณ์/หญิง",
          "Thai/เลย/หญิง",
          "Thai/แพร่/หญิง",
          "Thai/แม่ฮ่องสอน/หญิง",
          "อื่น ๆ/กรุงเทพมหานคร/ไม่ระบุ",
          "Thai/ตาก/ไม่ระบุ",
          "Burmese/กรุงเทพมหานคร/ชาย",
          "Dutch/กรุงเทพมหานคร/ชาย",
          "Japanese/กรุงเทพมหานคร/ชาย",
          "Laotian / Lao/กรุงเทพมหานคร/ชาย",
          "Thai/กรุงเทพมหานคร/ชาย",
          "อื่น ๆ/กรุงเทพมหานคร/ชาย",
          "Burmese/กาญจนบุรี/ชาย",
          "Thai/กาญจนบุรี/ชาย",
          "อื่น ๆ/กาฬสินธุ์/ชาย",
          "อื่น ๆ/ขอนแก่น/ชาย",
          "Thai/จันทบุรี/ชาย",
          "Cambodian/ฉะเชิงเทรา/ชาย",
          "Thai/ฉะเชิงเทรา/ชาย",
          "Burmese/ชลบุรี/ชาย",
          "Chinese/ชลบุรี/ชาย",
          "German/ชลบุรี/ชาย",
          "Japanese/ชลบุรี/ชาย",
          "Thai/ชลบุรี/ชาย",
          "Thai/ชัยนาท/ชาย",
          "Burmese/ชุมพร/ชาย",
          "Thai/ชุมพร/ชาย",
          "Thai/ตรัง/ชาย",
          "Thai/ตราด/ชาย",
          "Burmese/ตาก/ชาย",
          "Thai/ตาก/ชาย",
          "Burmese/นครนายก/ชาย",
          "Thai/นครนายก/ชาย",
          "Filipino/นครปฐม/ชาย",
          "Thai/นครปฐม/ชาย",
          "Thai/นครราชสีมา/ชาย",
          "Thai/นครศรีธรรมราช/ชาย",
          "Indian/นครสวรรค์/ชาย",
          "Thai/นครสวรรค์/ชาย",
          "Burmese/นนทบุรี/ชาย",
          "Thai/นนทบุรี/ชาย",
          "Burmese/นราธิวาส/ชาย",
          "Thai/นราธิวาส/ชาย",
          "Burmese/ปทุมธานี/ชาย",
          "Thai/ปทุมธานี/ชาย",
          "Burmese/ประจวบคีรีขันธ์/ชาย",
          "Thai/ประจวบคีรีขันธ์/ชาย",
          "Cambodian/ปราจีนบุรี/ชาย",
          "Thai/ปราจีนบุรี/ชาย",
          "Thai/ปัตตานี/ชาย",
          "Thai/พระนครศรีอยุธยา/ชาย",
          "Burmese/พังงา/ชาย",
          "Thai/พังงา/ชาย",
          "Thai/พัทลุง/ชาย",
          "Thai/พิจิตร/ชาย",
          "Thai/พิษณุโลก/ชาย",
          "Thai/ภูเก็ต/ชาย",
          "อื่น ๆ/ภูเก็ต/ชาย",
          "อื่น ๆ/มหาสารคาม/ชาย",
          "Thai/ยะลา/ชาย",
          "Thai/ระนอง/ชาย",
          "Cambodian/ระยอง/ชาย",
          "Chinese/ระยอง/ชาย",
          "Laotian / Lao/ระยอง/ชาย",
          "Thai/ระยอง/ชาย",
          "อื่น ๆ/ร้อยเอ็ด/ชาย",
          "Thai/ลพบุรี/ชาย",
          "อื่น ๆ/ลำพูน/ชาย",
          "Thai/ศรีสะเกษ/ชาย",
          "อื่น ๆ/สกลนคร/ชาย",
          "Burmese/สงขลา/ชาย",
          "Thai/สงขลา/ชาย",
          "Thai/สตูล/ชาย",
          "Burmese/สมุทรปราการ/ชาย",
          "Thai/สมุทรปราการ/ชาย",
          "Thai/สมุทรสงคราม/ชาย",
          "Laotian / Lao/สมุทรสาคร/ชาย",
          "Thai/สมุทรสาคร/ชาย",
          "Thai/สระบุรี/ชาย",
          "Thai/สระแก้ว/ชาย",
          "Thai/สิงห์บุรี/ชาย",
          "Thai/สุพรรณบุรี/ชาย",
          "Thai/สุราษฎร์ธานี/ชาย",
          "Thai/สุรินทร์/ชาย",
          "Thai/สุโขทัย/ชาย",
          "Thai/อุดรธานี/ชาย",
          "Thai/อุตรดิตถ์/ชาย",
          "Thai/อุทัยธานี/ชาย",
          "Thai/อุบลราชธานี/ชาย",
          "Thai/อ่างทอง/ชาย",
          "อื่น ๆ/เชียงราย/ชาย",
          "อื่น ๆ/เชียงใหม่/ชาย",
          "Thai/เพชรบุรี/ชาย",
          "Thai/เพชรบูรณ์/ชาย",
          "Thai/เลย/ชาย",
          "Burmese/กรุงเทพมหานคร/หญิง",
          "Cambodian/กรุงเทพมหานคร/หญิง",
          "Laotian / Lao/กรุงเทพมหานคร/หญิง",
          "Thai/กรุงเทพมหานคร/หญิง",
          "อื่น ๆ/กรุงเทพมหานคร/หญิง",
          "อื่น ๆ/กาฬสินธุ์/หญิง",
          "Thai/กำแพงเพชร/หญิง",
          "อื่น ๆ/ขอนแก่น/หญิง",
          "Cambodian/จันทบุรี/หญิง",
          "Thai/จันทบุรี/หญิง",
          "Thai/ฉะเชิงเทรา/หญิง",
          "Burmese/ชลบุรี/หญิง",
          "Thai/ชลบุรี/หญิง",
          "อื่น ๆ/ชลบุรี/หญิง",
          "Burmese/ชุมพร/หญิง",
          "Thai/ชุมพร/หญิง",
          "Thai/ตรัง/หญิง",
          "Cambodian/ตราด/หญิง",
          "Thai/ตราด/หญิง",
          "Burmese/ตาก/หญิง",
          "Thai/ตาก/หญิง",
          "Burmese/นครนายก/หญิง",
          "Thai/นครนายก/หญิง",
          "Thai/นครปฐม/หญิง",
          "Thai/นครราชสีมา/หญิง",
          "Thai/นครศรีธรรมราช/หญิง",
          "Thai/นครสวรรค์/หญิง",
          "Thai/นนทบุรี/หญิง",
          "Thai/นราธิวาส/หญิง",
          "Thai/ปทุมธานี/หญิง",
          "Burmese/ประจวบคีรีขันธ์/หญิง",
          "Thai/ประจวบคีรีขันธ์/หญิง",
          "Burmese/ปราจีนบุรี/หญิง",
          "Cambodian/ปราจีนบุรี/หญิง",
          "Thai/ปราจีนบุรี/หญิง",
          "Thai/ปัตตานี/หญิง",
          "Thai/พระนครศรีอยุธยา/หญิง",
          "Burmese/พังงา/หญิง",
          "Thai/พังงา/หญิง",
          "Thai/พัทลุง/หญิง",
          "Thai/พิษณุโลก/หญิง",
          "Thai/ภูเก็ต/หญิง",
          "อื่น ๆ/มหาสารคาม/หญิง",
          "Thai/มุกดาหาร/หญิง",
          "Thai/ยะลา/หญิง",
          "Thai/ระนอง/หญิง",
          "Burmese/ระยอง/หญิง",
          "Cambodian/ระยอง/หญิง",
          "Thai/ระยอง/หญิง",
          "อื่น ๆ/ร้อยเอ็ด/หญิง",
          "Thai/ลพบุรี/หญิง",
          "อื่น ๆ/ลำพูน/หญิง",
          "Thai/ศรีสะเกษ/หญิง",
          "อื่น ๆ/สกลนคร/หญิง",
          "Burmese/สงขลา/หญิง",
          "Thai/สงขลา/หญิง",
          "Thai/สตูล/หญิง",
          "Burmese/สมุทรปราการ/หญิง",
          "Cambodian/สมุทรปราการ/หญิง",
          "Thai/สมุทรปราการ/หญิง",
          "Thai/สมุทรสงคราม/หญิง",
          "Thai/สมุทรสาคร/หญิง",
          "Thai/สระบุรี/หญิง",
          "Thai/สระแก้ว/หญิง",
          "Thai/สุพรรณบุรี/หญิง",
          "Burmese/สุราษฎร์ธานี/หญิง",
          "Thai/สุราษฎร์ธานี/หญิง",
          "Thai/สุรินทร์/หญิง",
          "Thai/สุโขทัย/หญิง",
          "Thai/หนองบัวลำภู/หญิง",
          "Thai/อุดรธานี/หญิง",
          "Thai/อุทัยธานี/หญิง",
          "อื่น ๆ/อุทัยธานี/หญิง",
          "Thai/อุบลราชธานี/หญิง",
          "Thai/อ่างทอง/หญิง",
          "cambodian/อ่างทอง/หญิง",
          "อื่น ๆ/เชียงราย/หญิง",
          "อื่น ๆ/เชียงใหม่/หญิง",
          "Thai/เพชรบุรี/หญิง",
          "Thai/เพชรบูรณ์/หญิง",
          "Thai/แพร่/หญิง",
          "อื่น ๆ/กรุงเทพมหานคร/ไม่ระบุ",
          "Thai/ตาก/ไม่ระบุ",
          "American/กรุงเทพมหานคร/ชาย",
          "British / English/กรุงเทพมหานคร/ชาย",
          "Indian/กรุงเทพมหานคร/ชาย",
          "Kuwaiti/กรุงเทพมหานคร/ชาย",
          "Thai/กรุงเทพมหานคร/ชาย",
          "Thai/กาญจนบุรี/ชาย",
          "อื่น ๆ/กาฬสินธุ์/ชาย",
          "อื่น ๆ/ขอนแก่น/ชาย",
          "Thai/จันทบุรี/ชาย",
          "Thai/ฉะเชิงเทรา/ชาย",
          "Burmese/ชลบุรี/ชาย",
          "Thai/ชลบุรี/ชาย",
          "Thai/ชัยนาท/ชาย",
          "Thai/ชุมพร/ชาย",
          "Thai/ตรัง/ชาย",
          "Thai/ตราด/ชาย",
          "Thai/ตาก/ชาย",
          "Thai/นครนายก/ชาย",
          "Burmese/นครปฐม/ชาย",
          "Thai/นครปฐม/ชาย",
          "Thai/นครราชสีมา/ชาย",
          "Thai/นครศรีธรรมราช/ชาย",
          "Thai/นครสวรรค์/ชาย",
          "Thai/นนทบุรี/ชาย",
          "Thai/นราธิวาส/ชาย",
          "Thai/บึงกาฬ/ชาย",
          "อื่น ๆ/บุรีรัมย์/ชาย",
          "Thai/ปทุมธานี/ชาย",
          "Thai/ประจวบคีรีขันธ์/ชาย",
          "Thai/ปราจีนบุรี/ชาย",
          "Thai/ปัตตานี/ชาย",
          "Thai/พระนครศรีอยุธยา/ชาย",
          "Burmese/พังงา/ชาย",
          "Thai/พังงา/ชาย",
          "Thai/พัทลุง/ชาย",
          "Thai/พิษณุโลก/ชาย",
          "Thai/ภูเก็ต/ชาย",
          "Thai/มุกดาหาร/ชาย",
          "Thai/ยะลา/ชาย",
          "Thai/ระนอง/ชาย",
          "Burmese/ระยอง/ชาย",
          "Cambodian/ระยอง/ชาย",
          "Canadian/ระยอง/ชาย",
          "Thai/ระยอง/ชาย",
          "Thai/ลพบุรี/ชาย",
          "Thai/ศรีสะเกษ/ชาย",
          "อื่น ๆ/สกลนคร/ชาย",
          "Burmese/สงขลา/ชาย",
          "Thai/สงขลา/ชาย",
          "Thai/สตูล/ชาย",
          "Cambodian/สมุทรปราการ/ชาย",
          "Thai/สมุทรปราการ/ชาย",
          "Thai/สมุทรสงคราม/ชาย",
          "Thai/สมุทรสาคร/ชาย",
          "Thai/สระบุรี/ชาย",
          "Thai/สระแก้ว/ชาย",
          "อื่น ๆ/สระแก้ว/ชาย",
          "Thai/สิงห์บุรี/ชาย",
          "Thai/สุพรรณบุรี/ชาย",
          "Burmese/สุราษฎร์ธานี/ชาย",
          "Thai/สุราษฎร์ธานี/ชาย",
          "Thai/สุรินทร์/ชาย",
          "Thai/สุโขทัย/ชาย",
          "Thai/อุดรธานี/ชาย",
          "Thai/อุบลราชธานี/ชาย",
          "Thai/อ่างทอง/ชาย",
          "อื่น ๆ/เชียงใหม่/ชาย",
          "Thai/เพชรบุรี/ชาย",
          "Thai/เพชรบูรณ์/ชาย",
          "Thai/แพร่/ชาย",
          "Thai/กรุงเทพมหานคร/หญิง",
          "อื่น ๆ/กรุงเทพมหานคร/หญิง",
          "Burmese/กาญจนบุรี/หญิง",
          "Thai/กาญจนบุรี/หญิง",
          "อื่น ๆ/กาฬสินธุ์/หญิง",
          "Thai/กำแพงเพชร/หญิง",
          "อื่น ๆ/ขอนแก่น/หญิง",
          "Thai/จันทบุรี/หญิง",
          "Cambodian/ฉะเชิงเทรา/หญิง",
          "Thai/ฉะเชิงเทรา/หญิง",
          "Cambodian/ชลบุรี/หญิง",
          "Thai/ชลบุรี/หญิง",
          "Thai/ชัยนาท/หญิง",
          "Thai/ชุมพร/หญิง",
          "Thai/ตรัง/หญิง",
          "Cambodian/ตราด/หญิง",
          "Thai/ตราด/หญิง",
          "Thai/ตาก/หญิง",
          "Thai/นครนายก/หญิง",
          "Thai/นครปฐม/หญิง",
          "Thai/นครราชสีมา/หญิง",
          "Thai/นครศรีธรรมราช/หญิง",
          "Burmese/นครสวรรค์/หญิง",
          "Thai/นครสวรรค์/หญิง",
          "Burmese/นนทบุรี/หญิง",
          "Thai/นนทบุรี/หญิง",
          "Thai/นราธิวาส/หญิง",
          "Thai/บึงกาฬ/หญิง",
          "Thai/ปทุมธานี/หญิง",
          "Thai/ประจวบคีรีขันธ์/หญิง",
          "Thai/ปราจีนบุรี/หญิง",
          "Thai/ปัตตานี/หญิง",
          "Thai/พระนครศรีอยุธยา/หญิง",
          "Thai/พังงา/หญิง",
          "Thai/พัทลุง/หญิง",
          "Thai/พิษณุโลก/หญิง",
          "French/ภูเก็ต/หญิง",
          "Thai/ภูเก็ต/หญิง",
          "อื่น ๆ/มหาสารคาม/หญิง",
          "Thai/มุกดาหาร/หญิง",
          "Thai/ยะลา/หญิง",
          "Thai/ระนอง/หญิง",
          "Thai/ระยอง/หญิง",
          "อื่น ๆ/ร้อยเอ็ด/หญิง",
          "Thai/ลพบุรี/หญิง",
          "Thai/ลำปาง/หญิง",
          "อื่น ๆ/ลำพูน/หญิง",
          "อื่น ๆ/สกลนคร/หญิง",
          "Thai/สงขลา/หญิง",
          "Thai/สตูล/หญิง",
          "Burmese/สมุทรปราการ/หญิง",
          "Cambodian/สมุทรปราการ/หญิง",
          "Thai/สมุทรปราการ/หญิง",
          "Thai/สมุทรสงคราม/หญิง",
          "Burmese/สมุทรสาคร/หญิง",
          "Thai/สมุทรสาคร/หญิง",
          "Thai/สระบุรี/หญิง",
          "Thai/สระแก้ว/หญิง",
          "Thai/สิงห์บุรี/หญิง",
          "Thai/สุพรรณบุรี/หญิง",
          "Burmese/สุราษฎร์ธานี/หญิง",
          "Thai/สุราษฎร์ธานี/หญิง",
          "Thai/สุรินทร์/หญิง",
          "Thai/สุโขทัย/หญิง",
          "Thai/อุดรธานี/หญิง",
          "Thai/อุทัยธานี/หญิง",
          "Thai/อุบลราชธานี/หญิง",
          "Thai/อ่างทอง/หญิง",
          "อื่น ๆ/เชียงใหม่/หญิง",
          "Thai/เพชรบุรี/หญิง",
          "Thai/เพชรบูรณ์/หญิง",
          "Thai/แม่ฮ่องสอน/หญิง",
          "อื่น ๆ/กรุงเทพมหานคร/ไม่ระบุ",
          "Thai/ตาก/ไม่ระบุ",
          "อื่น ๆ/ตาก/ไม่ระบุ",
          "Taiwanese/กรุงเทพมหานคร/ชาย",
          "Thai/กรุงเทพมหานคร/ชาย",
          "Burmese/กาญจนบุรี/ชาย",
          "Thai/กาญจนบุรี/ชาย",
          "Thai/กำแพงเพชร/ชาย",
          "อื่น ๆ/ขอนแก่น/ชาย",
          "Thai/จันทบุรี/ชาย",
          "Thai/ฉะเชิงเทรา/ชาย",
          "Thai/ชลบุรี/ชาย",
          "Thai/ชัยนาท/ชาย",
          "Thai/ชุมพร/ชาย",
          "Thai/ตรัง/ชาย",
          "Thai/ตราด/ชาย",
          "Thai/ตาก/ชาย",
          "Thai/นครนายก/ชาย",
          "Thai/นครปฐม/ชาย",
          "Thai/นครราชสีมา/ชาย",
          "Thai/นครศรีธรรมราช/ชาย",
          "Thai/นครสวรรค์/ชาย",
          "Thai/นนทบุรี/ชาย",
          "Thai/นราธิวาส/ชาย",
          "Thai/ปทุมธานี/ชาย",
          "Thai/ปราจีนบุรี/ชาย",
          "Thai/ปัตตานี/ชาย",
          "Thai/พระนครศรีอยุธยา/ชาย",
          "Thai/พังงา/ชาย",
          "Thai/พิษณุโลก/ชาย",
          "Thai/ภูเก็ต/ชาย",
          "Thai/ยะลา/ชาย",
          "Thai/ยโสธร/ชาย",
          "Thai/ระนอง/ชาย",
          "Laotian / Lao/ระยอง/ชาย",
          "Thai/ระยอง/ชาย",
          "Thai/ลพบุรี/ชาย",
          "Thai/ลำปาง/ชาย",
          "อื่น ๆ/สกลนคร/ชาย",
          "Thai/สงขลา/ชาย",
          "Thai/สตูล/ชาย",
          "Thai/สมุทรปราการ/ชาย",
          "Thai/สมุทรสงคราม/ชาย",
          "Thai/สระบุรี/ชาย",
          "Thai/สระแก้ว/ชาย",
          "Thai/สุพรรณบุรี/ชาย",
          "Thai/สุราษฎร์ธานี/ชาย",
          "Thai/อุดรธานี/ชาย",
          "Thai/อุตรดิตถ์/ชาย",
          "Thai/อุบลราชธานี/ชาย",
          "Thai/อ่างทอง/ชาย",
          "Thai/เชียงราย/ชาย",
          "Thai/เพชรบุรี/ชาย",
          "Thai/เพชรบูรณ์/ชาย",
          "Thai/กรุงเทพมหานคร/หญิง",
          "Burmese/กาญจนบุรี/หญิง",
          "Thai/กาญจนบุรี/หญิง",
          "Thai/กำแพงเพชร/หญิง",
          "อื่น ๆ/ขอนแก่น/หญิง",
          "Thai/จันทบุรี/หญิง",
          "Thai/ฉะเชิงเทรา/หญิง",
          "Thai/ชลบุรี/หญิง",
          "Thai/ชัยนาท/หญิง",
          "Thai/ชุมพร/หญิง",
          "Thai/ตรัง/หญิง",
          "Thai/ตราด/หญิง",
          "Thai/ตาก/หญิง",
          "Thai/นครนายก/หญิง",
          "Thai/นครปฐม/หญิง",
          "Thai/นครราชสีมา/หญิง",
          "Thai/นครศรีธรรมราช/หญิง",
          "Thai/นครสวรรค์/หญิง",
          "Thai/นนทบุรี/หญิง",
          "Thai/นราธิวาส/หญิง",
          "Thai/ประจวบคีรีขันธ์/หญิง",
          "Thai/ปราจีนบุรี/หญิง",
          "Thai/ปัตตานี/หญิง",
          "Thai/พระนครศรีอยุธยา/หญิง",
          "Thai/พังงา/หญิง",
          "Thai/พัทลุง/หญิง",
          "Thai/พิษณุโลก/หญิง",
          "Thai/ภูเก็ต/หญิง",
          "อื่น ๆ/มหาสารคาม/หญิง",
          "Thai/ยะลา/หญิง",
          "Thai/ระนอง/หญิง",
          "Thai/ระยอง/หญิง",
          "Thai/ลพบุรี/หญิง",
          "อื่น ๆ/ลำพูน/หญิง",
          "Thai/สงขลา/หญิง",
          "Thai/สตูล/หญิง",
          "Thai/สมุทรปราการ/หญิง",
          "Thai/สมุทรสงคราม/หญิง",
          "Thai/สมุทรสาคร/หญิง",
          "Thai/สระบุรี/หญิง",
          "Thai/สระแก้ว/หญิง",
          "Thai/สิงห์บุรี/หญิง",
          "Thai/สุราษฎร์ธานี/หญิง",
          "Thai/สุรินทร์/หญิง",
          "Thai/สุโขทัย/หญิง",
          "Thai/หนองคาย/หญิง",
          "Thai/หนองบัวลำภู/หญิง",
          "Thai/อุดรธานี/หญิง",
          "Thai/อุตรดิตถ์/หญิง",
          "Thai/อุบลราชธานี/หญิง",
          "Thai/อ่างทอง/หญิง",
          "Thai/เพชรบุรี/หญิง",
          "Thai/เพชรบูรณ์/หญิง",
          "Thai/แพร่/หญิง",
          "อื่น ๆ/กรุงเทพมหานคร/ไม่ระบุ",
          "Thai/กรุงเทพมหานคร/ชาย",
          "Thai/กาญจนบุรี/ชาย",
          "อื่น ๆ/กาฬสินธุ์/ชาย",
          "Burmese/กำแพงเพชร/ชาย",
          "อื่น ๆ/ขอนแก่น/ชาย",
          "Thai/จันทบุรี/ชาย",
          "Cambodian/ฉะเชิงเทรา/ชาย",
          "Thai/ฉะเชิงเทรา/ชาย",
          "Burmese/ชลบุรี/ชาย",
          "Cambodian/ชลบุรี/ชาย",
          "Laotian / Lao/ชลบุรี/ชาย",
          "Thai/ชลบุรี/ชาย",
          "Thai/ชัยนาท/ชาย",
          "Burmese/ชุมพร/ชาย",
          "Thai/ชุมพร/ชาย",
          "อื่น ๆ/ชุมพร/ชาย",
          "Thai/ตรัง/ชาย",
          "Cambodian/ตราด/ชาย",
          "Thai/ตราด/ชาย",
          "Burmese/ตาก/ชาย",
          "Thai/ตาก/ชาย",
          "Thai/นครนายก/ชาย",
          "Thai/นครปฐม/ชาย",
          "Thai/นครราชสีมา/ชาย",
          "Thai/นครศรีธรรมราช/ชาย",
          "Thai/นครสวรรค์/ชาย",
          "Thai/นนทบุรี/ชาย",
          "Thai/นราธิวาส/ชาย",
          "Thai/ปทุมธานี/ชาย",
          "Thai/ประจวบคีรีขันธ์/ชาย",
          "Thai/ปราจีนบุรี/ชาย",
          "Thai/ปัตตานี/ชาย",
          "Thai/พระนครศรีอยุธยา/ชาย",
          "Thai/พังงา/ชาย",
          "Thai/พัทลุง/ชาย",
          "Thai/พิษณุโลก/ชาย",
          "Thai/ภูเก็ต/ชาย",
          "อื่น ๆ/มหาสารคาม/ชาย",
          "Thai/ยะลา/ชาย",
          "Thai/ระนอง/ชาย",
          "Burmese/ระยอง/ชาย",
          "Cambodian/ระยอง/ชาย",
          "Thai/ระยอง/ชาย",
          "อื่น ๆ/ร้อยเอ็ด/ชาย",
          "Thai/ลพบุรี/ชาย",
          "Thai/ลำปาง/ชาย",
          "อื่น ๆ/ลำพูน/ชาย",
          "อื่น ๆ/สกลนคร/ชาย",
          "Thai/สงขลา/ชาย",
          "Thai/สตูล/ชาย",
          "Burmese/สมุทรปราการ/ชาย",
          "Thai/สมุทรปราการ/ชาย",
          "Cambodian/สมุทรสาคร/ชาย",
          "Thai/สมุทรสาคร/ชาย",
          "Thai/สระบุรี/ชาย",
          "Thai/สระแก้ว/ชาย",
          "Thai/สิงห์บุรี/ชาย",
          "Thai/สุพรรณบุรี/ชาย",
          "Burmese/สุราษฎร์ธานี/ชาย",
          "Thai/สุราษฎร์ธานี/ชาย",
          "Thai/สุโขทัย/ชาย",
          "Thai/หนองคาย/ชาย",
          "Thai/หนองบัวลำภู/ชาย",
          "Thai/อุดรธานี/ชาย",
          "Thai/อุตรดิตถ์/ชาย",
          "Thai/อุบลราชธานี/ชาย",
          "Thai/อ่างทอง/ชาย",
          "อื่น ๆ/เชียงราย/ชาย",
          "อื่น ๆ/เชียงใหม่/ชาย",
          "Burmese/เพชรบุรี/ชาย",
          "Thai/เพชรบุรี/ชาย",
          "Thai/เพชรบูรณ์/ชาย",
          "Thai/เลย/ชาย",
          "Thai/แม่ฮ่องสอน/ชาย",
          "Dutch/กรุงเทพมหานคร/หญิง",
          "Thai/กรุงเทพมหานคร/หญิง",
          "Burmese/กาญจนบุรี/หญิง",
          "Thai/กาญจนบุรี/หญิง",
          "Thai/กำแพงเพชร/หญิง",
          "อื่น ๆ/ขอนแก่น/หญิง",
          "Burmese/จันทบุรี/หญิง",
          "Cambodian/จันทบุรี/หญิง",
          "Thai/จันทบุรี/หญิง",
          "Cambodian/ฉะเชิงเทรา/หญิง",
          "Laotian / Lao/ฉะเชิงเทรา/หญิง",
          "Thai/ฉะเชิงเทรา/หญิง",
          "Burmese/ชลบุรี/หญิง",
          "German/ชลบุรี/หญิง",
          "Thai/ชลบุรี/หญิง",
          "Burmese/ชุมพร/หญิง",
          "Thai/ชุมพร/หญิง",
          "Thai/ตรัง/หญิง",
          "Cambodian/ตราด/หญิง",
          "Thai/ตราด/หญิง",
          "Thai/ตาก/หญิง",
          "Thai/นครนายก/หญิง",
          "cambodian/นครนายก/หญิง",
          "Thai/นครปฐม/หญิง",
          "Thai/นครราชสีมา/หญิง",
          "Thai/นครศรีธรรมราช/หญิง",
          "Thai/นครสวรรค์/หญิง",
          "Thai/นนทบุรี/หญิง",
          "Thai/นราธิวาส/หญิง",
          "Thai/บึงกาฬ/หญิง",
          "Thai/ปทุมธานี/หญิง",
          "Burmese/ประจวบคีรีขันธ์/หญิง",
          "Thai/ปราจีนบุรี/หญิง",
          "Thai/ปัตตานี/หญิง",
          "Thai/พระนครศรีอยุธยา/หญิง",
          "Thai/พังงา/หญิง",
          "Thai/พัทลุง/หญิง",
          "Thai/พิษณุโลก/หญิง",
          "Thai/ภูเก็ต/หญิง",
          "Thai/ยะลา/หญิง",
          "Cambodian/ระยอง/หญิง",
          "Thai/ระยอง/หญิง",
          "อื่น ๆ/ร้อยเอ็ด/หญิง",
          "Thai/ลพบุรี/หญิง",
          "อื่น ๆ/ลำพูน/หญิง",
          "Thai/ศรีสะเกษ/หญิง",
          "อื่น ๆ/สกลนคร/หญิง",
          "Burmese/สงขลา/หญิง",
          "Thai/สงขลา/หญิง",
          "Thai/สมุทรปราการ/หญิง",
          "Thai/สมุทรสงคราม/หญิง",
          "Thai/สมุทรสาคร/หญิง",
          "Thai/สระบุรี/หญิง",
          "Thai/สระแก้ว/หญิง",
          "Thai/สิงห์บุรี/หญิง",
          "Thai/สุพรรณบุรี/หญิง",
          "Burmese/สุราษฎร์ธานี/หญิง",
          "Thai/สุราษฎร์ธานี/หญิง",
          "Thai/สุโขทัย/หญิง",
          "Thai/หนองบัวลำภู/หญิง",
          "Thai/อุตรดิตถ์/หญิง",
          "Thai/อุบลราชธานี/หญิง",
          "Thai/อ่างทอง/หญิง",
          "อื่น ๆ/เชียงราย/หญิง",
          "อื่น ๆ/เชียงใหม่/หญิง",
          "Thai/เพชรบุรี/หญิง",
          "Thai/เพชรบูรณ์/หญิง",
          "อื่น ๆ/กรุงเทพมหานคร/ไม่ระบุ",
          "Thai/ตาก/ไม่ระบุ",
          "American/กรุงเทพมหานคร/ชาย",
          "Thai/กรุงเทพมหานคร/ชาย",
          "Burmese/กาญจนบุรี/ชาย",
          "Thai/กาญจนบุรี/ชาย",
          "Thai/กำแพงเพชร/ชาย",
          "อื่น ๆ/ขอนแก่น/ชาย",
          "Thai/จันทบุรี/ชาย",
          "Thai/ฉะเชิงเทรา/ชาย",
          "Thai/ชลบุรี/ชาย",
          "Thai/ชุมพร/ชาย",
          "Thai/ตรัง/ชาย",
          "Burmese/ตาก/ชาย",
          "Thai/ตาก/ชาย",
          "Thai/นครนายก/ชาย",
          "Thai/นครปฐม/ชาย",
          "อื่น ๆ/นครราชสีมา/ชาย",
          "Thai/นครศรีธรรมราช/ชาย",
          "Thai/นครสวรรค์/ชาย",
          "Thai/นนทบุรี/ชาย",
          "chinese/นนทบุรี/ชาย",
          "Thai/นราธิวาส/ชาย",
          "Thai/ปทุมธานี/ชาย",
          "Thai/ประจวบคีรีขันธ์/ชาย",
          "Thai/ปราจีนบุรี/ชาย",
          "Thai/ปัตตานี/ชาย",
          "Thai/พระนครศรีอยุธยา/ชาย",
          "Thai/พังงา/ชาย",
          "Thai/ภูเก็ต/ชาย",
          "Thai/ยะลา/ชาย",
          "Thai/ระนอง/ชาย",
          "Thai/ระยอง/ชาย",
          "Thai/ลพบุรี/ชาย",
          "Thai/ศรีสะเกษ/ชาย",
          "อื่น ๆ/สกลนคร/ชาย",
          "Thai/สงขลา/ชาย",
          "Thai/สตูล/ชาย",
          "Thai/สมุทรปราการ/ชาย",
          "Thai/สมุทรสงคราม/ชาย",
          "Thai/สมุทรสาคร/ชาย",
          "Thai/สระบุรี/ชาย",
          "Thai/สระแก้ว/ชาย",
          "Thai/สุพรรณบุรี/ชาย",
          "Thai/สุราษฎร์ธานี/ชาย",
          "Thai/อุดรธานี/ชาย",
          "Thai/อุตรดิตถ์/ชาย",
          "Thai/อุทัยธานี/ชาย",
          "Thai/อุบลราชธานี/ชาย",
          "อื่น ๆ/เชียงราย/ชาย",
          "อื่น ๆ/เชียงใหม่/ชาย",
          "Thai/เพชรบูรณ์/ชาย",
          "Thai/กรุงเทพมหานคร/หญิง",
          "Thai/กาญจนบุรี/หญิง",
          "Thai/กำแพงเพชร/หญิง",
          "อื่น ๆ/ขอนแก่น/หญิง",
          "Thai/จันทบุรี/หญิง",
          "Thai/ฉะเชิงเทรา/หญิง",
          "Thai/ชลบุรี/หญิง",
          "Thai/ชัยนาท/หญิง",
          "Thai/ชุมพร/หญิง",
          "Thai/ตรัง/หญิง",
          "Burmese/ตาก/หญิง",
          "Thai/ตาก/หญิง",
          "Thai/นครนายก/หญิง",
          "Thai/นครปฐม/หญิง",
          "Thai/นครราชสีมา/หญิง",
          "Thai/นครศรีธรรมราช/หญิง",
          "Thai/นครสวรรค์/หญิง",
          "Thai/นนทบุรี/หญิง",
          "Thai/นราธิวาส/หญิง",
          "Thai/ปทุมธานี/หญิง",
          "Thai/ปราจีนบุรี/หญิง",
          "Thai/ปัตตานี/หญิง",
          "Thai/พระนครศรีอยุธยา/หญิง",
          "Thai/พังงา/หญิง",
          "Thai/พัทลุง/หญิง",
          "Thai/พิษณุโลก/หญิง",
          "Thai/ภูเก็ต/หญิง",
          "อื่น ๆ/มหาสารคาม/หญิง",
          "Thai/ยะลา/หญิง",
          "Thai/ระนอง/หญิง",
          "Thai/ระยอง/หญิง",
          "อื่น ๆ/ร้อยเอ็ด/หญิง",
          "Thai/ลพบุรี/หญิง",
          "อื่น ๆ/ลำพูน/หญิง",
          "อื่น ๆ/สกลนคร/หญิง",
          "Thai/สงขลา/หญิง",
          "Thai/สตูล/หญิง",
          "Thai/สมุทรปราการ/หญิง",
          "Thai/สมุทรสงคราม/หญิง",
          "Thai/สมุทรสาคร/หญิง",
          "Thai/สระบุรี/หญิง",
          "Thai/สระแก้ว/หญิง",
          "Thai/สุพรรณบุรี/หญิง",
          "Russian/สุราษฎร์ธานี/หญิง",
          "Thai/สุราษฎร์ธานี/หญิง",
          "Thai/สุรินทร์/หญิง",
          "Thai/อุดรธานี/หญิง",
          "Thai/อุทัยธานี/หญิง",
          "Thai/อุบลราชธานี/หญิง",
          "Thai/อ่างทอง/หญิง",
          "Thai/เพชรบุรี/หญิง",
          "อื่น ๆ/กรุงเทพมหานคร/ไม่ระบุ",
          "Thai/กระบี่/ชาย",
          "Burmese/กรุงเทพมหานคร/ชาย",
          "Laotian / Lao/กรุงเทพมหานคร/ชาย",
          "Thai/กรุงเทพมหานคร/ชาย",
          "อื่น ๆ/กรุงเทพมหานคร/ชาย",
          "Thai/จันทบุรี/ชาย",
          "Thai/ชัยภูมิ/ชาย",
          "Thai/ตาก/ชาย",
          "Thai/นครปฐม/ชาย",
          "Thai/นครราชสีมา/ชาย",
          "อื่น ๆ/นครราชสีมา/ชาย",
          "Thai/นครสวรรค์/ชาย",
          "Thai/นนทบุรี/ชาย",
          "Thai/นราธิวาส/ชาย",
          "อื่น ๆ/บุรีรัมย์/ชาย",
          "Thai/พัทลุง/ชาย",
          "Thai/ภูเก็ต/ชาย",
          "Thai/ยะลา/ชาย",
          "Burmese/ราชบุรี/ชาย",
          "Thai/ราชบุรี/ชาย",
          "อื่น ๆ/ลำพูน/ชาย",
          "Burmese/สงขลา/ชาย",
          "Thai/สุพรรณบุรี/ชาย",
          "Thai/สุโขทัย/ชาย",
          "Thai/อุดรธานี/ชาย",
          "Thai/เพชรบุรี/ชาย",
          "Thai/แพร่/ชาย",
          "Thai/กระบี่/หญิง",
          "Burmese/กรุงเทพมหานคร/หญิง",
          "Cambodian/กรุงเทพมหานคร/หญิง",
          "Laotian / Lao/กรุงเทพมหานคร/หญิง",
          "Thai/กรุงเทพมหานคร/หญิง",
          "อื่น ๆ/กรุงเทพมหานคร/หญิง",
          "Thai/ชัยภูมิ/หญิง",
          "อื่น ๆ/ชัยภูมิ/หญิง",
          "Burmese/ตาก/หญิง",
          "Thai/นครปฐม/หญิง",
          "Thai/นครราชสีมา/หญิง",
          "Thai/นนทบุรี/หญิง",
          "Thai/นราธิวาส/หญิง",
          "อื่น ๆ/บุรีรัมย์/หญิง",
          "Thai/ปัตตานี/หญิง",
          "Thai/พิษณุโลก/หญิง",
          "Thai/ภูเก็ต/หญิง",
          "Thai/ยะลา/หญิง",
          "Burmese/ราชบุรี/หญิง",
          "Thai/ราชบุรี/หญิง",
          "อื่น ๆ/ราชบุรี/หญิง",
          "Thai/ศรีสะเกษ/หญิง",
          "Thai/สตูล/หญิง",
          "Thai/สิงห์บุรี/หญิง",
          "Thai/สุพรรณบุรี/หญิง",
          "Thai/สุราษฎร์ธานี/หญิง",
          "Thai/อุดรธานี/หญิง",
          "Thai/เพชรบุรี/หญิง",
          "Thai/เพชรบูรณ์/หญิง",
          "Burmese/กระบี่/ไม่ระบุ",
          "Thai/กระบี่/ไม่ระบุ",
          "อื่น ๆ/กรุงเทพมหานคร/ไม่ระบุ",
          "Thai/นครราชสีมา/ไม่ระบุ",
          "อื่น ๆ/นครราชสีมา/ไม่ระบุ",
          "อื่น ๆ/นนทบุรี/ไม่ระบุ",
          "อื่น ๆ/นราธิวาส/ไม่ระบุ",
          "อื่น ๆ/บุรีรัมย์/ไม่ระบุ",
          "Thai/สุโขทัย/ไม่ระบุ",
          "Thai/กระบี่",
          "American/กรุงเทพมหานคร",
          "Bangladeshi/กรุงเทพมหานคร",
          "British / English/กรุงเทพมหานคร",
          "Burmese/กรุงเทพมหานคร",
          "Cameroon/กรุงเทพมหานคร",
          "Chinese/กรุงเทพมหานคร",
          "Dutch/กรุงเทพมหานคร",
          "Indian/กรุงเทพมหานคร",
          "Japanese/กรุงเทพมหานคร",
          "Kuwaiti/กรุงเทพมหานคร",
          "Laotian / Lao/กรุงเทพมหานคร",
          "Taiwanese/กรุงเทพมหานคร",
          "Thai/กรุงเทพมหานคร",
          "อื่น ๆ/กรุงเทพมหานคร",
          "Burmese/กาญจนบุรี",
          "Thai/กาญจนบุรี",
          "อื่น ๆ/กาฬสินธุ์",
          "Burmese/กำแพงเพชร",
          "Thai/กำแพงเพชร",
          "อื่น ๆ/ขอนแก่น",
          "Burmese/จันทบุรี",
          "Cambodian/จันทบุรี",
          "Thai/จันทบุรี",
          "Cambodian/ฉะเชิงเทรา",
          "Laotian / Lao/ฉะเชิงเทรา",
          "Thai/ฉะเชิงเทรา",
          "Burmese/ชลบุรี",
          "Cambodian/ชลบุรี",
          "Chinese/ชลบุรี",
          "German/ชลบุรี",
          "Japanese/ชลบุรี",
          "Laotian / Lao/ชลบุรี",
          "Thai/ชลบุรี",
          "อื่น ๆ/ชลบุรี",
          "Thai/ชัยนาท",
          "Thai/ชัยภูมิ",
          "Burmese/ชุมพร",
          "Thai/ชุมพร",
          "อื่น ๆ/ชุมพร",
          "Thai/ตรัง",
          "Burmese/ตราด",
          "Cambodian/ตราด",
          "Thai/ตราด",
          "Burmese/ตาก",
          "Thai/ตาก",
          "Burmese/นครนายก",
          "Thai/นครนายก",
          "cambodian/นครนายก",
          "Burmese/นครปฐม",
          "Filipino/นครปฐม",
          "Thai/นครปฐม",
          "Thai/นครพนม",
          "Thai/นครราชสีมา",
          "อื่น ๆ/นครราชสีมา",
          "Thai/นครศรีธรรมราช",
          "Burmese/นครสวรรค์",
          "Indian/นครสวรรค์",
          "Thai/นครสวรรค์",
          "Burmese/นนทบุรี",
          "Thai/นนทบุรี",
          "cambodian/นนทบุรี",
          "chinese/นนทบุรี",
          "Burmese/นราธิวาส",
          "Thai/นราธิวาส",
          "อื่น ๆ/นราธิวาส",
          "Thai/บึงกาฬ",
          "อื่น ๆ/บุรีรัมย์",
          "Burmese/ปทุมธานี",
          "Thai/ปทุมธานี",
          "Burmese/ประจวบคีรีขันธ์",
          "Cambodian/ประจวบคีรีขันธ์",
          "Thai/ประจวบคีรีขันธ์",
          "Burmese/ปราจีนบุรี",
          "Cambodian/ปราจีนบุรี",
          "Thai/ปราจีนบุรี",
          "Thai/ปัตตานี",
          "Thai/พระนครศรีอยุธยา",
          "Burmese/พังงา",
          "Thai/พังงา",
          "Thai/พัทลุง",
          "Thai/พิจิตร",
          "Thai/พิษณุโลก",
          "Thai/ภูเก็ต",
          "อื่น ๆ/ภูเก็ต",
          "อื่น ๆ/มหาสารคาม",
          "Thai/มุกดาหาร",
          "Thai/ยะลา",
          "Thai/ยโสธร",
          "Thai/ระนอง",
          "Burmese/ระยอง",
          "Cambodian/ระยอง",
          "Canadian/ระยอง",
          "Chinese/ระยอง",
          "Laotian / Lao/ระยอง",
          "Thai/ระยอง",
          "Burmese/ราชบุรี",
          "Thai/ราชบุรี",
          "อื่น ๆ/ร้อยเอ็ด",
          "Thai/ลพบุรี",
          "Thai/ลำปาง",
          "อื่น ๆ/ลำพูน",
          "Thai/ศรีสะเกษ",
          "อื่น ๆ/สกลนคร",
          "Burmese/สงขลา",
          "Thai/สงขลา",
          "Thai/สตูล",
          "Burmese/สมุทรปราการ",
          "Cambodian/สมุทรปราการ",
          "Thai/สมุทรปราการ",
          "Thai/สมุทรสงคราม",
          "Burmese/สมุทรสาคร",
          "Cambodian/สมุทรสาคร",
          "Laotian / Lao/สมุทรสาคร",
          "Thai/สมุทรสาคร",
          "Thai/สระบุรี",
          "Thai/สระแก้ว",
          "อื่น ๆ/สระแก้ว",
          "Thai/สิงห์บุรี",
          "Thai/สุพรรณบุรี",
          "อื่น ๆ/สุพรรณบุรี",
          "Burmese/สุราษฎร์ธานี",
          "Thai/สุราษฎร์ธานี",
          "Thai/สุรินทร์",
          "Thai/สุโขทัย",
          "Thai/หนองคาย",
          "Thai/หนองบัวลำภู",
          "Thai/อำนาจเจริญ",
          "Thai/อุดรธานี",
          "Thai/อุตรดิตถ์",
          "Cambodian/อุทัยธานี",
          "Thai/อุทัยธานี",
          "Thai/อุบลราชธานี",
          "Thai/อ่างทอง",
          "Thai/เชียงราย",
          "อื่น ๆ/เชียงราย",
          "อื่น ๆ/เชียงใหม่",
          "Burmese/เพชรบุรี",
          "Thai/เพชรบุรี",
          "Thai/เพชรบูรณ์",
          "Thai/เลย",
          "Thai/แพร่",
          "Thai/แม่ฮ่องสอน",
          "Thai/กระบี่",
          "Burmese/กรุงเทพมหานคร",
          "Cambodian/กรุงเทพมหานคร",
          "Dutch/กรุงเทพมหานคร",
          "Indian/กรุงเทพมหานคร",
          "Laotian / Lao/กรุงเทพมหานคร",
          "Thai/กรุงเทพมหานคร",
          "อื่น ๆ/กรุงเทพมหานคร",
          "Burmese/กาญจนบุรี",
          "Thai/กาญจนบุรี",
          "อื่น ๆ/กาฬสินธุ์",
          "Thai/กำแพงเพชร",
          "อื่น ๆ/ขอนแก่น",
          "Burmese/จันทบุรี",
          "Cambodian/จันทบุรี",
          "Thai/จันทบุรี",
          "Cambodian/ฉะเชิงเทรา",
          "Laotian / Lao/ฉะเชิงเทรา",
          "Thai/ฉะเชิงเทรา",
          "Burmese/ชลบุรี",
          "Cambodian/ชลบุรี",
          "German/ชลบุรี",
          "Laotian / Lao/ชลบุรี",
          "Thai/ชลบุรี",
          "อื่น ๆ/ชลบุรี",
          "Thai/ชัยนาท",
          "Thai/ชัยภูมิ",
          "อื่น ๆ/ชัยภูมิ",
          "Burmese/ชุมพร",
          "Cambodian/ชุมพร",
          "Thai/ชุมพร",
          "Thai/ตรัง",
          "Burmese/ตราด",
          "Cambodian/ตราด",
          "Thai/ตราด",
          "Burmese/ตาก",
          "Thai/ตาก",
          "Burmese/นครนายก",
          "Thai/นครนายก",
          "cambodian/นครนายก",
          "Burmese/นครปฐม",
          "Thai/นครปฐม",
          "Thai/นครพนม",
          "Thai/นครราชสีมา",
          "อื่น ๆ/นครราชสีมา",
          "Thai/นครศรีธรรมราช",
          "Burmese/นครสวรรค์",
          "Thai/นครสวรรค์",
          "Burmese/นนทบุรี",
          "Thai/นนทบุรี",
          "cambodian/นนทบุรี",
          "Burmese/นราธิวาส",
          "Thai/นราธิวาส",
          "Thai/บึงกาฬ",
          "อื่น ๆ/บุรีรัมย์",
          "Burmese/ปทุมธานี",
          "Laotian / Lao/ปทุมธานี",
          "Thai/ปทุมธานี",
          "cambodian/ปทุมธานี",
          "Burmese/ประจวบคีรีขันธ์",
          "Thai/ประจวบคีรีขันธ์",
          "Burmese/ปราจีนบุรี",
          "Cambodian/ปราจีนบุรี",
          "Laotian / Lao/ปราจีนบุรี",
          "Thai/ปราจีนบุรี",
          "Thai/ปัตตานี",
          "Burmese/พระนครศรีอยุธยา",
          "Thai/พระนครศรีอยุธยา",
          "Burmese/พังงา",
          "Thai/พังงา",
          "Thai/พัทลุง",
          "Thai/พิจิตร",
          "Thai/พิษณุโลก",
          "Burmese/ภูเก็ต",
          "French/ภูเก็ต",
          "Thai/ภูเก็ต",
          "อื่น ๆ/มหาสารคาม",
          "Thai/มุกดาหาร",
          "Thai/ยะลา",
          "Thai/ระนอง",
          "Burmese/ระยอง",
          "Cambodian/ระยอง",
          "Thai/ระยอง",
          "Burmese/ราชบุรี",
          "Thai/ราชบุรี",
          "อื่น ๆ/ราชบุรี",
          "อื่น ๆ/ร้อยเอ็ด",
          "Thai/ลพบุรี",
          "Thai/ลำปาง",
          "อื่น ๆ/ลำพูน",
          "Thai/ศรีสะเกษ",
          "Thai/สกลนคร",
          "อื่น ๆ/สกลนคร",
          "Burmese/สงขลา",
          "Thai/สงขลา",
          "Thai/สตูล",
          "Burmese/สมุทรปราการ",
          "Cambodian/สมุทรปราการ",
          "Laotian / Lao/สมุทรปราการ",
          "Thai/สมุทรปราการ",
          "Thai/สมุทรสงคราม",
          "Burmese/สมุทรสาคร",
          "Cambodian/สมุทรสาคร",
          "Thai/สมุทรสาคร",
          "Burmese/สระบุรี",
          "Thai/สระบุรี",
          "Cambodian/สระแก้ว",
          "Thai/สระแก้ว",
          "Thai/สิงห์บุรี",
          "Thai/สุพรรณบุรี",
          "Burmese/สุราษฎร์ธานี",
          "Russian/สุราษฎร์ธานี",
          "Thai/สุราษฎร์ธานี",
          "Thai/สุรินทร์",
          "Thai/สุโขทัย",
          "Thai/หนองคาย",
          "Thai/หนองบัวลำภู",
          "Thai/อำนาจเจริญ",
          "Thai/อุดรธานี",
          "Thai/อุตรดิตถ์",
          "Thai/อุทัยธานี",
          "อื่น ๆ/อุทัยธานี",
          "Laotian / Lao/อุบลราชธานี",
          "Thai/อุบลราชธานี",
          "Thai/อ่างทอง",
          "cambodian/อ่างทอง",
          "อื่น ๆ/เชียงราย",
          "อื่น ๆ/เชียงใหม่",
          "Burmese/เพชรบุรี",
          "Laotian / Lao/เพชรบุรี",
          "Thai/เพชรบุรี",
          "Thai/เพชรบูรณ์",
          "Thai/เลย",
          "Thai/แพร่",
          "Thai/แม่ฮ่องสอน",
          "Burmese/กระบี่",
          "Thai/กระบี่",
          "อื่น ๆ/กรุงเทพมหานคร",
          "Thai/ตาก",
          "อื่น ๆ/ตาก",
          "Thai/นครราชสีมา",
          "อื่น ๆ/นครราชสีมา",
          "อื่น ๆ/นนทบุรี",
          "อื่น ๆ/นราธิวาส",
          "อื่น ๆ/บุรีรัมย์",
          "Thai/สุโขทัย",
          "Burmese",
          "Thai",
          "American",
          "Bangladeshi",
          "British / English",
          "Burmese",
          "Cambodian",
          "Cameroon",
          "Chinese",
          "Dutch",
          "Indian",
          "Japanese",
          "Kuwaiti",
          "Laotian / Lao",
          "Taiwanese",
          "Thai",
          "อื่น ๆ",
          "Burmese",
          "Thai",
          "อื่น ๆ",
          "Burmese",
          "Thai",
          "อื่น ๆ",
          "Burmese",
          "Cambodian",
          "Thai",
          "Cambodian",
          "Laotian / Lao",
          "Thai",
          "Burmese",
          "Cambodian",
          "Chinese",
          "German",
          "Japanese",
          "Laotian / Lao",
          "Thai",
          "อื่น ๆ",
          "Thai",
          "Thai",
          "อื่น ๆ",
          "Burmese",
          "Cambodian",
          "Thai",
          "อื่น ๆ",
          "Thai",
          "Burmese",
          "Cambodian",
          "Thai",
          "Burmese",
          "Thai",
          "อื่น ๆ",
          "Burmese",
          "Thai",
          "cambodian",
          "Burmese",
          "Filipino",
          "Thai",
          "Thai",
          "Thai",
          "อื่น ๆ",
          "Thai",
          "Burmese",
          "Indian",
          "Thai",
          "Burmese",
          "Thai",
          "cambodian",
          "chinese",
          "อื่น ๆ",
          "Burmese",
          "Thai",
          "อื่น ๆ",
          "Thai",
          "อื่น ๆ",
          "Burmese",
          "Laotian / Lao",
          "Thai",
          "cambodian",
          "Burmese",
          "Cambodian",
          "Thai",
          "Burmese",
          "Cambodian",
          "Laotian / Lao",
          "Thai",
          "Thai",
          "Burmese",
          "Thai",
          "Burmese",
          "Thai",
          "Thai",
          "Thai",
          "Thai",
          "Burmese",
          "French",
          "Thai",
          "อื่น ๆ",
          "อื่น ๆ",
          "Thai",
          "Thai",
          "Thai",
          "Thai",
          "Burmese",
          "Cambodian",
          "Canadian",
          "Chinese",
          "Laotian / Lao",
          "Thai",
          "Burmese",
          "Thai",
          "อื่น ๆ",
          "อื่น ๆ",
          "Thai",
          "Thai",
          "อื่น ๆ",
          "Thai",
          "Thai",
          "อื่น ๆ",
          "Burmese",
          "Thai",
          "Thai",
          "Burmese",
          "Cambodian",
          "Laotian / Lao",
          "Thai",
          "Thai",
          "Burmese",
          "Cambodian",
          "Laotian / Lao",
          "Thai",
          "Burmese",
          "Thai",
          "Cambodian",
          "Thai",
          "อื่น ๆ",
          "Thai",
          "Thai",
          "อื่น ๆ",
          "Burmese",
          "Russian",
          "Thai",
          "Thai",
          "Thai",
          "Thai",
          "Thai",
          "Thai",
          "Thai",
          "Thai",
          "Cambodian",
          "Thai",
          "อื่น ๆ",
          "Laotian / Lao",
          "Thai",
          "Thai",
          "cambodian",
          "Thai",
          "อื่น ๆ",
          "อื่น ๆ",
          "Burmese",
          "Laotian / Lao",
          "Thai",
          "Thai",
          "Thai",
          "Thai",
          "Thai",
          "",
          "",
          "",
          "",
          "",
          "",
          "",
          "",
          "",
          "",
          "",
          "",
          "",
          "",
          "",
          "",
          "",
          "",
          "",
          "",
          "",
          ""
         ],
         "type": "sunburst",
         "values": [
          1590,
          98580,
          320,
          26,
          2080,
          228,
          3876,
          140,
          1260,
          774,
          2322,
          19350,
          42,
          194,
          2328,
          480,
          68,
          408,
          453,
          2416,
          264,
          108,
          4,
          573,
          2050,
          520,
          1211,
          18981,
          324,
          72,
          288,
          1799,
          1800,
          279,
          792,
          324,
          9,
          1773,
          136,
          9944,
          4,
          84,
          545,
          14170,
          34,
          288,
          42,
          140,
          21197,
          76,
          1174,
          12914,
          90,
          495,
          1240,
          3080,
          20,
          430,
          1320,
          144,
          7,
          242,
          13,
          23,
          46,
          828,
          36,
          87,
          236,
          2000,
          141,
          1134,
          28,
          36,
          93810,
          1590,
          160,
          52,
          2340,
          228,
          228,
          2964,
          980,
          1548,
          1548,
          25542,
          774,
          84,
          194,
          1164,
          320,
          544,
          453,
          906,
          88,
          1146,
          2870,
          104,
          936,
          1557,
          20007,
          243,
          72,
          72,
          3341,
          3000,
          558,
          176,
          216,
          9,
          76,
          1970,
          34,
          13108,
          12535,
          34,
          504,
          11,
          120,
          42,
          21197,
          587,
          587,
          15849,
          60,
          198,
          1395,
          440,
          344,
          440,
          4620,
          36,
          242,
          13,
          23,
          23,
          1932,
          72,
          87,
          413,
          1375,
          376,
          294,
          42,
          36,
          22260,
          1590,
          15900,
          1590,
          1590,
          162180,
          1590,
          320,
          800,
          104,
          3510,
          456,
          4332,
          980,
          1960,
          4644,
          774,
          774,
          1548,
          113004,
          774,
          42,
          194,
          2716,
          240,
          136,
          151,
          2567,
          792,
          162,
          108,
          2101,
          191,
          3485,
          728,
          346,
          2422,
          173,
          513,
          27702,
          48,
          81,
          243,
          144,
          144,
          648,
          771,
          771,
          7453,
          3200,
          651,
          440,
          216,
          114,
          3152,
          170,
          7232,
          112,
          5450,
          36515,
          216,
          11,
          80,
          63,
          70,
          2068,
          11891,
          38,
          3522,
          587,
          29937,
          30,
          198,
          792,
          2325,
          8580,
          660,
          40,
          1462,
          660,
          3300,
          66,
          72,
          1210,
          46,
          1932,
          36,
          29,
          472,
          375,
          1375,
          329,
          14,
          28620,
          4770,
          4770,
          206700,
          4770,
          160,
          480,
          78,
          2730,
          228,
          3876,
          140,
          140,
          1120,
          3096,
          774,
          1548,
          47988,
          774,
          21,
          1358,
          2328,
          400,
          68,
          340,
          151,
          1208,
          792,
          108,
          54,
          4,
          1528,
          191,
          3895,
          832,
          519,
          2595,
          32319,
          81,
          243,
          144,
          504,
          257,
          6682,
          3400,
          93,
          651,
          352,
          162,
          18,
          266,
          197,
          4925,
          102,
          8,
          14012,
          56,
          545,
          3270,
          22345,
          144,
          200,
          42,
          35,
          35,
          2068,
          32054,
          228,
          2935,
          4109,
          1174,
          38155,
          30,
          99,
          693,
          155,
          2480,
          440,
          660,
          60,
          860,
          660,
          3080,
          88,
          72,
          10,
          4,
          968,
          13,
          69,
          138,
          1518,
          174,
          354,
          125,
          125,
          625,
          235,
          42,
          49290,
          453,
          1590,
          22260,
          1590,
          3180,
          1590,
          178080,
          1590,
          320,
          720,
          52,
          19,
          1300,
          5472,
          700,
          140,
          1540,
          2322,
          3096,
          774,
          62694,
          774,
          21,
          24,
          776,
          1940,
          240,
          68,
          68,
          340,
          302,
          1208,
          880,
          176,
          324,
          4,
          2101,
          2255,
          104,
          624,
          519,
          1038,
          173,
          513,
          14364,
          513,
          729,
          216,
          288,
          257,
          771,
          7196,
          3800,
          1023,
          88,
          704,
          162,
          18,
          76,
          2167,
          394,
          8136,
          4,
          28,
          3815,
          5995,
          22345,
          17,
          576,
          11,
          120,
          63,
          105,
          3102,
          20163,
          4109,
          2935,
          34046,
          60,
          99,
          99,
          594,
          1860,
          11660,
          440,
          20,
          688,
          86,
          660,
          3520,
          22,
          72,
          4,
          726,
          13,
          46,
          1794,
          216,
          413,
          250,
          1375,
          94,
          42,
          12,
          22260,
          3180,
          3180,
          1590,
          203520,
          1590,
          160,
          240,
          19,
          1560,
          912,
          3876,
          420,
          140,
          1540,
          774,
          3870,
          1548,
          58824,
          1548,
          970,
          194,
          3298,
          320,
          68,
          68,
          272,
          151,
          1812,
          528,
          270,
          2292,
          191,
          2665,
          624,
          346,
          2595,
          346,
          513,
          23085,
          81,
          162,
          810,
          81,
          72,
          288,
          257,
          9252,
          3800,
          1302,
          616,
          270,
          9,
          228,
          3743,
          170,
          8,
          12656,
          28,
          1635,
          2725,
          26705,
          17,
          432,
          22,
          120,
          21,
          140,
          1034,
          13959,
          190,
          3522,
          4109,
          34633,
          60,
          297,
          99,
          693,
          1240,
          2200,
          40,
          602,
          1320,
          3080,
          22,
          144,
          7,
          4,
          726,
          26,
          828,
          180,
          87,
          472,
          1125,
          141,
          42,
          14,
          24,
          39750,
          151,
          22260,
          1590,
          1590,
          3180,
          179670,
          4770,
          160,
          240,
          130,
          780,
          4332,
          280,
          2100,
          5418,
          774,
          774,
          774,
          43344,
          21,
          582,
          1746,
          560,
          204,
          151,
          1208,
          88,
          176,
          54,
          54,
          1528,
          2050,
          104,
          936,
          346,
          1903,
          513,
          13338,
          81,
          648,
          72,
          360,
          257,
          6425,
          3000,
          744,
          88,
          968,
          162,
          9,
          38,
          1773,
          591,
          68,
          5424,
          56,
          3815,
          1090,
          545,
          22890,
          34,
          288,
          120,
          21,
          35,
          2585,
          14993,
          228,
          1174,
          22306,
          90,
          198,
          1287,
          2015,
          7480,
          20,
          774,
          1100,
          88,
          144,
          242,
          13,
          23,
          966,
          144,
          116,
          118,
          500,
          141,
          42,
          7950,
          3180,
          1590,
          179670,
          1590,
          52,
          38,
          260,
          456,
          2736,
          840,
          2322,
          36378,
          1548,
          582,
          2716,
          640,
          136,
          340,
          302,
          755,
          88,
          440,
          216,
          2101,
          3690,
          520,
          2768,
          12825,
          486,
          288,
          504,
          257,
          514,
          5397,
          2200,
          558,
          88,
          264,
          162,
          114,
          2561,
          102,
          16,
          8136,
          56,
          545,
          545,
          27250,
          34,
          648,
          80,
          21,
          175,
          1034,
          20680,
          76,
          1174,
          587,
          32285,
          30,
          891,
          1085,
          1100,
          344,
          220,
          2640,
          44,
          36,
          7,
          363,
          69,
          23,
          1380,
          108,
          36,
          29,
          236,
          500,
          94,
          14,
          44520,
          302,
          3180,
          1590,
          1590,
          1590,
          127200,
          320,
          52,
          260,
          2508,
          280,
          774,
          25542,
          21,
          1940,
          400,
          136,
          755,
          704,
          54,
          162,
          573,
          2255,
          520,
          1384,
          9747,
          4,
          48,
          567,
          72,
          1028,
          1200,
          744,
          264,
          528,
          54,
          38,
          2364,
          16,
          5876,
          28,
          545,
          1090,
          545,
          13625,
          288,
          42,
          35,
          517,
          9823,
          114,
          1174,
          19371,
          60,
          693,
          1395,
          1540,
          220,
          40,
          344,
          220,
          2200,
          22,
          36,
          121,
          1104,
          144,
          236,
          1000,
          47,
          28,
          141510,
          3180,
          80,
          400,
          52,
          95,
          390,
          3648,
          140,
          420,
          774,
          38700,
          42,
          2522,
          480,
          68,
          340,
          604,
          440,
          108,
          1337,
          4510,
          104,
          832,
          173,
          2768,
          18468,
          4,
          486,
          288,
          2570,
          3800,
          372,
          264,
          108,
          114,
          197,
          1182,
          238,
          8,
          12656,
          84,
          14715,
          17,
          360,
          33,
          160,
          140,
          20163,
          38,
          1174,
          587,
          18784,
          90,
          99,
          495,
          2480,
          2200,
          20,
          258,
          220,
          3960,
          44,
          72,
          363,
          69,
          1380,
          72,
          118,
          1125,
          47,
          12,
          23850,
          453,
          151,
          1590,
          69960,
          80,
          80,
          19,
          260,
          912,
          560,
          10836,
          21,
          1164,
          400,
          136,
          755,
          264,
          108,
          955,
          1435,
          520,
          1038,
          7695,
          243,
          514,
          1000,
          93,
          176,
          76,
          591,
          4972,
          4,
          84,
          545,
          5450,
          72,
          11,
          35,
          8789,
          76,
          7631,
          60,
          620,
          440,
          86,
          1760,
          121,
          13,
          552,
          72,
          29,
          375,
          47,
          87450,
          80,
          320,
          38,
          260,
          2052,
          560,
          10062,
          21,
          582,
          80,
          136,
          302,
          528,
          270,
          764,
          1640,
          312,
          692,
          5130,
          72,
          1542,
          2000,
          558,
          528,
          162,
          38,
          2167,
          34,
          5876,
          28,
          8175,
          288,
          120,
          9306,
          38,
          11153,
          30,
          396,
          1240,
          1320,
          20,
          1760,
          22,
          36,
          5,
          7,
          242,
          13,
          1794,
          36,
          625,
          94,
          14,
          7950,
          106530,
          480,
          52,
          19,
          520,
          3420,
          140,
          1260,
          774,
          3096,
          774,
          24768,
          63,
          776,
          2328,
          194,
          400,
          68,
          340,
          302,
          1510,
          264,
          216,
          573,
          4100,
          624,
          346,
          19494,
          324,
          288,
          3855,
          3400,
          465,
          352,
          432,
          38,
          1576,
          34,
          12656,
          28,
          545,
          1635,
          12535,
          17,
          144,
          11,
          160,
          140,
          17061,
          152,
          587,
          14088,
          99,
          396,
          2325,
          2420,
          40,
          172,
          660,
          3960,
          180,
          5,
          7,
          484,
          13,
          552,
          36,
          116,
          59,
          125,
          875,
          141,
          126,
          12,
          1590,
          68370,
          80,
          80,
          38,
          260,
          456,
          228,
          2280,
          420,
          140,
          700,
          774,
          774,
          11610,
          194,
          2910,
          880,
          68,
          136,
          1208,
          440,
          88,
          162,
          573,
          3075,
          728,
          1211,
          16929,
          4,
          162,
          72,
          2313,
          2000,
          93,
          528,
          270,
          114,
          1970,
          11752,
          1090,
          13625,
          51,
          432,
          160,
          21,
          35,
          517,
          21714,
          8805,
          60,
          396,
          1085,
          2200,
          40,
          516,
          440,
          3740,
          72,
          7,
          13,
          966,
          36,
          29,
          236,
          750,
          94,
          14310,
          151,
          1590,
          58830,
          80,
          80,
          38,
          130,
          1140,
          280,
          4644,
          388,
          320,
          302,
          151,
          88,
          108,
          191,
          820,
          104,
          346,
          173,
          6156,
          81,
          144,
          257,
          800,
          93,
          264,
          1379,
          2260,
          28,
          3270,
          144,
          21,
          35,
          5687,
          76,
          2348,
          30,
          99,
          620,
          440,
          86,
          440,
          121,
          13,
          23,
          552,
          29,
          59,
          94,
          68370,
          80,
          19,
          130,
          684,
          140,
          9288,
          21,
          1164,
          160,
          151,
          453,
          528,
          54,
          191,
          1025,
          832,
          1038,
          6669,
          324,
          2056,
          1200,
          279,
          176,
          108,
          38,
          985,
          34,
          2712,
          56,
          3815,
          17,
          288,
          80,
          35,
          4653,
          38,
          5870,
          90,
          297,
          310,
          660,
          86,
          220,
          1760,
          44,
          121,
          23,
          690,
          36,
          375,
          9540,
          4347,
          1590,
          6360,
          30210,
          3180,
          228,
          312,
          151,
          108,
          1528,
          191,
          104,
          692,
          5643,
          48,
          54,
          985,
          30284,
          4512,
          32712,
          40,
          517,
          86,
          72,
          2662,
          125,
          28,
          7245,
          7950,
          1590,
          7950,
          20670,
          1590,
          192,
          24,
          151,
          54,
          2292,
          865,
          513,
          144,
          200,
          38,
          1970,
          36160,
          4794,
          36942,
          282,
          21,
          38,
          20,
          86,
          220,
          5566,
          375,
          47,
          644,
          13524,
          7950,
          10696,
          2483,
          173,
          1026,
          1968,
          72,
          4347,
          4770,
          3180,
          1590,
          63600,
          1590,
          4770,
          1590,
          3180,
          1590,
          1590,
          11130,
          1590,
          1011240,
          11130,
          960,
          3040,
          416,
          38,
          57,
          8840,
          228,
          456,
          26220,
          2240,
          140,
          9240,
          14706,
          9288,
          1548,
          774,
          774,
          3096,
          304182,
          1548,
          231,
          336,
          2522,
          14550,
          194,
          3040,
          136,
          136,
          1700,
          1661,
          10721,
          88,
          3432,
          176,
          216,
          54,
          1296,
          8,
          9932,
          573,
          18450,
          104,
          104,
          4680,
          1211,
          10380,
          346,
          173,
          1539,
          123120,
          513,
          4,
          144,
          162,
          3159,
          288,
          360,
          2088,
          1028,
          1799,
          28527,
          18200,
          4092,
          440,
          4224,
          1404,
          36,
          380,
          15760,
          985,
          408,
          16,
          86784,
          12,
          448,
          5450,
          17985,
          545,
          1090,
          1090,
          130800,
          4512,
          32712,
          102,
          2016,
          44,
          520,
          252,
          595,
          8789,
          109604,
          760,
          9392,
          5870,
          142641,
          420,
          297,
          99,
          297,
          4356,
          12400,
          35640,
          1320,
          180,
          4128,
          86,
          2200,
          17600,
          198,
          720,
          5,
          14,
          4,
          5929,
          78,
          23,
          184,
          8280,
          684,
          29,
          377,
          1593,
          750,
          7625,
          1034,
          1344,
          98,
          60,
          7245,
          66780,
          12720,
          1590,
          3180,
          15900,
          1070070,
          14310,
          560,
          1760,
          234,
          247,
          7930,
          684,
          2052,
          22116,
          1120,
          420,
          6300,
          8514,
          5418,
          774,
          4644,
          238392,
          4644,
          189,
          192,
          24,
          3298,
          194,
          16684,
          3280,
          68,
          408,
          2108,
          1359,
          7248,
          88,
          3784,
          88,
          108,
          1188,
          4,
          12224,
          382,
          23370,
          208,
          5616,
          1038,
          16089,
          346,
          513,
          135945,
          8,
          144,
          162,
          162,
          2754,
          81,
          648,
          1728,
          257,
          771,
          257,
          33153,
          21600,
          93,
          4371,
          88,
          2904,
          1458,
          36,
          1026,
          197,
          197,
          21473,
          714,
          40,
          117068,
          308,
          2725,
          7630,
          129165,
          4794,
          36942,
          282,
          170,
          3096,
          66,
          1040,
          168,
          35,
          560,
          4653,
          143726,
          646,
          9392,
          9979,
          1174,
          165534,
          450,
          495,
          99,
          4059,
          155,
          11315,
          440,
          10780,
          200,
          3096,
          3300,
          220,
          24860,
          264,
          468,
          15,
          28,
          8,
          8591,
          78,
          253,
          46,
          138,
          10488,
          540,
          36,
          406,
          1829,
          125,
          125,
          6875,
          1128,
          378,
          84,
          72,
          644,
          13524,
          219420,
          1510,
          151,
          10696,
          2483,
          173,
          1026,
          1968,
          72,
          644,
          25116,
          4770,
          3180,
          1590,
          130380,
          12720,
          1590,
          4770,
          3180,
          6360,
          1590,
          1590,
          27030,
          1590,
          2081310,
          244860,
          1520,
          4800,
          650,
          38,
          304,
          16770,
          912,
          2508,
          48336,
          3360,
          560,
          15540,
          23220,
          14706,
          1548,
          1548,
          774,
          7740,
          542574,
          6192,
          420,
          528,
          24,
          5820,
          194,
          31234,
          194,
          6320,
          204,
          544,
          3808,
          3020,
          19479,
          151,
          176,
          7216,
          264,
          324,
          54,
          2484,
          12,
          32852,
          3438,
          41820,
          312,
          104,
          10296,
          2249,
          26469,
          692,
          173,
          173,
          2052,
          259065,
          1539,
          12,
          2256,
          324,
          162,
          5913,
          81,
          936,
          360,
          3816,
          1285,
          2570,
          257,
          61680,
          39800,
          93,
          8463,
          528,
          7128,
          2862,
          72,
          1406,
          197,
          197,
          37233,
          985,
          1122,
          56,
          203852,
          12,
          756,
          8175,
          25615,
          545,
          1090,
          1090,
          259965,
          9306,
          69654,
          282,
          272,
          5112,
          110,
          1560,
          420,
          35,
          1155,
          13442,
          253330,
          1406,
          18784,
          15849,
          1174,
          308175,
          870,
          792,
          198,
          297,
          8415,
          155,
          23715,
          440,
          46420,
          1320,
          380,
          7224,
          86,
          5500,
          220,
          42460,
          462,
          1260,
          20,
          42,
          12,
          14520,
          156,
          23,
          437,
          46,
          138,
          18768,
          1224,
          36,
          29,
          783,
          3422,
          875,
          125,
          14500,
          2162,
          1722,
          182,
          132,
          4770,
          3180,
          1590,
          231263,
          79087,
          1590,
          545,
          7408,
          3180,
          54,
          197,
          1548,
          6464,
          2364,
          1590,
          38573,
          220,
          1590,
          4616363,
          1073,
          173,
          287280
         ]
        }
       ],
       "layout": {
        "coloraxis": {
         "cmid": 546.9380746817701,
         "colorbar": {
          "title": {
           "text": "coun_people"
          }
         },
         "colorscale": [
          [
           0,
           "#e2d9e2"
          ],
          [
           0.1111111111111111,
           "#9ebbc9"
          ],
          [
           0.2222222222222222,
           "#6785be"
          ],
          [
           0.3333333333333333,
           "#5e43a5"
          ],
          [
           0.4444444444444444,
           "#421257"
          ],
          [
           0.5555555555555556,
           "#471340"
          ],
          [
           0.6666666666666666,
           "#8e2c50"
          ],
          [
           0.7777777777777778,
           "#ba6657"
          ],
          [
           0.8888888888888888,
           "#ceac94"
          ],
          [
           1,
           "#e2d9e2"
          ]
         ]
        },
        "legend": {
         "tracegroupgap": 0
        },
        "margin": {
         "t": 60
        },
        "template": {
         "data": {
          "bar": [
           {
            "error_x": {
             "color": "#2a3f5f"
            },
            "error_y": {
             "color": "#2a3f5f"
            },
            "marker": {
             "line": {
              "color": "#E5ECF6",
              "width": 0.5
             },
             "pattern": {
              "fillmode": "overlay",
              "size": 10,
              "solidity": 0.2
             }
            },
            "type": "bar"
           }
          ],
          "barpolar": [
           {
            "marker": {
             "line": {
              "color": "#E5ECF6",
              "width": 0.5
             },
             "pattern": {
              "fillmode": "overlay",
              "size": 10,
              "solidity": 0.2
             }
            },
            "type": "barpolar"
           }
          ],
          "carpet": [
           {
            "aaxis": {
             "endlinecolor": "#2a3f5f",
             "gridcolor": "white",
             "linecolor": "white",
             "minorgridcolor": "white",
             "startlinecolor": "#2a3f5f"
            },
            "baxis": {
             "endlinecolor": "#2a3f5f",
             "gridcolor": "white",
             "linecolor": "white",
             "minorgridcolor": "white",
             "startlinecolor": "#2a3f5f"
            },
            "type": "carpet"
           }
          ],
          "choropleth": [
           {
            "colorbar": {
             "outlinewidth": 0,
             "ticks": ""
            },
            "type": "choropleth"
           }
          ],
          "contour": [
           {
            "colorbar": {
             "outlinewidth": 0,
             "ticks": ""
            },
            "colorscale": [
             [
              0,
              "#0d0887"
             ],
             [
              0.1111111111111111,
              "#46039f"
             ],
             [
              0.2222222222222222,
              "#7201a8"
             ],
             [
              0.3333333333333333,
              "#9c179e"
             ],
             [
              0.4444444444444444,
              "#bd3786"
             ],
             [
              0.5555555555555556,
              "#d8576b"
             ],
             [
              0.6666666666666666,
              "#ed7953"
             ],
             [
              0.7777777777777778,
              "#fb9f3a"
             ],
             [
              0.8888888888888888,
              "#fdca26"
             ],
             [
              1,
              "#f0f921"
             ]
            ],
            "type": "contour"
           }
          ],
          "contourcarpet": [
           {
            "colorbar": {
             "outlinewidth": 0,
             "ticks": ""
            },
            "type": "contourcarpet"
           }
          ],
          "heatmap": [
           {
            "colorbar": {
             "outlinewidth": 0,
             "ticks": ""
            },
            "colorscale": [
             [
              0,
              "#0d0887"
             ],
             [
              0.1111111111111111,
              "#46039f"
             ],
             [
              0.2222222222222222,
              "#7201a8"
             ],
             [
              0.3333333333333333,
              "#9c179e"
             ],
             [
              0.4444444444444444,
              "#bd3786"
             ],
             [
              0.5555555555555556,
              "#d8576b"
             ],
             [
              0.6666666666666666,
              "#ed7953"
             ],
             [
              0.7777777777777778,
              "#fb9f3a"
             ],
             [
              0.8888888888888888,
              "#fdca26"
             ],
             [
              1,
              "#f0f921"
             ]
            ],
            "type": "heatmap"
           }
          ],
          "heatmapgl": [
           {
            "colorbar": {
             "outlinewidth": 0,
             "ticks": ""
            },
            "colorscale": [
             [
              0,
              "#0d0887"
             ],
             [
              0.1111111111111111,
              "#46039f"
             ],
             [
              0.2222222222222222,
              "#7201a8"
             ],
             [
              0.3333333333333333,
              "#9c179e"
             ],
             [
              0.4444444444444444,
              "#bd3786"
             ],
             [
              0.5555555555555556,
              "#d8576b"
             ],
             [
              0.6666666666666666,
              "#ed7953"
             ],
             [
              0.7777777777777778,
              "#fb9f3a"
             ],
             [
              0.8888888888888888,
              "#fdca26"
             ],
             [
              1,
              "#f0f921"
             ]
            ],
            "type": "heatmapgl"
           }
          ],
          "histogram": [
           {
            "marker": {
             "pattern": {
              "fillmode": "overlay",
              "size": 10,
              "solidity": 0.2
             }
            },
            "type": "histogram"
           }
          ],
          "histogram2d": [
           {
            "colorbar": {
             "outlinewidth": 0,
             "ticks": ""
            },
            "colorscale": [
             [
              0,
              "#0d0887"
             ],
             [
              0.1111111111111111,
              "#46039f"
             ],
             [
              0.2222222222222222,
              "#7201a8"
             ],
             [
              0.3333333333333333,
              "#9c179e"
             ],
             [
              0.4444444444444444,
              "#bd3786"
             ],
             [
              0.5555555555555556,
              "#d8576b"
             ],
             [
              0.6666666666666666,
              "#ed7953"
             ],
             [
              0.7777777777777778,
              "#fb9f3a"
             ],
             [
              0.8888888888888888,
              "#fdca26"
             ],
             [
              1,
              "#f0f921"
             ]
            ],
            "type": "histogram2d"
           }
          ],
          "histogram2dcontour": [
           {
            "colorbar": {
             "outlinewidth": 0,
             "ticks": ""
            },
            "colorscale": [
             [
              0,
              "#0d0887"
             ],
             [
              0.1111111111111111,
              "#46039f"
             ],
             [
              0.2222222222222222,
              "#7201a8"
             ],
             [
              0.3333333333333333,
              "#9c179e"
             ],
             [
              0.4444444444444444,
              "#bd3786"
             ],
             [
              0.5555555555555556,
              "#d8576b"
             ],
             [
              0.6666666666666666,
              "#ed7953"
             ],
             [
              0.7777777777777778,
              "#fb9f3a"
             ],
             [
              0.8888888888888888,
              "#fdca26"
             ],
             [
              1,
              "#f0f921"
             ]
            ],
            "type": "histogram2dcontour"
           }
          ],
          "mesh3d": [
           {
            "colorbar": {
             "outlinewidth": 0,
             "ticks": ""
            },
            "type": "mesh3d"
           }
          ],
          "parcoords": [
           {
            "line": {
             "colorbar": {
              "outlinewidth": 0,
              "ticks": ""
             }
            },
            "type": "parcoords"
           }
          ],
          "pie": [
           {
            "automargin": true,
            "type": "pie"
           }
          ],
          "scatter": [
           {
            "marker": {
             "colorbar": {
              "outlinewidth": 0,
              "ticks": ""
             }
            },
            "type": "scatter"
           }
          ],
          "scatter3d": [
           {
            "line": {
             "colorbar": {
              "outlinewidth": 0,
              "ticks": ""
             }
            },
            "marker": {
             "colorbar": {
              "outlinewidth": 0,
              "ticks": ""
             }
            },
            "type": "scatter3d"
           }
          ],
          "scattercarpet": [
           {
            "marker": {
             "colorbar": {
              "outlinewidth": 0,
              "ticks": ""
             }
            },
            "type": "scattercarpet"
           }
          ],
          "scattergeo": [
           {
            "marker": {
             "colorbar": {
              "outlinewidth": 0,
              "ticks": ""
             }
            },
            "type": "scattergeo"
           }
          ],
          "scattergl": [
           {
            "marker": {
             "colorbar": {
              "outlinewidth": 0,
              "ticks": ""
             }
            },
            "type": "scattergl"
           }
          ],
          "scattermapbox": [
           {
            "marker": {
             "colorbar": {
              "outlinewidth": 0,
              "ticks": ""
             }
            },
            "type": "scattermapbox"
           }
          ],
          "scatterpolar": [
           {
            "marker": {
             "colorbar": {
              "outlinewidth": 0,
              "ticks": ""
             }
            },
            "type": "scatterpolar"
           }
          ],
          "scatterpolargl": [
           {
            "marker": {
             "colorbar": {
              "outlinewidth": 0,
              "ticks": ""
             }
            },
            "type": "scatterpolargl"
           }
          ],
          "scatterternary": [
           {
            "marker": {
             "colorbar": {
              "outlinewidth": 0,
              "ticks": ""
             }
            },
            "type": "scatterternary"
           }
          ],
          "surface": [
           {
            "colorbar": {
             "outlinewidth": 0,
             "ticks": ""
            },
            "colorscale": [
             [
              0,
              "#0d0887"
             ],
             [
              0.1111111111111111,
              "#46039f"
             ],
             [
              0.2222222222222222,
              "#7201a8"
             ],
             [
              0.3333333333333333,
              "#9c179e"
             ],
             [
              0.4444444444444444,
              "#bd3786"
             ],
             [
              0.5555555555555556,
              "#d8576b"
             ],
             [
              0.6666666666666666,
              "#ed7953"
             ],
             [
              0.7777777777777778,
              "#fb9f3a"
             ],
             [
              0.8888888888888888,
              "#fdca26"
             ],
             [
              1,
              "#f0f921"
             ]
            ],
            "type": "surface"
           }
          ],
          "table": [
           {
            "cells": {
             "fill": {
              "color": "#EBF0F8"
             },
             "line": {
              "color": "white"
             }
            },
            "header": {
             "fill": {
              "color": "#C8D4E3"
             },
             "line": {
              "color": "white"
             }
            },
            "type": "table"
           }
          ]
         },
         "layout": {
          "annotationdefaults": {
           "arrowcolor": "#2a3f5f",
           "arrowhead": 0,
           "arrowwidth": 1
          },
          "autotypenumbers": "strict",
          "coloraxis": {
           "colorbar": {
            "outlinewidth": 0,
            "ticks": ""
           }
          },
          "colorscale": {
           "diverging": [
            [
             0,
             "#8e0152"
            ],
            [
             0.1,
             "#c51b7d"
            ],
            [
             0.2,
             "#de77ae"
            ],
            [
             0.3,
             "#f1b6da"
            ],
            [
             0.4,
             "#fde0ef"
            ],
            [
             0.5,
             "#f7f7f7"
            ],
            [
             0.6,
             "#e6f5d0"
            ],
            [
             0.7,
             "#b8e186"
            ],
            [
             0.8,
             "#7fbc41"
            ],
            [
             0.9,
             "#4d9221"
            ],
            [
             1,
             "#276419"
            ]
           ],
           "sequential": [
            [
             0,
             "#0d0887"
            ],
            [
             0.1111111111111111,
             "#46039f"
            ],
            [
             0.2222222222222222,
             "#7201a8"
            ],
            [
             0.3333333333333333,
             "#9c179e"
            ],
            [
             0.4444444444444444,
             "#bd3786"
            ],
            [
             0.5555555555555556,
             "#d8576b"
            ],
            [
             0.6666666666666666,
             "#ed7953"
            ],
            [
             0.7777777777777778,
             "#fb9f3a"
            ],
            [
             0.8888888888888888,
             "#fdca26"
            ],
            [
             1,
             "#f0f921"
            ]
           ],
           "sequentialminus": [
            [
             0,
             "#0d0887"
            ],
            [
             0.1111111111111111,
             "#46039f"
            ],
            [
             0.2222222222222222,
             "#7201a8"
            ],
            [
             0.3333333333333333,
             "#9c179e"
            ],
            [
             0.4444444444444444,
             "#bd3786"
            ],
            [
             0.5555555555555556,
             "#d8576b"
            ],
            [
             0.6666666666666666,
             "#ed7953"
            ],
            [
             0.7777777777777778,
             "#fb9f3a"
            ],
            [
             0.8888888888888888,
             "#fdca26"
            ],
            [
             1,
             "#f0f921"
            ]
           ]
          },
          "colorway": [
           "#636efa",
           "#EF553B",
           "#00cc96",
           "#ab63fa",
           "#FFA15A",
           "#19d3f3",
           "#FF6692",
           "#B6E880",
           "#FF97FF",
           "#FECB52"
          ],
          "font": {
           "color": "#2a3f5f"
          },
          "geo": {
           "bgcolor": "white",
           "lakecolor": "white",
           "landcolor": "#E5ECF6",
           "showlakes": true,
           "showland": true,
           "subunitcolor": "white"
          },
          "hoverlabel": {
           "align": "left"
          },
          "hovermode": "closest",
          "mapbox": {
           "style": "light"
          },
          "paper_bgcolor": "white",
          "plot_bgcolor": "#E5ECF6",
          "polar": {
           "angularaxis": {
            "gridcolor": "white",
            "linecolor": "white",
            "ticks": ""
           },
           "bgcolor": "#E5ECF6",
           "radialaxis": {
            "gridcolor": "white",
            "linecolor": "white",
            "ticks": ""
           }
          },
          "scene": {
           "xaxis": {
            "backgroundcolor": "#E5ECF6",
            "gridcolor": "white",
            "gridwidth": 2,
            "linecolor": "white",
            "showbackground": true,
            "ticks": "",
            "zerolinecolor": "white"
           },
           "yaxis": {
            "backgroundcolor": "#E5ECF6",
            "gridcolor": "white",
            "gridwidth": 2,
            "linecolor": "white",
            "showbackground": true,
            "ticks": "",
            "zerolinecolor": "white"
           },
           "zaxis": {
            "backgroundcolor": "#E5ECF6",
            "gridcolor": "white",
            "gridwidth": 2,
            "linecolor": "white",
            "showbackground": true,
            "ticks": "",
            "zerolinecolor": "white"
           }
          },
          "shapedefaults": {
           "line": {
            "color": "#2a3f5f"
           }
          },
          "ternary": {
           "aaxis": {
            "gridcolor": "white",
            "linecolor": "white",
            "ticks": ""
           },
           "baxis": {
            "gridcolor": "white",
            "linecolor": "white",
            "ticks": ""
           },
           "bgcolor": "#E5ECF6",
           "caxis": {
            "gridcolor": "white",
            "linecolor": "white",
            "ticks": ""
           }
          },
          "title": {
           "x": 0.05
          },
          "xaxis": {
           "automargin": true,
           "gridcolor": "white",
           "linecolor": "white",
           "ticks": "",
           "title": {
            "standoff": 15
           },
           "zerolinecolor": "white",
           "zerolinewidth": 2
          },
          "yaxis": {
           "automargin": true,
           "gridcolor": "white",
           "linecolor": "white",
           "ticks": "",
           "title": {
            "standoff": 15
           },
           "zerolinecolor": "white",
           "zerolinewidth": 2
          }
         }
        }
       }
      }
     },
     "metadata": {}
    },
    {
     "output_type": "display_data",
     "data": {
      "image/png": "[encoded data removed]",
      "text/plain": [
       "<Figure size 720x1080 with 1 Axes>"
      ]
     },
     "metadata": {
      "needs_background": "light"
     }
    }
   ],
   "metadata": {}
  }
 ],
 "metadata": {
  "orig_nbformat": 4,
  "language_info": {
   "name": "python",
   "version": "3.8.8",
   "mimetype": "text/x-python",
   "codemirror_mode": {
    "name": "ipython",
    "version": 3
   },
   "pygments_lexer": "ipython3",
   "nbconvert_exporter": "python",
   "file_extension": ".py"
  },
  "kernelspec": {
   "name": "python3",
   "display_name": "Python 3.8.8 64-bit ('base': conda)"
  },
  "interpreter": {
   "hash": "dca0ade3e726a953b501b15e8e990130d2b7799f14cfd9f4271676035ebe5511"
  }
 },
 "nbformat": 4,
 "nbformat_minor": 2
}